{
 "cells": [
  {
   "cell_type": "code",
   "execution_count": 1,
   "id": "cb6e7ab6-95e3-4be7-a2d8-15d4d4e1f7d0",
   "metadata": {},
   "outputs": [],
   "source": [
    "# Import dependencies\n",
    "import pandas as pd\n",
    "import openpyxl\n",
    "\n",
    "from imblearn.over_sampling import SMOTE    # package for SMOTE\n",
    "\n",
    "import warnings\n",
    "warnings.filterwarnings(\"ignore\")"
   ]
  },
  {
   "cell_type": "code",
   "execution_count": 2,
   "id": "5c4e9f7e-5ba4-412f-b495-e783e145d424",
   "metadata": {},
   "outputs": [
    {
     "data": {
      "text/html": [
       "<div>\n",
       "<style scoped>\n",
       "    .dataframe tbody tr th:only-of-type {\n",
       "        vertical-align: middle;\n",
       "    }\n",
       "\n",
       "    .dataframe tbody tr th {\n",
       "        vertical-align: top;\n",
       "    }\n",
       "\n",
       "    .dataframe thead th {\n",
       "        text-align: right;\n",
       "    }\n",
       "</style>\n",
       "<table border=\"1\" class=\"dataframe\">\n",
       "  <thead>\n",
       "    <tr style=\"text-align: right;\">\n",
       "      <th></th>\n",
       "      <th>NRI score</th>\n",
       "      <th>AI &amp; Data Science</th>\n",
       "      <th>Business &amp; Technology</th>\n",
       "      <th>Environment &amp; Weather</th>\n",
       "      <th>Finance &amp; Banking</th>\n",
       "      <th>GeoInformatics &amp; Navigation</th>\n",
       "      <th>Government &amp; Public Services</th>\n",
       "      <th>Health Science &amp; Medicine</th>\n",
       "      <th>Information &amp; Science</th>\n",
       "      <th>Justice &amp; Public Safety</th>\n",
       "      <th>...</th>\n",
       "      <th>strict-transport-security</th>\n",
       "      <th>set-cookie</th>\n",
       "      <th>referrer-policy</th>\n",
       "      <th>x-ratelimit-limit</th>\n",
       "      <th>x-powered-by</th>\n",
       "      <th>x-aspnet-version</th>\n",
       "      <th>expect-ct</th>\n",
       "      <th>metadata_fields_count</th>\n",
       "      <th>parameters_count</th>\n",
       "      <th>Risk</th>\n",
       "    </tr>\n",
       "  </thead>\n",
       "  <tbody>\n",
       "    <tr>\n",
       "      <th>0</th>\n",
       "      <td>81.089820</td>\n",
       "      <td>0</td>\n",
       "      <td>0</td>\n",
       "      <td>1</td>\n",
       "      <td>0</td>\n",
       "      <td>0</td>\n",
       "      <td>0</td>\n",
       "      <td>0</td>\n",
       "      <td>0</td>\n",
       "      <td>0</td>\n",
       "      <td>...</td>\n",
       "      <td>0</td>\n",
       "      <td>0</td>\n",
       "      <td>0</td>\n",
       "      <td>0</td>\n",
       "      <td>0</td>\n",
       "      <td>0</td>\n",
       "      <td>0</td>\n",
       "      <td>3</td>\n",
       "      <td>4</td>\n",
       "      <td>Low</td>\n",
       "    </tr>\n",
       "    <tr>\n",
       "      <th>1</th>\n",
       "      <td>76.479613</td>\n",
       "      <td>0</td>\n",
       "      <td>0</td>\n",
       "      <td>0</td>\n",
       "      <td>0</td>\n",
       "      <td>0</td>\n",
       "      <td>0</td>\n",
       "      <td>0</td>\n",
       "      <td>1</td>\n",
       "      <td>0</td>\n",
       "      <td>...</td>\n",
       "      <td>0</td>\n",
       "      <td>0</td>\n",
       "      <td>0</td>\n",
       "      <td>0</td>\n",
       "      <td>0</td>\n",
       "      <td>0</td>\n",
       "      <td>0</td>\n",
       "      <td>4</td>\n",
       "      <td>1</td>\n",
       "      <td>Low</td>\n",
       "    </tr>\n",
       "    <tr>\n",
       "      <th>2</th>\n",
       "      <td>76.479613</td>\n",
       "      <td>0</td>\n",
       "      <td>0</td>\n",
       "      <td>0</td>\n",
       "      <td>0</td>\n",
       "      <td>0</td>\n",
       "      <td>0</td>\n",
       "      <td>0</td>\n",
       "      <td>1</td>\n",
       "      <td>0</td>\n",
       "      <td>...</td>\n",
       "      <td>0</td>\n",
       "      <td>0</td>\n",
       "      <td>0</td>\n",
       "      <td>0</td>\n",
       "      <td>0</td>\n",
       "      <td>0</td>\n",
       "      <td>0</td>\n",
       "      <td>4</td>\n",
       "      <td>1</td>\n",
       "      <td>Low</td>\n",
       "    </tr>\n",
       "    <tr>\n",
       "      <th>3</th>\n",
       "      <td>81.089820</td>\n",
       "      <td>0</td>\n",
       "      <td>0</td>\n",
       "      <td>0</td>\n",
       "      <td>0</td>\n",
       "      <td>0</td>\n",
       "      <td>0</td>\n",
       "      <td>0</td>\n",
       "      <td>1</td>\n",
       "      <td>0</td>\n",
       "      <td>...</td>\n",
       "      <td>0</td>\n",
       "      <td>0</td>\n",
       "      <td>0</td>\n",
       "      <td>0</td>\n",
       "      <td>0</td>\n",
       "      <td>0</td>\n",
       "      <td>0</td>\n",
       "      <td>4</td>\n",
       "      <td>1</td>\n",
       "      <td>Low</td>\n",
       "    </tr>\n",
       "    <tr>\n",
       "      <th>4</th>\n",
       "      <td>81.089820</td>\n",
       "      <td>0</td>\n",
       "      <td>0</td>\n",
       "      <td>0</td>\n",
       "      <td>0</td>\n",
       "      <td>0</td>\n",
       "      <td>0</td>\n",
       "      <td>0</td>\n",
       "      <td>1</td>\n",
       "      <td>0</td>\n",
       "      <td>...</td>\n",
       "      <td>0</td>\n",
       "      <td>0</td>\n",
       "      <td>0</td>\n",
       "      <td>0</td>\n",
       "      <td>0</td>\n",
       "      <td>0</td>\n",
       "      <td>0</td>\n",
       "      <td>4</td>\n",
       "      <td>1</td>\n",
       "      <td>Low</td>\n",
       "    </tr>\n",
       "  </tbody>\n",
       "</table>\n",
       "<p>5 rows × 48 columns</p>\n",
       "</div>"
      ],
      "text/plain": [
       "   NRI score  AI & Data Science  Business & Technology  Environment & Weather  \\\n",
       "0  81.089820                  0                      0                      1   \n",
       "1  76.479613                  0                      0                      0   \n",
       "2  76.479613                  0                      0                      0   \n",
       "3  81.089820                  0                      0                      0   \n",
       "4  81.089820                  0                      0                      0   \n",
       "\n",
       "   Finance & Banking  GeoInformatics & Navigation  \\\n",
       "0                  0                            0   \n",
       "1                  0                            0   \n",
       "2                  0                            0   \n",
       "3                  0                            0   \n",
       "4                  0                            0   \n",
       "\n",
       "   Government & Public Services  Health Science & Medicine  \\\n",
       "0                             0                          0   \n",
       "1                             0                          0   \n",
       "2                             0                          0   \n",
       "3                             0                          0   \n",
       "4                             0                          0   \n",
       "\n",
       "   Information & Science  Justice & Public Safety  ...  \\\n",
       "0                      0                        0  ...   \n",
       "1                      1                        0  ...   \n",
       "2                      1                        0  ...   \n",
       "3                      1                        0  ...   \n",
       "4                      1                        0  ...   \n",
       "\n",
       "   strict-transport-security  set-cookie  referrer-policy  x-ratelimit-limit  \\\n",
       "0                          0           0                0                  0   \n",
       "1                          0           0                0                  0   \n",
       "2                          0           0                0                  0   \n",
       "3                          0           0                0                  0   \n",
       "4                          0           0                0                  0   \n",
       "\n",
       "   x-powered-by  x-aspnet-version  expect-ct  metadata_fields_count  \\\n",
       "0             0                 0          0                      3   \n",
       "1             0                 0          0                      4   \n",
       "2             0                 0          0                      4   \n",
       "3             0                 0          0                      4   \n",
       "4             0                 0          0                      4   \n",
       "\n",
       "   parameters_count  Risk  \n",
       "0                 4   Low  \n",
       "1                 1   Low  \n",
       "2                 1   Low  \n",
       "3                 1   Low  \n",
       "4                 1   Low  \n",
       "\n",
       "[5 rows x 48 columns]"
      ]
     },
     "execution_count": 2,
     "metadata": {},
     "output_type": "execute_result"
    }
   ],
   "source": [
    "# Load sample data from excel\n",
    "api_df = pd.read_excel(\"../../data/processed/df_full.xlsx\",\n",
    "                       \"Sheet1\",\n",
    "                       usecols=\"M:BH\")\n",
    "api_df.head()"
   ]
  },
  {
   "cell_type": "code",
   "execution_count": 3,
   "id": "c2ab4c90-94fe-4e88-8065-3f45380be0ab",
   "metadata": {},
   "outputs": [
    {
     "data": {
      "text/plain": [
       "Low       1809\n",
       "High        42\n",
       "Medium      10\n",
       "Name: Risk, dtype: int64"
      ]
     },
     "execution_count": 3,
     "metadata": {},
     "output_type": "execute_result"
    }
   ],
   "source": [
    "# Class distribution in original data\n",
    "api_df[\"Risk\"].value_counts()"
   ]
  },
  {
   "cell_type": "code",
   "execution_count": 4,
   "id": "cb8676da-3c47-4712-9b52-c9d22601d5d5",
   "metadata": {},
   "outputs": [],
   "source": [
    "# X, y split\n",
    "y = api_df[\"Risk\"]\n",
    "X = api_df.drop(columns=\"Risk\")"
   ]
  },
  {
   "cell_type": "code",
   "execution_count": 5,
   "id": "9a3d9c87-6d43-4000-9e08-be260bc3076f",
   "metadata": {},
   "outputs": [],
   "source": [
    "# Oversample the data\n",
    "oversample = SMOTE()\n",
    "X, y = oversample.fit_resample(X, y)"
   ]
  },
  {
   "cell_type": "code",
   "execution_count": 6,
   "id": "9bcc0146-ee21-4fab-a08a-3eaa6f64da76",
   "metadata": {},
   "outputs": [
    {
     "data": {
      "text/plain": [
       "Low       1809\n",
       "Medium    1809\n",
       "High      1809\n",
       "Name: Risk, dtype: int64"
      ]
     },
     "execution_count": 6,
     "metadata": {},
     "output_type": "execute_result"
    }
   ],
   "source": [
    "# Class distribution in oversampled data\n",
    "y.value_counts()"
   ]
  },
  {
   "cell_type": "code",
   "execution_count": 7,
   "id": "66ee6c91-cacb-40f3-bbeb-44ce243cc555",
   "metadata": {},
   "outputs": [],
   "source": [
    "# Combining X and y columns in oversampled data\n",
    "y_column = [\"Risk\"]\n",
    "column_names = list(X.columns) + y_column\n",
    "# column_names"
   ]
  },
  {
   "cell_type": "code",
   "execution_count": 8,
   "id": "509b0b1e-410d-45b1-a4b9-421feee199a6",
   "metadata": {},
   "outputs": [],
   "source": [
    "data = pd.concat([X, y], axis=1)"
   ]
  },
  {
   "cell_type": "code",
   "execution_count": 9,
   "id": "ff52a7c8-18ca-49b7-9c44-9facf78eff1f",
   "metadata": {},
   "outputs": [],
   "source": [
    "smote_df = pd.DataFrame(data, columns=column_names)"
   ]
  },
  {
   "cell_type": "code",
   "execution_count": 10,
   "id": "d6e5c5de-f4bf-4b7e-98d8-09cbd697a5d2",
   "metadata": {},
   "outputs": [
    {
     "data": {
      "text/plain": [
       "(5427, 48)"
      ]
     },
     "execution_count": 10,
     "metadata": {},
     "output_type": "execute_result"
    }
   ],
   "source": [
    "smote_df.shape"
   ]
  },
  {
   "cell_type": "code",
   "execution_count": 11,
   "id": "c2f175fa-75d1-4c12-a2c5-019030f89dae",
   "metadata": {},
   "outputs": [],
   "source": [
    "# Saving oversampled data to excel\n",
    "api_df.to_excel(\"../../data/raw/Smote.xlsx\", index = False)"
   ]
  },
  {
   "cell_type": "code",
   "execution_count": null,
   "id": "d8fc5803-61c5-433a-92f1-024f9690fb57",
   "metadata": {},
   "outputs": [],
   "source": []
  }
 ],
 "metadata": {
  "kernelspec": {
   "display_name": "Python 3 (ipykernel)",
   "language": "python",
   "name": "python3"
  },
  "language_info": {
   "codemirror_mode": {
    "name": "ipython",
    "version": 3
   },
   "file_extension": ".py",
   "mimetype": "text/x-python",
   "name": "python",
   "nbconvert_exporter": "python",
   "pygments_lexer": "ipython3",
   "version": "3.9.7"
  }
 },
 "nbformat": 4,
 "nbformat_minor": 5
}
