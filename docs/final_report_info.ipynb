{
 "cells": [
  {
   "cell_type": "markdown",
   "id": "7734bce0-403c-44e1-b997-39c7969da683",
   "metadata": {},
   "source": [
    "# Final Report\n",
    "<hr />"
   ]
  },
  {
   "cell_type": "markdown",
   "id": "edc2a483-eea8-4607-ada3-45d26d77a3c2",
   "metadata": {},
   "source": [
    "## Feature Engineering"
   ]
  },
  {
   "cell_type": "markdown",
   "id": "5251dc20-2d40-46b3-93af-75ff9c0fd0dd",
   "metadata": {},
   "source": [
    "### (1) PII/FII"
   ]
  },
  {
   "cell_type": "markdown",
   "id": "a80fd83c-9840-4396-b5f8-721bf2efc851",
   "metadata": {},
   "source": []
  },
  {
   "cell_type": "markdown",
   "id": "17bb2041-a661-414c-bb87-f00363a94df1",
   "metadata": {},
   "source": [
    "### (2) Metadata keys imputation and encoding"
   ]
  },
  {
   "cell_type": "code",
   "execution_count": null,
   "id": "e443d62a-2711-418f-922f-e1f38ed7a2cf",
   "metadata": {},
   "outputs": [],
   "source": []
  },
  {
   "cell_type": "markdown",
   "id": "d05db003-7cb8-4d51-aaa4-a637e0c8083b",
   "metadata": {},
   "source": [
    "### (3) Security test imputation"
   ]
  },
  {
   "cell_type": "code",
   "execution_count": null,
   "id": "f142598f-9f70-491f-8277-c06b9846ced2",
   "metadata": {},
   "outputs": [],
   "source": []
  },
  {
   "cell_type": "markdown",
   "id": "472f07b3-ba41-4798-ac0d-c1548f2167ad",
   "metadata": {},
   "source": [
    "### (4) Server location (account for hosting country's readiness to protect data privacy)"
   ]
  },
  {
   "cell_type": "markdown",
   "id": "3f4f76e9-9f14-4d8c-bfa8-a60eb0113f68",
   "metadata": {},
   "source": [
    "The hosting country provides both the physical infrastructure where the data server(s) are located and policy infrastructure, which have varying levels of acceptance towards new technology and the emerging API/digital economy. As such, we have used the composite Network Readiness Index (NRI) as a proxy to capture the underlying importance of the API's server location. \n",
    "\n",
    "Looking at the four main pillars (Technology, People, Governance and Impact) and three sub-pillars each, we have chosen to use four sub-pillars. They are (a) Future Technologies, (b) Government, (c) Trust, and (d) Regulations. The reasoning being:\n",
    "\n",
    "(a) It indicates the country's preparedness for the network economy, which suggest that there are policies concerning the use and distribution of data by the API being hosted there. <br>\n",
    "(b) It highlights the involvement of the government to protect individual and businesses <br>\n",
    "(c) It highlights the level of conduciveness for the the API <br>\n",
    "(d) It highlights the level of data privacy policy in place. <br>\n",
    "\n",
    "For more information of each sub-category, please refer to the appendix. "
   ]
  },
  {
   "cell_type": "markdown",
   "id": "f7bdf1d7-3640-4016-9bd1-09b8f117f5f0",
   "metadata": {},
   "source": [
    "### (5) Usage Base"
   ]
  },
  {
   "cell_type": "markdown",
   "id": "4b5122ac-2a24-4bd8-ab4c-6b394db1ec48",
   "metadata": {},
   "source": [
    "Based on the current dataset, there are three types of usage - free, free with authentication, and commercial - in order of the level of security. As such, we encoded commercial with 0, and free with 2."
   ]
  },
  {
   "cell_type": "markdown",
   "id": "0dd7e929-6a7f-4f27-a73b-1b69fbe39944",
   "metadata": {},
   "source": [
    "### (6) Authentication"
   ]
  },
  {
   "cell_type": "markdown",
   "id": "70bd29a5-ea34-4c42-b498-d2a285934891",
   "metadata": {},
   "source": [
    "There are several types of authentication. OAuth is the strongest, none is the riskiness, path is risky, while the other types of authentication have a moderate level of risk."
   ]
  },
  {
   "cell_type": "markdown",
   "id": "3c15c0ee-8a4a-4d49-b127-2b09214fbef1",
   "metadata": {},
   "source": [
    "### (7) Categories"
   ]
  },
  {
   "cell_type": "markdown",
   "id": "f41aafb7-c1ae-4599-af04-55caad5fff13",
   "metadata": {},
   "source": [
    "We used a OneHotEncoder (OHE) to categorised the APIs into 26 categories, as seen in TeejLab's database. To account for the missing categories in the dataset and ensure that the naming conventions typically applied to OHE does not appear after preprocessing (i.e. category_xxx), we have created additional columns for the missing categories with an imputation of the value 0 and removed the prefix"
   ]
  },
  {
   "cell_type": "code",
   "execution_count": null,
   "id": "7f231feb-9813-42e2-b3ef-e4c1fb20af75",
   "metadata": {},
   "outputs": [],
   "source": []
  }
 ],
 "metadata": {
  "kernelspec": {
   "display_name": "Python 3 (ipykernel)",
   "language": "python",
   "name": "python3"
  },
  "language_info": {
   "codemirror_mode": {
    "name": "ipython",
    "version": 3
   },
   "file_extension": ".py",
   "mimetype": "text/x-python",
   "name": "python",
   "nbconvert_exporter": "python",
   "pygments_lexer": "ipython3",
   "version": "3.9.9"
  }
 },
 "nbformat": 4,
 "nbformat_minor": 5
}
