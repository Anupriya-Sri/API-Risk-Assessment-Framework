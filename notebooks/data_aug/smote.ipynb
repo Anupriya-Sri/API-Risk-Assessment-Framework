{
 "cells": [
  {
   "cell_type": "code",
   "execution_count": 1,
   "id": "cb6e7ab6-95e3-4be7-a2d8-15d4d4e1f7d0",
   "metadata": {},
   "outputs": [],
   "source": [
    "# Import dependencies\n",
    "import pandas as pd\n",
    "import openpyxl\n",
    "\n",
    "from imblearn.over_sampling import SMOTE    # package for SMOTE\n",
    "\n",
    "import warnings\n",
    "warnings.filterwarnings(\"ignore\")"
   ]
  },
  {
   "cell_type": "code",
   "execution_count": 2,
   "id": "5c4e9f7e-5ba4-412f-b495-e783e145d424",
   "metadata": {},
   "outputs": [
    {
     "data": {
      "text/html": [
       "<div>\n",
       "<style scoped>\n",
       "    .dataframe tbody tr th:only-of-type {\n",
       "        vertical-align: middle;\n",
       "    }\n",
       "\n",
       "    .dataframe tbody tr th {\n",
       "        vertical-align: top;\n",
       "    }\n",
       "\n",
       "    .dataframe thead th {\n",
       "        text-align: right;\n",
       "    }\n",
       "</style>\n",
       "<table border=\"1\" class=\"dataframe\">\n",
       "  <thead>\n",
       "    <tr style=\"text-align: right;\">\n",
       "      <th></th>\n",
       "      <th>is_pii</th>\n",
       "      <th>is_fii</th>\n",
       "      <th>NRI score</th>\n",
       "      <th>authentication_processed</th>\n",
       "      <th>usage_base_processed</th>\n",
       "      <th>AI &amp; Data Science</th>\n",
       "      <th>Business &amp; Technology</th>\n",
       "      <th>Environment &amp; Weather</th>\n",
       "      <th>Finance &amp; Banking</th>\n",
       "      <th>GeoInformatics &amp; Navigation</th>\n",
       "      <th>...</th>\n",
       "      <th>content-type</th>\n",
       "      <th>set-cookie</th>\n",
       "      <th>access-control-allow-origin</th>\n",
       "      <th>server</th>\n",
       "      <th>x-powered-by</th>\n",
       "      <th>x-aspnet-version</th>\n",
       "      <th>x-ratelimit-limit</th>\n",
       "      <th>metadata_fields_count</th>\n",
       "      <th>parameters_count</th>\n",
       "      <th>Risk_Label</th>\n",
       "    </tr>\n",
       "  </thead>\n",
       "  <tbody>\n",
       "    <tr>\n",
       "      <th>0</th>\n",
       "      <td>True</td>\n",
       "      <td>False</td>\n",
       "      <td>77.850013</td>\n",
       "      <td>0</td>\n",
       "      <td>2</td>\n",
       "      <td>0</td>\n",
       "      <td>0</td>\n",
       "      <td>0</td>\n",
       "      <td>0</td>\n",
       "      <td>0</td>\n",
       "      <td>...</td>\n",
       "      <td>0</td>\n",
       "      <td>0</td>\n",
       "      <td>0</td>\n",
       "      <td>0</td>\n",
       "      <td>0</td>\n",
       "      <td>0</td>\n",
       "      <td>0</td>\n",
       "      <td>2</td>\n",
       "      <td>2</td>\n",
       "      <td>Low</td>\n",
       "    </tr>\n",
       "    <tr>\n",
       "      <th>1</th>\n",
       "      <td>True</td>\n",
       "      <td>False</td>\n",
       "      <td>77.850013</td>\n",
       "      <td>1</td>\n",
       "      <td>2</td>\n",
       "      <td>0</td>\n",
       "      <td>0</td>\n",
       "      <td>0</td>\n",
       "      <td>0</td>\n",
       "      <td>0</td>\n",
       "      <td>...</td>\n",
       "      <td>0</td>\n",
       "      <td>0</td>\n",
       "      <td>0</td>\n",
       "      <td>1</td>\n",
       "      <td>0</td>\n",
       "      <td>0</td>\n",
       "      <td>0</td>\n",
       "      <td>6</td>\n",
       "      <td>1</td>\n",
       "      <td>Low</td>\n",
       "    </tr>\n",
       "    <tr>\n",
       "      <th>2</th>\n",
       "      <td>False</td>\n",
       "      <td>False</td>\n",
       "      <td>76.479613</td>\n",
       "      <td>1</td>\n",
       "      <td>2</td>\n",
       "      <td>0</td>\n",
       "      <td>1</td>\n",
       "      <td>0</td>\n",
       "      <td>0</td>\n",
       "      <td>0</td>\n",
       "      <td>...</td>\n",
       "      <td>0</td>\n",
       "      <td>0</td>\n",
       "      <td>0</td>\n",
       "      <td>1</td>\n",
       "      <td>0</td>\n",
       "      <td>0</td>\n",
       "      <td>0</td>\n",
       "      <td>3</td>\n",
       "      <td>1</td>\n",
       "      <td>Medium</td>\n",
       "    </tr>\n",
       "    <tr>\n",
       "      <th>3</th>\n",
       "      <td>True</td>\n",
       "      <td>False</td>\n",
       "      <td>76.479613</td>\n",
       "      <td>1</td>\n",
       "      <td>2</td>\n",
       "      <td>0</td>\n",
       "      <td>0</td>\n",
       "      <td>0</td>\n",
       "      <td>0</td>\n",
       "      <td>0</td>\n",
       "      <td>...</td>\n",
       "      <td>1</td>\n",
       "      <td>0</td>\n",
       "      <td>0</td>\n",
       "      <td>0</td>\n",
       "      <td>0</td>\n",
       "      <td>0</td>\n",
       "      <td>0</td>\n",
       "      <td>5</td>\n",
       "      <td>0</td>\n",
       "      <td>Low</td>\n",
       "    </tr>\n",
       "    <tr>\n",
       "      <th>4</th>\n",
       "      <td>True</td>\n",
       "      <td>False</td>\n",
       "      <td>77.850013</td>\n",
       "      <td>0</td>\n",
       "      <td>2</td>\n",
       "      <td>0</td>\n",
       "      <td>0</td>\n",
       "      <td>0</td>\n",
       "      <td>0</td>\n",
       "      <td>0</td>\n",
       "      <td>...</td>\n",
       "      <td>0</td>\n",
       "      <td>0</td>\n",
       "      <td>0</td>\n",
       "      <td>0</td>\n",
       "      <td>0</td>\n",
       "      <td>0</td>\n",
       "      <td>0</td>\n",
       "      <td>2</td>\n",
       "      <td>3</td>\n",
       "      <td>Low</td>\n",
       "    </tr>\n",
       "  </tbody>\n",
       "</table>\n",
       "<p>5 rows × 53 columns</p>\n",
       "</div>"
      ],
      "text/plain": [
       "   is_pii  is_fii  NRI score  authentication_processed  usage_base_processed  \\\n",
       "0    True   False  77.850013                         0                     2   \n",
       "1    True   False  77.850013                         1                     2   \n",
       "2   False   False  76.479613                         1                     2   \n",
       "3    True   False  76.479613                         1                     2   \n",
       "4    True   False  77.850013                         0                     2   \n",
       "\n",
       "   AI & Data Science  Business & Technology  Environment & Weather  \\\n",
       "0                  0                      0                      0   \n",
       "1                  0                      0                      0   \n",
       "2                  0                      1                      0   \n",
       "3                  0                      0                      0   \n",
       "4                  0                      0                      0   \n",
       "\n",
       "   Finance & Banking  GeoInformatics & Navigation  ...  content-type  \\\n",
       "0                  0                            0  ...             0   \n",
       "1                  0                            0  ...             0   \n",
       "2                  0                            0  ...             0   \n",
       "3                  0                            0  ...             1   \n",
       "4                  0                            0  ...             0   \n",
       "\n",
       "   set-cookie  access-control-allow-origin  server  x-powered-by  \\\n",
       "0           0                            0       0             0   \n",
       "1           0                            0       1             0   \n",
       "2           0                            0       1             0   \n",
       "3           0                            0       0             0   \n",
       "4           0                            0       0             0   \n",
       "\n",
       "   x-aspnet-version  x-ratelimit-limit  metadata_fields_count  \\\n",
       "0                 0                  0                      2   \n",
       "1                 0                  0                      6   \n",
       "2                 0                  0                      3   \n",
       "3                 0                  0                      5   \n",
       "4                 0                  0                      2   \n",
       "\n",
       "   parameters_count  Risk_Label  \n",
       "0                 2         Low  \n",
       "1                 1         Low  \n",
       "2                 1      Medium  \n",
       "3                 0         Low  \n",
       "4                 3         Low  \n",
       "\n",
       "[5 rows x 53 columns]"
      ]
     },
     "execution_count": 2,
     "metadata": {},
     "output_type": "execute_result"
    }
   ],
   "source": [
    "# Load sample data from excel\n",
    "api_df = pd.read_excel(\"../../data/processed/preprocessed_train.xlsx\")\n",
    "api_df.head()"
   ]
  },
  {
   "cell_type": "code",
   "execution_count": 3,
   "id": "86ad8a42-1f4a-48e2-85a7-919eafb77d3c",
   "metadata": {},
   "outputs": [
    {
     "data": {
      "text/plain": [
       "(1316, 53)"
      ]
     },
     "execution_count": 3,
     "metadata": {},
     "output_type": "execute_result"
    }
   ],
   "source": [
    "api_df.shape"
   ]
  },
  {
   "cell_type": "code",
   "execution_count": 4,
   "id": "c2ab4c90-94fe-4e88-8065-3f45380be0ab",
   "metadata": {},
   "outputs": [
    {
     "data": {
      "text/plain": [
       "Medium    661\n",
       "Low       651\n",
       "High        4\n",
       "Name: Risk_Label, dtype: int64"
      ]
     },
     "execution_count": 4,
     "metadata": {},
     "output_type": "execute_result"
    }
   ],
   "source": [
    "# Class distribution in original data\n",
    "api_df[\"Risk_Label\"].value_counts()"
   ]
  },
  {
   "cell_type": "code",
   "execution_count": 5,
   "id": "cb8676da-3c47-4712-9b52-c9d22601d5d5",
   "metadata": {},
   "outputs": [],
   "source": [
    "# X, y split\n",
    "y = api_df[\"Risk_Label\"]\n",
    "X = api_df.drop(columns=\"Risk_Label\")"
   ]
  },
  {
   "cell_type": "code",
   "execution_count": 6,
   "id": "9a3d9c87-6d43-4000-9e08-be260bc3076f",
   "metadata": {},
   "outputs": [],
   "source": [
    "# Oversample the data\n",
    "oversample = SMOTE(k_neighbors = 2)\n",
    "X, y = oversample.fit_resample(X, y)"
   ]
  },
  {
   "cell_type": "code",
   "execution_count": 7,
   "id": "9bcc0146-ee21-4fab-a08a-3eaa6f64da76",
   "metadata": {},
   "outputs": [
    {
     "data": {
      "text/plain": [
       "Low       661\n",
       "Medium    661\n",
       "High      661\n",
       "Name: Risk_Label, dtype: int64"
      ]
     },
     "execution_count": 7,
     "metadata": {},
     "output_type": "execute_result"
    }
   ],
   "source": [
    "# Class distribution in oversampled data\n",
    "y.value_counts()"
   ]
  },
  {
   "cell_type": "code",
   "execution_count": 8,
   "id": "509b0b1e-410d-45b1-a4b9-421feee199a6",
   "metadata": {},
   "outputs": [],
   "source": [
    "data = pd.concat([X, y], axis=1)"
   ]
  },
  {
   "cell_type": "code",
   "execution_count": 9,
   "id": "ff52a7c8-18ca-49b7-9c44-9facf78eff1f",
   "metadata": {},
   "outputs": [],
   "source": [
    "smote_df = pd.DataFrame(data)"
   ]
  },
  {
   "cell_type": "code",
   "execution_count": 10,
   "id": "d6e5c5de-f4bf-4b7e-98d8-09cbd697a5d2",
   "metadata": {},
   "outputs": [
    {
     "data": {
      "text/plain": [
       "(1983, 53)"
      ]
     },
     "execution_count": 10,
     "metadata": {},
     "output_type": "execute_result"
    }
   ],
   "source": [
    "smote_df.shape"
   ]
  },
  {
   "cell_type": "code",
   "execution_count": 11,
   "id": "4c790770-547f-48c3-8532-54dcd3b8a214",
   "metadata": {},
   "outputs": [
    {
     "name": "stdout",
     "output_type": "stream",
     "text": [
      "<class 'pandas.core.frame.DataFrame'>\n",
      "RangeIndex: 1983 entries, 0 to 1982\n",
      "Data columns (total 53 columns):\n",
      " #   Column                          Non-Null Count  Dtype  \n",
      "---  ------                          --------------  -----  \n",
      " 0   is_pii                          1983 non-null   bool   \n",
      " 1   is_fii                          1983 non-null   bool   \n",
      " 2   NRI score                       1983 non-null   float64\n",
      " 3   authentication_processed        1983 non-null   int64  \n",
      " 4   usage_base_processed            1983 non-null   int64  \n",
      " 5   AI & Data Science               1983 non-null   int64  \n",
      " 6   Business & Technology           1983 non-null   int64  \n",
      " 7   Environment & Weather           1983 non-null   int64  \n",
      " 8   Finance & Banking               1983 non-null   int64  \n",
      " 9   GeoInformatics & Navigation     1983 non-null   int64  \n",
      " 10  Government & Public Services    1983 non-null   int64  \n",
      " 11  Health Science & Medicine       1983 non-null   int64  \n",
      " 12  Information & Science           1983 non-null   int64  \n",
      " 13  Justice & Public Safety         1983 non-null   int64  \n",
      " 14  Logistics & Infrastructure      1983 non-null   int64  \n",
      " 15  Natural Resources & Energy      1983 non-null   int64  \n",
      " 16  News & Media                    1983 non-null   int64  \n",
      " 17  None                            1983 non-null   int64  \n",
      " 18  Religion & Spirituality         1983 non-null   int64  \n",
      " 19  Research & Education            1983 non-null   int64  \n",
      " 20  Sales & Marketing               1983 non-null   int64  \n",
      " 21  Security & Technology           1983 non-null   int64  \n",
      " 22  Skills & Career Development     1983 non-null   int64  \n",
      " 23  Social Media & Technology       1983 non-null   int64  \n",
      " 24  Software & Services             1983 non-null   int64  \n",
      " 25  Sports & Entertainment          1983 non-null   int64  \n",
      " 26  Transportation & Automobile     1983 non-null   int64  \n",
      " 27  Work & Personal Life            1983 non-null   int64  \n",
      " 28  eCommerce & Trade               1983 non-null   int64  \n",
      " 29  Food, Health & Medicine         1983 non-null   int64  \n",
      " 30  server_name_processed           1983 non-null   int64  \n",
      " 31  security_test_result_processed  1983 non-null   int64  \n",
      " 32  x0_Broken Authentication        1983 non-null   int64  \n",
      " 33  x0_Cross-Site Scripting         1983 non-null   int64  \n",
      " 34  x0_Insecure Deserialization     1983 non-null   int64  \n",
      " 35  x0_Missing                      1983 non-null   int64  \n",
      " 36  x0_SQL Injection                1983 non-null   int64  \n",
      " 37  x0_XML External Entities        1983 non-null   int64  \n",
      " 38  x-frame-options                 1983 non-null   int64  \n",
      " 39  x-xss-protection                1983 non-null   int64  \n",
      " 40  strict-transport-security       1983 non-null   int64  \n",
      " 41  expect-ct                       1983 non-null   int64  \n",
      " 42  referrer-policy                 1983 non-null   int64  \n",
      " 43  content-type                    1983 non-null   int64  \n",
      " 44  set-cookie                      1983 non-null   int64  \n",
      " 45  access-control-allow-origin     1983 non-null   int64  \n",
      " 46  server                          1983 non-null   int64  \n",
      " 47  x-powered-by                    1983 non-null   int64  \n",
      " 48  x-aspnet-version                1983 non-null   int64  \n",
      " 49  x-ratelimit-limit               1983 non-null   int64  \n",
      " 50  metadata_fields_count           1983 non-null   int64  \n",
      " 51  parameters_count                1983 non-null   int64  \n",
      " 52  Risk_Label                      1983 non-null   object \n",
      "dtypes: bool(2), float64(1), int64(49), object(1)\n",
      "memory usage: 794.1+ KB\n"
     ]
    }
   ],
   "source": [
    "smote_df.info()"
   ]
  },
  {
   "cell_type": "code",
   "execution_count": 12,
   "id": "c2f175fa-75d1-4c12-a2c5-019030f89dae",
   "metadata": {},
   "outputs": [],
   "source": [
    "# Saving oversampled data to excel\n",
    "smote_df.to_excel(\"../../data/processed/smote.xlsx\", index=False)"
   ]
  },
  {
   "cell_type": "code",
   "execution_count": 13,
   "id": "d8fc5803-61c5-433a-92f1-024f9690fb57",
   "metadata": {},
   "outputs": [
    {
     "data": {
      "text/plain": [
       "(1983, 53)"
      ]
     },
     "execution_count": 13,
     "metadata": {},
     "output_type": "execute_result"
    }
   ],
   "source": [
    "# Load sample data from excel\n",
    "api_smote_df = pd.read_excel(\"../../data/processed/smote.xlsx\")\n",
    "api_smote_df.shape"
   ]
  }
 ],
 "metadata": {
  "kernelspec": {
   "display_name": "Python 3.9.9 ('capstone')",
   "language": "python",
   "name": "python3"
  },
  "language_info": {
   "codemirror_mode": {
    "name": "ipython",
    "version": 3
   },
   "file_extension": ".py",
   "mimetype": "text/x-python",
   "name": "python",
   "nbconvert_exporter": "python",
   "pygments_lexer": "ipython3",
   "version": "3.9.9"
  },
  "vscode": {
   "interpreter": {
    "hash": "3055ab941c3cc8effdc41de39758208c137b5aedc548afc01658bc69568cbb4c"
   }
  }
 },
 "nbformat": 4,
 "nbformat_minor": 5
}
