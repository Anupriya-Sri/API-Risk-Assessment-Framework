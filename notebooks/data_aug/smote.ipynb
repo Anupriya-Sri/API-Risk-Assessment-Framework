{
 "cells": [
  {
   "cell_type": "code",
   "execution_count": 1,
   "id": "cb6e7ab6-95e3-4be7-a2d8-15d4d4e1f7d0",
   "metadata": {},
   "outputs": [],
   "source": [
    "# Import dependencies\n",
    "import pandas as pd\n",
    "import openpyxl\n",
    "\n",
    "from imblearn.over_sampling import SMOTE    # package for SMOTE\n",
    "\n",
    "import warnings\n",
    "warnings.filterwarnings(\"ignore\")"
   ]
  },
  {
   "cell_type": "code",
   "execution_count": 2,
   "id": "5c4e9f7e-5ba4-412f-b495-e783e145d424",
   "metadata": {},
   "outputs": [
    {
     "data": {
      "text/html": [
       "<div>\n",
       "<style scoped>\n",
       "    .dataframe tbody tr th:only-of-type {\n",
       "        vertical-align: middle;\n",
       "    }\n",
       "\n",
       "    .dataframe tbody tr th {\n",
       "        vertical-align: top;\n",
       "    }\n",
       "\n",
       "    .dataframe thead th {\n",
       "        text-align: right;\n",
       "    }\n",
       "</style>\n",
       "<table border=\"1\" class=\"dataframe\">\n",
       "  <thead>\n",
       "    <tr style=\"text-align: right;\">\n",
       "      <th></th>\n",
       "      <th>usage_base</th>\n",
       "      <th>authentication</th>\n",
       "      <th>server_name</th>\n",
       "      <th>is_pii</th>\n",
       "      <th>is_fii</th>\n",
       "      <th>NRI score</th>\n",
       "      <th>AI &amp; Data Science</th>\n",
       "      <th>Business &amp; Technology</th>\n",
       "      <th>Environment &amp; Weather</th>\n",
       "      <th>Finance &amp; Banking</th>\n",
       "      <th>...</th>\n",
       "      <th>content-type</th>\n",
       "      <th>set-cookie</th>\n",
       "      <th>access-control-allow-origin</th>\n",
       "      <th>server</th>\n",
       "      <th>x-powered-by</th>\n",
       "      <th>x-aspnet-version</th>\n",
       "      <th>x-ratelimit-limit</th>\n",
       "      <th>metadata_fields_count</th>\n",
       "      <th>parameters_count</th>\n",
       "      <th>Risk_Label</th>\n",
       "    </tr>\n",
       "  </thead>\n",
       "  <tbody>\n",
       "    <tr>\n",
       "      <th>0</th>\n",
       "      <td>2</td>\n",
       "      <td>1</td>\n",
       "      <td>1</td>\n",
       "      <td>True</td>\n",
       "      <td>False</td>\n",
       "      <td>81.089820</td>\n",
       "      <td>0</td>\n",
       "      <td>0</td>\n",
       "      <td>1</td>\n",
       "      <td>0</td>\n",
       "      <td>...</td>\n",
       "      <td>0</td>\n",
       "      <td>0</td>\n",
       "      <td>1</td>\n",
       "      <td>1</td>\n",
       "      <td>0</td>\n",
       "      <td>0</td>\n",
       "      <td>0</td>\n",
       "      <td>3</td>\n",
       "      <td>4</td>\n",
       "      <td>Low Risk</td>\n",
       "    </tr>\n",
       "    <tr>\n",
       "      <th>1</th>\n",
       "      <td>2</td>\n",
       "      <td>1</td>\n",
       "      <td>1</td>\n",
       "      <td>True</td>\n",
       "      <td>False</td>\n",
       "      <td>76.479613</td>\n",
       "      <td>0</td>\n",
       "      <td>0</td>\n",
       "      <td>0</td>\n",
       "      <td>0</td>\n",
       "      <td>...</td>\n",
       "      <td>0</td>\n",
       "      <td>0</td>\n",
       "      <td>0</td>\n",
       "      <td>1</td>\n",
       "      <td>0</td>\n",
       "      <td>0</td>\n",
       "      <td>0</td>\n",
       "      <td>4</td>\n",
       "      <td>1</td>\n",
       "      <td>Low Risk</td>\n",
       "    </tr>\n",
       "    <tr>\n",
       "      <th>2</th>\n",
       "      <td>2</td>\n",
       "      <td>1</td>\n",
       "      <td>1</td>\n",
       "      <td>True</td>\n",
       "      <td>False</td>\n",
       "      <td>81.089820</td>\n",
       "      <td>0</td>\n",
       "      <td>0</td>\n",
       "      <td>0</td>\n",
       "      <td>0</td>\n",
       "      <td>...</td>\n",
       "      <td>0</td>\n",
       "      <td>0</td>\n",
       "      <td>0</td>\n",
       "      <td>1</td>\n",
       "      <td>0</td>\n",
       "      <td>0</td>\n",
       "      <td>0</td>\n",
       "      <td>4</td>\n",
       "      <td>1</td>\n",
       "      <td>Low Risk</td>\n",
       "    </tr>\n",
       "    <tr>\n",
       "      <th>3</th>\n",
       "      <td>2</td>\n",
       "      <td>1</td>\n",
       "      <td>1</td>\n",
       "      <td>True</td>\n",
       "      <td>False</td>\n",
       "      <td>76.479613</td>\n",
       "      <td>0</td>\n",
       "      <td>0</td>\n",
       "      <td>0</td>\n",
       "      <td>0</td>\n",
       "      <td>...</td>\n",
       "      <td>0</td>\n",
       "      <td>0</td>\n",
       "      <td>0</td>\n",
       "      <td>1</td>\n",
       "      <td>0</td>\n",
       "      <td>0</td>\n",
       "      <td>0</td>\n",
       "      <td>4</td>\n",
       "      <td>6</td>\n",
       "      <td>Low Risk</td>\n",
       "    </tr>\n",
       "    <tr>\n",
       "      <th>4</th>\n",
       "      <td>2</td>\n",
       "      <td>1</td>\n",
       "      <td>1</td>\n",
       "      <td>False</td>\n",
       "      <td>False</td>\n",
       "      <td>76.479613</td>\n",
       "      <td>0</td>\n",
       "      <td>0</td>\n",
       "      <td>0</td>\n",
       "      <td>0</td>\n",
       "      <td>...</td>\n",
       "      <td>0</td>\n",
       "      <td>0</td>\n",
       "      <td>0</td>\n",
       "      <td>1</td>\n",
       "      <td>0</td>\n",
       "      <td>0</td>\n",
       "      <td>0</td>\n",
       "      <td>4</td>\n",
       "      <td>2</td>\n",
       "      <td>Medium</td>\n",
       "    </tr>\n",
       "  </tbody>\n",
       "</table>\n",
       "<p>5 rows × 53 columns</p>\n",
       "</div>"
      ],
      "text/plain": [
       "   usage_base  authentication  server_name  is_pii  is_fii  NRI score  \\\n",
       "0           2               1            1    True   False  81.089820   \n",
       "1           2               1            1    True   False  76.479613   \n",
       "2           2               1            1    True   False  81.089820   \n",
       "3           2               1            1    True   False  76.479613   \n",
       "4           2               1            1   False   False  76.479613   \n",
       "\n",
       "   AI & Data Science  Business & Technology  Environment & Weather  \\\n",
       "0                  0                      0                      1   \n",
       "1                  0                      0                      0   \n",
       "2                  0                      0                      0   \n",
       "3                  0                      0                      0   \n",
       "4                  0                      0                      0   \n",
       "\n",
       "   Finance & Banking  ...  content-type  set-cookie  \\\n",
       "0                  0  ...             0           0   \n",
       "1                  0  ...             0           0   \n",
       "2                  0  ...             0           0   \n",
       "3                  0  ...             0           0   \n",
       "4                  0  ...             0           0   \n",
       "\n",
       "   access-control-allow-origin  server  x-powered-by  x-aspnet-version  \\\n",
       "0                            1       1             0                 0   \n",
       "1                            0       1             0                 0   \n",
       "2                            0       1             0                 0   \n",
       "3                            0       1             0                 0   \n",
       "4                            0       1             0                 0   \n",
       "\n",
       "   x-ratelimit-limit  metadata_fields_count  parameters_count  Risk_Label  \n",
       "0                  0                      3                 4    Low Risk  \n",
       "1                  0                      4                 1    Low Risk  \n",
       "2                  0                      4                 1    Low Risk  \n",
       "3                  0                      4                 6    Low Risk  \n",
       "4                  0                      4                 2      Medium  \n",
       "\n",
       "[5 rows x 53 columns]"
      ]
     },
     "execution_count": 2,
     "metadata": {},
     "output_type": "execute_result"
    }
   ],
   "source": [
    "# Load sample data from excel\n",
    "api_df = pd.read_excel(\"../../data/raw/df_full_clean.xlsx\")\n",
    "api_df.head()"
   ]
  },
  {
   "cell_type": "code",
   "execution_count": 3,
   "id": "86ad8a42-1f4a-48e2-85a7-919eafb77d3c",
   "metadata": {},
   "outputs": [
    {
     "data": {
      "text/plain": [
       "(1849, 53)"
      ]
     },
     "execution_count": 3,
     "metadata": {},
     "output_type": "execute_result"
    }
   ],
   "source": [
    "api_df.shape"
   ]
  },
  {
   "cell_type": "code",
   "execution_count": 4,
   "id": "c2ab4c90-94fe-4e88-8065-3f45380be0ab",
   "metadata": {},
   "outputs": [
    {
     "data": {
      "text/plain": [
       "Medium      961\n",
       "Low Risk    876\n",
       "High         12\n",
       "Name: Risk_Label, dtype: int64"
      ]
     },
     "execution_count": 4,
     "metadata": {},
     "output_type": "execute_result"
    }
   ],
   "source": [
    "# Class distribution in original data\n",
    "api_df[\"Risk_Label\"].value_counts()"
   ]
  },
  {
   "cell_type": "code",
   "execution_count": 5,
   "id": "681b0ab7-ba54-4dd5-a071-3fa277f3e93c",
   "metadata": {},
   "outputs": [
    {
     "name": "stdout",
     "output_type": "stream",
     "text": [
      "<class 'pandas.core.frame.DataFrame'>\n",
      "RangeIndex: 1849 entries, 0 to 1848\n",
      "Data columns (total 53 columns):\n",
      " #   Column                        Non-Null Count  Dtype  \n",
      "---  ------                        --------------  -----  \n",
      " 0   usage_base                    1849 non-null   int64  \n",
      " 1   authentication                1849 non-null   int64  \n",
      " 2   server_name                   1849 non-null   int64  \n",
      " 3   is_pii                        1849 non-null   bool   \n",
      " 4   is_fii                        1849 non-null   bool   \n",
      " 5   NRI score                     1849 non-null   float64\n",
      " 6   AI & Data Science             1849 non-null   int64  \n",
      " 7   Business & Technology         1849 non-null   int64  \n",
      " 8   Environment & Weather         1849 non-null   int64  \n",
      " 9   Finance & Banking             1849 non-null   int64  \n",
      " 10  GeoInformatics & Navigation   1849 non-null   int64  \n",
      " 11  Government & Public Services  1849 non-null   int64  \n",
      " 12  Health Science & Medicine     1849 non-null   int64  \n",
      " 13  Information & Science         1849 non-null   int64  \n",
      " 14  Justice & Public Safety       1849 non-null   int64  \n",
      " 15  Logistics & Infrastructure    1849 non-null   int64  \n",
      " 16  Natural Resources & Energy    1849 non-null   int64  \n",
      " 17  News & Media                  1849 non-null   int64  \n",
      " 18  None                          1849 non-null   int64  \n",
      " 19  Religion & Spirituality       1849 non-null   int64  \n",
      " 20  Research & Education          1849 non-null   int64  \n",
      " 21  Sales & Marketing             1849 non-null   int64  \n",
      " 22  Security & Technology         1849 non-null   int64  \n",
      " 23  Skills & Career Development   1849 non-null   int64  \n",
      " 24  Social Media & Technology     1849 non-null   int64  \n",
      " 25  Software & Services           1849 non-null   int64  \n",
      " 26  Sports & Entertainment        1849 non-null   int64  \n",
      " 27  Transportation & Automobile   1849 non-null   int64  \n",
      " 28  Work & Personal Life          1849 non-null   int64  \n",
      " 29  eCommerce & Trade             1849 non-null   int64  \n",
      " 30  Food, Health & Medicine       1849 non-null   int64  \n",
      " 31  security_test_result          1849 non-null   int64  \n",
      " 32  x0_Broken Authentication      1849 non-null   int64  \n",
      " 33  x0_Cross-Site Scripting       1849 non-null   int64  \n",
      " 34  x0_Insecure Deserialization   1849 non-null   int64  \n",
      " 35  x0_Missing                    1849 non-null   int64  \n",
      " 36  x0_SQL Injection              1849 non-null   int64  \n",
      " 37  x0_XML External Entities      1849 non-null   int64  \n",
      " 38  x-frame-options               1849 non-null   int64  \n",
      " 39  x-xss-protection              1849 non-null   int64  \n",
      " 40  strict-transport-security     1849 non-null   int64  \n",
      " 41  expect-ct                     1849 non-null   int64  \n",
      " 42  referrer-policy               1849 non-null   int64  \n",
      " 43  content-type                  1849 non-null   int64  \n",
      " 44  set-cookie                    1849 non-null   int64  \n",
      " 45  access-control-allow-origin   1849 non-null   int64  \n",
      " 46  server                        1849 non-null   int64  \n",
      " 47  x-powered-by                  1849 non-null   int64  \n",
      " 48  x-aspnet-version              1849 non-null   int64  \n",
      " 49  x-ratelimit-limit             1849 non-null   int64  \n",
      " 50  metadata_fields_count         1849 non-null   int64  \n",
      " 51  parameters_count              1849 non-null   int64  \n",
      " 52  Risk_Label                    1849 non-null   object \n",
      "dtypes: bool(2), float64(1), int64(49), object(1)\n",
      "memory usage: 740.4+ KB\n"
     ]
    }
   ],
   "source": [
    "api_df.info()"
   ]
  },
  {
   "cell_type": "code",
   "execution_count": 6,
   "id": "cb8676da-3c47-4712-9b52-c9d22601d5d5",
   "metadata": {},
   "outputs": [],
   "source": [
    "# X, y split\n",
    "y = api_df[\"Risk_Label\"]\n",
    "X = api_df.drop(columns=\"Risk_Label\")"
   ]
  },
  {
   "cell_type": "code",
   "execution_count": 7,
   "id": "9a3d9c87-6d43-4000-9e08-be260bc3076f",
   "metadata": {},
   "outputs": [],
   "source": [
    "# Oversample the data\n",
    "oversample = SMOTE()\n",
    "X, y = oversample.fit_resample(X, y)"
   ]
  },
  {
   "cell_type": "code",
   "execution_count": 8,
   "id": "9bcc0146-ee21-4fab-a08a-3eaa6f64da76",
   "metadata": {},
   "outputs": [
    {
     "data": {
      "text/plain": [
       "Low Risk    961\n",
       "Medium      961\n",
       "High        961\n",
       "Name: Risk_Label, dtype: int64"
      ]
     },
     "execution_count": 8,
     "metadata": {},
     "output_type": "execute_result"
    }
   ],
   "source": [
    "# Class distribution in oversampled data\n",
    "y.value_counts()"
   ]
  },
  {
   "cell_type": "code",
   "execution_count": 9,
   "id": "66ee6c91-cacb-40f3-bbeb-44ce243cc555",
   "metadata": {},
   "outputs": [],
   "source": [
    "# Combining X and y columns in oversampled data\n",
    "#y_column = [\"Risk\"]\n",
    "#column_names = list(X.columns) + y_column\n",
    "# column_names"
   ]
  },
  {
   "cell_type": "code",
   "execution_count": 10,
   "id": "509b0b1e-410d-45b1-a4b9-421feee199a6",
   "metadata": {},
   "outputs": [],
   "source": [
    "data = pd.concat([X, y], axis=1)"
   ]
  },
  {
   "cell_type": "code",
   "execution_count": 11,
   "id": "ff52a7c8-18ca-49b7-9c44-9facf78eff1f",
   "metadata": {},
   "outputs": [],
   "source": [
    "smote_df = pd.DataFrame(data)"
   ]
  },
  {
   "cell_type": "code",
   "execution_count": 13,
   "id": "d6e5c5de-f4bf-4b7e-98d8-09cbd697a5d2",
   "metadata": {},
   "outputs": [
    {
     "data": {
      "text/plain": [
       "(2883, 53)"
      ]
     },
     "execution_count": 13,
     "metadata": {},
     "output_type": "execute_result"
    }
   ],
   "source": [
    "smote_df.shape"
   ]
  },
  {
   "cell_type": "code",
   "execution_count": 14,
   "id": "4c790770-547f-48c3-8532-54dcd3b8a214",
   "metadata": {},
   "outputs": [
    {
     "name": "stdout",
     "output_type": "stream",
     "text": [
      "<class 'pandas.core.frame.DataFrame'>\n",
      "RangeIndex: 2883 entries, 0 to 2882\n",
      "Data columns (total 53 columns):\n",
      " #   Column                        Non-Null Count  Dtype  \n",
      "---  ------                        --------------  -----  \n",
      " 0   usage_base                    2883 non-null   int64  \n",
      " 1   authentication                2883 non-null   int64  \n",
      " 2   server_name                   2883 non-null   int64  \n",
      " 3   is_pii                        2883 non-null   bool   \n",
      " 4   is_fii                        2883 non-null   bool   \n",
      " 5   NRI score                     2883 non-null   float64\n",
      " 6   AI & Data Science             2883 non-null   int64  \n",
      " 7   Business & Technology         2883 non-null   int64  \n",
      " 8   Environment & Weather         2883 non-null   int64  \n",
      " 9   Finance & Banking             2883 non-null   int64  \n",
      " 10  GeoInformatics & Navigation   2883 non-null   int64  \n",
      " 11  Government & Public Services  2883 non-null   int64  \n",
      " 12  Health Science & Medicine     2883 non-null   int64  \n",
      " 13  Information & Science         2883 non-null   int64  \n",
      " 14  Justice & Public Safety       2883 non-null   int64  \n",
      " 15  Logistics & Infrastructure    2883 non-null   int64  \n",
      " 16  Natural Resources & Energy    2883 non-null   int64  \n",
      " 17  News & Media                  2883 non-null   int64  \n",
      " 18  None                          2883 non-null   int64  \n",
      " 19  Religion & Spirituality       2883 non-null   int64  \n",
      " 20  Research & Education          2883 non-null   int64  \n",
      " 21  Sales & Marketing             2883 non-null   int64  \n",
      " 22  Security & Technology         2883 non-null   int64  \n",
      " 23  Skills & Career Development   2883 non-null   int64  \n",
      " 24  Social Media & Technology     2883 non-null   int64  \n",
      " 25  Software & Services           2883 non-null   int64  \n",
      " 26  Sports & Entertainment        2883 non-null   int64  \n",
      " 27  Transportation & Automobile   2883 non-null   int64  \n",
      " 28  Work & Personal Life          2883 non-null   int64  \n",
      " 29  eCommerce & Trade             2883 non-null   int64  \n",
      " 30  Food, Health & Medicine       2883 non-null   int64  \n",
      " 31  security_test_result          2883 non-null   int64  \n",
      " 32  x0_Broken Authentication      2883 non-null   int64  \n",
      " 33  x0_Cross-Site Scripting       2883 non-null   int64  \n",
      " 34  x0_Insecure Deserialization   2883 non-null   int64  \n",
      " 35  x0_Missing                    2883 non-null   int64  \n",
      " 36  x0_SQL Injection              2883 non-null   int64  \n",
      " 37  x0_XML External Entities      2883 non-null   int64  \n",
      " 38  x-frame-options               2883 non-null   int64  \n",
      " 39  x-xss-protection              2883 non-null   int64  \n",
      " 40  strict-transport-security     2883 non-null   int64  \n",
      " 41  expect-ct                     2883 non-null   int64  \n",
      " 42  referrer-policy               2883 non-null   int64  \n",
      " 43  content-type                  2883 non-null   int64  \n",
      " 44  set-cookie                    2883 non-null   int64  \n",
      " 45  access-control-allow-origin   2883 non-null   int64  \n",
      " 46  server                        2883 non-null   int64  \n",
      " 47  x-powered-by                  2883 non-null   int64  \n",
      " 48  x-aspnet-version              2883 non-null   int64  \n",
      " 49  x-ratelimit-limit             2883 non-null   int64  \n",
      " 50  metadata_fields_count         2883 non-null   int64  \n",
      " 51  parameters_count              2883 non-null   int64  \n",
      " 52  Risk_Label                    2883 non-null   object \n",
      "dtypes: bool(2), float64(1), int64(49), object(1)\n",
      "memory usage: 1.1+ MB\n"
     ]
    }
   ],
   "source": [
    "smote_df.info()"
   ]
  },
  {
   "cell_type": "code",
   "execution_count": 15,
   "id": "c2f175fa-75d1-4c12-a2c5-019030f89dae",
   "metadata": {},
   "outputs": [],
   "source": [
    "# Saving oversampled data to excel\n",
    "smote_df.to_excel(\"../../data/raw/Smote.xlsx\", index=False)"
   ]
  },
  {
   "cell_type": "code",
   "execution_count": 16,
   "id": "d8fc5803-61c5-433a-92f1-024f9690fb57",
   "metadata": {},
   "outputs": [
    {
     "data": {
      "text/plain": [
       "(2883, 53)"
      ]
     },
     "execution_count": 16,
     "metadata": {},
     "output_type": "execute_result"
    }
   ],
   "source": [
    "# Load sample data from excel\n",
    "api_smote_df = pd.read_excel(\"../../data/raw/Smote.xlsx\")\n",
    "api_smote_df.shape"
   ]
  },
  {
   "cell_type": "code",
   "execution_count": null,
   "id": "72578d52-7a46-44ae-a431-ece843b5bbe4",
   "metadata": {},
   "outputs": [],
   "source": []
  }
 ],
 "metadata": {
  "kernelspec": {
   "display_name": "Python 3 (ipykernel)",
   "language": "python",
   "name": "python3"
  },
  "language_info": {
   "codemirror_mode": {
    "name": "ipython",
    "version": 3
   },
   "file_extension": ".py",
   "mimetype": "text/x-python",
   "name": "python",
   "nbconvert_exporter": "python",
   "pygments_lexer": "ipython3",
   "version": "3.9.7"
  }
 },
 "nbformat": 4,
 "nbformat_minor": 5
}
