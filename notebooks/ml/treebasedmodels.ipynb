{
 "cells": [
  {
   "cell_type": "markdown",
   "id": "d5cd4610-90c2-40b4-b335-cd6bd7d89874",
   "metadata": {},
   "source": [
    "# Supervised Learning"
   ]
  },
  {
   "cell_type": "markdown",
   "id": "d42a99e7-a655-4633-a3d8-165bb3dee67c",
   "metadata": {},
   "source": [
    "In this notebook, we are going to attempt different tree-based supervised learning models. They are:\n",
    "- Decision Tree\n",
    "- Random Forest\n",
    "- CatBoost\n",
    "- XGBoost\n",
    "- LGMB"
   ]
  },
  {
   "cell_type": "markdown",
   "id": "cb7e8df3-d424-4eb1-b331-33b512266700",
   "metadata": {},
   "source": [
    "**Things to look into:**\n",
    "- Why is the model so perfect?\n",
    "- Is there something we are missing?\n",
    "**Things to do:**\n",
    "- edit the scoring metric to include recall and f1 (note: need to adjust it since our classification is multiclass)"
   ]
  },
  {
   "cell_type": "markdown",
   "id": "4e9e057d-3ed2-448f-bd0d-a0c6d9741348",
   "metadata": {},
   "source": [
    "# Load in the Dataset + Packages"
   ]
  },
  {
   "cell_type": "code",
   "execution_count": 41,
   "id": "3e97540f-466c-44f9-880e-622e48e0ec82",
   "metadata": {},
   "outputs": [],
   "source": [
    "# pip install graphviz\n",
    "import sklearn\n",
    "import graphviz \n",
    "from sklearn import tree\n",
    "from sklearn.dummy import DummyClassifier\n",
    "from sklearn.tree import DecisionTreeClassifier\n",
    "from sklearn.ensemble import RandomForestClassifier\n",
    "from sklearn import metrics\n",
    "from catboost import CatBoostClassifier\n",
    "from lightgbm.sklearn import LGBMClassifier\n",
    "from xgboost import XGBClassifier\n",
    "from sklearn.preprocessing import StandardScaler\n",
    "from sklearn.metrics import ConfusionMatrixDisplay, classification_report\n",
    "from sklearn.model_selection import (\n",
    "    GridSearchCV,\n",
    "    RandomizedSearchCV,\n",
    "    cross_val_score,\n",
    "    cross_validate,\n",
    "    train_test_split,\n",
    ")\n",
    "import pandas as pd\n",
    "import matplotlib.pyplot as plt\n",
    "import numpy as np"
   ]
  },
  {
   "cell_type": "code",
   "execution_count": 42,
   "id": "5a876d6e-795d-4ffd-8071-2208140abc2d",
   "metadata": {},
   "outputs": [],
   "source": [
    "#dataset\n",
    "# df = pd.read_excel(\"df_full_clean.xlsx\", usecols = \"A:BB\")\n",
    "df = pd.read_excel(\n",
    "    \"../../data/processed/smote.xlsx\", usecols=\"A:BA\")\n",
    "\n",
    "\n",
    "#imputation of NRI score with mean value\n",
    "df['NRI score'] = df['NRI score'].replace(0, np.NaN)\n",
    "df['NRI score'] = df['NRI score'].replace(np.NaN, df['NRI score'].mean())"
   ]
  },
  {
   "cell_type": "code",
   "execution_count": 43,
   "id": "e149f965-4b28-496b-bfbe-4348a2daacf9",
   "metadata": {},
   "outputs": [
    {
     "data": {
      "text/plain": [
       "77.85181533974607"
      ]
     },
     "execution_count": 43,
     "metadata": {},
     "output_type": "execute_result"
    }
   ],
   "source": [
    "df['NRI score'].mean()"
   ]
  },
  {
   "cell_type": "code",
   "execution_count": 44,
   "id": "40fd8a70-af36-4908-b325-f9add13710fd",
   "metadata": {},
   "outputs": [
    {
     "data": {
      "text/plain": [
       "array([77.85001289, 76.47961345, 81.0898203 , 49.7445967 , 72.25504781,\n",
       "       40.92879163, 74.96251911, 78.94535536, 74.79074367, 82.06163752,\n",
       "       80.01442087, 73.78914787, 76.59818693, 69.942859  , 77.24993597,\n",
       "       76.58416771, 79.04332849, 76.62530199, 77.83817367, 77.588241  ,\n",
       "       77.09374366, 78.71390676, 76.94896008, 76.89348655, 79.75262894,\n",
       "       77.35887811, 76.75315358, 77.45234348, 77.11060515, 80.71599687,\n",
       "       76.90927973, 77.74246448, 77.37730753, 80.09257354, 76.7838171 ,\n",
       "       79.64092872, 76.72198351, 77.524824  , 77.76996464, 76.6739419 ,\n",
       "       77.76159626, 79.47841328, 79.67321985, 77.57594077, 77.47867463,\n",
       "       80.77442358, 76.84378847, 77.78457144, 76.70415405, 77.22144784,\n",
       "       78.56509762, 78.47608348, 77.36137967, 77.1229458 , 79.81577545,\n",
       "       76.76759618, 76.50167338, 80.9397677 , 76.9150306 , 76.64922443,\n",
       "       79.75372224, 76.9570211 , 77.6727851 , 77.66679296, 77.78158096,\n",
       "       77.61495824, 77.69023918, 77.32279653, 77.84891721, 77.31091102,\n",
       "       76.65106473, 77.41420845, 80.0572359 , 79.16930452, 77.64410597,\n",
       "       77.13379576, 77.31450874, 80.9196652 , 78.99248328, 77.46310995,\n",
       "       77.81486261, 77.40788676, 76.95004583, 77.35357269, 80.65754917,\n",
       "       77.67050123, 76.55217435, 77.14438694, 79.23637714, 79.06381676,\n",
       "       76.81585155, 77.07940235, 79.28603515, 76.75561791, 80.03670271,\n",
       "       78.46804821, 77.04062037, 77.27767115, 76.73520391, 80.95036122,\n",
       "       77.09137305, 77.02649492, 77.68146076, 77.78295981, 78.6780173 ,\n",
       "       76.93632848, 77.15128878, 77.61406486, 79.25046066, 80.77180475,\n",
       "       77.00483815, 77.42466274, 77.65550731, 79.16771387, 78.505247  ,\n",
       "       76.58890065, 80.45171587, 77.83045214, 77.45445029, 77.89746204,\n",
       "       77.74735763, 77.20631479, 77.50354838, 77.25682794, 77.04817882,\n",
       "       77.17037706, 77.46050669, 78.13068385, 79.47132682, 76.92873046,\n",
       "       80.24655767, 76.69289255, 77.06746417, 80.97665911, 78.76057438,\n",
       "       77.67769017, 76.73056469, 77.65034074, 80.72536425, 77.63908057,\n",
       "       76.70130951, 76.55214688, 76.7323252 , 77.78310231, 80.66576062,\n",
       "       79.92576906, 78.55015669, 77.20000126, 76.79672906, 79.17980272,\n",
       "       79.9466099 , 77.1775939 , 79.48671162, 77.28694532, 80.37930222,\n",
       "       76.73968156, 77.45501273, 77.34372975, 77.118352  , 77.1861278 ,\n",
       "       76.55992184, 77.27342918, 77.28711256, 77.28058066, 76.75731209,\n",
       "       77.51240432, 78.68871912, 77.91484062, 77.21273001, 77.51606212,\n",
       "       78.0297898 , 80.25453645, 79.80291801, 77.06333527, 77.06991709,\n",
       "       77.50896543, 76.96996679, 80.86556059, 78.50506501, 78.45610207,\n",
       "       76.77744113, 77.40149514, 80.03101234, 80.54510386, 77.4041344 ,\n",
       "       76.68636272, 77.08575281, 76.6005797 , 76.88567602, 77.80150876,\n",
       "       79.08837068, 79.94828406, 80.74780368, 76.97826006, 79.85247858,\n",
       "       76.76497334, 77.8328617 , 77.11424743, 76.9948666 , 77.4499946 ,\n",
       "       78.25244141, 77.58484833, 80.25142524, 76.99196738, 76.94286164,\n",
       "       76.81994685, 77.40812148, 77.74740918, 77.67652744, 77.38383248,\n",
       "       77.1228887 , 76.54567982, 76.57135379, 81.05349068, 77.77211324,\n",
       "       77.19064519, 77.06746783, 77.04954839, 76.56442047, 78.66248352,\n",
       "       76.5620389 , 77.6821622 , 77.19175128, 76.70296024, 77.67792503,\n",
       "       80.86732482, 77.4249331 , 78.01498861, 77.43292475, 77.95323947,\n",
       "       77.76988169, 77.3966274 , 80.88358859, 77.53593243, 76.53816241,\n",
       "       78.96164346, 76.9565782 , 76.78810279, 79.76186044, 80.13263657,\n",
       "       79.05997746, 77.55020573, 76.96319371, 76.91410965, 77.09638038,\n",
       "       80.44384458, 76.65378138, 80.54989695, 76.71130514, 76.96699861,\n",
       "       77.66102177, 77.10940187, 78.61795232, 77.9679691 , 76.69762274,\n",
       "       76.5668157 , 77.83861186, 80.03779332, 76.54217717, 79.87917631,\n",
       "       80.01449941, 77.58507103, 77.10671077, 77.99760428, 77.18690415,\n",
       "       76.8468191 , 80.82469122, 80.12071752, 77.40204696, 77.77224075,\n",
       "       77.25641321, 77.66990739, 79.44138533, 76.64859493, 77.33643484,\n",
       "       78.43603402, 79.2896884 , 81.03136598, 76.55402651, 76.95902904,\n",
       "       78.08494681, 77.24851571, 78.86876875, 76.48661223, 77.0699409 ,\n",
       "       76.47984037, 78.19396411, 79.51262546, 77.0350193 , 80.83128099,\n",
       "       79.9021681 , 80.37302023, 80.05630485, 76.8979425 , 80.05063803,\n",
       "       76.71372254, 76.88549374, 76.48171086, 77.81254145, 76.98692402,\n",
       "       79.38930022, 77.53323386, 77.00843583, 78.77225936, 77.84737111,\n",
       "       76.71697586, 77.63502848, 77.04226498, 77.45786189, 77.07472502,\n",
       "       76.96189418, 79.04821887, 76.65273704, 76.7492873 , 77.20915434,\n",
       "       76.98090094, 80.22599201, 76.85034887, 77.11190389, 77.71870313,\n",
       "       78.19268008, 76.686972  , 77.03670642, 77.5305395 , 77.44012165,\n",
       "       77.04291307, 77.18397856, 77.74249923, 77.3810896 , 77.08314769,\n",
       "       77.37166191, 77.62816524, 77.84887299, 77.51606881, 76.62615355,\n",
       "       77.58218006, 76.89768767, 77.57044353, 78.48291682, 76.68601803,\n",
       "       77.09114752, 79.4899341 , 76.5966684 , 78.10920118, 77.00575122,\n",
       "       79.58381654, 77.46292691, 76.7149587 , 76.69956897, 80.50934998,\n",
       "       79.90749583, 77.73415186, 77.08141428, 81.08006853, 77.35356103,\n",
       "       76.50813422, 76.70056827, 77.59718855, 77.08983597, 77.47234666,\n",
       "       77.82007873, 80.12357475, 76.60960555, 79.43043456, 77.65749895,\n",
       "       76.51063341, 76.7599995 , 77.28692036, 77.70531128, 76.49157083,\n",
       "       79.91971993, 79.79590054, 78.9108812 , 76.54390896, 77.80735411,\n",
       "       80.80318111, 77.36020199, 80.53507179, 77.08718099, 80.89834631,\n",
       "       79.50261798, 79.7071666 , 77.64337319, 76.91346674, 80.76445544,\n",
       "       77.84690915, 76.99306295, 77.71394803, 76.85702148, 77.3655432 ,\n",
       "       77.25975794, 77.13900665, 79.5519989 , 79.1275589 , 77.64587799,\n",
       "       77.72928156, 77.44034442, 76.98000266, 77.44909902, 76.55491515,\n",
       "       79.90833471, 77.71061614, 77.11882639, 77.48379603, 78.91902333,\n",
       "       77.53345851, 80.36534482, 77.35496816, 76.65666114, 80.29791631,\n",
       "       76.96647179, 78.74181825, 77.200184  , 78.9848073 , 76.59879928,\n",
       "       76.57010174, 80.19330925, 78.53796961, 76.59582008, 76.83326435,\n",
       "       77.46495505, 77.16478403, 77.42870705, 77.24913794, 77.67697712,\n",
       "       76.49962669, 77.33501439, 76.65449647, 77.94104591, 76.48174839,\n",
       "       76.97708751, 81.00987226, 77.22138647, 77.36467795, 76.64169847,\n",
       "       77.03120254, 80.16481654, 76.72972923, 80.64481641, 77.16457564,\n",
       "       77.17122879, 77.75823404, 78.86615299, 78.92612281, 77.43200579,\n",
       "       77.62334869, 76.55477695, 78.30219662, 76.97378906, 78.88545763,\n",
       "       80.13309608, 76.87636973, 77.3950073 , 77.5093971 , 79.70320561,\n",
       "       77.54867736, 77.05527667, 78.03288869, 80.18323497, 77.1188629 ,\n",
       "       76.74701593, 79.17941699, 76.63123833, 80.39193099, 77.7605437 ,\n",
       "       77.81863194, 77.66078108, 77.61802016, 77.27225296, 77.94041015,\n",
       "       76.51472624, 76.73863532, 76.95056423, 77.46117798, 77.68414055,\n",
       "       77.0115437 , 76.95927755, 78.44633282, 80.5969341 , 79.78378797,\n",
       "       80.39174141, 76.6203446 , 79.04997291, 76.69401415, 77.80980932,\n",
       "       76.55163654, 77.49983747, 76.58920298, 77.61589652, 76.65448629,\n",
       "       77.12732338, 79.89955137, 78.53545967, 76.78197434, 77.80499006,\n",
       "       80.58897284, 77.83219586])"
      ]
     },
     "execution_count": 44,
     "metadata": {},
     "output_type": "execute_result"
    }
   ],
   "source": [
    "df['NRI score'].unique()"
   ]
  },
  {
   "cell_type": "code",
   "execution_count": 45,
   "id": "4a9bc46a-8397-454b-882f-9e92cbc48ad6",
   "metadata": {},
   "outputs": [
    {
     "data": {
      "text/plain": [
       "0          Low\n",
       "1          Low\n",
       "2       Medium\n",
       "3          Low\n",
       "4          Low\n",
       "         ...  \n",
       "1978       Low\n",
       "1979       Low\n",
       "1980       Low\n",
       "1981       Low\n",
       "1982       Low\n",
       "Name: Risk_Label, Length: 1983, dtype: category\n",
       "Categories (3, object): ['High', 'Low', 'Medium']"
      ]
     },
     "execution_count": 45,
     "metadata": {},
     "output_type": "execute_result"
    }
   ],
   "source": [
    "df['Risk_Label'] = df['Risk_Label'].astype('category')\n",
    "df['Risk_Label']"
   ]
  },
  {
   "cell_type": "code",
   "execution_count": 46,
   "id": "fc3f12bc-b1e4-4f95-ae90-efa0444930cb",
   "metadata": {},
   "outputs": [],
   "source": [
    "# dropped security_test_category\n",
    "X = df.drop(columns = ['Risk_Label'])\n",
    "y = df['Risk_Label']\n",
    "\n",
    "X_train, X_test, y_train, y_test = train_test_split(X, y, test_size=0.2)"
   ]
  },
  {
   "cell_type": "code",
   "execution_count": 47,
   "id": "48854ec9-bb35-44ef-a243-0a64c2e39cda",
   "metadata": {},
   "outputs": [
    {
     "data": {
      "text/html": [
       "<div>\n",
       "<style scoped>\n",
       "    .dataframe tbody tr th:only-of-type {\n",
       "        vertical-align: middle;\n",
       "    }\n",
       "\n",
       "    .dataframe tbody tr th {\n",
       "        vertical-align: top;\n",
       "    }\n",
       "\n",
       "    .dataframe thead th {\n",
       "        text-align: right;\n",
       "    }\n",
       "</style>\n",
       "<table border=\"1\" class=\"dataframe\">\n",
       "  <thead>\n",
       "    <tr style=\"text-align: right;\">\n",
       "      <th></th>\n",
       "      <th>is_pii</th>\n",
       "      <th>is_fii</th>\n",
       "      <th>NRI score</th>\n",
       "      <th>authentication_processed</th>\n",
       "      <th>usage_base_processed</th>\n",
       "      <th>AI &amp; Data Science</th>\n",
       "      <th>Business &amp; Technology</th>\n",
       "      <th>Environment &amp; Weather</th>\n",
       "      <th>Finance &amp; Banking</th>\n",
       "      <th>GeoInformatics &amp; Navigation</th>\n",
       "      <th>...</th>\n",
       "      <th>referrer-policy</th>\n",
       "      <th>content-type</th>\n",
       "      <th>set-cookie</th>\n",
       "      <th>access-control-allow-origin</th>\n",
       "      <th>server</th>\n",
       "      <th>x-powered-by</th>\n",
       "      <th>x-aspnet-version</th>\n",
       "      <th>x-ratelimit-limit</th>\n",
       "      <th>metadata_fields_count</th>\n",
       "      <th>parameters_count</th>\n",
       "    </tr>\n",
       "  </thead>\n",
       "  <tbody>\n",
       "    <tr>\n",
       "      <th>1145</th>\n",
       "      <td>False</td>\n",
       "      <td>False</td>\n",
       "      <td>77.850013</td>\n",
       "      <td>1</td>\n",
       "      <td>2</td>\n",
       "      <td>1</td>\n",
       "      <td>0</td>\n",
       "      <td>0</td>\n",
       "      <td>0</td>\n",
       "      <td>0</td>\n",
       "      <td>...</td>\n",
       "      <td>0</td>\n",
       "      <td>1</td>\n",
       "      <td>1</td>\n",
       "      <td>1</td>\n",
       "      <td>1</td>\n",
       "      <td>0</td>\n",
       "      <td>0</td>\n",
       "      <td>0</td>\n",
       "      <td>4</td>\n",
       "      <td>1</td>\n",
       "    </tr>\n",
       "    <tr>\n",
       "      <th>851</th>\n",
       "      <td>True</td>\n",
       "      <td>False</td>\n",
       "      <td>77.850013</td>\n",
       "      <td>1</td>\n",
       "      <td>2</td>\n",
       "      <td>0</td>\n",
       "      <td>0</td>\n",
       "      <td>0</td>\n",
       "      <td>0</td>\n",
       "      <td>0</td>\n",
       "      <td>...</td>\n",
       "      <td>0</td>\n",
       "      <td>0</td>\n",
       "      <td>0</td>\n",
       "      <td>1</td>\n",
       "      <td>1</td>\n",
       "      <td>0</td>\n",
       "      <td>0</td>\n",
       "      <td>0</td>\n",
       "      <td>3</td>\n",
       "      <td>2</td>\n",
       "    </tr>\n",
       "    <tr>\n",
       "      <th>1738</th>\n",
       "      <td>True</td>\n",
       "      <td>True</td>\n",
       "      <td>77.850013</td>\n",
       "      <td>1</td>\n",
       "      <td>2</td>\n",
       "      <td>0</td>\n",
       "      <td>0</td>\n",
       "      <td>0</td>\n",
       "      <td>0</td>\n",
       "      <td>0</td>\n",
       "      <td>...</td>\n",
       "      <td>0</td>\n",
       "      <td>0</td>\n",
       "      <td>0</td>\n",
       "      <td>0</td>\n",
       "      <td>0</td>\n",
       "      <td>0</td>\n",
       "      <td>0</td>\n",
       "      <td>0</td>\n",
       "      <td>0</td>\n",
       "      <td>0</td>\n",
       "    </tr>\n",
       "    <tr>\n",
       "      <th>1433</th>\n",
       "      <td>True</td>\n",
       "      <td>True</td>\n",
       "      <td>80.950361</td>\n",
       "      <td>1</td>\n",
       "      <td>2</td>\n",
       "      <td>0</td>\n",
       "      <td>0</td>\n",
       "      <td>0</td>\n",
       "      <td>0</td>\n",
       "      <td>0</td>\n",
       "      <td>...</td>\n",
       "      <td>0</td>\n",
       "      <td>0</td>\n",
       "      <td>0</td>\n",
       "      <td>0</td>\n",
       "      <td>0</td>\n",
       "      <td>0</td>\n",
       "      <td>0</td>\n",
       "      <td>0</td>\n",
       "      <td>2</td>\n",
       "      <td>2</td>\n",
       "    </tr>\n",
       "    <tr>\n",
       "      <th>1881</th>\n",
       "      <td>True</td>\n",
       "      <td>True</td>\n",
       "      <td>76.977088</td>\n",
       "      <td>1</td>\n",
       "      <td>2</td>\n",
       "      <td>0</td>\n",
       "      <td>0</td>\n",
       "      <td>0</td>\n",
       "      <td>0</td>\n",
       "      <td>0</td>\n",
       "      <td>...</td>\n",
       "      <td>0</td>\n",
       "      <td>0</td>\n",
       "      <td>0</td>\n",
       "      <td>0</td>\n",
       "      <td>0</td>\n",
       "      <td>0</td>\n",
       "      <td>0</td>\n",
       "      <td>0</td>\n",
       "      <td>1</td>\n",
       "      <td>1</td>\n",
       "    </tr>\n",
       "    <tr>\n",
       "      <th>...</th>\n",
       "      <td>...</td>\n",
       "      <td>...</td>\n",
       "      <td>...</td>\n",
       "      <td>...</td>\n",
       "      <td>...</td>\n",
       "      <td>...</td>\n",
       "      <td>...</td>\n",
       "      <td>...</td>\n",
       "      <td>...</td>\n",
       "      <td>...</td>\n",
       "      <td>...</td>\n",
       "      <td>...</td>\n",
       "      <td>...</td>\n",
       "      <td>...</td>\n",
       "      <td>...</td>\n",
       "      <td>...</td>\n",
       "      <td>...</td>\n",
       "      <td>...</td>\n",
       "      <td>...</td>\n",
       "      <td>...</td>\n",
       "      <td>...</td>\n",
       "    </tr>\n",
       "    <tr>\n",
       "      <th>1739</th>\n",
       "      <td>True</td>\n",
       "      <td>True</td>\n",
       "      <td>77.042913</td>\n",
       "      <td>1</td>\n",
       "      <td>2</td>\n",
       "      <td>0</td>\n",
       "      <td>0</td>\n",
       "      <td>0</td>\n",
       "      <td>0</td>\n",
       "      <td>0</td>\n",
       "      <td>...</td>\n",
       "      <td>0</td>\n",
       "      <td>0</td>\n",
       "      <td>0</td>\n",
       "      <td>0</td>\n",
       "      <td>0</td>\n",
       "      <td>0</td>\n",
       "      <td>0</td>\n",
       "      <td>0</td>\n",
       "      <td>1</td>\n",
       "      <td>1</td>\n",
       "    </tr>\n",
       "    <tr>\n",
       "      <th>278</th>\n",
       "      <td>False</td>\n",
       "      <td>False</td>\n",
       "      <td>77.850013</td>\n",
       "      <td>1</td>\n",
       "      <td>2</td>\n",
       "      <td>0</td>\n",
       "      <td>0</td>\n",
       "      <td>0</td>\n",
       "      <td>0</td>\n",
       "      <td>1</td>\n",
       "      <td>...</td>\n",
       "      <td>0</td>\n",
       "      <td>0</td>\n",
       "      <td>0</td>\n",
       "      <td>0</td>\n",
       "      <td>1</td>\n",
       "      <td>1</td>\n",
       "      <td>1</td>\n",
       "      <td>0</td>\n",
       "      <td>4</td>\n",
       "      <td>2</td>\n",
       "    </tr>\n",
       "    <tr>\n",
       "      <th>1582</th>\n",
       "      <td>True</td>\n",
       "      <td>True</td>\n",
       "      <td>76.571354</td>\n",
       "      <td>1</td>\n",
       "      <td>2</td>\n",
       "      <td>0</td>\n",
       "      <td>0</td>\n",
       "      <td>0</td>\n",
       "      <td>0</td>\n",
       "      <td>0</td>\n",
       "      <td>...</td>\n",
       "      <td>0</td>\n",
       "      <td>0</td>\n",
       "      <td>0</td>\n",
       "      <td>0</td>\n",
       "      <td>0</td>\n",
       "      <td>0</td>\n",
       "      <td>0</td>\n",
       "      <td>0</td>\n",
       "      <td>2</td>\n",
       "      <td>1</td>\n",
       "    </tr>\n",
       "    <tr>\n",
       "      <th>444</th>\n",
       "      <td>True</td>\n",
       "      <td>False</td>\n",
       "      <td>77.850013</td>\n",
       "      <td>1</td>\n",
       "      <td>2</td>\n",
       "      <td>0</td>\n",
       "      <td>0</td>\n",
       "      <td>0</td>\n",
       "      <td>0</td>\n",
       "      <td>0</td>\n",
       "      <td>...</td>\n",
       "      <td>0</td>\n",
       "      <td>0</td>\n",
       "      <td>1</td>\n",
       "      <td>0</td>\n",
       "      <td>1</td>\n",
       "      <td>1</td>\n",
       "      <td>1</td>\n",
       "      <td>0</td>\n",
       "      <td>5</td>\n",
       "      <td>0</td>\n",
       "    </tr>\n",
       "    <tr>\n",
       "      <th>1566</th>\n",
       "      <td>True</td>\n",
       "      <td>True</td>\n",
       "      <td>77.449995</td>\n",
       "      <td>1</td>\n",
       "      <td>2</td>\n",
       "      <td>0</td>\n",
       "      <td>0</td>\n",
       "      <td>0</td>\n",
       "      <td>0</td>\n",
       "      <td>0</td>\n",
       "      <td>...</td>\n",
       "      <td>0</td>\n",
       "      <td>0</td>\n",
       "      <td>0</td>\n",
       "      <td>0</td>\n",
       "      <td>0</td>\n",
       "      <td>0</td>\n",
       "      <td>0</td>\n",
       "      <td>0</td>\n",
       "      <td>0</td>\n",
       "      <td>0</td>\n",
       "    </tr>\n",
       "  </tbody>\n",
       "</table>\n",
       "<p>1586 rows × 52 columns</p>\n",
       "</div>"
      ],
      "text/plain": [
       "      is_pii  is_fii  NRI score  authentication_processed  \\\n",
       "1145   False   False  77.850013                         1   \n",
       "851     True   False  77.850013                         1   \n",
       "1738    True    True  77.850013                         1   \n",
       "1433    True    True  80.950361                         1   \n",
       "1881    True    True  76.977088                         1   \n",
       "...      ...     ...        ...                       ...   \n",
       "1739    True    True  77.042913                         1   \n",
       "278    False   False  77.850013                         1   \n",
       "1582    True    True  76.571354                         1   \n",
       "444     True   False  77.850013                         1   \n",
       "1566    True    True  77.449995                         1   \n",
       "\n",
       "      usage_base_processed  AI & Data Science  Business & Technology  \\\n",
       "1145                     2                  1                      0   \n",
       "851                      2                  0                      0   \n",
       "1738                     2                  0                      0   \n",
       "1433                     2                  0                      0   \n",
       "1881                     2                  0                      0   \n",
       "...                    ...                ...                    ...   \n",
       "1739                     2                  0                      0   \n",
       "278                      2                  0                      0   \n",
       "1582                     2                  0                      0   \n",
       "444                      2                  0                      0   \n",
       "1566                     2                  0                      0   \n",
       "\n",
       "      Environment & Weather  Finance & Banking  GeoInformatics & Navigation  \\\n",
       "1145                      0                  0                            0   \n",
       "851                       0                  0                            0   \n",
       "1738                      0                  0                            0   \n",
       "1433                      0                  0                            0   \n",
       "1881                      0                  0                            0   \n",
       "...                     ...                ...                          ...   \n",
       "1739                      0                  0                            0   \n",
       "278                       0                  0                            1   \n",
       "1582                      0                  0                            0   \n",
       "444                       0                  0                            0   \n",
       "1566                      0                  0                            0   \n",
       "\n",
       "      ...  referrer-policy  content-type  set-cookie  \\\n",
       "1145  ...                0             1           1   \n",
       "851   ...                0             0           0   \n",
       "1738  ...                0             0           0   \n",
       "1433  ...                0             0           0   \n",
       "1881  ...                0             0           0   \n",
       "...   ...              ...           ...         ...   \n",
       "1739  ...                0             0           0   \n",
       "278   ...                0             0           0   \n",
       "1582  ...                0             0           0   \n",
       "444   ...                0             0           1   \n",
       "1566  ...                0             0           0   \n",
       "\n",
       "      access-control-allow-origin  server  x-powered-by  x-aspnet-version  \\\n",
       "1145                            1       1             0                 0   \n",
       "851                             1       1             0                 0   \n",
       "1738                            0       0             0                 0   \n",
       "1433                            0       0             0                 0   \n",
       "1881                            0       0             0                 0   \n",
       "...                           ...     ...           ...               ...   \n",
       "1739                            0       0             0                 0   \n",
       "278                             0       1             1                 1   \n",
       "1582                            0       0             0                 0   \n",
       "444                             0       1             1                 1   \n",
       "1566                            0       0             0                 0   \n",
       "\n",
       "      x-ratelimit-limit  metadata_fields_count  parameters_count  \n",
       "1145                  0                      4                 1  \n",
       "851                   0                      3                 2  \n",
       "1738                  0                      0                 0  \n",
       "1433                  0                      2                 2  \n",
       "1881                  0                      1                 1  \n",
       "...                 ...                    ...               ...  \n",
       "1739                  0                      1                 1  \n",
       "278                   0                      4                 2  \n",
       "1582                  0                      2                 1  \n",
       "444                   0                      5                 0  \n",
       "1566                  0                      0                 0  \n",
       "\n",
       "[1586 rows x 52 columns]"
      ]
     },
     "execution_count": 47,
     "metadata": {},
     "output_type": "execute_result"
    }
   ],
   "source": [
    "X_train"
   ]
  },
  {
   "cell_type": "code",
   "execution_count": 48,
   "id": "5bdd9d22-3459-4b8e-844b-042c8d8d996c",
   "metadata": {},
   "outputs": [
    {
     "data": {
      "text/html": [
       "<style>#sk-container-id-3 {color: black;background-color: white;}#sk-container-id-3 pre{padding: 0;}#sk-container-id-3 div.sk-toggleable {background-color: white;}#sk-container-id-3 label.sk-toggleable__label {cursor: pointer;display: block;width: 100%;margin-bottom: 0;padding: 0.3em;box-sizing: border-box;text-align: center;}#sk-container-id-3 label.sk-toggleable__label-arrow:before {content: \"▸\";float: left;margin-right: 0.25em;color: #696969;}#sk-container-id-3 label.sk-toggleable__label-arrow:hover:before {color: black;}#sk-container-id-3 div.sk-estimator:hover label.sk-toggleable__label-arrow:before {color: black;}#sk-container-id-3 div.sk-toggleable__content {max-height: 0;max-width: 0;overflow: hidden;text-align: left;background-color: #f0f8ff;}#sk-container-id-3 div.sk-toggleable__content pre {margin: 0.2em;color: black;border-radius: 0.25em;background-color: #f0f8ff;}#sk-container-id-3 input.sk-toggleable__control:checked~div.sk-toggleable__content {max-height: 200px;max-width: 100%;overflow: auto;}#sk-container-id-3 input.sk-toggleable__control:checked~label.sk-toggleable__label-arrow:before {content: \"▾\";}#sk-container-id-3 div.sk-estimator input.sk-toggleable__control:checked~label.sk-toggleable__label {background-color: #d4ebff;}#sk-container-id-3 div.sk-label input.sk-toggleable__control:checked~label.sk-toggleable__label {background-color: #d4ebff;}#sk-container-id-3 input.sk-hidden--visually {border: 0;clip: rect(1px 1px 1px 1px);clip: rect(1px, 1px, 1px, 1px);height: 1px;margin: -1px;overflow: hidden;padding: 0;position: absolute;width: 1px;}#sk-container-id-3 div.sk-estimator {font-family: monospace;background-color: #f0f8ff;border: 1px dotted black;border-radius: 0.25em;box-sizing: border-box;margin-bottom: 0.5em;}#sk-container-id-3 div.sk-estimator:hover {background-color: #d4ebff;}#sk-container-id-3 div.sk-parallel-item::after {content: \"\";width: 100%;border-bottom: 1px solid gray;flex-grow: 1;}#sk-container-id-3 div.sk-label:hover label.sk-toggleable__label {background-color: #d4ebff;}#sk-container-id-3 div.sk-serial::before {content: \"\";position: absolute;border-left: 1px solid gray;box-sizing: border-box;top: 0;bottom: 0;left: 50%;z-index: 0;}#sk-container-id-3 div.sk-serial {display: flex;flex-direction: column;align-items: center;background-color: white;padding-right: 0.2em;padding-left: 0.2em;position: relative;}#sk-container-id-3 div.sk-item {position: relative;z-index: 1;}#sk-container-id-3 div.sk-parallel {display: flex;align-items: stretch;justify-content: center;background-color: white;position: relative;}#sk-container-id-3 div.sk-item::before, #sk-container-id-3 div.sk-parallel-item::before {content: \"\";position: absolute;border-left: 1px solid gray;box-sizing: border-box;top: 0;bottom: 0;left: 50%;z-index: -1;}#sk-container-id-3 div.sk-parallel-item {display: flex;flex-direction: column;z-index: 1;position: relative;background-color: white;}#sk-container-id-3 div.sk-parallel-item:first-child::after {align-self: flex-end;width: 50%;}#sk-container-id-3 div.sk-parallel-item:last-child::after {align-self: flex-start;width: 50%;}#sk-container-id-3 div.sk-parallel-item:only-child::after {width: 0;}#sk-container-id-3 div.sk-dashed-wrapped {border: 1px dashed gray;margin: 0 0.4em 0.5em 0.4em;box-sizing: border-box;padding-bottom: 0.4em;background-color: white;}#sk-container-id-3 div.sk-label label {font-family: monospace;font-weight: bold;display: inline-block;line-height: 1.2em;}#sk-container-id-3 div.sk-label-container {text-align: center;}#sk-container-id-3 div.sk-container {/* jupyter's `normalize.less` sets `[hidden] { display: none; }` but bootstrap.min.css set `[hidden] { display: none !important; }` so we also need the `!important` here to be able to override the default hidden behavior on the sphinx rendered scikit-learn.org. See: https://github.com/scikit-learn/scikit-learn/issues/21755 */display: inline-block !important;position: relative;}#sk-container-id-3 div.sk-text-repr-fallback {display: none;}</style><div id=\"sk-container-id-3\" class=\"sk-top-container\"><div class=\"sk-text-repr-fallback\"><pre>StandardScaler()</pre><b>In a Jupyter environment, please rerun this cell to show the HTML representation or trust the notebook. <br />On GitHub, the HTML representation is unable to render, please try loading this page with nbviewer.org.</b></div><div class=\"sk-container\" hidden><div class=\"sk-item\"><div class=\"sk-estimator sk-toggleable\"><input class=\"sk-toggleable__control sk-hidden--visually\" id=\"sk-estimator-id-3\" type=\"checkbox\" checked><label for=\"sk-estimator-id-3\" class=\"sk-toggleable__label sk-toggleable__label-arrow\">StandardScaler</label><div class=\"sk-toggleable__content\"><pre>StandardScaler()</pre></div></div></div></div></div>"
      ],
      "text/plain": [
       "StandardScaler()"
      ]
     },
     "execution_count": 48,
     "metadata": {},
     "output_type": "execute_result"
    }
   ],
   "source": [
    "scaler = StandardScaler()\n",
    "scaler.fit(X_train)"
   ]
  },
  {
   "cell_type": "markdown",
   "id": "3f918c0f-36ec-4018-be04-162e8aebdc77",
   "metadata": {},
   "source": [
    "## 1. Decision Tree"
   ]
  },
  {
   "cell_type": "markdown",
   "id": "7b9d54f4-25f9-435c-a84a-895042cec188",
   "metadata": {},
   "source": [
    "### Basic Approach"
   ]
  },
  {
   "cell_type": "code",
   "execution_count": 49,
   "id": "19ff1762-a1ca-4a31-bde3-4def0167e59f",
   "metadata": {},
   "outputs": [],
   "source": [
    "# https://scikit-learn.org/stable/modules/generated/sklearn.tree.DecisionTreeClassifier.html\n",
    "clf = tree.DecisionTreeClassifier(random_state=37, max_depth = 6, criterion='gini')"
   ]
  },
  {
   "cell_type": "code",
   "execution_count": 50,
   "id": "dceee329-36ab-4ceb-b340-9fc5439dc2d5",
   "metadata": {},
   "outputs": [],
   "source": [
    "clf = clf.fit(X_train,y_train)"
   ]
  },
  {
   "cell_type": "code",
   "execution_count": 51,
   "id": "e68206be-9c26-4c08-9b6b-f34ec0702821",
   "metadata": {},
   "outputs": [
    {
     "data": {
      "text/plain": [
       "array(['Medium', 'Low', 'Low', 'Low', 'Medium', 'Low', 'Low', 'Medium',\n",
       "       'Low', 'High', 'High', 'High', 'Medium', 'Medium', 'Low', 'Medium',\n",
       "       'Medium', 'Medium', 'Low', 'High', 'Medium', 'Low', 'High',\n",
       "       'Medium', 'High', 'Low', 'High', 'High', 'Low', 'High', 'Medium',\n",
       "       'Medium', 'Medium', 'Medium', 'Low', 'Low', 'Medium', 'High',\n",
       "       'Low', 'Low', 'Low', 'Low', 'Medium', 'Medium', 'High', 'Low',\n",
       "       'High', 'High', 'Medium', 'Medium', 'Medium', 'High', 'Low',\n",
       "       'High', 'Low', 'Medium', 'High', 'High', 'Medium', 'High', 'Low',\n",
       "       'Low', 'Medium', 'Low', 'High', 'Low', 'High', 'Medium', 'High',\n",
       "       'Medium', 'Medium', 'High', 'Low', 'Low', 'Low', 'Medium',\n",
       "       'Medium', 'Medium', 'Medium', 'Low', 'High', 'Low', 'Medium',\n",
       "       'Low', 'Medium', 'High', 'Low', 'High', 'Low', 'Medium', 'Low',\n",
       "       'High', 'High', 'High', 'High', 'Medium', 'High', 'Low', 'High',\n",
       "       'High', 'High', 'Low', 'Low', 'Low', 'Low', 'Low', 'High',\n",
       "       'Medium', 'Medium', 'Low', 'High', 'High', 'Low', 'High', 'High',\n",
       "       'Medium', 'Low', 'High', 'Medium', 'Low', 'Medium', 'Low', 'High',\n",
       "       'Medium', 'Low', 'High', 'High', 'Low', 'High', 'High', 'Low',\n",
       "       'Medium', 'Medium', 'Low', 'Medium', 'Medium', 'Medium', 'High',\n",
       "       'High', 'Low', 'Medium', 'Medium', 'Low', 'High', 'Low', 'Medium',\n",
       "       'High', 'Medium', 'Medium', 'Low', 'Medium', 'Medium', 'High',\n",
       "       'Medium', 'Low', 'High', 'High', 'Low', 'High', 'High', 'High',\n",
       "       'High', 'Medium', 'Low', 'High', 'Low', 'High', 'Medium', 'Low',\n",
       "       'Medium', 'Medium', 'Low', 'Medium', 'Medium', 'Medium', 'Medium',\n",
       "       'Low', 'Medium', 'Medium', 'Medium', 'High', 'High', 'Low', 'Low',\n",
       "       'Low', 'High', 'Medium', 'Low', 'Low', 'High', 'High', 'Medium',\n",
       "       'Low', 'High', 'Low', 'Medium', 'High', 'Low', 'Low', 'Low',\n",
       "       'High', 'Medium', 'Medium', 'High', 'Medium', 'Low', 'Low',\n",
       "       'Medium', 'Medium', 'Medium', 'Medium', 'Low', 'Low', 'Low',\n",
       "       'High', 'Low', 'Medium', 'Low', 'High', 'Medium', 'Medium', 'High',\n",
       "       'High', 'Low', 'High', 'Medium', 'Low', 'Low', 'High', 'High',\n",
       "       'Low', 'High', 'Low', 'Medium', 'Medium', 'Low', 'Low', 'Medium',\n",
       "       'Low', 'High', 'Low', 'Medium', 'High', 'High', 'Low', 'High',\n",
       "       'Low', 'High', 'High', 'Low', 'Medium', 'Low', 'Medium', 'High',\n",
       "       'Medium', 'High', 'Medium', 'High', 'Medium', 'High', 'High',\n",
       "       'Medium', 'Low', 'High', 'Low', 'Medium', 'Medium', 'High',\n",
       "       'Medium', 'Low', 'Medium', 'Low', 'Medium', 'High', 'Low', 'High',\n",
       "       'Low', 'Medium', 'Medium', 'Medium', 'Low', 'Medium', 'Medium',\n",
       "       'Low', 'High', 'Medium', 'High', 'Medium', 'Medium', 'Low', 'Low',\n",
       "       'Low', 'Low', 'High', 'Low', 'High', 'Medium', 'High', 'High',\n",
       "       'High', 'Medium', 'Low', 'Medium', 'High', 'High', 'Medium',\n",
       "       'Medium', 'Low', 'Low', 'High', 'Low', 'High', 'High', 'Low',\n",
       "       'Medium', 'High', 'Low', 'Medium', 'High', 'Low', 'Low', 'Medium',\n",
       "       'High', 'Medium', 'High', 'Low', 'Medium', 'Medium', 'Low', 'Low',\n",
       "       'High', 'Medium', 'Medium', 'High', 'Medium', 'Low', 'High', 'Low',\n",
       "       'Medium', 'Low', 'Medium', 'High', 'Medium', 'Low', 'Low', 'High',\n",
       "       'Low', 'Low', 'Low', 'High', 'Medium', 'High', 'Low', 'Low',\n",
       "       'Medium', 'High', 'Medium', 'Medium', 'High', 'Low', 'High', 'Low',\n",
       "       'Low', 'Medium', 'Low', 'High', 'Low', 'High', 'Low', 'High',\n",
       "       'Low', 'Low', 'Medium', 'Medium', 'Medium', 'Medium', 'Low', 'Low',\n",
       "       'Medium', 'Medium', 'Medium', 'Medium', 'Low', 'Medium', 'Medium',\n",
       "       'Medium', 'Low', 'High', 'High', 'High', 'Low', 'Medium', 'Medium',\n",
       "       'Medium', 'Medium', 'Low', 'High'], dtype=object)"
      ]
     },
     "execution_count": 51,
     "metadata": {},
     "output_type": "execute_result"
    }
   ],
   "source": [
    "clf.predict(X_test)"
   ]
  },
  {
   "cell_type": "code",
   "execution_count": 52,
   "id": "c3fba8ca-845a-41f0-a15a-76c74f4c3727",
   "metadata": {},
   "outputs": [
    {
     "data": {
      "image/png": "[encoded data removed]",
      "text/plain": [
       "<Figure size 1800x864 with 1 Axes>"
      ]
     },
     "metadata": {
      "needs_background": "light"
     },
     "output_type": "display_data"
    }
   ],
   "source": [
    "# Visualise the tree\n",
    "fig, axes = plt.subplots(nrows = 1,ncols = 1, figsize=(25,12))\n",
    "fn = list(X_train)\n",
    "cn = list(y_train)\n",
    "tree.plot_tree(clf, \n",
    "              feature_names = fn,\n",
    "              class_names = cn,\n",
    "              fontsize=10,\n",
    "              filled=True)\n",
    "fig.savefig('trial.png')"
   ]
  },
  {
   "cell_type": "code",
   "execution_count": 53,
   "id": "3c2a42f4-e868-4e88-93ef-f7c94f388034",
   "metadata": {},
   "outputs": [
    {
     "data": {
      "image/svg+xml": "<?xml version=\"1.0\" encoding=\"UTF-8\" standalone=\"no\"?>\n<!DOCTYPE svg PUBLIC \"-//W3C//DTD SVG 1.1//EN\"\n \"http://www.w3.org/Graphics/SVG/1.1/DTD/svg11.dtd\">\n<!-- Generated by graphviz version 3.0.0 (20220226.1711)\n -->\n<!-- Title: Tree Pages: 1 -->\n<svg width=\"919pt\" height=\"552pt\"\n viewBox=\"0.00 0.00 918.50 552.00\" xmlns=\"http://www.w3.org/2000/svg\" xmlns:xlink=\"http://www.w3.org/1999/xlink\">\n<g id=\"graph0\" class=\"graph\" transform=\"scale(1 1) rotate(0) translate(4 548)\">\n<title>Tree</title>\n<polygon fill=\"white\" stroke=\"transparent\" points=\"-4,4 -4,-548 914.5,-548 914.5,4 -4,4\"/>\n<!-- 0 -->\n<g id=\"node1\" class=\"node\">\n<title>0</title>\n<polygon fill=\"#fffdfc\" stroke=\"black\" points=\"523.5,-544 368.5,-544 368.5,-461 523.5,-461 523.5,-544\"/>\n<text text-anchor=\"middle\" x=\"446\" y=\"-528.8\" font-family=\"Helvetica,sans-Serif\" font-size=\"14.00\">is_pii &lt;= 0.5</text>\n<text text-anchor=\"middle\" x=\"446\" y=\"-513.8\" font-family=\"Helvetica,sans-Serif\" font-size=\"14.00\">gini = 0.667</text>\n<text text-anchor=\"middle\" x=\"446\" y=\"-498.8\" font-family=\"Helvetica,sans-Serif\" font-size=\"14.00\">samples = 1586</text>\n<text text-anchor=\"middle\" x=\"446\" y=\"-483.8\" font-family=\"Helvetica,sans-Serif\" font-size=\"14.00\">value = [539, 523, 524]</text>\n<text text-anchor=\"middle\" x=\"446\" y=\"-468.8\" font-family=\"Helvetica,sans-Serif\" font-size=\"14.00\">class = Medium</text>\n</g>\n<!-- 1 -->\n<g id=\"node2\" class=\"node\">\n<title>1</title>\n<polygon fill=\"#975cea\" stroke=\"black\" points=\"437,-425 297,-425 297,-342 437,-342 437,-425\"/>\n<text text-anchor=\"middle\" x=\"367\" y=\"-409.8\" font-family=\"Helvetica,sans-Serif\" font-size=\"14.00\">x0_Missing &lt;= 0.5</text>\n<text text-anchor=\"middle\" x=\"367\" y=\"-394.8\" font-family=\"Helvetica,sans-Serif\" font-size=\"14.00\">gini = 0.263</text>\n<text text-anchor=\"middle\" x=\"367\" y=\"-379.8\" font-family=\"Helvetica,sans-Serif\" font-size=\"14.00\">samples = 618</text>\n<text text-anchor=\"middle\" x=\"367\" y=\"-364.8\" font-family=\"Helvetica,sans-Serif\" font-size=\"14.00\">value = [82, 12, 524]</text>\n<text text-anchor=\"middle\" x=\"367\" y=\"-349.8\" font-family=\"Helvetica,sans-Serif\" font-size=\"14.00\">class = High</text>\n</g>\n<!-- 0&#45;&gt;1 -->\n<g id=\"edge1\" class=\"edge\">\n<title>0&#45;&gt;1</title>\n<path fill=\"none\" stroke=\"black\" d=\"M418.59,-460.91C412.59,-452.01 406.17,-442.51 399.97,-433.33\"/>\n<polygon fill=\"black\" stroke=\"black\" points=\"402.86,-431.35 394.36,-425.02 397.06,-435.27 402.86,-431.35\"/>\n<text text-anchor=\"middle\" x=\"389.6\" y=\"-445.86\" font-family=\"Helvetica,sans-Serif\" font-size=\"14.00\">True</text>\n</g>\n<!-- 8 -->\n<g id=\"node9\" class=\"node\">\n<title>8</title>\n<polygon fill=\"#eafcf2\" stroke=\"black\" points=\"595,-425 455,-425 455,-342 595,-342 595,-425\"/>\n<text text-anchor=\"middle\" x=\"525\" y=\"-409.8\" font-family=\"Helvetica,sans-Serif\" font-size=\"14.00\">is_fii &lt;= 0.5</text>\n<text text-anchor=\"middle\" x=\"525\" y=\"-394.8\" font-family=\"Helvetica,sans-Serif\" font-size=\"14.00\">gini = 0.498</text>\n<text text-anchor=\"middle\" x=\"525\" y=\"-379.8\" font-family=\"Helvetica,sans-Serif\" font-size=\"14.00\">samples = 968</text>\n<text text-anchor=\"middle\" x=\"525\" y=\"-364.8\" font-family=\"Helvetica,sans-Serif\" font-size=\"14.00\">value = [457, 511, 0]</text>\n<text text-anchor=\"middle\" x=\"525\" y=\"-349.8\" font-family=\"Helvetica,sans-Serif\" font-size=\"14.00\">class = Low</text>\n</g>\n<!-- 0&#45;&gt;8 -->\n<g id=\"edge8\" class=\"edge\">\n<title>0&#45;&gt;8</title>\n<path fill=\"none\" stroke=\"black\" d=\"M473.41,-460.91C479.41,-452.01 485.83,-442.51 492.03,-433.33\"/>\n<polygon fill=\"black\" stroke=\"black\" points=\"494.94,-435.27 497.64,-425.02 489.14,-431.35 494.94,-435.27\"/>\n<text text-anchor=\"middle\" x=\"502.4\" y=\"-445.86\" font-family=\"Helvetica,sans-Serif\" font-size=\"14.00\">False</text>\n</g>\n<!-- 2 -->\n<g id=\"node3\" class=\"node\">\n<title>2</title>\n<polygon fill=\"#e68743\" stroke=\"black\" points=\"291.5,-306 78.5,-306 78.5,-223 291.5,-223 291.5,-306\"/>\n<text text-anchor=\"middle\" x=\"185\" y=\"-290.8\" font-family=\"Helvetica,sans-Serif\" font-size=\"14.00\">x0_Broken Authentication &lt;= 0.5</text>\n<text text-anchor=\"middle\" x=\"185\" y=\"-275.8\" font-family=\"Helvetica,sans-Serif\" font-size=\"14.00\">gini = 0.089</text>\n<text text-anchor=\"middle\" x=\"185\" y=\"-260.8\" font-family=\"Helvetica,sans-Serif\" font-size=\"14.00\">samples = 86</text>\n<text text-anchor=\"middle\" x=\"185\" y=\"-245.8\" font-family=\"Helvetica,sans-Serif\" font-size=\"14.00\">value = [82, 4, 0]</text>\n<text text-anchor=\"middle\" x=\"185\" y=\"-230.8\" font-family=\"Helvetica,sans-Serif\" font-size=\"14.00\">class = Medium</text>\n</g>\n<!-- 1&#45;&gt;2 -->\n<g id=\"edge2\" class=\"edge\">\n<title>1&#45;&gt;2</title>\n<path fill=\"none\" stroke=\"black\" d=\"M303.86,-341.91C288.61,-332.11 272.21,-321.56 256.61,-311.53\"/>\n<polygon fill=\"black\" stroke=\"black\" points=\"258.34,-308.48 248.03,-306.02 254.55,-314.37 258.34,-308.48\"/>\n</g>\n<!-- 5 -->\n<g id=\"node6\" class=\"node\">\n<title>5</title>\n<polygon fill=\"#833ce5\" stroke=\"black\" points=\"434.5,-306 309.5,-306 309.5,-223 434.5,-223 434.5,-306\"/>\n<text text-anchor=\"middle\" x=\"372\" y=\"-290.8\" font-family=\"Helvetica,sans-Serif\" font-size=\"14.00\">is_fii &lt;= 0.5</text>\n<text text-anchor=\"middle\" x=\"372\" y=\"-275.8\" font-family=\"Helvetica,sans-Serif\" font-size=\"14.00\">gini = 0.03</text>\n<text text-anchor=\"middle\" x=\"372\" y=\"-260.8\" font-family=\"Helvetica,sans-Serif\" font-size=\"14.00\">samples = 532</text>\n<text text-anchor=\"middle\" x=\"372\" y=\"-245.8\" font-family=\"Helvetica,sans-Serif\" font-size=\"14.00\">value = [0, 8, 524]</text>\n<text text-anchor=\"middle\" x=\"372\" y=\"-230.8\" font-family=\"Helvetica,sans-Serif\" font-size=\"14.00\">class = High</text>\n</g>\n<!-- 1&#45;&gt;5 -->\n<g id=\"edge5\" class=\"edge\">\n<title>1&#45;&gt;5</title>\n<path fill=\"none\" stroke=\"black\" d=\"M368.73,-341.91C369.09,-333.56 369.47,-324.67 369.84,-316.02\"/>\n<polygon fill=\"black\" stroke=\"black\" points=\"373.34,-316.16 370.27,-306.02 366.34,-315.86 373.34,-316.16\"/>\n</g>\n<!-- 3 -->\n<g id=\"node4\" class=\"node\">\n<title>3</title>\n<polygon fill=\"#39e581\" stroke=\"black\" points=\"110,-179.5 0,-179.5 0,-111.5 110,-111.5 110,-179.5\"/>\n<text text-anchor=\"middle\" x=\"55\" y=\"-164.3\" font-family=\"Helvetica,sans-Serif\" font-size=\"14.00\">gini = 0.0</text>\n<text text-anchor=\"middle\" x=\"55\" y=\"-149.3\" font-family=\"Helvetica,sans-Serif\" font-size=\"14.00\">samples = 4</text>\n<text text-anchor=\"middle\" x=\"55\" y=\"-134.3\" font-family=\"Helvetica,sans-Serif\" font-size=\"14.00\">value = [0, 4, 0]</text>\n<text text-anchor=\"middle\" x=\"55\" y=\"-119.3\" font-family=\"Helvetica,sans-Serif\" font-size=\"14.00\">class = Low</text>\n</g>\n<!-- 2&#45;&gt;3 -->\n<g id=\"edge3\" class=\"edge\">\n<title>2&#45;&gt;3</title>\n<path fill=\"none\" stroke=\"black\" d=\"M139.9,-222.91C126.78,-211.1 112.46,-198.22 99.39,-186.45\"/>\n<polygon fill=\"black\" stroke=\"black\" points=\"101.63,-183.76 91.85,-179.67 96.94,-188.96 101.63,-183.76\"/>\n</g>\n<!-- 4 -->\n<g id=\"node5\" class=\"node\">\n<title>4</title>\n<polygon fill=\"#e58139\" stroke=\"black\" points=\"245.5,-179.5 128.5,-179.5 128.5,-111.5 245.5,-111.5 245.5,-179.5\"/>\n<text text-anchor=\"middle\" x=\"187\" y=\"-164.3\" font-family=\"Helvetica,sans-Serif\" font-size=\"14.00\">gini = 0.0</text>\n<text text-anchor=\"middle\" x=\"187\" y=\"-149.3\" font-family=\"Helvetica,sans-Serif\" font-size=\"14.00\">samples = 82</text>\n<text text-anchor=\"middle\" x=\"187\" y=\"-134.3\" font-family=\"Helvetica,sans-Serif\" font-size=\"14.00\">value = [82, 0, 0]</text>\n<text text-anchor=\"middle\" x=\"187\" y=\"-119.3\" font-family=\"Helvetica,sans-Serif\" font-size=\"14.00\">class = Medium</text>\n</g>\n<!-- 2&#45;&gt;4 -->\n<g id=\"edge4\" class=\"edge\">\n<title>2&#45;&gt;4</title>\n<path fill=\"none\" stroke=\"black\" d=\"M185.69,-222.91C185.88,-212.2 186.07,-200.62 186.26,-189.78\"/>\n<polygon fill=\"black\" stroke=\"black\" points=\"189.76,-189.73 186.43,-179.67 182.76,-189.61 189.76,-189.73\"/>\n</g>\n<!-- 6 -->\n<g id=\"node7\" class=\"node\">\n<title>6</title>\n<polygon fill=\"#8139e5\" stroke=\"black\" points=\"406.5,-179.5 281.5,-179.5 281.5,-111.5 406.5,-111.5 406.5,-179.5\"/>\n<text text-anchor=\"middle\" x=\"344\" y=\"-164.3\" font-family=\"Helvetica,sans-Serif\" font-size=\"14.00\">gini = 0.0</text>\n<text text-anchor=\"middle\" x=\"344\" y=\"-149.3\" font-family=\"Helvetica,sans-Serif\" font-size=\"14.00\">samples = 524</text>\n<text text-anchor=\"middle\" x=\"344\" y=\"-134.3\" font-family=\"Helvetica,sans-Serif\" font-size=\"14.00\">value = [0, 0, 524]</text>\n<text text-anchor=\"middle\" x=\"344\" y=\"-119.3\" font-family=\"Helvetica,sans-Serif\" font-size=\"14.00\">class = High</text>\n</g>\n<!-- 5&#45;&gt;6 -->\n<g id=\"edge6\" class=\"edge\">\n<title>5&#45;&gt;6</title>\n<path fill=\"none\" stroke=\"black\" d=\"M362.29,-222.91C359.7,-212.09 356.89,-200.38 354.28,-189.44\"/>\n<polygon fill=\"black\" stroke=\"black\" points=\"357.67,-188.58 351.94,-179.67 350.86,-190.21 357.67,-188.58\"/>\n</g>\n<!-- 7 -->\n<g id=\"node8\" class=\"node\">\n<title>7</title>\n<polygon fill=\"#39e581\" stroke=\"black\" points=\"535,-179.5 425,-179.5 425,-111.5 535,-111.5 535,-179.5\"/>\n<text text-anchor=\"middle\" x=\"480\" y=\"-164.3\" font-family=\"Helvetica,sans-Serif\" font-size=\"14.00\">gini = 0.0</text>\n<text text-anchor=\"middle\" x=\"480\" y=\"-149.3\" font-family=\"Helvetica,sans-Serif\" font-size=\"14.00\">samples = 8</text>\n<text text-anchor=\"middle\" x=\"480\" y=\"-134.3\" font-family=\"Helvetica,sans-Serif\" font-size=\"14.00\">value = [0, 8, 0]</text>\n<text text-anchor=\"middle\" x=\"480\" y=\"-119.3\" font-family=\"Helvetica,sans-Serif\" font-size=\"14.00\">class = Low</text>\n</g>\n<!-- 5&#45;&gt;7 -->\n<g id=\"edge7\" class=\"edge\">\n<title>5&#45;&gt;7</title>\n<path fill=\"none\" stroke=\"black\" d=\"M409.47,-222.91C420.17,-211.32 431.82,-198.7 442.51,-187.11\"/>\n<polygon fill=\"black\" stroke=\"black\" points=\"445.17,-189.39 449.38,-179.67 440.03,-184.64 445.17,-189.39\"/>\n</g>\n<!-- 9 -->\n<g id=\"node10\" class=\"node\">\n<title>9</title>\n<polygon fill=\"#39e581\" stroke=\"black\" points=\"585.5,-298.5 460.5,-298.5 460.5,-230.5 585.5,-230.5 585.5,-298.5\"/>\n<text text-anchor=\"middle\" x=\"523\" y=\"-283.3\" font-family=\"Helvetica,sans-Serif\" font-size=\"14.00\">gini = 0.0</text>\n<text text-anchor=\"middle\" x=\"523\" y=\"-268.3\" font-family=\"Helvetica,sans-Serif\" font-size=\"14.00\">samples = 498</text>\n<text text-anchor=\"middle\" x=\"523\" y=\"-253.3\" font-family=\"Helvetica,sans-Serif\" font-size=\"14.00\">value = [0, 498, 0]</text>\n<text text-anchor=\"middle\" x=\"523\" y=\"-238.3\" font-family=\"Helvetica,sans-Serif\" font-size=\"14.00\">class = Low</text>\n</g>\n<!-- 8&#45;&gt;9 -->\n<g id=\"edge9\" class=\"edge\">\n<title>8&#45;&gt;9</title>\n<path fill=\"none\" stroke=\"black\" d=\"M524.31,-341.91C524.12,-331.2 523.93,-319.62 523.74,-308.78\"/>\n<polygon fill=\"black\" stroke=\"black\" points=\"527.24,-308.61 523.57,-298.67 520.24,-308.73 527.24,-308.61\"/>\n</g>\n<!-- 10 -->\n<g id=\"node11\" class=\"node\">\n<title>10</title>\n<polygon fill=\"#e6853f\" stroke=\"black\" points=\"736,-306 604,-306 604,-223 736,-223 736,-306\"/>\n<text text-anchor=\"middle\" x=\"670\" y=\"-290.8\" font-family=\"Helvetica,sans-Serif\" font-size=\"14.00\">server &lt;= 0.5</text>\n<text text-anchor=\"middle\" x=\"670\" y=\"-275.8\" font-family=\"Helvetica,sans-Serif\" font-size=\"14.00\">gini = 0.054</text>\n<text text-anchor=\"middle\" x=\"670\" y=\"-260.8\" font-family=\"Helvetica,sans-Serif\" font-size=\"14.00\">samples = 470</text>\n<text text-anchor=\"middle\" x=\"670\" y=\"-245.8\" font-family=\"Helvetica,sans-Serif\" font-size=\"14.00\">value = [457, 13, 0]</text>\n<text text-anchor=\"middle\" x=\"670\" y=\"-230.8\" font-family=\"Helvetica,sans-Serif\" font-size=\"14.00\">class = Medium</text>\n</g>\n<!-- 8&#45;&gt;10 -->\n<g id=\"edge10\" class=\"edge\">\n<title>8&#45;&gt;10</title>\n<path fill=\"none\" stroke=\"black\" d=\"M575.31,-341.91C587.12,-332.38 599.79,-322.15 611.91,-312.37\"/>\n<polygon fill=\"black\" stroke=\"black\" points=\"614.2,-315.02 619.78,-306.02 609.8,-309.58 614.2,-315.02\"/>\n</g>\n<!-- 11 -->\n<g id=\"node12\" class=\"node\">\n<title>11</title>\n<polygon fill=\"#e5823a\" stroke=\"black\" points=\"775.5,-187 562.5,-187 562.5,-104 775.5,-104 775.5,-187\"/>\n<text text-anchor=\"middle\" x=\"669\" y=\"-171.8\" font-family=\"Helvetica,sans-Serif\" font-size=\"14.00\">authentication_processed &lt;= 0.5</text>\n<text text-anchor=\"middle\" x=\"669\" y=\"-156.8\" font-family=\"Helvetica,sans-Serif\" font-size=\"14.00\">gini = 0.009</text>\n<text text-anchor=\"middle\" x=\"669\" y=\"-141.8\" font-family=\"Helvetica,sans-Serif\" font-size=\"14.00\">samples = 459</text>\n<text text-anchor=\"middle\" x=\"669\" y=\"-126.8\" font-family=\"Helvetica,sans-Serif\" font-size=\"14.00\">value = [457, 2, 0]</text>\n<text text-anchor=\"middle\" x=\"669\" y=\"-111.8\" font-family=\"Helvetica,sans-Serif\" font-size=\"14.00\">class = Medium</text>\n</g>\n<!-- 10&#45;&gt;11 -->\n<g id=\"edge11\" class=\"edge\">\n<title>10&#45;&gt;11</title>\n<path fill=\"none\" stroke=\"black\" d=\"M669.65,-222.91C669.58,-214.65 669.51,-205.86 669.43,-197.3\"/>\n<polygon fill=\"black\" stroke=\"black\" points=\"672.93,-196.99 669.35,-187.02 665.93,-197.05 672.93,-196.99\"/>\n</g>\n<!-- 14 -->\n<g id=\"node15\" class=\"node\">\n<title>14</title>\n<polygon fill=\"#39e581\" stroke=\"black\" points=\"910.5,-179.5 793.5,-179.5 793.5,-111.5 910.5,-111.5 910.5,-179.5\"/>\n<text text-anchor=\"middle\" x=\"852\" y=\"-164.3\" font-family=\"Helvetica,sans-Serif\" font-size=\"14.00\">gini = 0.0</text>\n<text text-anchor=\"middle\" x=\"852\" y=\"-149.3\" font-family=\"Helvetica,sans-Serif\" font-size=\"14.00\">samples = 11</text>\n<text text-anchor=\"middle\" x=\"852\" y=\"-134.3\" font-family=\"Helvetica,sans-Serif\" font-size=\"14.00\">value = [0, 11, 0]</text>\n<text text-anchor=\"middle\" x=\"852\" y=\"-119.3\" font-family=\"Helvetica,sans-Serif\" font-size=\"14.00\">class = Low</text>\n</g>\n<!-- 10&#45;&gt;14 -->\n<g id=\"edge14\" class=\"edge\">\n<title>10&#45;&gt;14</title>\n<path fill=\"none\" stroke=\"black\" d=\"M733.14,-222.91C752.2,-210.66 773.05,-197.25 791.9,-185.13\"/>\n<polygon fill=\"black\" stroke=\"black\" points=\"793.89,-188.02 800.41,-179.67 790.1,-182.13 793.89,-188.02\"/>\n</g>\n<!-- 12 -->\n<g id=\"node13\" class=\"node\">\n<title>12</title>\n<polygon fill=\"#39e581\" stroke=\"black\" points=\"656,-68 546,-68 546,0 656,0 656,-68\"/>\n<text text-anchor=\"middle\" x=\"601\" y=\"-52.8\" font-family=\"Helvetica,sans-Serif\" font-size=\"14.00\">gini = 0.0</text>\n<text text-anchor=\"middle\" x=\"601\" y=\"-37.8\" font-family=\"Helvetica,sans-Serif\" font-size=\"14.00\">samples = 2</text>\n<text text-anchor=\"middle\" x=\"601\" y=\"-22.8\" font-family=\"Helvetica,sans-Serif\" font-size=\"14.00\">value = [0, 2, 0]</text>\n<text text-anchor=\"middle\" x=\"601\" y=\"-7.8\" font-family=\"Helvetica,sans-Serif\" font-size=\"14.00\">class = Low</text>\n</g>\n<!-- 11&#45;&gt;12 -->\n<g id=\"edge12\" class=\"edge\">\n<title>11&#45;&gt;12</title>\n<path fill=\"none\" stroke=\"black\" d=\"M643.68,-103.73C638.24,-94.97 632.49,-85.7 627.02,-76.91\"/>\n<polygon fill=\"black\" stroke=\"black\" points=\"629.93,-74.95 621.68,-68.3 623.98,-78.64 629.93,-74.95\"/>\n</g>\n<!-- 13 -->\n<g id=\"node14\" class=\"node\">\n<title>13</title>\n<polygon fill=\"#e58139\" stroke=\"black\" points=\"799.5,-68 674.5,-68 674.5,0 799.5,0 799.5,-68\"/>\n<text text-anchor=\"middle\" x=\"737\" y=\"-52.8\" font-family=\"Helvetica,sans-Serif\" font-size=\"14.00\">gini = 0.0</text>\n<text text-anchor=\"middle\" x=\"737\" y=\"-37.8\" font-family=\"Helvetica,sans-Serif\" font-size=\"14.00\">samples = 457</text>\n<text text-anchor=\"middle\" x=\"737\" y=\"-22.8\" font-family=\"Helvetica,sans-Serif\" font-size=\"14.00\">value = [457, 0, 0]</text>\n<text text-anchor=\"middle\" x=\"737\" y=\"-7.8\" font-family=\"Helvetica,sans-Serif\" font-size=\"14.00\">class = Medium</text>\n</g>\n<!-- 11&#45;&gt;13 -->\n<g id=\"edge13\" class=\"edge\">\n<title>11&#45;&gt;13</title>\n<path fill=\"none\" stroke=\"black\" d=\"M694.32,-103.73C699.76,-94.97 705.51,-85.7 710.98,-76.91\"/>\n<polygon fill=\"black\" stroke=\"black\" points=\"714.02,-78.64 716.32,-68.3 708.07,-74.95 714.02,-78.64\"/>\n</g>\n</g>\n</svg>\n",
      "text/plain": [
       "<graphviz.sources.Source at 0x166c96e80>"
      ]
     },
     "execution_count": 53,
     "metadata": {},
     "output_type": "execute_result"
    }
   ],
   "source": [
    "# Alternative visualisation\n",
    "visualise_tree = tree.export_graphviz(clf, out_file=None,\n",
    "                                      feature_names = fn,\n",
    "                                      class_names = cn,\n",
    "                                     filled=True)\n",
    "graph = graphviz.Source(visualise_tree)\n",
    "graph\n",
    "\n",
    "# See here for more [https://scikit-learn.org/stable/modules/tree.html]\n"
   ]
  },
  {
   "cell_type": "code",
   "execution_count": 54,
   "id": "e65db671-8342-4ec4-838c-107a23a53a98",
   "metadata": {},
   "outputs": [
    {
     "name": "stdout",
     "output_type": "stream",
     "text": [
      "Accuracy: 0.9974811083123426\n"
     ]
    }
   ],
   "source": [
    "y_pred = clf.predict(X_test)\n",
    "print(\"Accuracy:\", metrics.accuracy_score(y_test, y_pred))"
   ]
  },
  {
   "cell_type": "markdown",
   "id": "69ebbf38-da42-46cd-885c-b90383a7bc21",
   "metadata": {
    "jp-MarkdownHeadingCollapsed": true,
    "tags": []
   },
   "source": [
    "### Various hyperparameters to attempt"
   ]
  },
  {
   "cell_type": "code",
   "execution_count": 55,
   "id": "5bab92e7-c852-4876-a3e3-111768ca41b8",
   "metadata": {},
   "outputs": [
    {
     "name": "stdout",
     "output_type": "stream",
     "text": [
      "Accuracy: 0.9974811083123426\n"
     ]
    }
   ],
   "source": [
    "# max depth\n",
    "clf_maxdepth = DecisionTreeClassifier(random_state=37, max_depth=5)\n",
    "clf_maxdepth = clf_maxdepth.fit(X_train,y_train)\n",
    "y_pred = clf_maxdepth.predict(X_test)\n",
    "print(\"Accuracy:\", metrics.accuracy_score(y_test, y_pred))"
   ]
  },
  {
   "cell_type": "code",
   "execution_count": 56,
   "id": "82e06966-19f8-4da5-afbd-d71f7392d4bf",
   "metadata": {},
   "outputs": [
    {
     "name": "stdout",
     "output_type": "stream",
     "text": [
      "Accuracy: 0.9848866498740554\n"
     ]
    }
   ],
   "source": [
    "# max_leaf_nodes\n",
    "clf_maxleafnode = DecisionTreeClassifier(random_state=37, max_leaf_nodes=5)\n",
    "clf_maxleafnode = clf_maxleafnode.fit(X_train,y_train)\n",
    "y_pred = clf_maxleafnode.predict(X_test)\n",
    "print(\"Accuracy:\", metrics.accuracy_score(y_test, y_pred))"
   ]
  },
  {
   "cell_type": "markdown",
   "id": "cc0e9ac5-1e25-4393-8f2e-4d3b98bd0df0",
   "metadata": {},
   "source": [
    "## 2. Random Forest"
   ]
  },
  {
   "cell_type": "markdown",
   "id": "5baa62bb-c8f5-4fee-a361-ecd49e66235a",
   "metadata": {
    "jp-MarkdownHeadingCollapsed": true,
    "tags": []
   },
   "source": [
    "### Basic Approach"
   ]
  },
  {
   "cell_type": "code",
   "execution_count": 57,
   "id": "082a21be-76a6-4f59-8370-2c79f8e27441",
   "metadata": {},
   "outputs": [],
   "source": [
    "def mean_std_cross_val_scores(model, X_train, y_train, **kwargs):\n",
    "    \"\"\"\n",
    "    Returns mean and std of cross validation\n",
    "\n",
    "    Parameters\n",
    "    ----------\n",
    "    model :\n",
    "        scikit-learn model\n",
    "    X_train : numpy array or pandas DataFrame\n",
    "        X in the training data\n",
    "    y_train :\n",
    "        y in the training data\n",
    "\n",
    "    Returns\n",
    "    ----------\n",
    "        pandas Series with mean scores from cross_validation\n",
    "    \"\"\"\n",
    "\n",
    "    scores = cross_validate(model, X_train, y_train, **kwargs)\n",
    "\n",
    "    mean_scores = pd.DataFrame(scores).mean()\n",
    "    std_scores = pd.DataFrame(scores).std()\n",
    "    out_col = []\n",
    "\n",
    "    for i in range(len(mean_scores)):\n",
    "        out_col.append((f\"%0.3f (+/- %0.3f)\" % (mean_scores[i], std_scores[i])))\n",
    "\n",
    "    return pd.Series(data=out_col, index=mean_scores.index)"
   ]
  },
  {
   "cell_type": "code",
   "execution_count": 58,
   "id": "c0a1197e-ffd0-4cf6-9480-f015282321da",
   "metadata": {},
   "outputs": [],
   "source": [
    "scoring_metric = [\"accuracy\", \"f1_weighted\"]\n",
    "results = {}"
   ]
  },
  {
   "cell_type": "code",
   "execution_count": 59,
   "id": "8eebf815-b695-4850-aa31-c267ece0b433",
   "metadata": {},
   "outputs": [
    {
     "data": {
      "text/html": [
       "<style>#sk-container-id-4 {color: black;background-color: white;}#sk-container-id-4 pre{padding: 0;}#sk-container-id-4 div.sk-toggleable {background-color: white;}#sk-container-id-4 label.sk-toggleable__label {cursor: pointer;display: block;width: 100%;margin-bottom: 0;padding: 0.3em;box-sizing: border-box;text-align: center;}#sk-container-id-4 label.sk-toggleable__label-arrow:before {content: \"▸\";float: left;margin-right: 0.25em;color: #696969;}#sk-container-id-4 label.sk-toggleable__label-arrow:hover:before {color: black;}#sk-container-id-4 div.sk-estimator:hover label.sk-toggleable__label-arrow:before {color: black;}#sk-container-id-4 div.sk-toggleable__content {max-height: 0;max-width: 0;overflow: hidden;text-align: left;background-color: #f0f8ff;}#sk-container-id-4 div.sk-toggleable__content pre {margin: 0.2em;color: black;border-radius: 0.25em;background-color: #f0f8ff;}#sk-container-id-4 input.sk-toggleable__control:checked~div.sk-toggleable__content {max-height: 200px;max-width: 100%;overflow: auto;}#sk-container-id-4 input.sk-toggleable__control:checked~label.sk-toggleable__label-arrow:before {content: \"▾\";}#sk-container-id-4 div.sk-estimator input.sk-toggleable__control:checked~label.sk-toggleable__label {background-color: #d4ebff;}#sk-container-id-4 div.sk-label input.sk-toggleable__control:checked~label.sk-toggleable__label {background-color: #d4ebff;}#sk-container-id-4 input.sk-hidden--visually {border: 0;clip: rect(1px 1px 1px 1px);clip: rect(1px, 1px, 1px, 1px);height: 1px;margin: -1px;overflow: hidden;padding: 0;position: absolute;width: 1px;}#sk-container-id-4 div.sk-estimator {font-family: monospace;background-color: #f0f8ff;border: 1px dotted black;border-radius: 0.25em;box-sizing: border-box;margin-bottom: 0.5em;}#sk-container-id-4 div.sk-estimator:hover {background-color: #d4ebff;}#sk-container-id-4 div.sk-parallel-item::after {content: \"\";width: 100%;border-bottom: 1px solid gray;flex-grow: 1;}#sk-container-id-4 div.sk-label:hover label.sk-toggleable__label {background-color: #d4ebff;}#sk-container-id-4 div.sk-serial::before {content: \"\";position: absolute;border-left: 1px solid gray;box-sizing: border-box;top: 0;bottom: 0;left: 50%;z-index: 0;}#sk-container-id-4 div.sk-serial {display: flex;flex-direction: column;align-items: center;background-color: white;padding-right: 0.2em;padding-left: 0.2em;position: relative;}#sk-container-id-4 div.sk-item {position: relative;z-index: 1;}#sk-container-id-4 div.sk-parallel {display: flex;align-items: stretch;justify-content: center;background-color: white;position: relative;}#sk-container-id-4 div.sk-item::before, #sk-container-id-4 div.sk-parallel-item::before {content: \"\";position: absolute;border-left: 1px solid gray;box-sizing: border-box;top: 0;bottom: 0;left: 50%;z-index: -1;}#sk-container-id-4 div.sk-parallel-item {display: flex;flex-direction: column;z-index: 1;position: relative;background-color: white;}#sk-container-id-4 div.sk-parallel-item:first-child::after {align-self: flex-end;width: 50%;}#sk-container-id-4 div.sk-parallel-item:last-child::after {align-self: flex-start;width: 50%;}#sk-container-id-4 div.sk-parallel-item:only-child::after {width: 0;}#sk-container-id-4 div.sk-dashed-wrapped {border: 1px dashed gray;margin: 0 0.4em 0.5em 0.4em;box-sizing: border-box;padding-bottom: 0.4em;background-color: white;}#sk-container-id-4 div.sk-label label {font-family: monospace;font-weight: bold;display: inline-block;line-height: 1.2em;}#sk-container-id-4 div.sk-label-container {text-align: center;}#sk-container-id-4 div.sk-container {/* jupyter's `normalize.less` sets `[hidden] { display: none; }` but bootstrap.min.css set `[hidden] { display: none !important; }` so we also need the `!important` here to be able to override the default hidden behavior on the sphinx rendered scikit-learn.org. See: https://github.com/scikit-learn/scikit-learn/issues/21755 */display: inline-block !important;position: relative;}#sk-container-id-4 div.sk-text-repr-fallback {display: none;}</style><div id=\"sk-container-id-4\" class=\"sk-top-container\"><div class=\"sk-text-repr-fallback\"><pre>RandomForestClassifier(n_jobs=-1, random_state=37)</pre><b>In a Jupyter environment, please rerun this cell to show the HTML representation or trust the notebook. <br />On GitHub, the HTML representation is unable to render, please try loading this page with nbviewer.org.</b></div><div class=\"sk-container\" hidden><div class=\"sk-item\"><div class=\"sk-estimator sk-toggleable\"><input class=\"sk-toggleable__control sk-hidden--visually\" id=\"sk-estimator-id-4\" type=\"checkbox\" checked><label for=\"sk-estimator-id-4\" class=\"sk-toggleable__label sk-toggleable__label-arrow\">RandomForestClassifier</label><div class=\"sk-toggleable__content\"><pre>RandomForestClassifier(n_jobs=-1, random_state=37)</pre></div></div></div></div></div>"
      ],
      "text/plain": [
       "RandomForestClassifier(n_jobs=-1, random_state=37)"
      ]
     },
     "execution_count": 59,
     "metadata": {},
     "output_type": "execute_result"
    }
   ],
   "source": [
    "# https://scikit-learn.org/stable/modules/generated/sklearn.ensemble.RandomForestClassifier.html\n",
    "rf_clf = RandomForestClassifier(n_estimators=100, random_state=37, n_jobs=-1) # n_estimators = no. of trees in the forest\n",
    "rf_clf.fit(X_train, y_train)"
   ]
  },
  {
   "cell_type": "code",
   "execution_count": 60,
   "id": "f6747306-d95b-493d-8e7a-d572da2f347e",
   "metadata": {},
   "outputs": [
    {
     "data": {
      "text/html": [
       "<div>\n",
       "<style scoped>\n",
       "    .dataframe tbody tr th:only-of-type {\n",
       "        vertical-align: middle;\n",
       "    }\n",
       "\n",
       "    .dataframe tbody tr th {\n",
       "        vertical-align: top;\n",
       "    }\n",
       "\n",
       "    .dataframe thead th {\n",
       "        text-align: right;\n",
       "    }\n",
       "</style>\n",
       "<table border=\"1\" class=\"dataframe\">\n",
       "  <thead>\n",
       "    <tr style=\"text-align: right;\">\n",
       "      <th></th>\n",
       "      <th>fit_time</th>\n",
       "      <th>score_time</th>\n",
       "      <th>test_accuracy</th>\n",
       "      <th>train_accuracy</th>\n",
       "      <th>test_f1_weighted</th>\n",
       "      <th>train_f1_weighted</th>\n",
       "    </tr>\n",
       "  </thead>\n",
       "  <tbody>\n",
       "    <tr>\n",
       "      <th>Random forests</th>\n",
       "      <td>0.833 (+/- 1.704)</td>\n",
       "      <td>0.018 (+/- 0.005)</td>\n",
       "      <td>0.997 (+/- 0.002)</td>\n",
       "      <td>1.000 (+/- 0.000)</td>\n",
       "      <td>0.997 (+/- 0.002)</td>\n",
       "      <td>1.000 (+/- 0.000)</td>\n",
       "    </tr>\n",
       "  </tbody>\n",
       "</table>\n",
       "</div>"
      ],
      "text/plain": [
       "                         fit_time         score_time      test_accuracy  \\\n",
       "Random forests  0.833 (+/- 1.704)  0.018 (+/- 0.005)  0.997 (+/- 0.002)   \n",
       "\n",
       "                   train_accuracy   test_f1_weighted  train_f1_weighted  \n",
       "Random forests  1.000 (+/- 0.000)  0.997 (+/- 0.002)  1.000 (+/- 0.000)  "
      ]
     },
     "execution_count": 60,
     "metadata": {},
     "output_type": "execute_result"
    }
   ],
   "source": [
    "results[\"Random forests\"] = mean_std_cross_val_scores(\n",
    "    rf_clf, X_train, y_train, return_train_score=True, scoring=scoring_metric\n",
    ")\n",
    "pd.DataFrame(results).T"
   ]
  },
  {
   "cell_type": "code",
   "execution_count": 61,
   "id": "c73ccffe-ff00-4cf7-8f9b-a34d7f905533",
   "metadata": {},
   "outputs": [],
   "source": [
    "# rf_clf(X_test)"
   ]
  },
  {
   "cell_type": "code",
   "execution_count": 62,
   "id": "e532d915-2149-4e5a-a835-2d8f391a0c5a",
   "metadata": {},
   "outputs": [],
   "source": [
    "# print(\"Accuracy:\", metrics.accuracy_score(y_test, y_pred_rf_clf))"
   ]
  },
  {
   "cell_type": "code",
   "execution_count": 63,
   "id": "8a2e9141-63d4-487c-9897-5de2ac1743e1",
   "metadata": {},
   "outputs": [],
   "source": [
    "# feature importance\n",
    "# feature_imp = pd.Series(rf_clf.feature_importances_, \n",
    "                        # index = X_train.feature_names).sort_values(ascending = False)\n",
    "# feature_imp"
   ]
  },
  {
   "cell_type": "markdown",
   "id": "e145efbc-af46-4209-a877-d7c8382985ae",
   "metadata": {
    "jp-MarkdownHeadingCollapsed": true,
    "tags": []
   },
   "source": [
    "### Various hyperparameters to attempt"
   ]
  },
  {
   "cell_type": "code",
   "execution_count": 64,
   "id": "660cbf68-89d6-4210-b559-807a6393b955",
   "metadata": {},
   "outputs": [],
   "source": [
    "# random_grid = {'bootstrap': [True, False],\n",
    "#                'max_depth': [2, 4, 6, 8, 10, 12, None],\n",
    "#                'max_features': ['auto', 'sqrt'],\n",
    "#                'min_samples_leaf': [1, 2, 4],\n",
    "#                'min_samples_split': [2, 5, 10],\n",
    "#                'n_estimators': [130, 180, 230]}"
   ]
  },
  {
   "cell_type": "code",
   "execution_count": 65,
   "id": "969e79e1-edef-4c6c-82d5-a5d3fe673f73",
   "metadata": {},
   "outputs": [],
   "source": [
    "# scoring_metric = [\"accuracy\"]\n",
    "# rf_random = RandomizedSearchCV(estimator = rf, \n",
    "#                                param_distributions = random_grid, \n",
    "#                                n_iter = 100, \n",
    "#                                cv = 3, \n",
    "#                                verbose=2, \n",
    "#                                random_state=37, \n",
    "#                                n_jobs = -1,\n",
    "#                                scoring = scoring_metric,\n",
    "#                                return_train_score=True)"
   ]
  },
  {
   "cell_type": "code",
   "execution_count": 66,
   "id": "96c2d4bd-2d58-4789-8beb-562b46ed3a4c",
   "metadata": {},
   "outputs": [],
   "source": [
    "# rf_random.fit(X_train, y_train)"
   ]
  },
  {
   "cell_type": "code",
   "execution_count": 67,
   "id": "ead1889d-2e59-4ee1-8cdc-75f83f278087",
   "metadata": {},
   "outputs": [],
   "source": [
    "# cv_results = rf_random.cv_results_\n",
    "# for mean_score, params in zip(cv_results[\"mean_test_score\"], cvres[\"params\"]):\n",
    "#     print(np.sqrt(-mean_score), params)"
   ]
  },
  {
   "cell_type": "code",
   "execution_count": 68,
   "id": "330a56a6-6b1d-44d2-b4b8-7dbf86058870",
   "metadata": {},
   "outputs": [],
   "source": [
    "# find best params\n",
    "# best_params = rf_random.best_params_\n",
    "# best_params"
   ]
  },
  {
   "cell_type": "code",
   "execution_count": 69,
   "id": "5a11e9c6-0f8f-47cb-a754-603cea199f68",
   "metadata": {},
   "outputs": [],
   "source": [
    "# best score\n",
    "# rf_random.best_score_"
   ]
  },
  {
   "cell_type": "code",
   "execution_count": 70,
   "id": "ef1f0059-46fc-4546-87c3-9b4257411655",
   "metadata": {},
   "outputs": [],
   "source": [
    "# df_rf_random = pd.DataFrame(rf_random.cv_results_)\n",
    "# df_rf_random"
   ]
  },
  {
   "cell_type": "markdown",
   "id": "9ee5929d-2e7b-4dfe-9b45-f742c025a62b",
   "metadata": {},
   "source": [
    "## 3. All the boosts"
   ]
  },
  {
   "cell_type": "markdown",
   "id": "0f76924b-66fd-433c-b9e8-ca8d8025fe1f",
   "metadata": {},
   "source": [
    "### Reference:\n",
    "https://pages.github.ubc.ca/mds-2021-22/DSCI_573_feat-model-select_students/lectures/05_ensembles.html"
   ]
  },
  {
   "cell_type": "code",
   "execution_count": 71,
   "id": "a4184f36-cc02-445d-8cdb-345daf5cf7a7",
   "metadata": {},
   "outputs": [],
   "source": [
    "classifiers = {\n",
    "    \"CatBoost\": CatBoostClassifier(verbose=0, random_state=37),\n",
    "    \"XGBoost\": XGBClassifier(random_state=37, eval_metric='logloss', verbosity=0),\n",
    "    # \"LightGBM\": LGBMClassifier(random_state=37),\n",
    "    \"Decision Tree\": DecisionTreeClassifier(random_state=37),\n",
    "    \"Random Forest\": RandomForestClassifier(n_estimators=100, random_state=37)\n",
    "}"
   ]
  },
  {
   "cell_type": "code",
   "execution_count": 72,
   "id": "5769920e-de27-4a91-8b24-8915706e16f7",
   "metadata": {},
   "outputs": [],
   "source": [
    "results = {}\n",
    "scoring_metric = [\"accuracy\", \"f1_macro\", \"recall_macro\"]"
   ]
  },
  {
   "cell_type": "code",
   "execution_count": 73,
   "id": "eebb35e3-d06d-43c1-b682-5f1b54a92914",
   "metadata": {},
   "outputs": [],
   "source": [
    "def mean_std_cross_val_scores(model, X_train, y_train, **kwargs):\n",
    "    \"\"\"\n",
    "    Returns mean and std of cross validation\n",
    "\n",
    "    Parameters\n",
    "    ----------\n",
    "    model :\n",
    "        scikit-learn model\n",
    "    X_train : numpy array or pandas DataFrame\n",
    "        X in the training data\n",
    "    y_train :\n",
    "        y in the training data\n",
    "\n",
    "    Returns\n",
    "    ----------\n",
    "        pandas Series with mean scores from cross_validation\n",
    "    \"\"\"\n",
    "\n",
    "    scores = cross_validate(model, X_train, y_train, **kwargs)\n",
    "\n",
    "    mean_scores = pd.DataFrame(scores).mean()\n",
    "    std_scores = pd.DataFrame(scores).std()\n",
    "    out_col = []\n",
    "\n",
    "    for i in range(len(mean_scores)):\n",
    "        out_col.append((f\"%0.3f (+/- %0.3f)\" % (mean_scores[i], std_scores[i])))\n",
    "\n",
    "    return pd.Series(data=out_col, index=mean_scores.index)\n"
   ]
  },
  {
   "cell_type": "code",
   "execution_count": 74,
   "id": "5cc6dbf6-c8bd-47bd-8800-0f423e124252",
   "metadata": {},
   "outputs": [],
   "source": [
    "dummy = DummyClassifier(strategy=\"stratified\")\n",
    "results[\"Dummy\"] = mean_std_cross_val_scores(\n",
    "    dummy, X_train, y_train, return_train_score=True, scoring=scoring_metric\n",
    ")"
   ]
  },
  {
   "cell_type": "code",
   "execution_count": 75,
   "id": "79ed0ee0-73c0-46cb-9e81-81df885fc39c",
   "metadata": {},
   "outputs": [
    {
     "ename": "ValueError",
     "evalue": "\nAll the 5 fits failed.\nIt is very likely that your model is misconfigured.\nYou can try to debug the error by setting error_score='raise'.\n\nBelow are more details about the failures:\n--------------------------------------------------------------------------------\n5 fits failed with the following error:\nTraceback (most recent call last):\n  File \"/Users/sonchau/miniconda3/envs/capstone/lib/python3.9/site-packages/sklearn/model_selection/_validation.py\", line 686, in _fit_and_score\n    estimator.fit(X_train, y_train, **fit_params)\n  File \"/Users/sonchau/miniconda3/envs/capstone/lib/python3.9/site-packages/xgboost/core.py\", line 532, in inner_f\n    return f(**kwargs)\n  File \"/Users/sonchau/miniconda3/envs/capstone/lib/python3.9/site-packages/xgboost/sklearn.py\", line 1357, in fit\n    raise ValueError(\nValueError: Invalid classes inferred from unique values of `y`.  Expected: [0 1 2], got ['High' 'Low' 'Medium']\n",
     "output_type": "error",
     "traceback": [
      "\u001b[0;31m---------------------------------------------------------------------------\u001b[0m",
      "\u001b[0;31mValueError\u001b[0m                                Traceback (most recent call last)",
      "\u001b[1;32m/Users/sonchau/Documents/Github/Capstone/API-Risk-Assessment-Framework/notebooks/ml/treebasedmodels.ipynb Cell 47'\u001b[0m in \u001b[0;36m<cell line: 1>\u001b[0;34m()\u001b[0m\n\u001b[1;32m      <a href='vscode-notebook-cell:/Users/sonchau/Documents/Github/Capstone/API-Risk-Assessment-Framework/notebooks/ml/treebasedmodels.ipynb#ch0000046?line=0'>1</a>\u001b[0m \u001b[39mfor\u001b[39;00m (name, model) \u001b[39min\u001b[39;00m classifiers\u001b[39m.\u001b[39mitems():\n\u001b[0;32m----> <a href='vscode-notebook-cell:/Users/sonchau/Documents/Github/Capstone/API-Risk-Assessment-Framework/notebooks/ml/treebasedmodels.ipynb#ch0000046?line=1'>2</a>\u001b[0m     results[name] \u001b[39m=\u001b[39m mean_std_cross_val_scores(\n\u001b[1;32m      <a href='vscode-notebook-cell:/Users/sonchau/Documents/Github/Capstone/API-Risk-Assessment-Framework/notebooks/ml/treebasedmodels.ipynb#ch0000046?line=2'>3</a>\u001b[0m         model, X_train, y_train, return_train_score\u001b[39m=\u001b[39;49m\u001b[39mTrue\u001b[39;49;00m, scoring\u001b[39m=\u001b[39;49mscoring_metric\n\u001b[1;32m      <a href='vscode-notebook-cell:/Users/sonchau/Documents/Github/Capstone/API-Risk-Assessment-Framework/notebooks/ml/treebasedmodels.ipynb#ch0000046?line=3'>4</a>\u001b[0m     )\n",
      "\u001b[1;32m/Users/sonchau/Documents/Github/Capstone/API-Risk-Assessment-Framework/notebooks/ml/treebasedmodels.ipynb Cell 45'\u001b[0m in \u001b[0;36mmean_std_cross_val_scores\u001b[0;34m(model, X_train, y_train, **kwargs)\u001b[0m\n\u001b[1;32m      <a href='vscode-notebook-cell:/Users/sonchau/Documents/Github/Capstone/API-Risk-Assessment-Framework/notebooks/ml/treebasedmodels.ipynb#ch0000044?line=0'>1</a>\u001b[0m \u001b[39mdef\u001b[39;00m \u001b[39mmean_std_cross_val_scores\u001b[39m(model, X_train, y_train, \u001b[39m*\u001b[39m\u001b[39m*\u001b[39mkwargs):\n\u001b[1;32m      <a href='vscode-notebook-cell:/Users/sonchau/Documents/Github/Capstone/API-Risk-Assessment-Framework/notebooks/ml/treebasedmodels.ipynb#ch0000044?line=1'>2</a>\u001b[0m     \u001b[39m\"\"\"\u001b[39;00m\n\u001b[1;32m      <a href='vscode-notebook-cell:/Users/sonchau/Documents/Github/Capstone/API-Risk-Assessment-Framework/notebooks/ml/treebasedmodels.ipynb#ch0000044?line=2'>3</a>\u001b[0m \u001b[39m    Returns mean and std of cross validation\u001b[39;00m\n\u001b[1;32m      <a href='vscode-notebook-cell:/Users/sonchau/Documents/Github/Capstone/API-Risk-Assessment-Framework/notebooks/ml/treebasedmodels.ipynb#ch0000044?line=3'>4</a>\u001b[0m \n\u001b[0;32m   (...)\u001b[0m\n\u001b[1;32m     <a href='vscode-notebook-cell:/Users/sonchau/Documents/Github/Capstone/API-Risk-Assessment-Framework/notebooks/ml/treebasedmodels.ipynb#ch0000044?line=15'>16</a>\u001b[0m \u001b[39m        pandas Series with mean scores from cross_validation\u001b[39;00m\n\u001b[1;32m     <a href='vscode-notebook-cell:/Users/sonchau/Documents/Github/Capstone/API-Risk-Assessment-Framework/notebooks/ml/treebasedmodels.ipynb#ch0000044?line=16'>17</a>\u001b[0m \u001b[39m    \"\"\"\u001b[39;00m\n\u001b[0;32m---> <a href='vscode-notebook-cell:/Users/sonchau/Documents/Github/Capstone/API-Risk-Assessment-Framework/notebooks/ml/treebasedmodels.ipynb#ch0000044?line=18'>19</a>\u001b[0m     scores \u001b[39m=\u001b[39m cross_validate(model, X_train, y_train, \u001b[39m*\u001b[39;49m\u001b[39m*\u001b[39;49mkwargs)\n\u001b[1;32m     <a href='vscode-notebook-cell:/Users/sonchau/Documents/Github/Capstone/API-Risk-Assessment-Framework/notebooks/ml/treebasedmodels.ipynb#ch0000044?line=20'>21</a>\u001b[0m     mean_scores \u001b[39m=\u001b[39m pd\u001b[39m.\u001b[39mDataFrame(scores)\u001b[39m.\u001b[39mmean()\n\u001b[1;32m     <a href='vscode-notebook-cell:/Users/sonchau/Documents/Github/Capstone/API-Risk-Assessment-Framework/notebooks/ml/treebasedmodels.ipynb#ch0000044?line=21'>22</a>\u001b[0m     std_scores \u001b[39m=\u001b[39m pd\u001b[39m.\u001b[39mDataFrame(scores)\u001b[39m.\u001b[39mstd()\n",
      "File \u001b[0;32m~/miniconda3/envs/capstone/lib/python3.9/site-packages/sklearn/model_selection/_validation.py:285\u001b[0m, in \u001b[0;36mcross_validate\u001b[0;34m(estimator, X, y, groups, scoring, cv, n_jobs, verbose, fit_params, pre_dispatch, return_train_score, return_estimator, error_score)\u001b[0m\n\u001b[1;32m    265\u001b[0m parallel \u001b[39m=\u001b[39m Parallel(n_jobs\u001b[39m=\u001b[39mn_jobs, verbose\u001b[39m=\u001b[39mverbose, pre_dispatch\u001b[39m=\u001b[39mpre_dispatch)\n\u001b[1;32m    266\u001b[0m results \u001b[39m=\u001b[39m parallel(\n\u001b[1;32m    267\u001b[0m     delayed(_fit_and_score)(\n\u001b[1;32m    268\u001b[0m         clone(estimator),\n\u001b[0;32m   (...)\u001b[0m\n\u001b[1;32m    282\u001b[0m     \u001b[39mfor\u001b[39;00m train, test \u001b[39min\u001b[39;00m cv\u001b[39m.\u001b[39msplit(X, y, groups)\n\u001b[1;32m    283\u001b[0m )\n\u001b[0;32m--> 285\u001b[0m _warn_or_raise_about_fit_failures(results, error_score)\n\u001b[1;32m    287\u001b[0m \u001b[39m# For callabe scoring, the return type is only know after calling. If the\u001b[39;00m\n\u001b[1;32m    288\u001b[0m \u001b[39m# return type is a dictionary, the error scores can now be inserted with\u001b[39;00m\n\u001b[1;32m    289\u001b[0m \u001b[39m# the correct key.\u001b[39;00m\n\u001b[1;32m    290\u001b[0m \u001b[39mif\u001b[39;00m callable(scoring):\n",
      "File \u001b[0;32m~/miniconda3/envs/capstone/lib/python3.9/site-packages/sklearn/model_selection/_validation.py:367\u001b[0m, in \u001b[0;36m_warn_or_raise_about_fit_failures\u001b[0;34m(results, error_score)\u001b[0m\n\u001b[1;32m    360\u001b[0m \u001b[39mif\u001b[39;00m num_failed_fits \u001b[39m==\u001b[39m num_fits:\n\u001b[1;32m    361\u001b[0m     all_fits_failed_message \u001b[39m=\u001b[39m (\n\u001b[1;32m    362\u001b[0m         \u001b[39mf\u001b[39m\u001b[39m\"\u001b[39m\u001b[39m\\n\u001b[39;00m\u001b[39mAll the \u001b[39m\u001b[39m{\u001b[39;00mnum_fits\u001b[39m}\u001b[39;00m\u001b[39m fits failed.\u001b[39m\u001b[39m\\n\u001b[39;00m\u001b[39m\"\u001b[39m\n\u001b[1;32m    363\u001b[0m         \u001b[39m\"\u001b[39m\u001b[39mIt is very likely that your model is misconfigured.\u001b[39m\u001b[39m\\n\u001b[39;00m\u001b[39m\"\u001b[39m\n\u001b[1;32m    364\u001b[0m         \u001b[39m\"\u001b[39m\u001b[39mYou can try to debug the error by setting error_score=\u001b[39m\u001b[39m'\u001b[39m\u001b[39mraise\u001b[39m\u001b[39m'\u001b[39m\u001b[39m.\u001b[39m\u001b[39m\\n\u001b[39;00m\u001b[39m\\n\u001b[39;00m\u001b[39m\"\u001b[39m\n\u001b[1;32m    365\u001b[0m         \u001b[39mf\u001b[39m\u001b[39m\"\u001b[39m\u001b[39mBelow are more details about the failures:\u001b[39m\u001b[39m\\n\u001b[39;00m\u001b[39m{\u001b[39;00mfit_errors_summary\u001b[39m}\u001b[39;00m\u001b[39m\"\u001b[39m\n\u001b[1;32m    366\u001b[0m     )\n\u001b[0;32m--> 367\u001b[0m     \u001b[39mraise\u001b[39;00m \u001b[39mValueError\u001b[39;00m(all_fits_failed_message)\n\u001b[1;32m    369\u001b[0m \u001b[39melse\u001b[39;00m:\n\u001b[1;32m    370\u001b[0m     some_fits_failed_message \u001b[39m=\u001b[39m (\n\u001b[1;32m    371\u001b[0m         \u001b[39mf\u001b[39m\u001b[39m\"\u001b[39m\u001b[39m\\n\u001b[39;00m\u001b[39m{\u001b[39;00mnum_failed_fits\u001b[39m}\u001b[39;00m\u001b[39m fits failed out of a total of \u001b[39m\u001b[39m{\u001b[39;00mnum_fits\u001b[39m}\u001b[39;00m\u001b[39m.\u001b[39m\u001b[39m\\n\u001b[39;00m\u001b[39m\"\u001b[39m\n\u001b[1;32m    372\u001b[0m         \u001b[39m\"\u001b[39m\u001b[39mThe score on these train-test partitions for these parameters\u001b[39m\u001b[39m\"\u001b[39m\n\u001b[0;32m   (...)\u001b[0m\n\u001b[1;32m    376\u001b[0m         \u001b[39mf\u001b[39m\u001b[39m\"\u001b[39m\u001b[39mBelow are more details about the failures:\u001b[39m\u001b[39m\\n\u001b[39;00m\u001b[39m{\u001b[39;00mfit_errors_summary\u001b[39m}\u001b[39;00m\u001b[39m\"\u001b[39m\n\u001b[1;32m    377\u001b[0m     )\n",
      "\u001b[0;31mValueError\u001b[0m: \nAll the 5 fits failed.\nIt is very likely that your model is misconfigured.\nYou can try to debug the error by setting error_score='raise'.\n\nBelow are more details about the failures:\n--------------------------------------------------------------------------------\n5 fits failed with the following error:\nTraceback (most recent call last):\n  File \"/Users/sonchau/miniconda3/envs/capstone/lib/python3.9/site-packages/sklearn/model_selection/_validation.py\", line 686, in _fit_and_score\n    estimator.fit(X_train, y_train, **fit_params)\n  File \"/Users/sonchau/miniconda3/envs/capstone/lib/python3.9/site-packages/xgboost/core.py\", line 532, in inner_f\n    return f(**kwargs)\n  File \"/Users/sonchau/miniconda3/envs/capstone/lib/python3.9/site-packages/xgboost/sklearn.py\", line 1357, in fit\n    raise ValueError(\nValueError: Invalid classes inferred from unique values of `y`.  Expected: [0 1 2], got ['High' 'Low' 'Medium']\n"
     ]
    }
   ],
   "source": [
    "for (name, model) in classifiers.items():\n",
    "    results[name] = mean_std_cross_val_scores(\n",
    "        model, X_train, y_train, return_train_score=True, scoring=scoring_metric\n",
    "    )"
   ]
  },
  {
   "cell_type": "code",
   "execution_count": null,
   "id": "27ce1644-9b43-4699-b525-9c10d7e3394a",
   "metadata": {},
   "outputs": [],
   "source": [
    "pd.DataFrame(results).T"
   ]
  },
  {
   "cell_type": "code",
   "execution_count": null,
   "id": "11bd9afe-4517-4cb1-8948-c0fcfc0f8463",
   "metadata": {},
   "outputs": [],
   "source": [
    "# CatBoost\n",
    "model = CatBoostClassifier(verbose=0, random_state=37)\n",
    "model.fit(X_train, y_train)\n",
    "predictions = model.predict(X_test)\n",
    "print(f\"Model: CatBoost\")\n",
    "print(f\"Accuracy: {metrics.accuracy_score(y_test, predictions)}\")\n",
    "print(f\"F1 score: {metrics.f1_score(y_test, predictions, average='macro')}\")\n",
    "print(f\"Recall: {metrics.recall_score(y_test, predictions, average='macro')}\")"
   ]
  },
  {
   "cell_type": "code",
   "execution_count": null,
   "id": "b534c3bc-76c2-4984-add8-3941a8c1f01e",
   "metadata": {},
   "outputs": [],
   "source": [
    "\n",
    "print(\n",
    "    classification_report(\n",
    "        y_test, predictions, target_names=[\"High\", \"Low\", \"Medium\"]\n",
    "    )\n",
    ")"
   ]
  },
  {
   "cell_type": "code",
   "execution_count": null,
   "id": "d18eb386-c100-49be-8bd7-6c75acec21d6",
   "metadata": {},
   "outputs": [],
   "source": [
    "# Random Forest\n",
    "model = RandomForestClassifier(n_estimators=100, random_state=37)\n",
    "model.fit(X_train, y_train)\n",
    "predictions = model.predict(X_test)\n",
    "print(f\"Model: Random Forest\")\n",
    "print(f\"Accuracy: {metrics.accuracy_score(y_test, predictions)}\")\n",
    "print(f\"F1 score: {metrics.f1_score(y_test, predictions, average='macro')}\")\n",
    "print(f\"Recall: {metrics.recall_score(y_test, predictions, average='macro')}\")"
   ]
  },
  {
   "cell_type": "code",
   "execution_count": null,
   "id": "83a9787d-9f0b-40ce-b76b-a304ee3e1e7c",
   "metadata": {},
   "outputs": [],
   "source": [
    "print(\n",
    "    classification_report(\n",
    "        y_test, predictions, target_names=[\"High\", \"Low\", \"Medium\"]\n",
    "    )\n",
    ")"
   ]
  },
  {
   "cell_type": "code",
   "execution_count": null,
   "id": "b829d282-ac03-4b53-98d2-e5bc83ad79f0",
   "metadata": {},
   "outputs": [],
   "source": [
    "# Decision Tree\n",
    "model = DecisionTreeClassifier(random_state=37)\n",
    "model.fit(X_train, y_train)\n",
    "predictions = model.predict(X_test)\n",
    "print(f\"Model: Decision Tree\")\n",
    "print(f\"Accuracy: {metrics.accuracy_score(y_test, predictions)}\")\n",
    "print(f\"F1 score: {metrics.f1_score(y_test, predictions, average='macro')}\")\n",
    "print(f\"Recall: {metrics.recall_score(y_test, predictions, average='macro')}\")"
   ]
  },
  {
   "cell_type": "code",
   "execution_count": null,
   "id": "811b829b-48ad-4d56-95e8-09f32ecaf0cf",
   "metadata": {},
   "outputs": [],
   "source": [
    "print(\n",
    "    classification_report(\n",
    "        y_test, predictions, target_names=[\"High\", \"Low\", \"Medium\"]\n",
    "    )\n",
    ")"
   ]
  }
 ],
 "metadata": {
  "kernelspec": {
   "display_name": "Python 3.9.9 ('capstone')",
   "language": "python",
   "name": "python3"
  },
  "language_info": {
   "codemirror_mode": {
    "name": "ipython",
    "version": 3
   },
   "file_extension": ".py",
   "mimetype": "text/x-python",
   "name": "python",
   "nbconvert_exporter": "python",
   "pygments_lexer": "ipython3",
   "version": "3.9.9"
  },
  "vscode": {
   "interpreter": {
    "hash": "3055ab941c3cc8effdc41de39758208c137b5aedc548afc01658bc69568cbb4c"
   }
  }
 },
 "nbformat": 4,
 "nbformat_minor": 5
}
