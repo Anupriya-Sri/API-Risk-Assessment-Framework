{
 "cells": [
  {
   "cell_type": "markdown",
   "id": "d5cd4610-90c2-40b4-b335-cd6bd7d89874",
   "metadata": {},
   "source": [
    "# Supervised Learning"
   ]
  },
  {
   "cell_type": "markdown",
   "id": "d42a99e7-a655-4633-a3d8-165bb3dee67c",
   "metadata": {},
   "source": [
    "In this notebook, we are going to attempt different tree-based supervised learning models. They are:\n",
    "- Decision Tree\n",
    "- Random Forest\n",
    "- CatBoost\n",
    "- XGBoost\n",
    "- LGMB"
   ]
  },
  {
   "cell_type": "markdown",
   "id": "cb7e8df3-d424-4eb1-b331-33b512266700",
   "metadata": {},
   "source": [
    "**Things to look into:**\n",
    "- Why is the model so perfect?\n",
    "- Is there something we are missing?\n",
    "**Things to do:**\n",
    "- edit the scoring metric to include recall and f1 (note: need to adjust it since our classification is multiclass)"
   ]
  },
  {
   "cell_type": "markdown",
   "id": "4e9e057d-3ed2-448f-bd0d-a0c6d9741348",
   "metadata": {},
   "source": [
    "# Load in the Dataset + Packages"
   ]
  },
  {
   "cell_type": "code",
   "execution_count": 5,
   "id": "3e97540f-466c-44f9-880e-622e48e0ec82",
   "metadata": {},
   "outputs": [],
   "source": [
    "# pip install graphviz\n",
    "import sklearn\n",
    "import graphviz \n",
    "from sklearn import tree\n",
    "from sklearn.dummy import DummyClassifier\n",
    "from sklearn.tree import DecisionTreeClassifier\n",
    "from sklearn.ensemble import RandomForestClassifier\n",
    "from sklearn import metrics\n",
    "from catboost import CatBoostClassifier\n",
    "from lightgbm.sklearn import LGBMClassifier\n",
    "from xgboost import XGBClassifier\n",
    "from sklearn.preprocessing import StandardScaler\n",
    "from sklearn.metrics import ConfusionMatrixDisplay, classification_report\n",
    "from sklearn.model_selection import (\n",
    "    GridSearchCV,\n",
    "    RandomizedSearchCV,\n",
    "    cross_val_score,\n",
    "    cross_validate,\n",
    "    train_test_split,\n",
    ")\n",
    "import pandas as pd\n",
    "import matplotlib.pyplot as plt\n",
    "import numpy as np"
   ]
  },
  {
   "cell_type": "code",
   "execution_count": 6,
   "id": "5a876d6e-795d-4ffd-8071-2208140abc2d",
   "metadata": {},
   "outputs": [],
   "source": [
    "#dataset\n",
    "# df = pd.read_excel(\"df_full_clean.xlsx\", usecols = \"A:BB\")\n",
    "df = pd.read_excel(\n",
    "    \"../../data/processed/preprocessed_train.xlsx\", usecols=\"A:BA\")\n",
    "\n",
    "\n",
    "#imputation of NRI score with mean value\n",
    "df['NRI score'] = df['NRI score'].replace(0, np.NaN)\n",
    "df['NRI score'] = df['NRI score'].replace(np.NaN, df['NRI score'].mean())"
   ]
  },
  {
   "cell_type": "code",
   "execution_count": 7,
   "id": "e149f965-4b28-496b-bfbe-4348a2daacf9",
   "metadata": {},
   "outputs": [
    {
     "data": {
      "text/plain": [
       "77.846130508045"
      ]
     },
     "execution_count": 7,
     "metadata": {},
     "output_type": "execute_result"
    }
   ],
   "source": [
    "df['NRI score'].mean()"
   ]
  },
  {
   "cell_type": "code",
   "execution_count": 8,
   "id": "40fd8a70-af36-4908-b325-f9add13710fd",
   "metadata": {},
   "outputs": [
    {
     "data": {
      "text/plain": [
       "array([77.85001289, 76.47961345, 81.0898203 , 49.7445967 , 72.25504781,\n",
       "       40.92879163, 74.96251911, 78.94535536, 74.79074367, 82.06163752,\n",
       "       80.01442087, 73.78914787, 76.59818693, 69.942859  ])"
      ]
     },
     "execution_count": 8,
     "metadata": {},
     "output_type": "execute_result"
    }
   ],
   "source": [
    "df['NRI score'].unique()"
   ]
  },
  {
   "cell_type": "code",
   "execution_count": 9,
   "id": "4a9bc46a-8397-454b-882f-9e92cbc48ad6",
   "metadata": {},
   "outputs": [
    {
     "data": {
      "text/plain": [
       "0          Low\n",
       "1          Low\n",
       "2       Medium\n",
       "3          Low\n",
       "4          Low\n",
       "         ...  \n",
       "1311       Low\n",
       "1312       Low\n",
       "1313       Low\n",
       "1314       Low\n",
       "1315       Low\n",
       "Name: Risk_Label, Length: 1316, dtype: category\n",
       "Categories (3, object): ['High', 'Low', 'Medium']"
      ]
     },
     "execution_count": 9,
     "metadata": {},
     "output_type": "execute_result"
    }
   ],
   "source": [
    "df['Risk_Label'] = df['Risk_Label'].astype('category')\n",
    "df['Risk_Label']"
   ]
  },
  {
   "cell_type": "code",
   "execution_count": 10,
   "id": "fc3f12bc-b1e4-4f95-ae90-efa0444930cb",
   "metadata": {},
   "outputs": [],
   "source": [
    "# dropped security_test_category\n",
    "X = df.drop(columns = ['Risk_Label'])\n",
    "y = df['Risk_Label']\n",
    "\n",
    "X_train, X_test, y_train, y_test = train_test_split(X, y, test_size=0.2)"
   ]
  },
  {
   "cell_type": "code",
   "execution_count": 11,
   "id": "48854ec9-bb35-44ef-a243-0a64c2e39cda",
   "metadata": {},
   "outputs": [
    {
     "data": {
      "text/html": [
       "<div>\n",
       "<style scoped>\n",
       "    .dataframe tbody tr th:only-of-type {\n",
       "        vertical-align: middle;\n",
       "    }\n",
       "\n",
       "    .dataframe tbody tr th {\n",
       "        vertical-align: top;\n",
       "    }\n",
       "\n",
       "    .dataframe thead th {\n",
       "        text-align: right;\n",
       "    }\n",
       "</style>\n",
       "<table border=\"1\" class=\"dataframe\">\n",
       "  <thead>\n",
       "    <tr style=\"text-align: right;\">\n",
       "      <th></th>\n",
       "      <th>is_pii</th>\n",
       "      <th>is_fii</th>\n",
       "      <th>NRI score</th>\n",
       "      <th>authentication_processed</th>\n",
       "      <th>usage_base_processed</th>\n",
       "      <th>AI &amp; Data Science</th>\n",
       "      <th>Business &amp; Technology</th>\n",
       "      <th>Environment &amp; Weather</th>\n",
       "      <th>Finance &amp; Banking</th>\n",
       "      <th>GeoInformatics &amp; Navigation</th>\n",
       "      <th>...</th>\n",
       "      <th>referrer-policy</th>\n",
       "      <th>content-type</th>\n",
       "      <th>set-cookie</th>\n",
       "      <th>access-control-allow-origin</th>\n",
       "      <th>server</th>\n",
       "      <th>x-powered-by</th>\n",
       "      <th>x-aspnet-version</th>\n",
       "      <th>x-ratelimit-limit</th>\n",
       "      <th>metadata_fields_count</th>\n",
       "      <th>parameters_count</th>\n",
       "    </tr>\n",
       "  </thead>\n",
       "  <tbody>\n",
       "    <tr>\n",
       "      <th>179</th>\n",
       "      <td>False</td>\n",
       "      <td>False</td>\n",
       "      <td>77.850013</td>\n",
       "      <td>0</td>\n",
       "      <td>2</td>\n",
       "      <td>0</td>\n",
       "      <td>0</td>\n",
       "      <td>0</td>\n",
       "      <td>0</td>\n",
       "      <td>0</td>\n",
       "      <td>...</td>\n",
       "      <td>0</td>\n",
       "      <td>0</td>\n",
       "      <td>0</td>\n",
       "      <td>1</td>\n",
       "      <td>0</td>\n",
       "      <td>0</td>\n",
       "      <td>0</td>\n",
       "      <td>0</td>\n",
       "      <td>3</td>\n",
       "      <td>0</td>\n",
       "    </tr>\n",
       "    <tr>\n",
       "      <th>1240</th>\n",
       "      <td>True</td>\n",
       "      <td>False</td>\n",
       "      <td>77.850013</td>\n",
       "      <td>1</td>\n",
       "      <td>2</td>\n",
       "      <td>1</td>\n",
       "      <td>0</td>\n",
       "      <td>0</td>\n",
       "      <td>0</td>\n",
       "      <td>0</td>\n",
       "      <td>...</td>\n",
       "      <td>0</td>\n",
       "      <td>0</td>\n",
       "      <td>0</td>\n",
       "      <td>0</td>\n",
       "      <td>0</td>\n",
       "      <td>0</td>\n",
       "      <td>0</td>\n",
       "      <td>0</td>\n",
       "      <td>1</td>\n",
       "      <td>0</td>\n",
       "    </tr>\n",
       "    <tr>\n",
       "      <th>953</th>\n",
       "      <td>False</td>\n",
       "      <td>False</td>\n",
       "      <td>81.089820</td>\n",
       "      <td>1</td>\n",
       "      <td>2</td>\n",
       "      <td>1</td>\n",
       "      <td>0</td>\n",
       "      <td>0</td>\n",
       "      <td>0</td>\n",
       "      <td>0</td>\n",
       "      <td>...</td>\n",
       "      <td>0</td>\n",
       "      <td>1</td>\n",
       "      <td>0</td>\n",
       "      <td>0</td>\n",
       "      <td>1</td>\n",
       "      <td>0</td>\n",
       "      <td>0</td>\n",
       "      <td>0</td>\n",
       "      <td>2</td>\n",
       "      <td>2</td>\n",
       "    </tr>\n",
       "    <tr>\n",
       "      <th>1218</th>\n",
       "      <td>True</td>\n",
       "      <td>False</td>\n",
       "      <td>77.850013</td>\n",
       "      <td>1</td>\n",
       "      <td>2</td>\n",
       "      <td>0</td>\n",
       "      <td>0</td>\n",
       "      <td>0</td>\n",
       "      <td>0</td>\n",
       "      <td>0</td>\n",
       "      <td>...</td>\n",
       "      <td>0</td>\n",
       "      <td>0</td>\n",
       "      <td>0</td>\n",
       "      <td>1</td>\n",
       "      <td>1</td>\n",
       "      <td>0</td>\n",
       "      <td>0</td>\n",
       "      <td>0</td>\n",
       "      <td>8</td>\n",
       "      <td>1</td>\n",
       "    </tr>\n",
       "    <tr>\n",
       "      <th>376</th>\n",
       "      <td>False</td>\n",
       "      <td>False</td>\n",
       "      <td>77.850013</td>\n",
       "      <td>0</td>\n",
       "      <td>2</td>\n",
       "      <td>0</td>\n",
       "      <td>0</td>\n",
       "      <td>0</td>\n",
       "      <td>0</td>\n",
       "      <td>0</td>\n",
       "      <td>...</td>\n",
       "      <td>0</td>\n",
       "      <td>1</td>\n",
       "      <td>0</td>\n",
       "      <td>0</td>\n",
       "      <td>1</td>\n",
       "      <td>0</td>\n",
       "      <td>0</td>\n",
       "      <td>0</td>\n",
       "      <td>4</td>\n",
       "      <td>1</td>\n",
       "    </tr>\n",
       "    <tr>\n",
       "      <th>...</th>\n",
       "      <td>...</td>\n",
       "      <td>...</td>\n",
       "      <td>...</td>\n",
       "      <td>...</td>\n",
       "      <td>...</td>\n",
       "      <td>...</td>\n",
       "      <td>...</td>\n",
       "      <td>...</td>\n",
       "      <td>...</td>\n",
       "      <td>...</td>\n",
       "      <td>...</td>\n",
       "      <td>...</td>\n",
       "      <td>...</td>\n",
       "      <td>...</td>\n",
       "      <td>...</td>\n",
       "      <td>...</td>\n",
       "      <td>...</td>\n",
       "      <td>...</td>\n",
       "      <td>...</td>\n",
       "      <td>...</td>\n",
       "      <td>...</td>\n",
       "    </tr>\n",
       "    <tr>\n",
       "      <th>1141</th>\n",
       "      <td>True</td>\n",
       "      <td>False</td>\n",
       "      <td>77.850013</td>\n",
       "      <td>1</td>\n",
       "      <td>2</td>\n",
       "      <td>0</td>\n",
       "      <td>0</td>\n",
       "      <td>0</td>\n",
       "      <td>0</td>\n",
       "      <td>0</td>\n",
       "      <td>...</td>\n",
       "      <td>0</td>\n",
       "      <td>1</td>\n",
       "      <td>0</td>\n",
       "      <td>1</td>\n",
       "      <td>1</td>\n",
       "      <td>0</td>\n",
       "      <td>0</td>\n",
       "      <td>0</td>\n",
       "      <td>3</td>\n",
       "      <td>1</td>\n",
       "    </tr>\n",
       "    <tr>\n",
       "      <th>569</th>\n",
       "      <td>True</td>\n",
       "      <td>False</td>\n",
       "      <td>77.850013</td>\n",
       "      <td>0</td>\n",
       "      <td>2</td>\n",
       "      <td>0</td>\n",
       "      <td>0</td>\n",
       "      <td>0</td>\n",
       "      <td>0</td>\n",
       "      <td>0</td>\n",
       "      <td>...</td>\n",
       "      <td>0</td>\n",
       "      <td>0</td>\n",
       "      <td>0</td>\n",
       "      <td>0</td>\n",
       "      <td>0</td>\n",
       "      <td>0</td>\n",
       "      <td>0</td>\n",
       "      <td>0</td>\n",
       "      <td>2</td>\n",
       "      <td>1</td>\n",
       "    </tr>\n",
       "    <tr>\n",
       "      <th>66</th>\n",
       "      <td>False</td>\n",
       "      <td>False</td>\n",
       "      <td>81.089820</td>\n",
       "      <td>1</td>\n",
       "      <td>2</td>\n",
       "      <td>0</td>\n",
       "      <td>0</td>\n",
       "      <td>0</td>\n",
       "      <td>0</td>\n",
       "      <td>0</td>\n",
       "      <td>...</td>\n",
       "      <td>0</td>\n",
       "      <td>0</td>\n",
       "      <td>0</td>\n",
       "      <td>1</td>\n",
       "      <td>1</td>\n",
       "      <td>0</td>\n",
       "      <td>0</td>\n",
       "      <td>0</td>\n",
       "      <td>8</td>\n",
       "      <td>0</td>\n",
       "    </tr>\n",
       "    <tr>\n",
       "      <th>118</th>\n",
       "      <td>True</td>\n",
       "      <td>False</td>\n",
       "      <td>77.850013</td>\n",
       "      <td>1</td>\n",
       "      <td>2</td>\n",
       "      <td>0</td>\n",
       "      <td>0</td>\n",
       "      <td>0</td>\n",
       "      <td>0</td>\n",
       "      <td>0</td>\n",
       "      <td>...</td>\n",
       "      <td>0</td>\n",
       "      <td>0</td>\n",
       "      <td>0</td>\n",
       "      <td>1</td>\n",
       "      <td>1</td>\n",
       "      <td>0</td>\n",
       "      <td>0</td>\n",
       "      <td>0</td>\n",
       "      <td>5</td>\n",
       "      <td>0</td>\n",
       "    </tr>\n",
       "    <tr>\n",
       "      <th>275</th>\n",
       "      <td>False</td>\n",
       "      <td>False</td>\n",
       "      <td>77.850013</td>\n",
       "      <td>1</td>\n",
       "      <td>2</td>\n",
       "      <td>0</td>\n",
       "      <td>0</td>\n",
       "      <td>0</td>\n",
       "      <td>1</td>\n",
       "      <td>0</td>\n",
       "      <td>...</td>\n",
       "      <td>0</td>\n",
       "      <td>0</td>\n",
       "      <td>0</td>\n",
       "      <td>1</td>\n",
       "      <td>1</td>\n",
       "      <td>0</td>\n",
       "      <td>0</td>\n",
       "      <td>0</td>\n",
       "      <td>3</td>\n",
       "      <td>1</td>\n",
       "    </tr>\n",
       "  </tbody>\n",
       "</table>\n",
       "<p>1052 rows × 52 columns</p>\n",
       "</div>"
      ],
      "text/plain": [
       "      is_pii  is_fii  NRI score  authentication_processed  \\\n",
       "179    False   False  77.850013                         0   \n",
       "1240    True   False  77.850013                         1   \n",
       "953    False   False  81.089820                         1   \n",
       "1218    True   False  77.850013                         1   \n",
       "376    False   False  77.850013                         0   \n",
       "...      ...     ...        ...                       ...   \n",
       "1141    True   False  77.850013                         1   \n",
       "569     True   False  77.850013                         0   \n",
       "66     False   False  81.089820                         1   \n",
       "118     True   False  77.850013                         1   \n",
       "275    False   False  77.850013                         1   \n",
       "\n",
       "      usage_base_processed  AI & Data Science  Business & Technology  \\\n",
       "179                      2                  0                      0   \n",
       "1240                     2                  1                      0   \n",
       "953                      2                  1                      0   \n",
       "1218                     2                  0                      0   \n",
       "376                      2                  0                      0   \n",
       "...                    ...                ...                    ...   \n",
       "1141                     2                  0                      0   \n",
       "569                      2                  0                      0   \n",
       "66                       2                  0                      0   \n",
       "118                      2                  0                      0   \n",
       "275                      2                  0                      0   \n",
       "\n",
       "      Environment & Weather  Finance & Banking  GeoInformatics & Navigation  \\\n",
       "179                       0                  0                            0   \n",
       "1240                      0                  0                            0   \n",
       "953                       0                  0                            0   \n",
       "1218                      0                  0                            0   \n",
       "376                       0                  0                            0   \n",
       "...                     ...                ...                          ...   \n",
       "1141                      0                  0                            0   \n",
       "569                       0                  0                            0   \n",
       "66                        0                  0                            0   \n",
       "118                       0                  0                            0   \n",
       "275                       0                  1                            0   \n",
       "\n",
       "      ...  referrer-policy  content-type  set-cookie  \\\n",
       "179   ...                0             0           0   \n",
       "1240  ...                0             0           0   \n",
       "953   ...                0             1           0   \n",
       "1218  ...                0             0           0   \n",
       "376   ...                0             1           0   \n",
       "...   ...              ...           ...         ...   \n",
       "1141  ...                0             1           0   \n",
       "569   ...                0             0           0   \n",
       "66    ...                0             0           0   \n",
       "118   ...                0             0           0   \n",
       "275   ...                0             0           0   \n",
       "\n",
       "      access-control-allow-origin  server  x-powered-by  x-aspnet-version  \\\n",
       "179                             1       0             0                 0   \n",
       "1240                            0       0             0                 0   \n",
       "953                             0       1             0                 0   \n",
       "1218                            1       1             0                 0   \n",
       "376                             0       1             0                 0   \n",
       "...                           ...     ...           ...               ...   \n",
       "1141                            1       1             0                 0   \n",
       "569                             0       0             0                 0   \n",
       "66                              1       1             0                 0   \n",
       "118                             1       1             0                 0   \n",
       "275                             1       1             0                 0   \n",
       "\n",
       "      x-ratelimit-limit  metadata_fields_count  parameters_count  \n",
       "179                   0                      3                 0  \n",
       "1240                  0                      1                 0  \n",
       "953                   0                      2                 2  \n",
       "1218                  0                      8                 1  \n",
       "376                   0                      4                 1  \n",
       "...                 ...                    ...               ...  \n",
       "1141                  0                      3                 1  \n",
       "569                   0                      2                 1  \n",
       "66                    0                      8                 0  \n",
       "118                   0                      5                 0  \n",
       "275                   0                      3                 1  \n",
       "\n",
       "[1052 rows x 52 columns]"
      ]
     },
     "execution_count": 11,
     "metadata": {},
     "output_type": "execute_result"
    }
   ],
   "source": [
    "X_train"
   ]
  },
  {
   "cell_type": "code",
   "execution_count": 12,
   "id": "5bdd9d22-3459-4b8e-844b-042c8d8d996c",
   "metadata": {},
   "outputs": [
    {
     "data": {
      "text/html": [
       "<style>#sk-container-id-1 {color: black;background-color: white;}#sk-container-id-1 pre{padding: 0;}#sk-container-id-1 div.sk-toggleable {background-color: white;}#sk-container-id-1 label.sk-toggleable__label {cursor: pointer;display: block;width: 100%;margin-bottom: 0;padding: 0.3em;box-sizing: border-box;text-align: center;}#sk-container-id-1 label.sk-toggleable__label-arrow:before {content: \"▸\";float: left;margin-right: 0.25em;color: #696969;}#sk-container-id-1 label.sk-toggleable__label-arrow:hover:before {color: black;}#sk-container-id-1 div.sk-estimator:hover label.sk-toggleable__label-arrow:before {color: black;}#sk-container-id-1 div.sk-toggleable__content {max-height: 0;max-width: 0;overflow: hidden;text-align: left;background-color: #f0f8ff;}#sk-container-id-1 div.sk-toggleable__content pre {margin: 0.2em;color: black;border-radius: 0.25em;background-color: #f0f8ff;}#sk-container-id-1 input.sk-toggleable__control:checked~div.sk-toggleable__content {max-height: 200px;max-width: 100%;overflow: auto;}#sk-container-id-1 input.sk-toggleable__control:checked~label.sk-toggleable__label-arrow:before {content: \"▾\";}#sk-container-id-1 div.sk-estimator input.sk-toggleable__control:checked~label.sk-toggleable__label {background-color: #d4ebff;}#sk-container-id-1 div.sk-label input.sk-toggleable__control:checked~label.sk-toggleable__label {background-color: #d4ebff;}#sk-container-id-1 input.sk-hidden--visually {border: 0;clip: rect(1px 1px 1px 1px);clip: rect(1px, 1px, 1px, 1px);height: 1px;margin: -1px;overflow: hidden;padding: 0;position: absolute;width: 1px;}#sk-container-id-1 div.sk-estimator {font-family: monospace;background-color: #f0f8ff;border: 1px dotted black;border-radius: 0.25em;box-sizing: border-box;margin-bottom: 0.5em;}#sk-container-id-1 div.sk-estimator:hover {background-color: #d4ebff;}#sk-container-id-1 div.sk-parallel-item::after {content: \"\";width: 100%;border-bottom: 1px solid gray;flex-grow: 1;}#sk-container-id-1 div.sk-label:hover label.sk-toggleable__label {background-color: #d4ebff;}#sk-container-id-1 div.sk-serial::before {content: \"\";position: absolute;border-left: 1px solid gray;box-sizing: border-box;top: 0;bottom: 0;left: 50%;z-index: 0;}#sk-container-id-1 div.sk-serial {display: flex;flex-direction: column;align-items: center;background-color: white;padding-right: 0.2em;padding-left: 0.2em;position: relative;}#sk-container-id-1 div.sk-item {position: relative;z-index: 1;}#sk-container-id-1 div.sk-parallel {display: flex;align-items: stretch;justify-content: center;background-color: white;position: relative;}#sk-container-id-1 div.sk-item::before, #sk-container-id-1 div.sk-parallel-item::before {content: \"\";position: absolute;border-left: 1px solid gray;box-sizing: border-box;top: 0;bottom: 0;left: 50%;z-index: -1;}#sk-container-id-1 div.sk-parallel-item {display: flex;flex-direction: column;z-index: 1;position: relative;background-color: white;}#sk-container-id-1 div.sk-parallel-item:first-child::after {align-self: flex-end;width: 50%;}#sk-container-id-1 div.sk-parallel-item:last-child::after {align-self: flex-start;width: 50%;}#sk-container-id-1 div.sk-parallel-item:only-child::after {width: 0;}#sk-container-id-1 div.sk-dashed-wrapped {border: 1px dashed gray;margin: 0 0.4em 0.5em 0.4em;box-sizing: border-box;padding-bottom: 0.4em;background-color: white;}#sk-container-id-1 div.sk-label label {font-family: monospace;font-weight: bold;display: inline-block;line-height: 1.2em;}#sk-container-id-1 div.sk-label-container {text-align: center;}#sk-container-id-1 div.sk-container {/* jupyter's `normalize.less` sets `[hidden] { display: none; }` but bootstrap.min.css set `[hidden] { display: none !important; }` so we also need the `!important` here to be able to override the default hidden behavior on the sphinx rendered scikit-learn.org. See: https://github.com/scikit-learn/scikit-learn/issues/21755 */display: inline-block !important;position: relative;}#sk-container-id-1 div.sk-text-repr-fallback {display: none;}</style><div id=\"sk-container-id-1\" class=\"sk-top-container\"><div class=\"sk-text-repr-fallback\"><pre>StandardScaler()</pre><b>In a Jupyter environment, please rerun this cell to show the HTML representation or trust the notebook. <br />On GitHub, the HTML representation is unable to render, please try loading this page with nbviewer.org.</b></div><div class=\"sk-container\" hidden><div class=\"sk-item\"><div class=\"sk-estimator sk-toggleable\"><input class=\"sk-toggleable__control sk-hidden--visually\" id=\"sk-estimator-id-1\" type=\"checkbox\" checked><label for=\"sk-estimator-id-1\" class=\"sk-toggleable__label sk-toggleable__label-arrow\">StandardScaler</label><div class=\"sk-toggleable__content\"><pre>StandardScaler()</pre></div></div></div></div></div>"
      ],
      "text/plain": [
       "StandardScaler()"
      ]
     },
     "execution_count": 12,
     "metadata": {},
     "output_type": "execute_result"
    }
   ],
   "source": [
    "scaler = StandardScaler()\n",
    "scaler.fit(X_train)"
   ]
  },
  {
   "cell_type": "markdown",
   "id": "3f918c0f-36ec-4018-be04-162e8aebdc77",
   "metadata": {},
   "source": [
    "## 1. Decision Tree"
   ]
  },
  {
   "cell_type": "markdown",
   "id": "7b9d54f4-25f9-435c-a84a-895042cec188",
   "metadata": {},
   "source": [
    "### Basic Approach"
   ]
  },
  {
   "cell_type": "code",
   "execution_count": 13,
   "id": "19ff1762-a1ca-4a31-bde3-4def0167e59f",
   "metadata": {},
   "outputs": [],
   "source": [
    "# https://scikit-learn.org/stable/modules/generated/sklearn.tree.DecisionTreeClassifier.html\n",
    "clf = tree.DecisionTreeClassifier(random_state=37, max_depth = 6, criterion='gini')"
   ]
  },
  {
   "cell_type": "code",
   "execution_count": 14,
   "id": "dceee329-36ab-4ceb-b340-9fc5439dc2d5",
   "metadata": {},
   "outputs": [],
   "source": [
    "clf = clf.fit(X_train,y_train)"
   ]
  },
  {
   "cell_type": "code",
   "execution_count": 15,
   "id": "e68206be-9c26-4c08-9b6b-f34ec0702821",
   "metadata": {},
   "outputs": [
    {
     "data": {
      "text/plain": [
       "array(['Medium', 'Low', 'Low', 'Low', 'Low', 'Low', 'Medium', 'Medium',\n",
       "       'Low', 'Medium', 'Medium', 'Medium', 'Low', 'Low', 'Medium',\n",
       "       'Medium', 'Low', 'Low', 'Medium', 'Medium', 'Low', 'Medium',\n",
       "       'Medium', 'Medium', 'Medium', 'Medium', 'Low', 'Low', 'Medium',\n",
       "       'Medium', 'Medium', 'Low', 'Medium', 'Medium', 'Low', 'Medium',\n",
       "       'Medium', 'Medium', 'Low', 'Low', 'Medium', 'Low', 'Medium', 'Low',\n",
       "       'Low', 'Medium', 'Medium', 'Medium', 'Medium', 'Medium', 'Medium',\n",
       "       'Low', 'Medium', 'Medium', 'Medium', 'Medium', 'Low', 'Low', 'Low',\n",
       "       'Low', 'Low', 'Medium', 'Medium', 'Medium', 'Low', 'Low', 'Low',\n",
       "       'Medium', 'Medium', 'Medium', 'Medium', 'Medium', 'Medium', 'Low',\n",
       "       'Medium', 'Medium', 'Low', 'Medium', 'Low', 'Medium', 'Low',\n",
       "       'Medium', 'Medium', 'Medium', 'Low', 'Low', 'Medium', 'Medium',\n",
       "       'Medium', 'Medium', 'Low', 'Medium', 'Medium', 'Low', 'Medium',\n",
       "       'Medium', 'Low', 'Medium', 'Medium', 'Medium', 'Low', 'Medium',\n",
       "       'Medium', 'Low', 'Medium', 'Medium', 'Low', 'Medium', 'Medium',\n",
       "       'Low', 'Low', 'Low', 'Medium', 'Low', 'Medium', 'Medium', 'Medium',\n",
       "       'Low', 'Medium', 'Low', 'Low', 'Low', 'Low', 'Medium', 'Medium',\n",
       "       'Low', 'Low', 'Low', 'Low', 'Medium', 'Medium', 'Low', 'Medium',\n",
       "       'Low', 'Medium', 'Medium', 'Low', 'Low', 'Medium', 'Low', 'Low',\n",
       "       'Low', 'Medium', 'Low', 'Medium', 'Medium', 'Medium', 'Low', 'Low',\n",
       "       'Low', 'Medium', 'Medium', 'Low', 'Medium', 'Low', 'Low', 'Medium',\n",
       "       'Low', 'Low', 'Medium', 'Medium', 'Medium', 'Low', 'Low', 'Low',\n",
       "       'Medium', 'Low', 'Low', 'Medium', 'Low', 'Low', 'Medium', 'Medium',\n",
       "       'Low', 'Medium', 'Low', 'Medium', 'Medium', 'Medium', 'Low',\n",
       "       'Medium', 'Medium', 'Low', 'Medium', 'Low', 'Low', 'Medium',\n",
       "       'Medium', 'Medium', 'Low', 'Low', 'Low', 'Low', 'Medium', 'Medium',\n",
       "       'Low', 'Medium', 'Low', 'Low', 'Low', 'Medium', 'Medium', 'Low',\n",
       "       'Medium', 'Medium', 'Low', 'Medium', 'Low', 'Medium', 'Medium',\n",
       "       'Medium', 'Medium', 'Medium', 'Low', 'Low', 'Low', 'Low', 'Low',\n",
       "       'Medium', 'Low', 'Medium', 'Medium', 'Low', 'Low', 'Medium', 'Low',\n",
       "       'Low', 'Low', 'Medium', 'Medium', 'Low', 'Medium', 'Low', 'Medium',\n",
       "       'Medium', 'Low', 'Medium', 'Medium', 'Medium', 'Low', 'Medium',\n",
       "       'Medium', 'Low', 'Medium', 'Medium', 'Low', 'Medium', 'Medium',\n",
       "       'Medium', 'Low', 'Low', 'Low', 'Low', 'Low', 'Low', 'Medium',\n",
       "       'Medium', 'Low', 'Low', 'Medium', 'Medium', 'Medium', 'High',\n",
       "       'Medium'], dtype=object)"
      ]
     },
     "execution_count": 15,
     "metadata": {},
     "output_type": "execute_result"
    }
   ],
   "source": [
    "clf.predict(X_test)"
   ]
  },
  {
   "cell_type": "code",
   "execution_count": 16,
   "id": "c3fba8ca-845a-41f0-a15a-76c74f4c3727",
   "metadata": {},
   "outputs": [
    {
     "data": {
      "image/png": "[encoded data removed]",
      "text/plain": [
       "<Figure size 1800x864 with 1 Axes>"
      ]
     },
     "metadata": {
      "needs_background": "light"
     },
     "output_type": "display_data"
    }
   ],
   "source": [
    "# Visualise the tree\n",
    "fig, axes = plt.subplots(nrows = 1,ncols = 1, figsize=(25,12))\n",
    "fn = list(X_train)\n",
    "cn = list(y_train)\n",
    "tree.plot_tree(clf, \n",
    "              feature_names = fn,\n",
    "              class_names = cn,\n",
    "              fontsize=10,\n",
    "              filled=True)\n",
    "fig.savefig('trial.png')"
   ]
  },
  {
   "cell_type": "code",
   "execution_count": 17,
   "id": "3c2a42f4-e868-4e88-93ef-f7c94f388034",
   "metadata": {},
   "outputs": [
    {
     "data": {
      "image/svg+xml": "<?xml version=\"1.0\" encoding=\"UTF-8\" standalone=\"no\"?>\n<!DOCTYPE svg PUBLIC \"-//W3C//DTD SVG 1.1//EN\"\n \"http://www.w3.org/Graphics/SVG/1.1/DTD/svg11.dtd\">\n<!-- Generated by graphviz version 3.0.0 (20220226.1711)\n -->\n<!-- Title: Tree Pages: 1 -->\n<svg width=\"808pt\" height=\"552pt\"\n viewBox=\"0.00 0.00 807.50 552.00\" xmlns=\"http://www.w3.org/2000/svg\" xmlns:xlink=\"http://www.w3.org/1999/xlink\">\n<g id=\"graph0\" class=\"graph\" transform=\"scale(1 1) rotate(0) translate(4 548)\">\n<title>Tree</title>\n<polygon fill=\"white\" stroke=\"transparent\" points=\"-4,4 -4,-548 803.5,-548 803.5,4 -4,4\"/>\n<!-- 0 -->\n<g id=\"node1\" class=\"node\">\n<title>0</title>\n<polygon fill=\"#f9fefb\" stroke=\"black\" points=\"478,-544 338,-544 338,-461 478,-461 478,-544\"/>\n<text text-anchor=\"middle\" x=\"408\" y=\"-528.8\" font-family=\"Helvetica,sans-Serif\" font-size=\"14.00\">is_pii &lt;= 0.5</text>\n<text text-anchor=\"middle\" x=\"408\" y=\"-513.8\" font-family=\"Helvetica,sans-Serif\" font-size=\"14.00\">gini = 0.503</text>\n<text text-anchor=\"middle\" x=\"408\" y=\"-498.8\" font-family=\"Helvetica,sans-Serif\" font-size=\"14.00\">samples = 1052</text>\n<text text-anchor=\"middle\" x=\"408\" y=\"-483.8\" font-family=\"Helvetica,sans-Serif\" font-size=\"14.00\">value = [3, 532, 517]</text>\n<text text-anchor=\"middle\" x=\"408\" y=\"-468.8\" font-family=\"Helvetica,sans-Serif\" font-size=\"14.00\">class = Low</text>\n</g>\n<!-- 1 -->\n<g id=\"node2\" class=\"node\">\n<title>1</title>\n<polygon fill=\"#8540e6\" stroke=\"black\" points=\"401,-425 269,-425 269,-342 401,-342 401,-425\"/>\n<text text-anchor=\"middle\" x=\"335\" y=\"-409.8\" font-family=\"Helvetica,sans-Serif\" font-size=\"14.00\">is_fii &lt;= 0.5</text>\n<text text-anchor=\"middle\" x=\"335\" y=\"-394.8\" font-family=\"Helvetica,sans-Serif\" font-size=\"14.00\">gini = 0.065</text>\n<text text-anchor=\"middle\" x=\"335\" y=\"-379.8\" font-family=\"Helvetica,sans-Serif\" font-size=\"14.00\">samples = 535</text>\n<text text-anchor=\"middle\" x=\"335\" y=\"-364.8\" font-family=\"Helvetica,sans-Serif\" font-size=\"14.00\">value = [1, 17, 517]</text>\n<text text-anchor=\"middle\" x=\"335\" y=\"-349.8\" font-family=\"Helvetica,sans-Serif\" font-size=\"14.00\">class = Medium</text>\n</g>\n<!-- 0&#45;&gt;1 -->\n<g id=\"edge1\" class=\"edge\">\n<title>0&#45;&gt;1</title>\n<path fill=\"none\" stroke=\"black\" d=\"M382.67,-460.91C377.18,-452.1 371.31,-442.7 365.64,-433.61\"/>\n<polygon fill=\"black\" stroke=\"black\" points=\"368.55,-431.65 360.28,-425.02 362.61,-435.36 368.55,-431.65\"/>\n<text text-anchor=\"middle\" x=\"354.64\" y=\"-445.68\" font-family=\"Helvetica,sans-Serif\" font-size=\"14.00\">True</text>\n</g>\n<!-- 10 -->\n<g id=\"node11\" class=\"node\">\n<title>10</title>\n<polygon fill=\"#3ae581\" stroke=\"black\" points=\"544.5,-425 419.5,-425 419.5,-342 544.5,-342 544.5,-425\"/>\n<text text-anchor=\"middle\" x=\"482\" y=\"-409.8\" font-family=\"Helvetica,sans-Serif\" font-size=\"14.00\">is_fii &lt;= 0.5</text>\n<text text-anchor=\"middle\" x=\"482\" y=\"-394.8\" font-family=\"Helvetica,sans-Serif\" font-size=\"14.00\">gini = 0.008</text>\n<text text-anchor=\"middle\" x=\"482\" y=\"-379.8\" font-family=\"Helvetica,sans-Serif\" font-size=\"14.00\">samples = 517</text>\n<text text-anchor=\"middle\" x=\"482\" y=\"-364.8\" font-family=\"Helvetica,sans-Serif\" font-size=\"14.00\">value = [2, 515, 0]</text>\n<text text-anchor=\"middle\" x=\"482\" y=\"-349.8\" font-family=\"Helvetica,sans-Serif\" font-size=\"14.00\">class = Low</text>\n</g>\n<!-- 0&#45;&gt;10 -->\n<g id=\"edge10\" class=\"edge\">\n<title>0&#45;&gt;10</title>\n<path fill=\"none\" stroke=\"black\" d=\"M433.67,-460.91C439.24,-452.1 445.19,-442.7 450.94,-433.61\"/>\n<polygon fill=\"black\" stroke=\"black\" points=\"453.98,-435.34 456.37,-425.02 448.07,-431.6 453.98,-435.34\"/>\n<text text-anchor=\"middle\" x=\"461.86\" y=\"-445.71\" font-family=\"Helvetica,sans-Serif\" font-size=\"14.00\">False</text>\n</g>\n<!-- 2 -->\n<g id=\"node3\" class=\"node\">\n<title>2</title>\n<polygon fill=\"#833ce5\" stroke=\"black\" points=\"260,-306 132,-306 132,-223 260,-223 260,-306\"/>\n<text text-anchor=\"middle\" x=\"196\" y=\"-290.8\" font-family=\"Helvetica,sans-Serif\" font-size=\"14.00\">x0_Missing &lt;= 0.5</text>\n<text text-anchor=\"middle\" x=\"196\" y=\"-275.8\" font-family=\"Helvetica,sans-Serif\" font-size=\"14.00\">gini = 0.026</text>\n<text text-anchor=\"middle\" x=\"196\" y=\"-260.8\" font-family=\"Helvetica,sans-Serif\" font-size=\"14.00\">samples = 524</text>\n<text text-anchor=\"middle\" x=\"196\" y=\"-245.8\" font-family=\"Helvetica,sans-Serif\" font-size=\"14.00\">value = [1, 6, 517]</text>\n<text text-anchor=\"middle\" x=\"196\" y=\"-230.8\" font-family=\"Helvetica,sans-Serif\" font-size=\"14.00\">class = Medium</text>\n</g>\n<!-- 1&#45;&gt;2 -->\n<g id=\"edge2\" class=\"edge\">\n<title>1&#45;&gt;2</title>\n<path fill=\"none\" stroke=\"black\" d=\"M286.77,-341.91C275.56,-332.47 263.53,-322.34 252.01,-312.65\"/>\n<polygon fill=\"black\" stroke=\"black\" points=\"254.04,-309.78 244.14,-306.02 249.54,-315.14 254.04,-309.78\"/>\n</g>\n<!-- 9 -->\n<g id=\"node10\" class=\"node\">\n<title>9</title>\n<polygon fill=\"#39e581\" stroke=\"black\" points=\"395.5,-298.5 278.5,-298.5 278.5,-230.5 395.5,-230.5 395.5,-298.5\"/>\n<text text-anchor=\"middle\" x=\"337\" y=\"-283.3\" font-family=\"Helvetica,sans-Serif\" font-size=\"14.00\">gini = 0.0</text>\n<text text-anchor=\"middle\" x=\"337\" y=\"-268.3\" font-family=\"Helvetica,sans-Serif\" font-size=\"14.00\">samples = 11</text>\n<text text-anchor=\"middle\" x=\"337\" y=\"-253.3\" font-family=\"Helvetica,sans-Serif\" font-size=\"14.00\">value = [0, 11, 0]</text>\n<text text-anchor=\"middle\" x=\"337\" y=\"-238.3\" font-family=\"Helvetica,sans-Serif\" font-size=\"14.00\">class = Low</text>\n</g>\n<!-- 1&#45;&gt;9 -->\n<g id=\"edge9\" class=\"edge\">\n<title>1&#45;&gt;9</title>\n<path fill=\"none\" stroke=\"black\" d=\"M335.69,-341.91C335.88,-331.2 336.07,-319.62 336.26,-308.78\"/>\n<polygon fill=\"black\" stroke=\"black\" points=\"339.76,-308.73 336.43,-298.67 332.76,-308.61 339.76,-308.73\"/>\n</g>\n<!-- 3 -->\n<g id=\"node4\" class=\"node\">\n<title>3</title>\n<polygon fill=\"#61ea9a\" stroke=\"black\" points=\"267.5,-187 54.5,-187 54.5,-104 267.5,-104 267.5,-187\"/>\n<text text-anchor=\"middle\" x=\"161\" y=\"-171.8\" font-family=\"Helvetica,sans-Serif\" font-size=\"14.00\">x0_Broken Authentication &lt;= 0.5</text>\n<text text-anchor=\"middle\" x=\"161\" y=\"-156.8\" font-family=\"Helvetica,sans-Serif\" font-size=\"14.00\">gini = 0.278</text>\n<text text-anchor=\"middle\" x=\"161\" y=\"-141.8\" font-family=\"Helvetica,sans-Serif\" font-size=\"14.00\">samples = 6</text>\n<text text-anchor=\"middle\" x=\"161\" y=\"-126.8\" font-family=\"Helvetica,sans-Serif\" font-size=\"14.00\">value = [1, 5, 0]</text>\n<text text-anchor=\"middle\" x=\"161\" y=\"-111.8\" font-family=\"Helvetica,sans-Serif\" font-size=\"14.00\">class = Low</text>\n</g>\n<!-- 2&#45;&gt;3 -->\n<g id=\"edge3\" class=\"edge\">\n<title>2&#45;&gt;3</title>\n<path fill=\"none\" stroke=\"black\" d=\"M183.86,-222.91C181.33,-214.47 178.64,-205.48 176.03,-196.74\"/>\n<polygon fill=\"black\" stroke=\"black\" points=\"179.34,-195.6 173.12,-187.02 172.63,-197.6 179.34,-195.6\"/>\n</g>\n<!-- 6 -->\n<g id=\"node7\" class=\"node\">\n<title>6</title>\n<polygon fill=\"#8139e5\" stroke=\"black\" points=\"482,-187 286,-187 286,-104 482,-104 482,-187\"/>\n<text text-anchor=\"middle\" x=\"384\" y=\"-171.8\" font-family=\"Helvetica,sans-Serif\" font-size=\"14.00\">metadata_fields_count &lt;= 0.5</text>\n<text text-anchor=\"middle\" x=\"384\" y=\"-156.8\" font-family=\"Helvetica,sans-Serif\" font-size=\"14.00\">gini = 0.004</text>\n<text text-anchor=\"middle\" x=\"384\" y=\"-141.8\" font-family=\"Helvetica,sans-Serif\" font-size=\"14.00\">samples = 518</text>\n<text text-anchor=\"middle\" x=\"384\" y=\"-126.8\" font-family=\"Helvetica,sans-Serif\" font-size=\"14.00\">value = [0, 1, 517]</text>\n<text text-anchor=\"middle\" x=\"384\" y=\"-111.8\" font-family=\"Helvetica,sans-Serif\" font-size=\"14.00\">class = Medium</text>\n</g>\n<!-- 2&#45;&gt;6 -->\n<g id=\"edge6\" class=\"edge\">\n<title>2&#45;&gt;6</title>\n<path fill=\"none\" stroke=\"black\" d=\"M260.17,-223.56C276.3,-213.53 293.73,-202.68 310.28,-192.38\"/>\n<polygon fill=\"black\" stroke=\"black\" points=\"312.2,-195.31 318.84,-187.05 308.5,-189.37 312.2,-195.31\"/>\n</g>\n<!-- 4 -->\n<g id=\"node5\" class=\"node\">\n<title>4</title>\n<polygon fill=\"#39e581\" stroke=\"black\" points=\"110,-68 0,-68 0,0 110,0 110,-68\"/>\n<text text-anchor=\"middle\" x=\"55\" y=\"-52.8\" font-family=\"Helvetica,sans-Serif\" font-size=\"14.00\">gini = 0.0</text>\n<text text-anchor=\"middle\" x=\"55\" y=\"-37.8\" font-family=\"Helvetica,sans-Serif\" font-size=\"14.00\">samples = 5</text>\n<text text-anchor=\"middle\" x=\"55\" y=\"-22.8\" font-family=\"Helvetica,sans-Serif\" font-size=\"14.00\">value = [0, 5, 0]</text>\n<text text-anchor=\"middle\" x=\"55\" y=\"-7.8\" font-family=\"Helvetica,sans-Serif\" font-size=\"14.00\">class = Low</text>\n</g>\n<!-- 3&#45;&gt;4 -->\n<g id=\"edge4\" class=\"edge\">\n<title>3&#45;&gt;4</title>\n<path fill=\"none\" stroke=\"black\" d=\"M121.53,-103.73C112.61,-94.51 103.15,-84.74 94.24,-75.53\"/>\n<polygon fill=\"black\" stroke=\"black\" points=\"96.71,-73.05 87.24,-68.3 91.68,-77.92 96.71,-73.05\"/>\n</g>\n<!-- 5 -->\n<g id=\"node6\" class=\"node\">\n<title>5</title>\n<polygon fill=\"#e58139\" stroke=\"black\" points=\"241.5,-68 128.5,-68 128.5,0 241.5,0 241.5,-68\"/>\n<text text-anchor=\"middle\" x=\"185\" y=\"-52.8\" font-family=\"Helvetica,sans-Serif\" font-size=\"14.00\">gini = 0.0</text>\n<text text-anchor=\"middle\" x=\"185\" y=\"-37.8\" font-family=\"Helvetica,sans-Serif\" font-size=\"14.00\">samples = 1</text>\n<text text-anchor=\"middle\" x=\"185\" y=\"-22.8\" font-family=\"Helvetica,sans-Serif\" font-size=\"14.00\">value = [1, 0, 0]</text>\n<text text-anchor=\"middle\" x=\"185\" y=\"-7.8\" font-family=\"Helvetica,sans-Serif\" font-size=\"14.00\">class = Medium</text>\n</g>\n<!-- 3&#45;&gt;5 -->\n<g id=\"edge5\" class=\"edge\">\n<title>3&#45;&gt;5</title>\n<path fill=\"none\" stroke=\"black\" d=\"M169.94,-103.73C171.76,-95.43 173.68,-86.67 175.51,-78.28\"/>\n<polygon fill=\"black\" stroke=\"black\" points=\"178.98,-78.82 177.7,-68.3 172.14,-77.32 178.98,-78.82\"/>\n</g>\n<!-- 7 -->\n<g id=\"node8\" class=\"node\">\n<title>7</title>\n<polygon fill=\"#39e581\" stroke=\"black\" points=\"416,-68 306,-68 306,0 416,0 416,-68\"/>\n<text text-anchor=\"middle\" x=\"361\" y=\"-52.8\" font-family=\"Helvetica,sans-Serif\" font-size=\"14.00\">gini = 0.0</text>\n<text text-anchor=\"middle\" x=\"361\" y=\"-37.8\" font-family=\"Helvetica,sans-Serif\" font-size=\"14.00\">samples = 1</text>\n<text text-anchor=\"middle\" x=\"361\" y=\"-22.8\" font-family=\"Helvetica,sans-Serif\" font-size=\"14.00\">value = [0, 1, 0]</text>\n<text text-anchor=\"middle\" x=\"361\" y=\"-7.8\" font-family=\"Helvetica,sans-Serif\" font-size=\"14.00\">class = Low</text>\n</g>\n<!-- 6&#45;&gt;7 -->\n<g id=\"edge7\" class=\"edge\">\n<title>6&#45;&gt;7</title>\n<path fill=\"none\" stroke=\"black\" d=\"M375.44,-103.73C373.69,-95.43 371.85,-86.67 370.09,-78.28\"/>\n<polygon fill=\"black\" stroke=\"black\" points=\"373.48,-77.37 367.99,-68.3 366.62,-78.81 373.48,-77.37\"/>\n</g>\n<!-- 8 -->\n<g id=\"node9\" class=\"node\">\n<title>8</title>\n<polygon fill=\"#8139e5\" stroke=\"black\" points=\"559.5,-68 434.5,-68 434.5,0 559.5,0 559.5,-68\"/>\n<text text-anchor=\"middle\" x=\"497\" y=\"-52.8\" font-family=\"Helvetica,sans-Serif\" font-size=\"14.00\">gini = 0.0</text>\n<text text-anchor=\"middle\" x=\"497\" y=\"-37.8\" font-family=\"Helvetica,sans-Serif\" font-size=\"14.00\">samples = 517</text>\n<text text-anchor=\"middle\" x=\"497\" y=\"-22.8\" font-family=\"Helvetica,sans-Serif\" font-size=\"14.00\">value = [0, 0, 517]</text>\n<text text-anchor=\"middle\" x=\"497\" y=\"-7.8\" font-family=\"Helvetica,sans-Serif\" font-size=\"14.00\">class = Medium</text>\n</g>\n<!-- 6&#45;&gt;8 -->\n<g id=\"edge8\" class=\"edge\">\n<title>6&#45;&gt;8</title>\n<path fill=\"none\" stroke=\"black\" d=\"M426.08,-103.73C435.68,-94.42 445.87,-84.54 455.45,-75.26\"/>\n<polygon fill=\"black\" stroke=\"black\" points=\"457.89,-77.77 462.64,-68.3 453.02,-72.75 457.89,-77.77\"/>\n</g>\n<!-- 11 -->\n<g id=\"node12\" class=\"node\">\n<title>11</title>\n<polygon fill=\"#39e581\" stroke=\"black\" points=\"542.5,-298.5 417.5,-298.5 417.5,-230.5 542.5,-230.5 542.5,-298.5\"/>\n<text text-anchor=\"middle\" x=\"480\" y=\"-283.3\" font-family=\"Helvetica,sans-Serif\" font-size=\"14.00\">gini = 0.0</text>\n<text text-anchor=\"middle\" x=\"480\" y=\"-268.3\" font-family=\"Helvetica,sans-Serif\" font-size=\"14.00\">samples = 499</text>\n<text text-anchor=\"middle\" x=\"480\" y=\"-253.3\" font-family=\"Helvetica,sans-Serif\" font-size=\"14.00\">value = [0, 499, 0]</text>\n<text text-anchor=\"middle\" x=\"480\" y=\"-238.3\" font-family=\"Helvetica,sans-Serif\" font-size=\"14.00\">class = Low</text>\n</g>\n<!-- 10&#45;&gt;11 -->\n<g id=\"edge11\" class=\"edge\">\n<title>10&#45;&gt;11</title>\n<path fill=\"none\" stroke=\"black\" d=\"M481.31,-341.91C481.12,-331.2 480.93,-319.62 480.74,-308.78\"/>\n<polygon fill=\"black\" stroke=\"black\" points=\"484.24,-308.61 480.57,-298.67 477.24,-308.73 484.24,-308.61\"/>\n</g>\n<!-- 12 -->\n<g id=\"node13\" class=\"node\">\n<title>12</title>\n<polygon fill=\"#52e891\" stroke=\"black\" points=\"757,-306 561,-306 561,-223 757,-223 757,-306\"/>\n<text text-anchor=\"middle\" x=\"659\" y=\"-290.8\" font-family=\"Helvetica,sans-Serif\" font-size=\"14.00\">metadata_fields_count &lt;= 1.0</text>\n<text text-anchor=\"middle\" x=\"659\" y=\"-275.8\" font-family=\"Helvetica,sans-Serif\" font-size=\"14.00\">gini = 0.198</text>\n<text text-anchor=\"middle\" x=\"659\" y=\"-260.8\" font-family=\"Helvetica,sans-Serif\" font-size=\"14.00\">samples = 18</text>\n<text text-anchor=\"middle\" x=\"659\" y=\"-245.8\" font-family=\"Helvetica,sans-Serif\" font-size=\"14.00\">value = [2, 16, 0]</text>\n<text text-anchor=\"middle\" x=\"659\" y=\"-230.8\" font-family=\"Helvetica,sans-Serif\" font-size=\"14.00\">class = Low</text>\n</g>\n<!-- 10&#45;&gt;12 -->\n<g id=\"edge12\" class=\"edge\">\n<title>10&#45;&gt;12</title>\n<path fill=\"none\" stroke=\"black\" d=\"M543.41,-341.91C558.1,-332.2 573.89,-321.76 588.94,-311.81\"/>\n<polygon fill=\"black\" stroke=\"black\" points=\"591.29,-314.45 597.7,-306.02 587.43,-308.62 591.29,-314.45\"/>\n</g>\n<!-- 13 -->\n<g id=\"node14\" class=\"node\">\n<title>13</title>\n<polygon fill=\"#e58139\" stroke=\"black\" points=\"664.5,-179.5 551.5,-179.5 551.5,-111.5 664.5,-111.5 664.5,-179.5\"/>\n<text text-anchor=\"middle\" x=\"608\" y=\"-164.3\" font-family=\"Helvetica,sans-Serif\" font-size=\"14.00\">gini = 0.0</text>\n<text text-anchor=\"middle\" x=\"608\" y=\"-149.3\" font-family=\"Helvetica,sans-Serif\" font-size=\"14.00\">samples = 2</text>\n<text text-anchor=\"middle\" x=\"608\" y=\"-134.3\" font-family=\"Helvetica,sans-Serif\" font-size=\"14.00\">value = [2, 0, 0]</text>\n<text text-anchor=\"middle\" x=\"608\" y=\"-119.3\" font-family=\"Helvetica,sans-Serif\" font-size=\"14.00\">class = Medium</text>\n</g>\n<!-- 12&#45;&gt;13 -->\n<g id=\"edge13\" class=\"edge\">\n<title>12&#45;&gt;13</title>\n<path fill=\"none\" stroke=\"black\" d=\"M641.31,-222.91C636.54,-211.98 631.38,-200.14 626.57,-189.11\"/>\n<polygon fill=\"black\" stroke=\"black\" points=\"629.66,-187.44 622.46,-179.67 623.24,-190.23 629.66,-187.44\"/>\n</g>\n<!-- 14 -->\n<g id=\"node15\" class=\"node\">\n<title>14</title>\n<polygon fill=\"#39e581\" stroke=\"black\" points=\"799.5,-179.5 682.5,-179.5 682.5,-111.5 799.5,-111.5 799.5,-179.5\"/>\n<text text-anchor=\"middle\" x=\"741\" y=\"-164.3\" font-family=\"Helvetica,sans-Serif\" font-size=\"14.00\">gini = 0.0</text>\n<text text-anchor=\"middle\" x=\"741\" y=\"-149.3\" font-family=\"Helvetica,sans-Serif\" font-size=\"14.00\">samples = 16</text>\n<text text-anchor=\"middle\" x=\"741\" y=\"-134.3\" font-family=\"Helvetica,sans-Serif\" font-size=\"14.00\">value = [0, 16, 0]</text>\n<text text-anchor=\"middle\" x=\"741\" y=\"-119.3\" font-family=\"Helvetica,sans-Serif\" font-size=\"14.00\">class = Low</text>\n</g>\n<!-- 12&#45;&gt;14 -->\n<g id=\"edge14\" class=\"edge\">\n<title>12&#45;&gt;14</title>\n<path fill=\"none\" stroke=\"black\" d=\"M687.45,-222.91C695.34,-211.65 703.91,-199.42 711.84,-188.11\"/>\n<polygon fill=\"black\" stroke=\"black\" points=\"714.88,-189.86 717.75,-179.67 709.15,-185.85 714.88,-189.86\"/>\n</g>\n</g>\n</svg>\n",
      "text/plain": [
       "<graphviz.sources.Source at 0x166c98580>"
      ]
     },
     "execution_count": 17,
     "metadata": {},
     "output_type": "execute_result"
    }
   ],
   "source": [
    "# Alternative visualisation\n",
    "visualise_tree = tree.export_graphviz(clf, out_file=None,\n",
    "                                      feature_names = fn,\n",
    "                                      class_names = cn,\n",
    "                                     filled=True)\n",
    "graph = graphviz.Source(visualise_tree)\n",
    "graph\n",
    "\n",
    "# See here for more [https://scikit-learn.org/stable/modules/tree.html]\n"
   ]
  },
  {
   "cell_type": "code",
   "execution_count": 18,
   "id": "e65db671-8342-4ec4-838c-107a23a53a98",
   "metadata": {},
   "outputs": [
    {
     "name": "stdout",
     "output_type": "stream",
     "text": [
      "Accuracy: 1.0\n"
     ]
    }
   ],
   "source": [
    "y_pred = clf.predict(X_test)\n",
    "print(\"Accuracy:\", metrics.accuracy_score(y_test, y_pred))"
   ]
  },
  {
   "cell_type": "markdown",
   "id": "69ebbf38-da42-46cd-885c-b90383a7bc21",
   "metadata": {
    "jp-MarkdownHeadingCollapsed": true,
    "tags": []
   },
   "source": [
    "### Various hyperparameters to attempt"
   ]
  },
  {
   "cell_type": "code",
   "execution_count": 19,
   "id": "5bab92e7-c852-4876-a3e3-111768ca41b8",
   "metadata": {},
   "outputs": [
    {
     "name": "stdout",
     "output_type": "stream",
     "text": [
      "Accuracy: 1.0\n"
     ]
    }
   ],
   "source": [
    "# max depth\n",
    "clf_maxdepth = DecisionTreeClassifier(random_state=37, max_depth=5)\n",
    "clf_maxdepth = clf_maxdepth.fit(X_train,y_train)\n",
    "y_pred = clf_maxdepth.predict(X_test)\n",
    "print(\"Accuracy:\", metrics.accuracy_score(y_test, y_pred))"
   ]
  },
  {
   "cell_type": "code",
   "execution_count": 20,
   "id": "82e06966-19f8-4da5-afbd-d71f7392d4bf",
   "metadata": {},
   "outputs": [
    {
     "name": "stdout",
     "output_type": "stream",
     "text": [
      "Accuracy: 0.9962121212121212\n"
     ]
    }
   ],
   "source": [
    "# max_leaf_nodes\n",
    "clf_maxleafnode = DecisionTreeClassifier(random_state=37, max_leaf_nodes=5)\n",
    "clf_maxleafnode = clf_maxleafnode.fit(X_train,y_train)\n",
    "y_pred = clf_maxleafnode.predict(X_test)\n",
    "print(\"Accuracy:\", metrics.accuracy_score(y_test, y_pred))"
   ]
  },
  {
   "cell_type": "markdown",
   "id": "cc0e9ac5-1e25-4393-8f2e-4d3b98bd0df0",
   "metadata": {},
   "source": [
    "## 2. Random Forest"
   ]
  },
  {
   "cell_type": "markdown",
   "id": "5baa62bb-c8f5-4fee-a361-ecd49e66235a",
   "metadata": {
    "jp-MarkdownHeadingCollapsed": true,
    "tags": []
   },
   "source": [
    "### Basic Approach"
   ]
  },
  {
   "cell_type": "code",
   "execution_count": 21,
   "id": "082a21be-76a6-4f59-8370-2c79f8e27441",
   "metadata": {},
   "outputs": [],
   "source": [
    "def mean_std_cross_val_scores(model, X_train, y_train, **kwargs):\n",
    "    \"\"\"\n",
    "    Returns mean and std of cross validation\n",
    "\n",
    "    Parameters\n",
    "    ----------\n",
    "    model :\n",
    "        scikit-learn model\n",
    "    X_train : numpy array or pandas DataFrame\n",
    "        X in the training data\n",
    "    y_train :\n",
    "        y in the training data\n",
    "\n",
    "    Returns\n",
    "    ----------\n",
    "        pandas Series with mean scores from cross_validation\n",
    "    \"\"\"\n",
    "\n",
    "    scores = cross_validate(model, X_train, y_train, **kwargs)\n",
    "\n",
    "    mean_scores = pd.DataFrame(scores).mean()\n",
    "    std_scores = pd.DataFrame(scores).std()\n",
    "    out_col = []\n",
    "\n",
    "    for i in range(len(mean_scores)):\n",
    "        out_col.append((f\"%0.3f (+/- %0.3f)\" % (mean_scores[i], std_scores[i])))\n",
    "\n",
    "    return pd.Series(data=out_col, index=mean_scores.index)"
   ]
  },
  {
   "cell_type": "code",
   "execution_count": 22,
   "id": "c0a1197e-ffd0-4cf6-9480-f015282321da",
   "metadata": {},
   "outputs": [],
   "source": [
    "scoring_metric = [\"accuracy\", \"f1_weighted\"]\n",
    "results = {}"
   ]
  },
  {
   "cell_type": "code",
   "execution_count": 23,
   "id": "8eebf815-b695-4850-aa31-c267ece0b433",
   "metadata": {},
   "outputs": [
    {
     "data": {
      "text/html": [
       "<style>#sk-container-id-2 {color: black;background-color: white;}#sk-container-id-2 pre{padding: 0;}#sk-container-id-2 div.sk-toggleable {background-color: white;}#sk-container-id-2 label.sk-toggleable__label {cursor: pointer;display: block;width: 100%;margin-bottom: 0;padding: 0.3em;box-sizing: border-box;text-align: center;}#sk-container-id-2 label.sk-toggleable__label-arrow:before {content: \"▸\";float: left;margin-right: 0.25em;color: #696969;}#sk-container-id-2 label.sk-toggleable__label-arrow:hover:before {color: black;}#sk-container-id-2 div.sk-estimator:hover label.sk-toggleable__label-arrow:before {color: black;}#sk-container-id-2 div.sk-toggleable__content {max-height: 0;max-width: 0;overflow: hidden;text-align: left;background-color: #f0f8ff;}#sk-container-id-2 div.sk-toggleable__content pre {margin: 0.2em;color: black;border-radius: 0.25em;background-color: #f0f8ff;}#sk-container-id-2 input.sk-toggleable__control:checked~div.sk-toggleable__content {max-height: 200px;max-width: 100%;overflow: auto;}#sk-container-id-2 input.sk-toggleable__control:checked~label.sk-toggleable__label-arrow:before {content: \"▾\";}#sk-container-id-2 div.sk-estimator input.sk-toggleable__control:checked~label.sk-toggleable__label {background-color: #d4ebff;}#sk-container-id-2 div.sk-label input.sk-toggleable__control:checked~label.sk-toggleable__label {background-color: #d4ebff;}#sk-container-id-2 input.sk-hidden--visually {border: 0;clip: rect(1px 1px 1px 1px);clip: rect(1px, 1px, 1px, 1px);height: 1px;margin: -1px;overflow: hidden;padding: 0;position: absolute;width: 1px;}#sk-container-id-2 div.sk-estimator {font-family: monospace;background-color: #f0f8ff;border: 1px dotted black;border-radius: 0.25em;box-sizing: border-box;margin-bottom: 0.5em;}#sk-container-id-2 div.sk-estimator:hover {background-color: #d4ebff;}#sk-container-id-2 div.sk-parallel-item::after {content: \"\";width: 100%;border-bottom: 1px solid gray;flex-grow: 1;}#sk-container-id-2 div.sk-label:hover label.sk-toggleable__label {background-color: #d4ebff;}#sk-container-id-2 div.sk-serial::before {content: \"\";position: absolute;border-left: 1px solid gray;box-sizing: border-box;top: 0;bottom: 0;left: 50%;z-index: 0;}#sk-container-id-2 div.sk-serial {display: flex;flex-direction: column;align-items: center;background-color: white;padding-right: 0.2em;padding-left: 0.2em;position: relative;}#sk-container-id-2 div.sk-item {position: relative;z-index: 1;}#sk-container-id-2 div.sk-parallel {display: flex;align-items: stretch;justify-content: center;background-color: white;position: relative;}#sk-container-id-2 div.sk-item::before, #sk-container-id-2 div.sk-parallel-item::before {content: \"\";position: absolute;border-left: 1px solid gray;box-sizing: border-box;top: 0;bottom: 0;left: 50%;z-index: -1;}#sk-container-id-2 div.sk-parallel-item {display: flex;flex-direction: column;z-index: 1;position: relative;background-color: white;}#sk-container-id-2 div.sk-parallel-item:first-child::after {align-self: flex-end;width: 50%;}#sk-container-id-2 div.sk-parallel-item:last-child::after {align-self: flex-start;width: 50%;}#sk-container-id-2 div.sk-parallel-item:only-child::after {width: 0;}#sk-container-id-2 div.sk-dashed-wrapped {border: 1px dashed gray;margin: 0 0.4em 0.5em 0.4em;box-sizing: border-box;padding-bottom: 0.4em;background-color: white;}#sk-container-id-2 div.sk-label label {font-family: monospace;font-weight: bold;display: inline-block;line-height: 1.2em;}#sk-container-id-2 div.sk-label-container {text-align: center;}#sk-container-id-2 div.sk-container {/* jupyter's `normalize.less` sets `[hidden] { display: none; }` but bootstrap.min.css set `[hidden] { display: none !important; }` so we also need the `!important` here to be able to override the default hidden behavior on the sphinx rendered scikit-learn.org. See: https://github.com/scikit-learn/scikit-learn/issues/21755 */display: inline-block !important;position: relative;}#sk-container-id-2 div.sk-text-repr-fallback {display: none;}</style><div id=\"sk-container-id-2\" class=\"sk-top-container\"><div class=\"sk-text-repr-fallback\"><pre>RandomForestClassifier(n_jobs=-1, random_state=37)</pre><b>In a Jupyter environment, please rerun this cell to show the HTML representation or trust the notebook. <br />On GitHub, the HTML representation is unable to render, please try loading this page with nbviewer.org.</b></div><div class=\"sk-container\" hidden><div class=\"sk-item\"><div class=\"sk-estimator sk-toggleable\"><input class=\"sk-toggleable__control sk-hidden--visually\" id=\"sk-estimator-id-2\" type=\"checkbox\" checked><label for=\"sk-estimator-id-2\" class=\"sk-toggleable__label sk-toggleable__label-arrow\">RandomForestClassifier</label><div class=\"sk-toggleable__content\"><pre>RandomForestClassifier(n_jobs=-1, random_state=37)</pre></div></div></div></div></div>"
      ],
      "text/plain": [
       "RandomForestClassifier(n_jobs=-1, random_state=37)"
      ]
     },
     "execution_count": 23,
     "metadata": {},
     "output_type": "execute_result"
    }
   ],
   "source": [
    "# https://scikit-learn.org/stable/modules/generated/sklearn.ensemble.RandomForestClassifier.html\n",
    "rf_clf = RandomForestClassifier(n_estimators=100, random_state=37, n_jobs=-1) # n_estimators = no. of trees in the forest\n",
    "rf_clf.fit(X_train, y_train)"
   ]
  },
  {
   "cell_type": "code",
   "execution_count": 24,
   "id": "f6747306-d95b-493d-8e7a-d572da2f347e",
   "metadata": {},
   "outputs": [
    {
     "name": "stderr",
     "output_type": "stream",
     "text": [
      "/Users/sonchau/miniconda3/envs/capstone/lib/python3.9/site-packages/sklearn/model_selection/_split.py:680: UserWarning: The least populated class in y has only 3 members, which is less than n_splits=5.\n",
      "  warnings.warn(\n"
     ]
    },
    {
     "data": {
      "text/html": [
       "<div>\n",
       "<style scoped>\n",
       "    .dataframe tbody tr th:only-of-type {\n",
       "        vertical-align: middle;\n",
       "    }\n",
       "\n",
       "    .dataframe tbody tr th {\n",
       "        vertical-align: top;\n",
       "    }\n",
       "\n",
       "    .dataframe thead th {\n",
       "        text-align: right;\n",
       "    }\n",
       "</style>\n",
       "<table border=\"1\" class=\"dataframe\">\n",
       "  <thead>\n",
       "    <tr style=\"text-align: right;\">\n",
       "      <th></th>\n",
       "      <th>fit_time</th>\n",
       "      <th>score_time</th>\n",
       "      <th>test_accuracy</th>\n",
       "      <th>train_accuracy</th>\n",
       "      <th>test_f1_weighted</th>\n",
       "      <th>train_f1_weighted</th>\n",
       "    </tr>\n",
       "  </thead>\n",
       "  <tbody>\n",
       "    <tr>\n",
       "      <th>Random forests</th>\n",
       "      <td>4.348 (+/- 9.524)</td>\n",
       "      <td>0.026 (+/- 0.010)</td>\n",
       "      <td>0.996 (+/- 0.004)</td>\n",
       "      <td>1.000 (+/- 0.000)</td>\n",
       "      <td>0.995 (+/- 0.004)</td>\n",
       "      <td>1.000 (+/- 0.000)</td>\n",
       "    </tr>\n",
       "  </tbody>\n",
       "</table>\n",
       "</div>"
      ],
      "text/plain": [
       "                         fit_time         score_time      test_accuracy  \\\n",
       "Random forests  4.348 (+/- 9.524)  0.026 (+/- 0.010)  0.996 (+/- 0.004)   \n",
       "\n",
       "                   train_accuracy   test_f1_weighted  train_f1_weighted  \n",
       "Random forests  1.000 (+/- 0.000)  0.995 (+/- 0.004)  1.000 (+/- 0.000)  "
      ]
     },
     "execution_count": 24,
     "metadata": {},
     "output_type": "execute_result"
    }
   ],
   "source": [
    "results[\"Random forests\"] = mean_std_cross_val_scores(\n",
    "    rf_clf, X_train, y_train, return_train_score=True, scoring=scoring_metric\n",
    ")\n",
    "pd.DataFrame(results).T"
   ]
  },
  {
   "cell_type": "code",
   "execution_count": 25,
   "id": "c73ccffe-ff00-4cf7-8f9b-a34d7f905533",
   "metadata": {},
   "outputs": [],
   "source": [
    "# rf_clf(X_test)"
   ]
  },
  {
   "cell_type": "code",
   "execution_count": 26,
   "id": "e532d915-2149-4e5a-a835-2d8f391a0c5a",
   "metadata": {},
   "outputs": [],
   "source": [
    "# print(\"Accuracy:\", metrics.accuracy_score(y_test, y_pred_rf_clf))"
   ]
  },
  {
   "cell_type": "code",
   "execution_count": 27,
   "id": "8a2e9141-63d4-487c-9897-5de2ac1743e1",
   "metadata": {},
   "outputs": [],
   "source": [
    "# feature importance\n",
    "# feature_imp = pd.Series(rf_clf.feature_importances_, \n",
    "                        # index = X_train.feature_names).sort_values(ascending = False)\n",
    "# feature_imp"
   ]
  },
  {
   "cell_type": "markdown",
   "id": "e145efbc-af46-4209-a877-d7c8382985ae",
   "metadata": {
    "jp-MarkdownHeadingCollapsed": true,
    "tags": []
   },
   "source": [
    "### Various hyperparameters to attempt"
   ]
  },
  {
   "cell_type": "code",
   "execution_count": 28,
   "id": "660cbf68-89d6-4210-b559-807a6393b955",
   "metadata": {},
   "outputs": [],
   "source": [
    "# random_grid = {'bootstrap': [True, False],\n",
    "#                'max_depth': [2, 4, 6, 8, 10, 12, None],\n",
    "#                'max_features': ['auto', 'sqrt'],\n",
    "#                'min_samples_leaf': [1, 2, 4],\n",
    "#                'min_samples_split': [2, 5, 10],\n",
    "#                'n_estimators': [130, 180, 230]}"
   ]
  },
  {
   "cell_type": "code",
   "execution_count": 29,
   "id": "969e79e1-edef-4c6c-82d5-a5d3fe673f73",
   "metadata": {},
   "outputs": [],
   "source": [
    "# scoring_metric = [\"accuracy\"]\n",
    "# rf_random = RandomizedSearchCV(estimator = rf, \n",
    "#                                param_distributions = random_grid, \n",
    "#                                n_iter = 100, \n",
    "#                                cv = 3, \n",
    "#                                verbose=2, \n",
    "#                                random_state=37, \n",
    "#                                n_jobs = -1,\n",
    "#                                scoring = scoring_metric,\n",
    "#                                return_train_score=True)"
   ]
  },
  {
   "cell_type": "code",
   "execution_count": 30,
   "id": "96c2d4bd-2d58-4789-8beb-562b46ed3a4c",
   "metadata": {},
   "outputs": [],
   "source": [
    "# rf_random.fit(X_train, y_train)"
   ]
  },
  {
   "cell_type": "code",
   "execution_count": 31,
   "id": "ead1889d-2e59-4ee1-8cdc-75f83f278087",
   "metadata": {},
   "outputs": [],
   "source": [
    "# cv_results = rf_random.cv_results_\n",
    "# for mean_score, params in zip(cv_results[\"mean_test_score\"], cvres[\"params\"]):\n",
    "#     print(np.sqrt(-mean_score), params)"
   ]
  },
  {
   "cell_type": "code",
   "execution_count": 32,
   "id": "330a56a6-6b1d-44d2-b4b8-7dbf86058870",
   "metadata": {},
   "outputs": [],
   "source": [
    "# find best params\n",
    "# best_params = rf_random.best_params_\n",
    "# best_params"
   ]
  },
  {
   "cell_type": "code",
   "execution_count": 33,
   "id": "5a11e9c6-0f8f-47cb-a754-603cea199f68",
   "metadata": {},
   "outputs": [],
   "source": [
    "# best score\n",
    "# rf_random.best_score_"
   ]
  },
  {
   "cell_type": "code",
   "execution_count": 34,
   "id": "ef1f0059-46fc-4546-87c3-9b4257411655",
   "metadata": {},
   "outputs": [],
   "source": [
    "# df_rf_random = pd.DataFrame(rf_random.cv_results_)\n",
    "# df_rf_random"
   ]
  },
  {
   "cell_type": "markdown",
   "id": "9ee5929d-2e7b-4dfe-9b45-f742c025a62b",
   "metadata": {},
   "source": [
    "## 3. All the boosts"
   ]
  },
  {
   "cell_type": "markdown",
   "id": "0f76924b-66fd-433c-b9e8-ca8d8025fe1f",
   "metadata": {},
   "source": [
    "### Reference:\n",
    "https://pages.github.ubc.ca/mds-2021-22/DSCI_573_feat-model-select_students/lectures/05_ensembles.html"
   ]
  },
  {
   "cell_type": "code",
   "execution_count": 35,
   "id": "a4184f36-cc02-445d-8cdb-345daf5cf7a7",
   "metadata": {},
   "outputs": [],
   "source": [
    "classifiers = {\n",
    "    \"CatBoost\": CatBoostClassifier(verbose=0, random_state=37),\n",
    "    \"XGBoost\": XGBClassifier(random_state=37, eval_metric='logloss', verbosity=0),\n",
    "    # \"LightGBM\": LGBMClassifier(random_state=37),\n",
    "    \"Decision Tree\": DecisionTreeClassifier(random_state=37),\n",
    "    \"Random Forest\": RandomForestClassifier(n_estimators=100, random_state=37)\n",
    "}"
   ]
  },
  {
   "cell_type": "code",
   "execution_count": 36,
   "id": "5769920e-de27-4a91-8b24-8915706e16f7",
   "metadata": {},
   "outputs": [],
   "source": [
    "results = {}\n",
    "scoring_metric = [\"accuracy\", \"f1_macro\", \"recall_macro\"]"
   ]
  },
  {
   "cell_type": "code",
   "execution_count": 37,
   "id": "eebb35e3-d06d-43c1-b682-5f1b54a92914",
   "metadata": {},
   "outputs": [],
   "source": [
    "def mean_std_cross_val_scores(model, X_train, y_train, **kwargs):\n",
    "    \"\"\"\n",
    "    Returns mean and std of cross validation\n",
    "\n",
    "    Parameters\n",
    "    ----------\n",
    "    model :\n",
    "        scikit-learn model\n",
    "    X_train : numpy array or pandas DataFrame\n",
    "        X in the training data\n",
    "    y_train :\n",
    "        y in the training data\n",
    "\n",
    "    Returns\n",
    "    ----------\n",
    "        pandas Series with mean scores from cross_validation\n",
    "    \"\"\"\n",
    "\n",
    "    scores = cross_validate(model, X_train, y_train, **kwargs)\n",
    "\n",
    "    mean_scores = pd.DataFrame(scores).mean()\n",
    "    std_scores = pd.DataFrame(scores).std()\n",
    "    out_col = []\n",
    "\n",
    "    for i in range(len(mean_scores)):\n",
    "        out_col.append((f\"%0.3f (+/- %0.3f)\" % (mean_scores[i], std_scores[i])))\n",
    "\n",
    "    return pd.Series(data=out_col, index=mean_scores.index)\n"
   ]
  },
  {
   "cell_type": "code",
   "execution_count": 38,
   "id": "5cc6dbf6-c8bd-47bd-8800-0f423e124252",
   "metadata": {},
   "outputs": [
    {
     "name": "stderr",
     "output_type": "stream",
     "text": [
      "/Users/sonchau/miniconda3/envs/capstone/lib/python3.9/site-packages/sklearn/model_selection/_split.py:680: UserWarning: The least populated class in y has only 3 members, which is less than n_splits=5.\n",
      "  warnings.warn(\n",
      "/Users/sonchau/miniconda3/envs/capstone/lib/python3.9/site-packages/sklearn/metrics/_classification.py:1327: UndefinedMetricWarning: Recall is ill-defined and being set to 0.0 in labels with no true samples. Use `zero_division` parameter to control this behavior.\n",
      "  _warn_prf(average, modifier, msg_start, len(result))\n"
     ]
    }
   ],
   "source": [
    "dummy = DummyClassifier(strategy=\"stratified\")\n",
    "results[\"Dummy\"] = mean_std_cross_val_scores(\n",
    "    dummy, X_train, y_train, return_train_score=True, scoring=scoring_metric\n",
    ")"
   ]
  },
  {
   "cell_type": "code",
   "execution_count": 40,
   "id": "79ed0ee0-73c0-46cb-9e81-81df885fc39c",
   "metadata": {},
   "outputs": [
    {
     "name": "stderr",
     "output_type": "stream",
     "text": [
      "/Users/sonchau/miniconda3/envs/capstone/lib/python3.9/site-packages/sklearn/model_selection/_split.py:680: UserWarning: The least populated class in y has only 3 members, which is less than n_splits=5.\n",
      "  warnings.warn(\n"
     ]
    }
   ],
   "source": [
    "for (name, model) in classifiers.items():\n",
    "    results[name] = mean_std_cross_val_scores(\n",
    "        model, X_train, y_train, return_train_score=True, scoring=scoring_metric\n",
    "    )"
   ]
  },
  {
   "cell_type": "code",
   "execution_count": null,
   "id": "27ce1644-9b43-4699-b525-9c10d7e3394a",
   "metadata": {},
   "outputs": [],
   "source": [
    "pd.DataFrame(results).T"
   ]
  },
  {
   "cell_type": "code",
   "execution_count": null,
   "id": "11bd9afe-4517-4cb1-8948-c0fcfc0f8463",
   "metadata": {},
   "outputs": [],
   "source": [
    "# CatBoost\n",
    "model = CatBoostClassifier(verbose=0, random_state=37)\n",
    "model.fit(X_train, y_train)\n",
    "predictions = model.predict(X_test)\n",
    "print(f\"Model: CatBoost\")\n",
    "print(f\"Accuracy: {metrics.accuracy_score(y_test, predictions)}\")\n",
    "print(f\"F1 score: {metrics.f1_score(y_test, predictions, average='macro')}\")\n",
    "print(f\"Recall: {metrics.recall_score(y_test, predictions, average='macro')}\")"
   ]
  },
  {
   "cell_type": "code",
   "execution_count": null,
   "id": "b534c3bc-76c2-4984-add8-3941a8c1f01e",
   "metadata": {},
   "outputs": [],
   "source": [
    "\n",
    "print(\n",
    "    classification_report(\n",
    "        y_test, predictions, target_names=[\"High\", \"Low\", \"Medium\"]\n",
    "    )\n",
    ")"
   ]
  },
  {
   "cell_type": "code",
   "execution_count": null,
   "id": "d18eb386-c100-49be-8bd7-6c75acec21d6",
   "metadata": {},
   "outputs": [],
   "source": [
    "# Random Forest\n",
    "model = RandomForestClassifier(n_estimators=100, random_state=37)\n",
    "model.fit(X_train, y_train)\n",
    "predictions = model.predict(X_test)\n",
    "print(f\"Model: Random Forest\")\n",
    "print(f\"Accuracy: {metrics.accuracy_score(y_test, predictions)}\")\n",
    "print(f\"F1 score: {metrics.f1_score(y_test, predictions, average='macro')}\")\n",
    "print(f\"Recall: {metrics.recall_score(y_test, predictions, average='macro')}\")"
   ]
  },
  {
   "cell_type": "code",
   "execution_count": null,
   "id": "83a9787d-9f0b-40ce-b76b-a304ee3e1e7c",
   "metadata": {},
   "outputs": [],
   "source": [
    "print(\n",
    "    classification_report(\n",
    "        y_test, predictions, target_names=[\"High\", \"Low\", \"Medium\"]\n",
    "    )\n",
    ")"
   ]
  },
  {
   "cell_type": "code",
   "execution_count": null,
   "id": "b829d282-ac03-4b53-98d2-e5bc83ad79f0",
   "metadata": {},
   "outputs": [],
   "source": [
    "# Decision Tree\n",
    "model = DecisionTreeClassifier(random_state=37)\n",
    "model.fit(X_train, y_train)\n",
    "predictions = model.predict(X_test)\n",
    "print(f\"Model: Decision Tree\")\n",
    "print(f\"Accuracy: {metrics.accuracy_score(y_test, predictions)}\")\n",
    "print(f\"F1 score: {metrics.f1_score(y_test, predictions, average='macro')}\")\n",
    "print(f\"Recall: {metrics.recall_score(y_test, predictions, average='macro')}\")"
   ]
  },
  {
   "cell_type": "code",
   "execution_count": null,
   "id": "811b829b-48ad-4d56-95e8-09f32ecaf0cf",
   "metadata": {},
   "outputs": [],
   "source": [
    "print(\n",
    "    classification_report(\n",
    "        y_test, predictions, target_names=[\"High\", \"Low\", \"Medium\"]\n",
    "    )\n",
    ")"
   ]
  }
 ],
 "metadata": {
  "kernelspec": {
   "display_name": "Python 3.9.9 ('capstone')",
   "language": "python",
   "name": "python3"
  },
  "language_info": {
   "codemirror_mode": {
    "name": "ipython",
    "version": 3
   },
   "file_extension": ".py",
   "mimetype": "text/x-python",
   "name": "python",
   "nbconvert_exporter": "python",
   "pygments_lexer": "ipython3",
   "version": "3.9.9"
  },
  "vscode": {
   "interpreter": {
    "hash": "3055ab941c3cc8effdc41de39758208c137b5aedc548afc01658bc69568cbb4c"
   }
  }
 },
 "nbformat": 4,
 "nbformat_minor": 5
}
