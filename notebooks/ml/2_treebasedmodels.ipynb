{
 "cells": [
  {
   "cell_type": "markdown",
   "id": "d5cd4610-90c2-40b4-b335-cd6bd7d89874",
   "metadata": {},
   "source": [
    "# Supervised Learning: Tree-Based Models"
   ]
  },
  {
   "cell_type": "markdown",
   "id": "d42a99e7-a655-4633-a3d8-165bb3dee67c",
   "metadata": {},
   "source": [
    "In this notebook, we attempted different tree-based supervised learning models. They are:\n",
    "- Decision Tree\n",
    "- Random Forest\n",
    "- CatBoost\n",
    "- XGBoost\n",
    "\n",
    "This included running the model, testing it with the test set, scoring the model along with its classification report. "
   ]
  },
  {
   "cell_type": "markdown",
   "id": "99264911-4a54-4b14-9a57-ffeb76906149",
   "metadata": {},
   "source": [
    "**Conclusions from this notebook:**  \n",
    "\n",
    "This was an attempt to document our process of choosing the most suitable model for this project. However, we did not use any of these models in the final ML pipeline. All the models attempted in this notebook and the other notebook produced high scores in Recall, F1 and accuracy. In the end, we chose to use Logistic Regression as it offered the most interpretable results, and we were better able to identify key features that TeejLab can use on the platform."
   ]
  },
  {
   "cell_type": "markdown",
   "id": "4e9e057d-3ed2-448f-bd0d-a0c6d9741348",
   "metadata": {},
   "source": [
    "## Imports"
   ]
  },
  {
   "cell_type": "code",
   "execution_count": 1,
   "id": "3e97540f-466c-44f9-880e-622e48e0ec82",
   "metadata": {},
   "outputs": [
    {
     "name": "stderr",
     "output_type": "stream",
     "text": [
      "C:\\Users\\anupr\\miniconda3\\envs\\api-risk-env\\lib\\site-packages\\xgboost\\compat.py:36: FutureWarning: pandas.Int64Index is deprecated and will be removed from pandas in a future version. Use pandas.Index with the appropriate dtype instead.\n",
      "  from pandas import MultiIndex, Int64Index\n"
     ]
    }
   ],
   "source": [
    "from sklearn import tree\n",
    "from sklearn.dummy import DummyClassifier\n",
    "from sklearn.tree import DecisionTreeClassifier\n",
    "from sklearn.ensemble import RandomForestClassifier\n",
    "from sklearn import metrics\n",
    "from catboost import CatBoostClassifier\n",
    "from xgboost import XGBClassifier\n",
    "from sklearn.preprocessing import StandardScaler\n",
    "from sklearn.metrics import classification_report\n",
    "from sklearn.model_selection import cross_validate\n",
    "import pandas as pd\n",
    "import matplotlib.pyplot as plt\n",
    "from imblearn.over_sampling import SMOTE\n",
    "\n",
    "import warnings\n",
    "warnings.filterwarnings(\"ignore\")"
   ]
  },
  {
   "cell_type": "markdown",
   "id": "98a009cb-7e5a-4e7d-b587-46621426f399",
   "metadata": {},
   "source": [
    "## Read in train and test dataset"
   ]
  },
  {
   "cell_type": "code",
   "execution_count": 2,
   "id": "62bbe391-00b6-4a5a-9961-2e030fbdabcd",
   "metadata": {},
   "outputs": [
    {
     "data": {
      "text/html": [
       "<div>\n",
       "<style scoped>\n",
       "    .dataframe tbody tr th:only-of-type {\n",
       "        vertical-align: middle;\n",
       "    }\n",
       "\n",
       "    .dataframe tbody tr th {\n",
       "        vertical-align: top;\n",
       "    }\n",
       "\n",
       "    .dataframe thead th {\n",
       "        text-align: right;\n",
       "    }\n",
       "</style>\n",
       "<table border=\"1\" class=\"dataframe\">\n",
       "  <thead>\n",
       "    <tr style=\"text-align: right;\">\n",
       "      <th></th>\n",
       "      <th>is_pii</th>\n",
       "      <th>is_fii</th>\n",
       "      <th>NRI score</th>\n",
       "      <th>authentication_processed</th>\n",
       "      <th>usage_base_processed</th>\n",
       "      <th>AI &amp; Data Science</th>\n",
       "      <th>Business &amp; Technology</th>\n",
       "      <th>Environment &amp; Weather</th>\n",
       "      <th>Finance &amp; Banking</th>\n",
       "      <th>GeoInformatics &amp; Navigation</th>\n",
       "      <th>...</th>\n",
       "      <th>content-type</th>\n",
       "      <th>set-cookie</th>\n",
       "      <th>access-control-allow-origin</th>\n",
       "      <th>server</th>\n",
       "      <th>x-powered-by</th>\n",
       "      <th>x-aspnet-version</th>\n",
       "      <th>x-ratelimit-limit</th>\n",
       "      <th>metadata_fields_count</th>\n",
       "      <th>parameters_count</th>\n",
       "      <th>Risk_Label</th>\n",
       "    </tr>\n",
       "  </thead>\n",
       "  <tbody>\n",
       "    <tr>\n",
       "      <th>0</th>\n",
       "      <td>True</td>\n",
       "      <td>False</td>\n",
       "      <td>77.850013</td>\n",
       "      <td>0</td>\n",
       "      <td>2</td>\n",
       "      <td>0</td>\n",
       "      <td>0</td>\n",
       "      <td>0</td>\n",
       "      <td>0</td>\n",
       "      <td>0</td>\n",
       "      <td>...</td>\n",
       "      <td>0</td>\n",
       "      <td>0</td>\n",
       "      <td>0</td>\n",
       "      <td>0</td>\n",
       "      <td>0</td>\n",
       "      <td>0</td>\n",
       "      <td>0</td>\n",
       "      <td>2</td>\n",
       "      <td>2</td>\n",
       "      <td>Low</td>\n",
       "    </tr>\n",
       "    <tr>\n",
       "      <th>1</th>\n",
       "      <td>True</td>\n",
       "      <td>False</td>\n",
       "      <td>77.850013</td>\n",
       "      <td>1</td>\n",
       "      <td>2</td>\n",
       "      <td>0</td>\n",
       "      <td>0</td>\n",
       "      <td>0</td>\n",
       "      <td>0</td>\n",
       "      <td>0</td>\n",
       "      <td>...</td>\n",
       "      <td>0</td>\n",
       "      <td>0</td>\n",
       "      <td>0</td>\n",
       "      <td>1</td>\n",
       "      <td>0</td>\n",
       "      <td>0</td>\n",
       "      <td>0</td>\n",
       "      <td>6</td>\n",
       "      <td>1</td>\n",
       "      <td>Low</td>\n",
       "    </tr>\n",
       "    <tr>\n",
       "      <th>2</th>\n",
       "      <td>False</td>\n",
       "      <td>False</td>\n",
       "      <td>76.479613</td>\n",
       "      <td>1</td>\n",
       "      <td>2</td>\n",
       "      <td>0</td>\n",
       "      <td>1</td>\n",
       "      <td>0</td>\n",
       "      <td>0</td>\n",
       "      <td>0</td>\n",
       "      <td>...</td>\n",
       "      <td>0</td>\n",
       "      <td>0</td>\n",
       "      <td>0</td>\n",
       "      <td>1</td>\n",
       "      <td>0</td>\n",
       "      <td>0</td>\n",
       "      <td>0</td>\n",
       "      <td>3</td>\n",
       "      <td>1</td>\n",
       "      <td>Medium</td>\n",
       "    </tr>\n",
       "    <tr>\n",
       "      <th>3</th>\n",
       "      <td>True</td>\n",
       "      <td>False</td>\n",
       "      <td>76.479613</td>\n",
       "      <td>1</td>\n",
       "      <td>2</td>\n",
       "      <td>0</td>\n",
       "      <td>0</td>\n",
       "      <td>0</td>\n",
       "      <td>0</td>\n",
       "      <td>0</td>\n",
       "      <td>...</td>\n",
       "      <td>1</td>\n",
       "      <td>0</td>\n",
       "      <td>0</td>\n",
       "      <td>0</td>\n",
       "      <td>0</td>\n",
       "      <td>0</td>\n",
       "      <td>0</td>\n",
       "      <td>5</td>\n",
       "      <td>0</td>\n",
       "      <td>Low</td>\n",
       "    </tr>\n",
       "    <tr>\n",
       "      <th>4</th>\n",
       "      <td>True</td>\n",
       "      <td>False</td>\n",
       "      <td>77.850013</td>\n",
       "      <td>0</td>\n",
       "      <td>2</td>\n",
       "      <td>0</td>\n",
       "      <td>0</td>\n",
       "      <td>0</td>\n",
       "      <td>0</td>\n",
       "      <td>0</td>\n",
       "      <td>...</td>\n",
       "      <td>0</td>\n",
       "      <td>0</td>\n",
       "      <td>0</td>\n",
       "      <td>0</td>\n",
       "      <td>0</td>\n",
       "      <td>0</td>\n",
       "      <td>0</td>\n",
       "      <td>2</td>\n",
       "      <td>3</td>\n",
       "      <td>Low</td>\n",
       "    </tr>\n",
       "  </tbody>\n",
       "</table>\n",
       "<p>5 rows × 53 columns</p>\n",
       "</div>"
      ],
      "text/plain": [
       "   is_pii  is_fii  NRI score  authentication_processed  usage_base_processed  \\\n",
       "0    True   False  77.850013                         0                     2   \n",
       "1    True   False  77.850013                         1                     2   \n",
       "2   False   False  76.479613                         1                     2   \n",
       "3    True   False  76.479613                         1                     2   \n",
       "4    True   False  77.850013                         0                     2   \n",
       "\n",
       "   AI & Data Science  Business & Technology  Environment & Weather  \\\n",
       "0                  0                      0                      0   \n",
       "1                  0                      0                      0   \n",
       "2                  0                      1                      0   \n",
       "3                  0                      0                      0   \n",
       "4                  0                      0                      0   \n",
       "\n",
       "   Finance & Banking  GeoInformatics & Navigation  ...  content-type  \\\n",
       "0                  0                            0  ...             0   \n",
       "1                  0                            0  ...             0   \n",
       "2                  0                            0  ...             0   \n",
       "3                  0                            0  ...             1   \n",
       "4                  0                            0  ...             0   \n",
       "\n",
       "   set-cookie  access-control-allow-origin  server  x-powered-by  \\\n",
       "0           0                            0       0             0   \n",
       "1           0                            0       1             0   \n",
       "2           0                            0       1             0   \n",
       "3           0                            0       0             0   \n",
       "4           0                            0       0             0   \n",
       "\n",
       "   x-aspnet-version  x-ratelimit-limit  metadata_fields_count  \\\n",
       "0                 0                  0                      2   \n",
       "1                 0                  0                      6   \n",
       "2                 0                  0                      3   \n",
       "3                 0                  0                      5   \n",
       "4                 0                  0                      2   \n",
       "\n",
       "   parameters_count  Risk_Label  \n",
       "0                 2         Low  \n",
       "1                 1         Low  \n",
       "2                 1      Medium  \n",
       "3                 0         Low  \n",
       "4                 3         Low  \n",
       "\n",
       "[5 rows x 53 columns]"
      ]
     },
     "execution_count": 2,
     "metadata": {},
     "output_type": "execute_result"
    }
   ],
   "source": [
    "api_df = pd.read_excel(\"../../data/processed/preprocessed_train.xlsx\")\n",
    "api_test_df = pd.read_excel(\"../../data/processed/preprocessed_test.xlsx\")\n",
    "api_df.head()"
   ]
  },
  {
   "cell_type": "code",
   "execution_count": 3,
   "id": "f0ee9108-3767-4b05-8b7f-69d228d01ca3",
   "metadata": {},
   "outputs": [
    {
     "data": {
      "text/plain": [
       "(1316, 53)"
      ]
     },
     "execution_count": 3,
     "metadata": {},
     "output_type": "execute_result"
    }
   ],
   "source": [
    "api_df.shape"
   ]
  },
  {
   "cell_type": "code",
   "execution_count": 4,
   "id": "1e42e060-fca4-48e8-8b34-ba6505d4a875",
   "metadata": {},
   "outputs": [],
   "source": [
    "# X, y split\n",
    "X_train, y_train = api_df.drop(columns=[\"Risk_Label\"]), api_df[\"Risk_Label\"]\n",
    "X_test, y_test = api_test_df.drop(columns=[\"Risk_Label\"]), api_test_df[\"Risk_Label\"]"
   ]
  },
  {
   "cell_type": "code",
   "execution_count": 5,
   "id": "c503e419-7002-476f-ba69-da987fd96cb9",
   "metadata": {},
   "outputs": [],
   "source": [
    "# Smote function\n",
    "def create_smote(X, y, k_neighbors):\n",
    "    oversample = SMOTE(k_neighbors = k_neighbors)\n",
    "    X, y = oversample.fit_resample(X, y)\n",
    "    return X, y"
   ]
  },
  {
   "cell_type": "code",
   "execution_count": 6,
   "id": "ad41b3e7-cc19-4d47-b556-51df6101a01d",
   "metadata": {},
   "outputs": [],
   "source": [
    "# Balance training data\n",
    "X_train, y_train = create_smote(X_train, y_train, 2)"
   ]
  },
  {
   "cell_type": "code",
   "execution_count": 7,
   "id": "5bdd9d22-3459-4b8e-844b-042c8d8d996c",
   "metadata": {},
   "outputs": [
    {
     "data": {
      "text/html": [
       "<style>#sk-container-id-1 {color: black;background-color: white;}#sk-container-id-1 pre{padding: 0;}#sk-container-id-1 div.sk-toggleable {background-color: white;}#sk-container-id-1 label.sk-toggleable__label {cursor: pointer;display: block;width: 100%;margin-bottom: 0;padding: 0.3em;box-sizing: border-box;text-align: center;}#sk-container-id-1 label.sk-toggleable__label-arrow:before {content: \"▸\";float: left;margin-right: 0.25em;color: #696969;}#sk-container-id-1 label.sk-toggleable__label-arrow:hover:before {color: black;}#sk-container-id-1 div.sk-estimator:hover label.sk-toggleable__label-arrow:before {color: black;}#sk-container-id-1 div.sk-toggleable__content {max-height: 0;max-width: 0;overflow: hidden;text-align: left;background-color: #f0f8ff;}#sk-container-id-1 div.sk-toggleable__content pre {margin: 0.2em;color: black;border-radius: 0.25em;background-color: #f0f8ff;}#sk-container-id-1 input.sk-toggleable__control:checked~div.sk-toggleable__content {max-height: 200px;max-width: 100%;overflow: auto;}#sk-container-id-1 input.sk-toggleable__control:checked~label.sk-toggleable__label-arrow:before {content: \"▾\";}#sk-container-id-1 div.sk-estimator input.sk-toggleable__control:checked~label.sk-toggleable__label {background-color: #d4ebff;}#sk-container-id-1 div.sk-label input.sk-toggleable__control:checked~label.sk-toggleable__label {background-color: #d4ebff;}#sk-container-id-1 input.sk-hidden--visually {border: 0;clip: rect(1px 1px 1px 1px);clip: rect(1px, 1px, 1px, 1px);height: 1px;margin: -1px;overflow: hidden;padding: 0;position: absolute;width: 1px;}#sk-container-id-1 div.sk-estimator {font-family: monospace;background-color: #f0f8ff;border: 1px dotted black;border-radius: 0.25em;box-sizing: border-box;margin-bottom: 0.5em;}#sk-container-id-1 div.sk-estimator:hover {background-color: #d4ebff;}#sk-container-id-1 div.sk-parallel-item::after {content: \"\";width: 100%;border-bottom: 1px solid gray;flex-grow: 1;}#sk-container-id-1 div.sk-label:hover label.sk-toggleable__label {background-color: #d4ebff;}#sk-container-id-1 div.sk-serial::before {content: \"\";position: absolute;border-left: 1px solid gray;box-sizing: border-box;top: 0;bottom: 0;left: 50%;z-index: 0;}#sk-container-id-1 div.sk-serial {display: flex;flex-direction: column;align-items: center;background-color: white;padding-right: 0.2em;padding-left: 0.2em;position: relative;}#sk-container-id-1 div.sk-item {position: relative;z-index: 1;}#sk-container-id-1 div.sk-parallel {display: flex;align-items: stretch;justify-content: center;background-color: white;position: relative;}#sk-container-id-1 div.sk-item::before, #sk-container-id-1 div.sk-parallel-item::before {content: \"\";position: absolute;border-left: 1px solid gray;box-sizing: border-box;top: 0;bottom: 0;left: 50%;z-index: -1;}#sk-container-id-1 div.sk-parallel-item {display: flex;flex-direction: column;z-index: 1;position: relative;background-color: white;}#sk-container-id-1 div.sk-parallel-item:first-child::after {align-self: flex-end;width: 50%;}#sk-container-id-1 div.sk-parallel-item:last-child::after {align-self: flex-start;width: 50%;}#sk-container-id-1 div.sk-parallel-item:only-child::after {width: 0;}#sk-container-id-1 div.sk-dashed-wrapped {border: 1px dashed gray;margin: 0 0.4em 0.5em 0.4em;box-sizing: border-box;padding-bottom: 0.4em;background-color: white;}#sk-container-id-1 div.sk-label label {font-family: monospace;font-weight: bold;display: inline-block;line-height: 1.2em;}#sk-container-id-1 div.sk-label-container {text-align: center;}#sk-container-id-1 div.sk-container {/* jupyter's `normalize.less` sets `[hidden] { display: none; }` but bootstrap.min.css set `[hidden] { display: none !important; }` so we also need the `!important` here to be able to override the default hidden behavior on the sphinx rendered scikit-learn.org. See: https://github.com/scikit-learn/scikit-learn/issues/21755 */display: inline-block !important;position: relative;}#sk-container-id-1 div.sk-text-repr-fallback {display: none;}</style><div id=\"sk-container-id-1\" class=\"sk-top-container\"><div class=\"sk-text-repr-fallback\"><pre>StandardScaler()</pre><b>In a Jupyter environment, please rerun this cell to show the HTML representation or trust the notebook. <br />On GitHub, the HTML representation is unable to render, please try loading this page with nbviewer.org.</b></div><div class=\"sk-container\" hidden><div class=\"sk-item\"><div class=\"sk-estimator sk-toggleable\"><input class=\"sk-toggleable__control sk-hidden--visually\" id=\"sk-estimator-id-1\" type=\"checkbox\" checked><label for=\"sk-estimator-id-1\" class=\"sk-toggleable__label sk-toggleable__label-arrow\">StandardScaler</label><div class=\"sk-toggleable__content\"><pre>StandardScaler()</pre></div></div></div></div></div>"
      ],
      "text/plain": [
       "StandardScaler()"
      ]
     },
     "execution_count": 7,
     "metadata": {},
     "output_type": "execute_result"
    }
   ],
   "source": [
    "scaler = StandardScaler()\n",
    "scaler.fit(X_train)"
   ]
  },
  {
   "cell_type": "markdown",
   "id": "3f918c0f-36ec-4018-be04-162e8aebdc77",
   "metadata": {},
   "source": [
    "## 1. Decision Tree"
   ]
  },
  {
   "cell_type": "markdown",
   "id": "7b9d54f4-25f9-435c-a84a-895042cec188",
   "metadata": {},
   "source": [
    "### Basic Approach"
   ]
  },
  {
   "cell_type": "code",
   "execution_count": 8,
   "id": "19ff1762-a1ca-4a31-bde3-4def0167e59f",
   "metadata": {},
   "outputs": [],
   "source": [
    "# https://scikit-learn.org/stable/modules/generated/sklearn.tree.DecisionTreeClassifier.html\n",
    "clf = tree.DecisionTreeClassifier(random_state=37, max_depth=6, criterion='gini')"
   ]
  },
  {
   "cell_type": "code",
   "execution_count": 9,
   "id": "dceee329-36ab-4ceb-b340-9fc5439dc2d5",
   "metadata": {},
   "outputs": [],
   "source": [
    "clf = clf.fit(X_train, y_train)"
   ]
  },
  {
   "cell_type": "code",
   "execution_count": 10,
   "id": "e68206be-9c26-4c08-9b6b-f34ec0702821",
   "metadata": {},
   "outputs": [
    {
     "data": {
      "text/plain": [
       "array(['Low', 'Medium', 'Medium', 'Low', 'Low', 'Medium', 'Low', 'Medium',\n",
       "       'Medium', 'Medium', 'Low', 'Medium', 'Medium', 'Low', 'Low',\n",
       "       'Medium', 'Medium', 'Low', 'Medium', 'Low', 'Medium', 'Low',\n",
       "       'Medium', 'Medium', 'Medium', 'Low', 'Low', 'Low', 'Medium',\n",
       "       'Medium', 'Low', 'Low', 'Medium', 'Medium', 'Low', 'Low', 'Medium',\n",
       "       'Medium', 'Medium', 'Low', 'Low', 'Low', 'Medium', 'Low', 'Low',\n",
       "       'Medium', 'Medium', 'Medium', 'Low', 'Low', 'Medium', 'Low',\n",
       "       'Medium', 'Medium', 'Medium', 'Medium', 'Medium', 'Low', 'Medium',\n",
       "       'Medium', 'Medium', 'Medium', 'Medium', 'Low', 'Low', 'Low', 'Low',\n",
       "       'Medium', 'Low', 'Low', 'Medium', 'Medium', 'Low', 'Medium', 'Low',\n",
       "       'Low', 'Low', 'Medium', 'Medium', 'Low', 'Medium', 'Medium',\n",
       "       'Medium', 'Medium', 'Medium', 'Medium', 'Medium', 'Medium',\n",
       "       'Medium', 'Medium', 'Medium', 'Low', 'Medium', 'Medium', 'Low',\n",
       "       'Medium', 'Medium', 'Low', 'Low', 'Low', 'Medium', 'Low', 'Medium',\n",
       "       'Low', 'Low', 'Low', 'Low', 'Medium', 'Medium', 'Low', 'Medium',\n",
       "       'Low', 'Medium', 'Medium', 'Medium', 'Medium', 'Medium', 'Medium',\n",
       "       'Medium', 'Low', 'Medium', 'Low', 'Low', 'Medium', 'Medium', 'Low',\n",
       "       'Medium', 'Low', 'Medium', 'Medium', 'Medium', 'Low', 'Low', 'Low',\n",
       "       'Low', 'Medium', 'Low', 'Low', 'Medium', 'Low', 'Medium', 'Medium',\n",
       "       'Low', 'Low', 'Medium', 'Low', 'Low', 'Medium', 'Medium', 'Medium',\n",
       "       'Medium', 'Medium', 'Low', 'Medium', 'Medium', 'Low', 'Low',\n",
       "       'Medium', 'Medium', 'Low', 'Low', 'Medium', 'Low', 'Medium',\n",
       "       'Medium', 'Low', 'Low', 'Medium', 'Low', 'Medium', 'Low', 'Medium',\n",
       "       'Medium', 'Medium', 'Medium', 'Medium', 'Medium', 'Medium',\n",
       "       'Medium', 'Low', 'Low', 'Medium', 'Low', 'Low', 'Medium', 'Medium',\n",
       "       'Low', 'Low', 'Low', 'Medium', 'Low', 'Medium', 'Low', 'Low',\n",
       "       'Medium', 'Medium', 'Low', 'Medium', 'Medium', 'Low', 'Medium',\n",
       "       'Low', 'Medium', 'Medium', 'Low', 'Low', 'Low', 'Low', 'Medium',\n",
       "       'Medium', 'Medium', 'Medium', 'Medium', 'Medium', 'Medium',\n",
       "       'Medium', 'Low', 'Low', 'Medium', 'Medium', 'Medium', 'Low',\n",
       "       'Medium', 'Medium', 'Medium', 'Low', 'Medium', 'Medium', 'Medium',\n",
       "       'Medium', 'Low', 'Low', 'Low', 'Low', 'Medium', 'Medium', 'Low',\n",
       "       'Medium', 'Low', 'Low', 'Low', 'Medium', 'Medium', 'Low', 'Medium',\n",
       "       'Low', 'Medium', 'Medium', 'Medium', 'Medium', 'Low', 'Medium',\n",
       "       'Low', 'Low', 'Low', 'Medium', 'Low', 'Low', 'Medium', 'Medium',\n",
       "       'Low', 'Low', 'Medium', 'Medium', 'High', 'Low', 'Medium',\n",
       "       'Medium', 'Medium', 'Low', 'Low', 'Medium', 'Medium', 'Medium',\n",
       "       'Medium', 'Low', 'Low', 'Medium', 'Medium', 'Low', 'Medium', 'Low',\n",
       "       'Low', 'Medium', 'Medium', 'Medium', 'Medium', 'Medium', 'Low',\n",
       "       'Low', 'Low', 'Low', 'Low', 'Low', 'Medium', 'Medium', 'Medium',\n",
       "       'Low', 'Low', 'Low', 'Low', 'Low', 'Medium', 'Medium', 'Medium',\n",
       "       'Medium', 'Medium', 'Medium', 'Low', 'Medium', 'Medium', 'Medium',\n",
       "       'Low', 'Low', 'Low', 'Low', 'Medium', 'Medium', 'Medium', 'Medium',\n",
       "       'Low', 'Low', 'Low', 'Medium', 'Low', 'Medium', 'Low', 'Low',\n",
       "       'Medium', 'Medium', 'Low', 'Medium', 'Low', 'Low', 'Low', 'Low',\n",
       "       'Medium', 'Medium', 'Medium', 'Medium', 'Medium', 'Medium',\n",
       "       'Medium', 'Medium', 'Medium', 'Medium', 'Medium', 'Low', 'Medium',\n",
       "       'Medium', 'Medium', 'Low', 'Medium', 'Medium', 'Medium', 'Medium',\n",
       "       'Low', 'Low', 'Medium', 'Medium', 'Medium', 'Medium', 'Low',\n",
       "       'Medium', 'Medium', 'Low', 'Medium', 'Medium', 'Low', 'Low',\n",
       "       'Medium', 'Medium', 'Low', 'Medium', 'Medium', 'Medium', 'Medium',\n",
       "       'Low', 'Low', 'Medium', 'Medium', 'Low', 'Medium', 'Low', 'Low',\n",
       "       'Low', 'Low', 'Medium', 'Medium', 'Low', 'Medium', 'Medium', 'Low',\n",
       "       'Medium', 'Medium', 'Low', 'Low', 'Low', 'Low', 'Medium', 'Low',\n",
       "       'Medium', 'Medium', 'Medium', 'Medium', 'Low', 'Medium', 'Medium',\n",
       "       'Low', 'Medium', 'Medium', 'Low', 'Low', 'Low', 'Medium', 'Low',\n",
       "       'Medium', 'Medium', 'Medium', 'Medium', 'Medium', 'Medium',\n",
       "       'Medium', 'Medium', 'Low', 'Low', 'Low', 'Low', 'Medium', 'Medium',\n",
       "       'Medium', 'Low', 'Low', 'Medium', 'Medium', 'Low', 'Medium', 'Low',\n",
       "       'Medium', 'Low', 'Low', 'Low', 'Low', 'Medium', 'Low', 'Medium',\n",
       "       'Low', 'Low', 'Low', 'Medium', 'Medium', 'Medium', 'Low', 'Medium',\n",
       "       'Low', 'Medium', 'Low', 'Medium', 'Medium', 'Low', 'Medium', 'Low',\n",
       "       'Low', 'Low', 'Low', 'Medium', 'Low', 'Low', 'Medium', 'Medium',\n",
       "       'Medium', 'Medium', 'Medium', 'Low', 'Medium', 'Medium', 'Medium',\n",
       "       'Low', 'Low', 'Low', 'Low', 'Medium', 'Medium', 'Medium', 'Low',\n",
       "       'Medium', 'Medium', 'Medium', 'Low', 'Low', 'Low', 'Medium',\n",
       "       'Medium', 'Medium', 'Low', 'Medium', 'Low', 'Medium', 'Low',\n",
       "       'Medium', 'Medium', 'Medium', 'Medium', 'Medium', 'Medium',\n",
       "       'Medium', 'Medium', 'Medium', 'Low', 'Medium', 'Medium', 'Low',\n",
       "       'Medium', 'Medium', 'Low', 'Low', 'Medium', 'Medium', 'Low', 'Low',\n",
       "       'Low', 'Medium', 'Low', 'Medium', 'Medium', 'Medium', 'Medium',\n",
       "       'Low', 'Low', 'Low', 'Medium', 'Medium', 'Medium', 'Medium', 'Low',\n",
       "       'Low', 'Medium', 'Low', 'Medium', 'Medium', 'Low', 'Low', 'Low',\n",
       "       'Low', 'Low', 'Medium', 'Medium', 'Low', 'Low', 'Medium', 'Medium',\n",
       "       'Medium', 'Medium', 'Medium', 'Medium', 'Medium', 'Medium',\n",
       "       'Medium', 'Low', 'Medium', 'Low', 'Medium', 'Low', 'Low', 'Medium'],\n",
       "      dtype=object)"
      ]
     },
     "execution_count": 10,
     "metadata": {},
     "output_type": "execute_result"
    }
   ],
   "source": [
    "clf.predict(X_test)"
   ]
  },
  {
   "cell_type": "code",
   "execution_count": 11,
   "id": "c3fba8ca-845a-41f0-a15a-76c74f4c3727",
   "metadata": {},
   "outputs": [
    {
     "data": {
      "text/plain": [
       "[Text(0.5416666666666666, 0.9, 'is_pii <= 0.5\\ngini = 0.667\\nsamples = 1983\\nvalue = [661, 661, 661]\\nclass = Low'),\n",
       " Text(0.3333333333333333, 0.7, 'x0_Missing <= 0.5\\ngini = 0.242\\nsamples = 766\\nvalue = [87, 18, 661]\\nclass = Medium'),\n",
       " Text(0.16666666666666666, 0.5, 'x0_Broken Authentication <= 0.5\\ngini = 0.103\\nsamples = 92\\nvalue = [87, 5, 0]\\nclass = Low'),\n",
       " Text(0.08333333333333333, 0.3, 'gini = 0.0\\nsamples = 5\\nvalue = [0, 5, 0]\\nclass = Low'),\n",
       " Text(0.25, 0.3, 'gini = 0.0\\nsamples = 87\\nvalue = [87, 0, 0]\\nclass = Low'),\n",
       " Text(0.5, 0.5, 'is_fii <= 0.5\\ngini = 0.038\\nsamples = 674\\nvalue = [0, 13, 661]\\nclass = Medium'),\n",
       " Text(0.4166666666666667, 0.3, 'metadata_fields_count <= 0.5\\ngini = 0.003\\nsamples = 662\\nvalue = [0, 1, 661]\\nclass = Medium'),\n",
       " Text(0.3333333333333333, 0.1, 'gini = 0.0\\nsamples = 1\\nvalue = [0, 1, 0]\\nclass = Low'),\n",
       " Text(0.5, 0.1, 'gini = 0.0\\nsamples = 661\\nvalue = [0, 0, 661]\\nclass = Medium'),\n",
       " Text(0.5833333333333334, 0.3, 'gini = 0.0\\nsamples = 12\\nvalue = [0, 12, 0]\\nclass = Low'),\n",
       " Text(0.75, 0.7, 'is_fii <= 0.5\\ngini = 0.498\\nsamples = 1217\\nvalue = [574, 643, 0]\\nclass = Low'),\n",
       " Text(0.6666666666666666, 0.5, 'gini = 0.0\\nsamples = 625\\nvalue = [0, 625, 0]\\nclass = Low'),\n",
       " Text(0.8333333333333334, 0.5, 'server <= 0.5\\ngini = 0.059\\nsamples = 592\\nvalue = [574, 18, 0]\\nclass = Low'),\n",
       " Text(0.75, 0.3, 'authentication_processed <= 0.5\\ngini = 0.007\\nsamples = 576\\nvalue = [574, 2, 0]\\nclass = Low'),\n",
       " Text(0.6666666666666666, 0.1, 'gini = 0.0\\nsamples = 2\\nvalue = [0, 2, 0]\\nclass = Low'),\n",
       " Text(0.8333333333333334, 0.1, 'gini = 0.0\\nsamples = 574\\nvalue = [574, 0, 0]\\nclass = Low'),\n",
       " Text(0.9166666666666666, 0.3, 'gini = 0.0\\nsamples = 16\\nvalue = [0, 16, 0]\\nclass = Low')]"
      ]
     },
     "execution_count": 11,
     "metadata": {},
     "output_type": "execute_result"
    },
    {
     "data": {
      "image/png": "[encoded data removed]",
      "text/plain": [
       "<Figure size 1800x864 with 1 Axes>"
      ]
     },
     "metadata": {
      "needs_background": "light"
     },
     "output_type": "display_data"
    }
   ],
   "source": [
    "# Visualise the tree\n",
    "fig, axes = plt.subplots(nrows=1, ncols=1, figsize=(25, 12))\n",
    "fn = list(X_train)\n",
    "cn = list(y_train)\n",
    "tree.plot_tree(clf,\n",
    "               feature_names=fn,\n",
    "               class_names=cn,\n",
    "               fontsize=10,\n",
    "               filled=True)"
   ]
  },
  {
   "cell_type": "code",
   "execution_count": 12,
   "id": "e65db671-8342-4ec4-838c-107a23a53a98",
   "metadata": {},
   "outputs": [
    {
     "name": "stdout",
     "output_type": "stream",
     "text": [
      "Accuracy: 0.9964601769911504\n"
     ]
    }
   ],
   "source": [
    "y_pred = clf.predict(X_test)\n",
    "print(\"Accuracy:\", metrics.accuracy_score(y_test, y_pred))"
   ]
  },
  {
   "cell_type": "markdown",
   "id": "69ebbf38-da42-46cd-885c-b90383a7bc21",
   "metadata": {
    "tags": []
   },
   "source": [
    "### Various hyperparameters to attempt"
   ]
  },
  {
   "cell_type": "code",
   "execution_count": 13,
   "id": "5bab92e7-c852-4876-a3e3-111768ca41b8",
   "metadata": {},
   "outputs": [
    {
     "name": "stdout",
     "output_type": "stream",
     "text": [
      "Accuracy: 0.9964601769911504\n"
     ]
    }
   ],
   "source": [
    "# max depth\n",
    "clf_maxdepth = DecisionTreeClassifier(random_state=37, max_depth=5)\n",
    "clf_maxdepth = clf_maxdepth.fit(X_train, y_train)\n",
    "y_pred = clf_maxdepth.predict(X_test)\n",
    "print(\"Accuracy:\", metrics.accuracy_score(y_test, y_pred))"
   ]
  },
  {
   "cell_type": "code",
   "execution_count": 14,
   "id": "82e06966-19f8-4da5-afbd-d71f7392d4bf",
   "metadata": {},
   "outputs": [
    {
     "name": "stdout",
     "output_type": "stream",
     "text": [
      "Accuracy: 0.9911504424778761\n"
     ]
    }
   ],
   "source": [
    "# max_leaf_nodes\n",
    "clf_maxleafnode = DecisionTreeClassifier(random_state=37, max_leaf_nodes=5)\n",
    "clf_maxleafnode = clf_maxleafnode.fit(X_train, y_train)\n",
    "y_pred = clf_maxleafnode.predict(X_test)\n",
    "print(\"Accuracy:\", metrics.accuracy_score(y_test, y_pred))"
   ]
  },
  {
   "cell_type": "markdown",
   "id": "9e6784b9-367f-4067-8745-ce22152478d6",
   "metadata": {},
   "source": [
    "### Scoring Metrics results"
   ]
  },
  {
   "cell_type": "code",
   "execution_count": 15,
   "id": "b829d282-ac03-4b53-98d2-e5bc83ad79f0",
   "metadata": {},
   "outputs": [
    {
     "name": "stdout",
     "output_type": "stream",
     "text": [
      "Model: Decision Tree\n",
      "Accuracy: 0.9964601769911504\n",
      "F1 score: 0.6647683424508477\n",
      "Recall: 0.6642547342178509\n"
     ]
    }
   ],
   "source": [
    "# Decision Tree\n",
    "model = DecisionTreeClassifier(random_state=37)\n",
    "model.fit(X_train, y_train)\n",
    "predictions = model.predict(X_test)\n",
    "print(\"Model: Decision Tree\")\n",
    "print(f\"Accuracy: {metrics.accuracy_score(y_test, predictions)}\")\n",
    "print(f\"F1 score: {metrics.f1_score(y_test, predictions, average='macro')}\")\n",
    "print(f\"Recall: {metrics.recall_score(y_test, predictions, average='macro')}\")"
   ]
  },
  {
   "cell_type": "markdown",
   "id": "e446cd53-1019-4b45-a5ab-8e479e0dcab8",
   "metadata": {},
   "source": [
    "### Classification Report results"
   ]
  },
  {
   "cell_type": "code",
   "execution_count": 16,
   "id": "811b829b-48ad-4d56-95e8-09f32ecaf0cf",
   "metadata": {},
   "outputs": [
    {
     "name": "stdout",
     "output_type": "stream",
     "text": [
      "              precision    recall  f1-score   support\n",
      "\n",
      "        High       0.00      0.00      0.00         0\n",
      "    Low Risk       1.00      1.00      1.00       241\n",
      "      Medium       1.00      1.00      1.00       324\n",
      "\n",
      "    accuracy                           1.00       565\n",
      "   macro avg       0.67      0.66      0.66       565\n",
      "weighted avg       1.00      1.00      1.00       565\n",
      "\n"
     ]
    }
   ],
   "source": [
    "print(\n",
    "    classification_report(\n",
    "        y_test, predictions, target_names=[\"High\", \"Low Risk\", \"Medium\"]\n",
    "    )\n",
    ")"
   ]
  },
  {
   "cell_type": "markdown",
   "id": "cc0e9ac5-1e25-4393-8f2e-4d3b98bd0df0",
   "metadata": {},
   "source": [
    "## 2. Random Forest"
   ]
  },
  {
   "cell_type": "markdown",
   "id": "5baa62bb-c8f5-4fee-a361-ecd49e66235a",
   "metadata": {
    "tags": []
   },
   "source": [
    "### Basic Approach"
   ]
  },
  {
   "cell_type": "code",
   "execution_count": 17,
   "id": "082a21be-76a6-4f59-8370-2c79f8e27441",
   "metadata": {},
   "outputs": [],
   "source": [
    "def mean_std_cross_val_scores(model, X_train, y_train, **kwargs):\n",
    "    \"\"\"\n",
    "    Returns mean and std of cross validation\n",
    "\n",
    "    Parameters\n",
    "    ----------\n",
    "    model :\n",
    "        scikit-learn model\n",
    "    X_train : numpy array or pandas DataFrame\n",
    "        X in the training data\n",
    "    y_train :\n",
    "        y in the training data\n",
    "\n",
    "    Returns\n",
    "    ----------\n",
    "        pandas Series with mean scores from cross_validation\n",
    "    \"\"\"\n",
    "\n",
    "    scores = cross_validate(model, X_train, y_train, **kwargs)\n",
    "\n",
    "    mean_scores = pd.DataFrame(scores).mean()\n",
    "    std_scores = pd.DataFrame(scores).std()\n",
    "    out_col = []\n",
    "\n",
    "    for i in range(len(mean_scores)):\n",
    "        out_col.append((f\"%0.3f (+/- %0.3f)\" % (mean_scores[i], std_scores[i])))\n",
    "\n",
    "    return pd.Series(data=out_col, index=mean_scores.index)"
   ]
  },
  {
   "cell_type": "code",
   "execution_count": 18,
   "id": "c0a1197e-ffd0-4cf6-9480-f015282321da",
   "metadata": {},
   "outputs": [],
   "source": [
    "scoring_metric = [\"accuracy\", \"f1_weighted\"]\n",
    "results = {}"
   ]
  },
  {
   "cell_type": "code",
   "execution_count": 19,
   "id": "8eebf815-b695-4850-aa31-c267ece0b433",
   "metadata": {},
   "outputs": [
    {
     "data": {
      "text/html": [
       "<style>#sk-container-id-2 {color: black;background-color: white;}#sk-container-id-2 pre{padding: 0;}#sk-container-id-2 div.sk-toggleable {background-color: white;}#sk-container-id-2 label.sk-toggleable__label {cursor: pointer;display: block;width: 100%;margin-bottom: 0;padding: 0.3em;box-sizing: border-box;text-align: center;}#sk-container-id-2 label.sk-toggleable__label-arrow:before {content: \"▸\";float: left;margin-right: 0.25em;color: #696969;}#sk-container-id-2 label.sk-toggleable__label-arrow:hover:before {color: black;}#sk-container-id-2 div.sk-estimator:hover label.sk-toggleable__label-arrow:before {color: black;}#sk-container-id-2 div.sk-toggleable__content {max-height: 0;max-width: 0;overflow: hidden;text-align: left;background-color: #f0f8ff;}#sk-container-id-2 div.sk-toggleable__content pre {margin: 0.2em;color: black;border-radius: 0.25em;background-color: #f0f8ff;}#sk-container-id-2 input.sk-toggleable__control:checked~div.sk-toggleable__content {max-height: 200px;max-width: 100%;overflow: auto;}#sk-container-id-2 input.sk-toggleable__control:checked~label.sk-toggleable__label-arrow:before {content: \"▾\";}#sk-container-id-2 div.sk-estimator input.sk-toggleable__control:checked~label.sk-toggleable__label {background-color: #d4ebff;}#sk-container-id-2 div.sk-label input.sk-toggleable__control:checked~label.sk-toggleable__label {background-color: #d4ebff;}#sk-container-id-2 input.sk-hidden--visually {border: 0;clip: rect(1px 1px 1px 1px);clip: rect(1px, 1px, 1px, 1px);height: 1px;margin: -1px;overflow: hidden;padding: 0;position: absolute;width: 1px;}#sk-container-id-2 div.sk-estimator {font-family: monospace;background-color: #f0f8ff;border: 1px dotted black;border-radius: 0.25em;box-sizing: border-box;margin-bottom: 0.5em;}#sk-container-id-2 div.sk-estimator:hover {background-color: #d4ebff;}#sk-container-id-2 div.sk-parallel-item::after {content: \"\";width: 100%;border-bottom: 1px solid gray;flex-grow: 1;}#sk-container-id-2 div.sk-label:hover label.sk-toggleable__label {background-color: #d4ebff;}#sk-container-id-2 div.sk-serial::before {content: \"\";position: absolute;border-left: 1px solid gray;box-sizing: border-box;top: 0;bottom: 0;left: 50%;z-index: 0;}#sk-container-id-2 div.sk-serial {display: flex;flex-direction: column;align-items: center;background-color: white;padding-right: 0.2em;padding-left: 0.2em;position: relative;}#sk-container-id-2 div.sk-item {position: relative;z-index: 1;}#sk-container-id-2 div.sk-parallel {display: flex;align-items: stretch;justify-content: center;background-color: white;position: relative;}#sk-container-id-2 div.sk-item::before, #sk-container-id-2 div.sk-parallel-item::before {content: \"\";position: absolute;border-left: 1px solid gray;box-sizing: border-box;top: 0;bottom: 0;left: 50%;z-index: -1;}#sk-container-id-2 div.sk-parallel-item {display: flex;flex-direction: column;z-index: 1;position: relative;background-color: white;}#sk-container-id-2 div.sk-parallel-item:first-child::after {align-self: flex-end;width: 50%;}#sk-container-id-2 div.sk-parallel-item:last-child::after {align-self: flex-start;width: 50%;}#sk-container-id-2 div.sk-parallel-item:only-child::after {width: 0;}#sk-container-id-2 div.sk-dashed-wrapped {border: 1px dashed gray;margin: 0 0.4em 0.5em 0.4em;box-sizing: border-box;padding-bottom: 0.4em;background-color: white;}#sk-container-id-2 div.sk-label label {font-family: monospace;font-weight: bold;display: inline-block;line-height: 1.2em;}#sk-container-id-2 div.sk-label-container {text-align: center;}#sk-container-id-2 div.sk-container {/* jupyter's `normalize.less` sets `[hidden] { display: none; }` but bootstrap.min.css set `[hidden] { display: none !important; }` so we also need the `!important` here to be able to override the default hidden behavior on the sphinx rendered scikit-learn.org. See: https://github.com/scikit-learn/scikit-learn/issues/21755 */display: inline-block !important;position: relative;}#sk-container-id-2 div.sk-text-repr-fallback {display: none;}</style><div id=\"sk-container-id-2\" class=\"sk-top-container\"><div class=\"sk-text-repr-fallback\"><pre>RandomForestClassifier(n_jobs=-1, random_state=37)</pre><b>In a Jupyter environment, please rerun this cell to show the HTML representation or trust the notebook. <br />On GitHub, the HTML representation is unable to render, please try loading this page with nbviewer.org.</b></div><div class=\"sk-container\" hidden><div class=\"sk-item\"><div class=\"sk-estimator sk-toggleable\"><input class=\"sk-toggleable__control sk-hidden--visually\" id=\"sk-estimator-id-2\" type=\"checkbox\" checked><label for=\"sk-estimator-id-2\" class=\"sk-toggleable__label sk-toggleable__label-arrow\">RandomForestClassifier</label><div class=\"sk-toggleable__content\"><pre>RandomForestClassifier(n_jobs=-1, random_state=37)</pre></div></div></div></div></div>"
      ],
      "text/plain": [
       "RandomForestClassifier(n_jobs=-1, random_state=37)"
      ]
     },
     "execution_count": 19,
     "metadata": {},
     "output_type": "execute_result"
    }
   ],
   "source": [
    "# https://scikit-learn.org/stable/modules/generated/sklearn.ensemble.RandomForestClassifier.html\n",
    "rf_clf = RandomForestClassifier(n_estimators=100, random_state=37, n_jobs=-1) # n_estimators = no. of trees in the forest\n",
    "rf_clf.fit(X_train, y_train)"
   ]
  },
  {
   "cell_type": "code",
   "execution_count": 20,
   "id": "f6747306-d95b-493d-8e7a-d572da2f347e",
   "metadata": {},
   "outputs": [
    {
     "data": {
      "text/html": [
       "<div>\n",
       "<style scoped>\n",
       "    .dataframe tbody tr th:only-of-type {\n",
       "        vertical-align: middle;\n",
       "    }\n",
       "\n",
       "    .dataframe tbody tr th {\n",
       "        vertical-align: top;\n",
       "    }\n",
       "\n",
       "    .dataframe thead th {\n",
       "        text-align: right;\n",
       "    }\n",
       "</style>\n",
       "<table border=\"1\" class=\"dataframe\">\n",
       "  <thead>\n",
       "    <tr style=\"text-align: right;\">\n",
       "      <th></th>\n",
       "      <th>fit_time</th>\n",
       "      <th>score_time</th>\n",
       "      <th>test_accuracy</th>\n",
       "      <th>train_accuracy</th>\n",
       "      <th>test_f1_weighted</th>\n",
       "      <th>train_f1_weighted</th>\n",
       "    </tr>\n",
       "  </thead>\n",
       "  <tbody>\n",
       "    <tr>\n",
       "      <th>Random forests</th>\n",
       "      <td>1.653 (+/- 3.255)</td>\n",
       "      <td>0.043 (+/- 0.004)</td>\n",
       "      <td>0.998 (+/- 0.001)</td>\n",
       "      <td>1.000 (+/- 0.000)</td>\n",
       "      <td>0.998 (+/- 0.001)</td>\n",
       "      <td>1.000 (+/- 0.000)</td>\n",
       "    </tr>\n",
       "  </tbody>\n",
       "</table>\n",
       "</div>"
      ],
      "text/plain": [
       "                         fit_time         score_time      test_accuracy  \\\n",
       "Random forests  1.653 (+/- 3.255)  0.043 (+/- 0.004)  0.998 (+/- 0.001)   \n",
       "\n",
       "                   train_accuracy   test_f1_weighted  train_f1_weighted  \n",
       "Random forests  1.000 (+/- 0.000)  0.998 (+/- 0.001)  1.000 (+/- 0.000)  "
      ]
     },
     "execution_count": 20,
     "metadata": {},
     "output_type": "execute_result"
    }
   ],
   "source": [
    "results[\"Random forests\"] = mean_std_cross_val_scores(\n",
    "    rf_clf, X_train, y_train, return_train_score=True, scoring=scoring_metric\n",
    ")\n",
    "pd.DataFrame(results).T"
   ]
  },
  {
   "cell_type": "markdown",
   "id": "60790d87-a6a9-43dc-91c4-7fd27f52c50d",
   "metadata": {},
   "source": [
    "### Scoring Metrics results"
   ]
  },
  {
   "cell_type": "code",
   "execution_count": 21,
   "id": "d18eb386-c100-49be-8bd7-6c75acec21d6",
   "metadata": {},
   "outputs": [
    {
     "name": "stdout",
     "output_type": "stream",
     "text": [
      "Model: Random Forest\n",
      "Accuracy: 0.9982300884955753\n",
      "F1 score: 0.665973665973666\n",
      "Recall: 0.665283540802213\n"
     ]
    }
   ],
   "source": [
    "# Random Forest\n",
    "model = RandomForestClassifier(n_estimators=100, random_state=37)\n",
    "model.fit(X_train, y_train)\n",
    "predictions = model.predict(X_test)\n",
    "print(\"Model: Random Forest\")\n",
    "print(f\"Accuracy: {metrics.accuracy_score(y_test, predictions)}\")\n",
    "print(f\"F1 score: {metrics.f1_score(y_test, predictions, average='macro')}\")\n",
    "print(f\"Recall: {metrics.recall_score(y_test, predictions, average='macro')}\")"
   ]
  },
  {
   "cell_type": "markdown",
   "id": "b1dfbe8c-b319-43d8-92ac-775d2ef5f012",
   "metadata": {},
   "source": [
    "### Classification Report results"
   ]
  },
  {
   "cell_type": "code",
   "execution_count": 22,
   "id": "83a9787d-9f0b-40ce-b76b-a304ee3e1e7c",
   "metadata": {},
   "outputs": [
    {
     "name": "stdout",
     "output_type": "stream",
     "text": [
      "              precision    recall  f1-score   support\n",
      "\n",
      "        High       0.00      0.00      0.00         0\n",
      "    Low Risk       1.00      1.00      1.00       241\n",
      "      Medium       1.00      1.00      1.00       324\n",
      "\n",
      "    accuracy                           1.00       565\n",
      "   macro avg       0.67      0.67      0.67       565\n",
      "weighted avg       1.00      1.00      1.00       565\n",
      "\n"
     ]
    }
   ],
   "source": [
    "print(\n",
    "    classification_report(\n",
    "        y_test, predictions, target_names=[\"High\", \"Low Risk\", \"Medium\"]\n",
    "    )\n",
    ")"
   ]
  },
  {
   "cell_type": "markdown",
   "id": "9ee5929d-2e7b-4dfe-9b45-f742c025a62b",
   "metadata": {},
   "source": [
    "## 3. Comparing all the models including the above"
   ]
  },
  {
   "cell_type": "markdown",
   "id": "0f76924b-66fd-433c-b9e8-ca8d8025fe1f",
   "metadata": {},
   "source": [
    "### Reference:\n",
    "https://pages.github.ubc.ca/mds-2021-22/DSCI_573_feat-model-select_students/lectures/05_ensembles.html"
   ]
  },
  {
   "cell_type": "code",
   "execution_count": 23,
   "id": "a4184f36-cc02-445d-8cdb-345daf5cf7a7",
   "metadata": {},
   "outputs": [],
   "source": [
    "classifiers = {\n",
    "    \"Decision Tree\": DecisionTreeClassifier(random_state=37),\n",
    "    \"Random Forest\": RandomForestClassifier(n_estimators=100, random_state=37),\n",
    "    \"CatBoost\": CatBoostClassifier(verbose=0, random_state=37),\n",
    "    \"XGBoost\": XGBClassifier(random_state=37, eval_metric='logloss', verbosity=0),\n",
    "}"
   ]
  },
  {
   "cell_type": "code",
   "execution_count": 24,
   "id": "5769920e-de27-4a91-8b24-8915706e16f7",
   "metadata": {},
   "outputs": [],
   "source": [
    "results = {}\n",
    "scoring_metric = [\"accuracy\", \"f1_macro\", \"recall_macro\"]"
   ]
  },
  {
   "cell_type": "code",
   "execution_count": 25,
   "id": "eebb35e3-d06d-43c1-b682-5f1b54a92914",
   "metadata": {},
   "outputs": [],
   "source": [
    "def mean_std_cross_val_scores(model, X_train, y_train, **kwargs):\n",
    "    \"\"\"\n",
    "    Returns mean and std of cross validation\n",
    "\n",
    "    Parameters\n",
    "    ----------\n",
    "    model :\n",
    "        scikit-learn model\n",
    "    X_train : numpy array or pandas DataFrame\n",
    "        X in the training data\n",
    "    y_train :\n",
    "        y in the training data\n",
    "\n",
    "    Returns\n",
    "    ----------\n",
    "        pandas Series with mean scores from cross_validation\n",
    "    \"\"\"\n",
    "\n",
    "    scores = cross_validate(model, X_train, y_train, **kwargs)\n",
    "\n",
    "    mean_scores = pd.DataFrame(scores).mean()\n",
    "    std_scores = pd.DataFrame(scores).std()\n",
    "    out_col = []\n",
    "\n",
    "    for i in range(len(mean_scores)):\n",
    "        out_col.append((f\"%0.3f (+/- %0.3f)\" % (mean_scores[i], std_scores[i])))\n",
    "\n",
    "    return pd.Series(data=out_col, index=mean_scores.index)"
   ]
  },
  {
   "cell_type": "code",
   "execution_count": 26,
   "id": "5cc6dbf6-c8bd-47bd-8800-0f423e124252",
   "metadata": {},
   "outputs": [],
   "source": [
    "dummy = DummyClassifier(strategy=\"stratified\")\n",
    "results[\"Dummy\"] = mean_std_cross_val_scores(\n",
    "    dummy, X_train, y_train, return_train_score=True, scoring=scoring_metric\n",
    ")"
   ]
  },
  {
   "cell_type": "code",
   "execution_count": 27,
   "id": "79ed0ee0-73c0-46cb-9e81-81df885fc39c",
   "metadata": {},
   "outputs": [],
   "source": [
    "for (name, model) in classifiers.items():\n",
    "    results[name] = mean_std_cross_val_scores(\n",
    "        model, X_train, y_train, return_train_score=True, scoring=scoring_metric\n",
    "    )"
   ]
  },
  {
   "cell_type": "code",
   "execution_count": 28,
   "id": "27ce1644-9b43-4699-b525-9c10d7e3394a",
   "metadata": {},
   "outputs": [
    {
     "data": {
      "text/html": [
       "<div>\n",
       "<style scoped>\n",
       "    .dataframe tbody tr th:only-of-type {\n",
       "        vertical-align: middle;\n",
       "    }\n",
       "\n",
       "    .dataframe tbody tr th {\n",
       "        vertical-align: top;\n",
       "    }\n",
       "\n",
       "    .dataframe thead th {\n",
       "        text-align: right;\n",
       "    }\n",
       "</style>\n",
       "<table border=\"1\" class=\"dataframe\">\n",
       "  <thead>\n",
       "    <tr style=\"text-align: right;\">\n",
       "      <th></th>\n",
       "      <th>fit_time</th>\n",
       "      <th>score_time</th>\n",
       "      <th>test_accuracy</th>\n",
       "      <th>train_accuracy</th>\n",
       "      <th>test_f1_macro</th>\n",
       "      <th>train_f1_macro</th>\n",
       "      <th>test_recall_macro</th>\n",
       "      <th>train_recall_macro</th>\n",
       "    </tr>\n",
       "  </thead>\n",
       "  <tbody>\n",
       "    <tr>\n",
       "      <th>Dummy</th>\n",
       "      <td>0.003 (+/- 0.001)</td>\n",
       "      <td>0.008 (+/- 0.001)</td>\n",
       "      <td>0.335 (+/- 0.023)</td>\n",
       "      <td>0.340 (+/- 0.006)</td>\n",
       "      <td>0.334 (+/- 0.022)</td>\n",
       "      <td>0.340 (+/- 0.006)</td>\n",
       "      <td>0.335 (+/- 0.023)</td>\n",
       "      <td>0.340 (+/- 0.006)</td>\n",
       "    </tr>\n",
       "    <tr>\n",
       "      <th>Decision Tree</th>\n",
       "      <td>0.013 (+/- 0.008)</td>\n",
       "      <td>0.008 (+/- 0.002)</td>\n",
       "      <td>0.997 (+/- 0.002)</td>\n",
       "      <td>1.000 (+/- 0.000)</td>\n",
       "      <td>0.997 (+/- 0.002)</td>\n",
       "      <td>1.000 (+/- 0.000)</td>\n",
       "      <td>0.997 (+/- 0.002)</td>\n",
       "      <td>1.000 (+/- 0.000)</td>\n",
       "    </tr>\n",
       "    <tr>\n",
       "      <th>Random Forest</th>\n",
       "      <td>0.228 (+/- 0.013)</td>\n",
       "      <td>0.024 (+/- 0.002)</td>\n",
       "      <td>0.998 (+/- 0.001)</td>\n",
       "      <td>1.000 (+/- 0.000)</td>\n",
       "      <td>0.998 (+/- 0.001)</td>\n",
       "      <td>1.000 (+/- 0.000)</td>\n",
       "      <td>0.998 (+/- 0.001)</td>\n",
       "      <td>1.000 (+/- 0.000)</td>\n",
       "    </tr>\n",
       "    <tr>\n",
       "      <th>CatBoost</th>\n",
       "      <td>4.640 (+/- 0.818)</td>\n",
       "      <td>0.015 (+/- 0.004)</td>\n",
       "      <td>0.998 (+/- 0.001)</td>\n",
       "      <td>1.000 (+/- 0.000)</td>\n",
       "      <td>0.998 (+/- 0.001)</td>\n",
       "      <td>1.000 (+/- 0.000)</td>\n",
       "      <td>0.998 (+/- 0.001)</td>\n",
       "      <td>1.000 (+/- 0.000)</td>\n",
       "    </tr>\n",
       "    <tr>\n",
       "      <th>XGBoost</th>\n",
       "      <td>0.429 (+/- 0.019)</td>\n",
       "      <td>0.026 (+/- 0.003)</td>\n",
       "      <td>0.998 (+/- 0.002)</td>\n",
       "      <td>1.000 (+/- 0.000)</td>\n",
       "      <td>0.998 (+/- 0.002)</td>\n",
       "      <td>1.000 (+/- 0.000)</td>\n",
       "      <td>0.998 (+/- 0.002)</td>\n",
       "      <td>1.000 (+/- 0.000)</td>\n",
       "    </tr>\n",
       "  </tbody>\n",
       "</table>\n",
       "</div>"
      ],
      "text/plain": [
       "                        fit_time         score_time      test_accuracy  \\\n",
       "Dummy          0.003 (+/- 0.001)  0.008 (+/- 0.001)  0.335 (+/- 0.023)   \n",
       "Decision Tree  0.013 (+/- 0.008)  0.008 (+/- 0.002)  0.997 (+/- 0.002)   \n",
       "Random Forest  0.228 (+/- 0.013)  0.024 (+/- 0.002)  0.998 (+/- 0.001)   \n",
       "CatBoost       4.640 (+/- 0.818)  0.015 (+/- 0.004)  0.998 (+/- 0.001)   \n",
       "XGBoost        0.429 (+/- 0.019)  0.026 (+/- 0.003)  0.998 (+/- 0.002)   \n",
       "\n",
       "                  train_accuracy      test_f1_macro     train_f1_macro  \\\n",
       "Dummy          0.340 (+/- 0.006)  0.334 (+/- 0.022)  0.340 (+/- 0.006)   \n",
       "Decision Tree  1.000 (+/- 0.000)  0.997 (+/- 0.002)  1.000 (+/- 0.000)   \n",
       "Random Forest  1.000 (+/- 0.000)  0.998 (+/- 0.001)  1.000 (+/- 0.000)   \n",
       "CatBoost       1.000 (+/- 0.000)  0.998 (+/- 0.001)  1.000 (+/- 0.000)   \n",
       "XGBoost        1.000 (+/- 0.000)  0.998 (+/- 0.002)  1.000 (+/- 0.000)   \n",
       "\n",
       "               test_recall_macro train_recall_macro  \n",
       "Dummy          0.335 (+/- 0.023)  0.340 (+/- 0.006)  \n",
       "Decision Tree  0.997 (+/- 0.002)  1.000 (+/- 0.000)  \n",
       "Random Forest  0.998 (+/- 0.001)  1.000 (+/- 0.000)  \n",
       "CatBoost       0.998 (+/- 0.001)  1.000 (+/- 0.000)  \n",
       "XGBoost        0.998 (+/- 0.002)  1.000 (+/- 0.000)  "
      ]
     },
     "execution_count": 28,
     "metadata": {},
     "output_type": "execute_result"
    }
   ],
   "source": [
    "pd.DataFrame(results).T"
   ]
  },
  {
   "cell_type": "markdown",
   "id": "6e338899-2ba1-41c7-9a6b-696b06c6597b",
   "metadata": {},
   "source": [
    "## CatBoost"
   ]
  },
  {
   "cell_type": "markdown",
   "id": "61569c61-dc80-4558-85a2-d6d560cbf91d",
   "metadata": {},
   "source": [
    "### Scoring Metrics results"
   ]
  },
  {
   "cell_type": "code",
   "execution_count": 29,
   "id": "11bd9afe-4517-4cb1-8948-c0fcfc0f8463",
   "metadata": {},
   "outputs": [
    {
     "name": "stdout",
     "output_type": "stream",
     "text": [
      "Model: CatBoost\n",
      "Accuracy: 0.9982300884955753\n",
      "F1 score: 0.665973665973666\n",
      "Recall: 0.665283540802213\n"
     ]
    }
   ],
   "source": [
    "# CatBoost\n",
    "model = CatBoostClassifier(verbose=0, random_state=37)\n",
    "model.fit(X_train, y_train)\n",
    "predictions = model.predict(X_test)\n",
    "print(\"Model: CatBoost\")\n",
    "print(f\"Accuracy: {metrics.accuracy_score(y_test, predictions)}\")\n",
    "print(f\"F1 score: {metrics.f1_score(y_test, predictions, average='macro')}\")\n",
    "print(f\"Recall: {metrics.recall_score(y_test, predictions, average='macro')}\")"
   ]
  },
  {
   "cell_type": "markdown",
   "id": "16d8764d-ab78-49c9-9566-8108ee7e90e7",
   "metadata": {},
   "source": [
    "### Classification Report results"
   ]
  },
  {
   "cell_type": "code",
   "execution_count": 30,
   "id": "b534c3bc-76c2-4984-add8-3941a8c1f01e",
   "metadata": {},
   "outputs": [
    {
     "name": "stdout",
     "output_type": "stream",
     "text": [
      "              precision    recall  f1-score   support\n",
      "\n",
      "        High       0.00      0.00      0.00         0\n",
      "    Low Risk       1.00      1.00      1.00       241\n",
      "      Medium       1.00      1.00      1.00       324\n",
      "\n",
      "    accuracy                           1.00       565\n",
      "   macro avg       0.67      0.67      0.67       565\n",
      "weighted avg       1.00      1.00      1.00       565\n",
      "\n"
     ]
    }
   ],
   "source": [
    "print(\n",
    "    classification_report(\n",
    "        y_test, predictions, target_names=[\"High\", \"Low Risk\", \"Medium\"]\n",
    "    )\n",
    ")"
   ]
  },
  {
   "cell_type": "code",
   "execution_count": null,
   "id": "18df8298-b565-4a5e-bea4-b5adaa3690ad",
   "metadata": {},
   "outputs": [],
   "source": []
  }
 ],
 "metadata": {
  "kernelspec": {
   "display_name": "Python [conda env:api-risk-env]",
   "language": "python",
   "name": "conda-env-api-risk-env-py"
  },
  "language_info": {
   "codemirror_mode": {
    "name": "ipython",
    "version": 3
   },
   "file_extension": ".py",
   "mimetype": "text/x-python",
   "name": "python",
   "nbconvert_exporter": "python",
   "pygments_lexer": "ipython3",
   "version": "3.10.5"
  }
 },
 "nbformat": 4,
 "nbformat_minor": 5
}
