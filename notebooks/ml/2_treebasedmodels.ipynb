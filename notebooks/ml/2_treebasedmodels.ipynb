{
 "cells": [
  {
   "cell_type": "markdown",
   "id": "d5cd4610-90c2-40b4-b335-cd6bd7d89874",
   "metadata": {},
   "source": [
    "# Supervised Learning: Tree-Based Models"
   ]
  },
  {
   "cell_type": "markdown",
   "id": "d42a99e7-a655-4633-a3d8-165bb3dee67c",
   "metadata": {},
   "source": [
    "In this notebook, we attempted different tree-based supervised learning models. They are:\n",
    "- Decision Tree\n",
    "- Random Forest\n",
    "- CatBoost\n",
    "- XGBoost\n",
    "\n",
    "This included running the model, testing it with the test set, scoring the model along with its classification report. "
   ]
  },
  {
   "cell_type": "markdown",
   "id": "99264911-4a54-4b14-9a57-ffeb76906149",
   "metadata": {},
   "source": [
    "**Conclusions from this notebook:**  \n",
    "\n",
    "This was an attempt to document our process of choosing the most suitable model for this project. However, we did not use any of these models in the final ML pipeline. All the models attempted in this notebook and the other notebook produced high scores in Recall, F1 and accuracy. In the end, we chose to use Logistic Regression as it offered the most interpretable results, and we were better able to identify key features that TeejLab can use on the platform."
   ]
  },
  {
   "cell_type": "markdown",
   "id": "4e9e057d-3ed2-448f-bd0d-a0c6d9741348",
   "metadata": {},
   "source": [
    "## Imports"
   ]
  },
  {
   "cell_type": "markdown",
   "id": "8403b58a-bb05-41f8-87aa-cfce8f4da5ff",
   "metadata": {},
   "source": [
    "In this section, we load all the packages required to run the notebook."
   ]
  },
  {
   "cell_type": "code",
   "execution_count": 1,
   "id": "3e97540f-466c-44f9-880e-622e48e0ec82",
   "metadata": {},
   "outputs": [],
   "source": [
    "from sklearn import tree\n",
    "from sklearn.dummy import DummyClassifier\n",
    "from sklearn.tree import DecisionTreeClassifier\n",
    "from sklearn.ensemble import RandomForestClassifier\n",
    "from sklearn import metrics\n",
    "from catboost import CatBoostClassifier\n",
    "from xgboost import XGBClassifier\n",
    "from sklearn.preprocessing import StandardScaler, LabelEncoder\n",
    "from sklearn.metrics import classification_report\n",
    "from sklearn.model_selection import cross_validate\n",
    "import pandas as pd\n",
    "import matplotlib.pyplot as plt\n",
    "from imblearn.over_sampling import SMOTE\n",
    "\n",
    "import warnings\n",
    "warnings.filterwarnings(\"ignore\")"
   ]
  },
  {
   "cell_type": "markdown",
   "id": "98a009cb-7e5a-4e7d-b587-46621426f399",
   "metadata": {},
   "source": [
    "## Read in train and test dataset"
   ]
  },
  {
   "cell_type": "markdown",
   "id": "4c6ed7c5-e28a-484c-99d2-60251ac189a8",
   "metadata": {},
   "source": [
    "In this section:\n",
    "- We load the training data, and look at first 5 values and shape. This data has already been cleaned, processed and new features created.\n",
    "- Separate the data into X-train (features) and y-train (output)\n",
    "- Use Oversampling (SMOTE) technique to create a balanced training data-set\n",
    "- Define StandardScaler() for feature values"
   ]
  },
  {
   "cell_type": "code",
   "execution_count": 2,
   "id": "62bbe391-00b6-4a5a-9961-2e030fbdabcd",
   "metadata": {},
   "outputs": [
    {
     "data": {
      "text/html": [
       "<div>\n",
       "<style scoped>\n",
       "    .dataframe tbody tr th:only-of-type {\n",
       "        vertical-align: middle;\n",
       "    }\n",
       "\n",
       "    .dataframe tbody tr th {\n",
       "        vertical-align: top;\n",
       "    }\n",
       "\n",
       "    .dataframe thead th {\n",
       "        text-align: right;\n",
       "    }\n",
       "</style>\n",
       "<table border=\"1\" class=\"dataframe\">\n",
       "  <thead>\n",
       "    <tr style=\"text-align: right;\">\n",
       "      <th></th>\n",
       "      <th>is_pii</th>\n",
       "      <th>is_fii</th>\n",
       "      <th>NRI score</th>\n",
       "      <th>authentication_processed</th>\n",
       "      <th>usage_base_processed</th>\n",
       "      <th>AI &amp; Data Science</th>\n",
       "      <th>Business &amp; Technology</th>\n",
       "      <th>Environment &amp; Weather</th>\n",
       "      <th>Finance &amp; Banking</th>\n",
       "      <th>GeoInformatics &amp; Navigation</th>\n",
       "      <th>...</th>\n",
       "      <th>content-type</th>\n",
       "      <th>set-cookie</th>\n",
       "      <th>access-control-allow-origin</th>\n",
       "      <th>server</th>\n",
       "      <th>x-powered-by</th>\n",
       "      <th>x-aspnet-version</th>\n",
       "      <th>x-ratelimit-limit</th>\n",
       "      <th>metadata_fields_count</th>\n",
       "      <th>parameters_count</th>\n",
       "      <th>Risk_Label</th>\n",
       "    </tr>\n",
       "  </thead>\n",
       "  <tbody>\n",
       "    <tr>\n",
       "      <th>0</th>\n",
       "      <td>True</td>\n",
       "      <td>False</td>\n",
       "      <td>77.850013</td>\n",
       "      <td>0</td>\n",
       "      <td>2</td>\n",
       "      <td>0</td>\n",
       "      <td>0</td>\n",
       "      <td>0</td>\n",
       "      <td>0</td>\n",
       "      <td>0</td>\n",
       "      <td>...</td>\n",
       "      <td>0</td>\n",
       "      <td>0</td>\n",
       "      <td>0</td>\n",
       "      <td>0</td>\n",
       "      <td>0</td>\n",
       "      <td>0</td>\n",
       "      <td>0</td>\n",
       "      <td>2</td>\n",
       "      <td>2</td>\n",
       "      <td>Low</td>\n",
       "    </tr>\n",
       "    <tr>\n",
       "      <th>1</th>\n",
       "      <td>True</td>\n",
       "      <td>False</td>\n",
       "      <td>77.850013</td>\n",
       "      <td>1</td>\n",
       "      <td>2</td>\n",
       "      <td>0</td>\n",
       "      <td>0</td>\n",
       "      <td>0</td>\n",
       "      <td>0</td>\n",
       "      <td>0</td>\n",
       "      <td>...</td>\n",
       "      <td>0</td>\n",
       "      <td>0</td>\n",
       "      <td>0</td>\n",
       "      <td>1</td>\n",
       "      <td>0</td>\n",
       "      <td>0</td>\n",
       "      <td>0</td>\n",
       "      <td>6</td>\n",
       "      <td>1</td>\n",
       "      <td>Low</td>\n",
       "    </tr>\n",
       "    <tr>\n",
       "      <th>2</th>\n",
       "      <td>False</td>\n",
       "      <td>False</td>\n",
       "      <td>76.479613</td>\n",
       "      <td>1</td>\n",
       "      <td>2</td>\n",
       "      <td>0</td>\n",
       "      <td>1</td>\n",
       "      <td>0</td>\n",
       "      <td>0</td>\n",
       "      <td>0</td>\n",
       "      <td>...</td>\n",
       "      <td>0</td>\n",
       "      <td>0</td>\n",
       "      <td>0</td>\n",
       "      <td>1</td>\n",
       "      <td>0</td>\n",
       "      <td>0</td>\n",
       "      <td>0</td>\n",
       "      <td>3</td>\n",
       "      <td>1</td>\n",
       "      <td>Medium</td>\n",
       "    </tr>\n",
       "    <tr>\n",
       "      <th>3</th>\n",
       "      <td>True</td>\n",
       "      <td>False</td>\n",
       "      <td>76.479613</td>\n",
       "      <td>1</td>\n",
       "      <td>2</td>\n",
       "      <td>0</td>\n",
       "      <td>0</td>\n",
       "      <td>0</td>\n",
       "      <td>0</td>\n",
       "      <td>0</td>\n",
       "      <td>...</td>\n",
       "      <td>1</td>\n",
       "      <td>0</td>\n",
       "      <td>0</td>\n",
       "      <td>0</td>\n",
       "      <td>0</td>\n",
       "      <td>0</td>\n",
       "      <td>0</td>\n",
       "      <td>5</td>\n",
       "      <td>0</td>\n",
       "      <td>Low</td>\n",
       "    </tr>\n",
       "    <tr>\n",
       "      <th>4</th>\n",
       "      <td>True</td>\n",
       "      <td>False</td>\n",
       "      <td>77.850013</td>\n",
       "      <td>0</td>\n",
       "      <td>2</td>\n",
       "      <td>0</td>\n",
       "      <td>0</td>\n",
       "      <td>0</td>\n",
       "      <td>0</td>\n",
       "      <td>0</td>\n",
       "      <td>...</td>\n",
       "      <td>0</td>\n",
       "      <td>0</td>\n",
       "      <td>0</td>\n",
       "      <td>0</td>\n",
       "      <td>0</td>\n",
       "      <td>0</td>\n",
       "      <td>0</td>\n",
       "      <td>2</td>\n",
       "      <td>3</td>\n",
       "      <td>Low</td>\n",
       "    </tr>\n",
       "  </tbody>\n",
       "</table>\n",
       "<p>5 rows × 53 columns</p>\n",
       "</div>"
      ],
      "text/plain": [
       "   is_pii  is_fii  NRI score  authentication_processed  usage_base_processed  \\\n",
       "0    True   False  77.850013                         0                     2   \n",
       "1    True   False  77.850013                         1                     2   \n",
       "2   False   False  76.479613                         1                     2   \n",
       "3    True   False  76.479613                         1                     2   \n",
       "4    True   False  77.850013                         0                     2   \n",
       "\n",
       "   AI & Data Science  Business & Technology  Environment & Weather  \\\n",
       "0                  0                      0                      0   \n",
       "1                  0                      0                      0   \n",
       "2                  0                      1                      0   \n",
       "3                  0                      0                      0   \n",
       "4                  0                      0                      0   \n",
       "\n",
       "   Finance & Banking  GeoInformatics & Navigation  ...  content-type  \\\n",
       "0                  0                            0  ...             0   \n",
       "1                  0                            0  ...             0   \n",
       "2                  0                            0  ...             0   \n",
       "3                  0                            0  ...             1   \n",
       "4                  0                            0  ...             0   \n",
       "\n",
       "   set-cookie  access-control-allow-origin  server  x-powered-by  \\\n",
       "0           0                            0       0             0   \n",
       "1           0                            0       1             0   \n",
       "2           0                            0       1             0   \n",
       "3           0                            0       0             0   \n",
       "4           0                            0       0             0   \n",
       "\n",
       "   x-aspnet-version  x-ratelimit-limit  metadata_fields_count  \\\n",
       "0                 0                  0                      2   \n",
       "1                 0                  0                      6   \n",
       "2                 0                  0                      3   \n",
       "3                 0                  0                      5   \n",
       "4                 0                  0                      2   \n",
       "\n",
       "   parameters_count  Risk_Label  \n",
       "0                 2         Low  \n",
       "1                 1         Low  \n",
       "2                 1      Medium  \n",
       "3                 0         Low  \n",
       "4                 3         Low  \n",
       "\n",
       "[5 rows x 53 columns]"
      ]
     },
     "execution_count": 2,
     "metadata": {},
     "output_type": "execute_result"
    }
   ],
   "source": [
    "api_df = pd.read_excel(\"../../data/processed/preprocessed_train.xlsx\")\n",
    "api_test_df = pd.read_excel(\"../../data/processed/preprocessed_test.xlsx\")\n",
    "api_df.head()"
   ]
  },
  {
   "cell_type": "code",
   "execution_count": 3,
   "id": "f0ee9108-3767-4b05-8b7f-69d228d01ca3",
   "metadata": {},
   "outputs": [
    {
     "data": {
      "text/plain": [
       "(1316, 53)"
      ]
     },
     "execution_count": 3,
     "metadata": {},
     "output_type": "execute_result"
    }
   ],
   "source": [
    "api_df.shape"
   ]
  },
  {
   "cell_type": "code",
   "execution_count": 4,
   "id": "1e42e060-fca4-48e8-8b34-ba6505d4a875",
   "metadata": {},
   "outputs": [],
   "source": [
    "# X, y split\n",
    "X_train, y_train = api_df.drop(columns=[\"Risk_Label\"]), api_df[\"Risk_Label\"]\n",
    "X_test, y_test = api_test_df.drop(columns=[\"Risk_Label\"]), api_test_df[\"Risk_Label\"]"
   ]
  },
  {
   "cell_type": "code",
   "execution_count": 5,
   "id": "c503e419-7002-476f-ba69-da987fd96cb9",
   "metadata": {},
   "outputs": [],
   "source": [
    "# Smote function\n",
    "def create_smote(X, y, k_neighbors):\n",
    "    oversample = SMOTE(k_neighbors = k_neighbors)\n",
    "    X, y = oversample.fit_resample(X, y)\n",
    "    return X, y"
   ]
  },
  {
   "cell_type": "code",
   "execution_count": 6,
   "id": "ad41b3e7-cc19-4d47-b556-51df6101a01d",
   "metadata": {},
   "outputs": [],
   "source": [
    "# Balance training data\n",
    "X_train, y_train = create_smote(X_train, y_train, 2)"
   ]
  },
  {
   "cell_type": "markdown",
   "id": "7d208264-194e-456e-961f-6c2cd5699d44",
   "metadata": {},
   "source": [
    "# Helper Code"
   ]
  },
  {
   "cell_type": "markdown",
   "id": "f5f436fa-9fe3-4a3a-9eb5-a3d8407699bd",
   "metadata": {},
   "source": [
    "In this section, we provide helper code that is used in the subsequent sections for evaluating the models. The function `mean_std_cross_val_scores()` computes the train score and test score for the `scoring_metric` using sklearn's `cross_validate()`. The final scores are returned in `results` dictionary."
   ]
  },
  {
   "cell_type": "code",
   "execution_count": 7,
   "id": "8508b84f-6c77-404b-976e-dab5c36df27e",
   "metadata": {},
   "outputs": [],
   "source": [
    "results = {}\n",
    "scoring_metric = [\"f1_macro\", \"recall_macro\"]"
   ]
  },
  {
   "cell_type": "code",
   "execution_count": 8,
   "id": "6c97360d-c1f9-4d32-af9c-231cca8519e8",
   "metadata": {},
   "outputs": [],
   "source": [
    "def mean_std_cross_val_scores(model, X_train, y_train, **kwargs):\n",
    "    \"\"\"\n",
    "    Returns mean and std of cross validation\n",
    "\n",
    "    Parameters\n",
    "    ----------\n",
    "    model :\n",
    "        scikit-learn model\n",
    "    X_train : numpy array or pandas DataFrame\n",
    "        X in the training data\n",
    "    y_train :\n",
    "        y in the training data\n",
    "\n",
    "    Returns\n",
    "    ----------\n",
    "        pandas Series with mean scores from cross_validation\n",
    "    \"\"\"\n",
    "\n",
    "    scores = cross_validate(model, X_train, y_train, **kwargs)\n",
    "\n",
    "    mean_scores = pd.DataFrame(scores).mean()\n",
    "    std_scores = pd.DataFrame(scores).std()\n",
    "    out_col = []\n",
    "\n",
    "    for i in range(len(mean_scores)):\n",
    "        out_col.append((f\"%0.3f (+/- %0.3f)\" % (mean_scores[i], std_scores[i])))\n",
    "\n",
    "    return pd.Series(data=out_col, index=mean_scores.index)"
   ]
  },
  {
   "cell_type": "code",
   "execution_count": 9,
   "id": "5bdd9d22-3459-4b8e-844b-042c8d8d996c",
   "metadata": {},
   "outputs": [
    {
     "data": {
      "text/html": [
       "<style>#sk-container-id-1 {color: black;background-color: white;}#sk-container-id-1 pre{padding: 0;}#sk-container-id-1 div.sk-toggleable {background-color: white;}#sk-container-id-1 label.sk-toggleable__label {cursor: pointer;display: block;width: 100%;margin-bottom: 0;padding: 0.3em;box-sizing: border-box;text-align: center;}#sk-container-id-1 label.sk-toggleable__label-arrow:before {content: \"▸\";float: left;margin-right: 0.25em;color: #696969;}#sk-container-id-1 label.sk-toggleable__label-arrow:hover:before {color: black;}#sk-container-id-1 div.sk-estimator:hover label.sk-toggleable__label-arrow:before {color: black;}#sk-container-id-1 div.sk-toggleable__content {max-height: 0;max-width: 0;overflow: hidden;text-align: left;background-color: #f0f8ff;}#sk-container-id-1 div.sk-toggleable__content pre {margin: 0.2em;color: black;border-radius: 0.25em;background-color: #f0f8ff;}#sk-container-id-1 input.sk-toggleable__control:checked~div.sk-toggleable__content {max-height: 200px;max-width: 100%;overflow: auto;}#sk-container-id-1 input.sk-toggleable__control:checked~label.sk-toggleable__label-arrow:before {content: \"▾\";}#sk-container-id-1 div.sk-estimator input.sk-toggleable__control:checked~label.sk-toggleable__label {background-color: #d4ebff;}#sk-container-id-1 div.sk-label input.sk-toggleable__control:checked~label.sk-toggleable__label {background-color: #d4ebff;}#sk-container-id-1 input.sk-hidden--visually {border: 0;clip: rect(1px 1px 1px 1px);clip: rect(1px, 1px, 1px, 1px);height: 1px;margin: -1px;overflow: hidden;padding: 0;position: absolute;width: 1px;}#sk-container-id-1 div.sk-estimator {font-family: monospace;background-color: #f0f8ff;border: 1px dotted black;border-radius: 0.25em;box-sizing: border-box;margin-bottom: 0.5em;}#sk-container-id-1 div.sk-estimator:hover {background-color: #d4ebff;}#sk-container-id-1 div.sk-parallel-item::after {content: \"\";width: 100%;border-bottom: 1px solid gray;flex-grow: 1;}#sk-container-id-1 div.sk-label:hover label.sk-toggleable__label {background-color: #d4ebff;}#sk-container-id-1 div.sk-serial::before {content: \"\";position: absolute;border-left: 1px solid gray;box-sizing: border-box;top: 0;bottom: 0;left: 50%;z-index: 0;}#sk-container-id-1 div.sk-serial {display: flex;flex-direction: column;align-items: center;background-color: white;padding-right: 0.2em;padding-left: 0.2em;position: relative;}#sk-container-id-1 div.sk-item {position: relative;z-index: 1;}#sk-container-id-1 div.sk-parallel {display: flex;align-items: stretch;justify-content: center;background-color: white;position: relative;}#sk-container-id-1 div.sk-item::before, #sk-container-id-1 div.sk-parallel-item::before {content: \"\";position: absolute;border-left: 1px solid gray;box-sizing: border-box;top: 0;bottom: 0;left: 50%;z-index: -1;}#sk-container-id-1 div.sk-parallel-item {display: flex;flex-direction: column;z-index: 1;position: relative;background-color: white;}#sk-container-id-1 div.sk-parallel-item:first-child::after {align-self: flex-end;width: 50%;}#sk-container-id-1 div.sk-parallel-item:last-child::after {align-self: flex-start;width: 50%;}#sk-container-id-1 div.sk-parallel-item:only-child::after {width: 0;}#sk-container-id-1 div.sk-dashed-wrapped {border: 1px dashed gray;margin: 0 0.4em 0.5em 0.4em;box-sizing: border-box;padding-bottom: 0.4em;background-color: white;}#sk-container-id-1 div.sk-label label {font-family: monospace;font-weight: bold;display: inline-block;line-height: 1.2em;}#sk-container-id-1 div.sk-label-container {text-align: center;}#sk-container-id-1 div.sk-container {/* jupyter's `normalize.less` sets `[hidden] { display: none; }` but bootstrap.min.css set `[hidden] { display: none !important; }` so we also need the `!important` here to be able to override the default hidden behavior on the sphinx rendered scikit-learn.org. See: https://github.com/scikit-learn/scikit-learn/issues/21755 */display: inline-block !important;position: relative;}#sk-container-id-1 div.sk-text-repr-fallback {display: none;}</style><div id=\"sk-container-id-1\" class=\"sk-top-container\"><div class=\"sk-text-repr-fallback\"><pre>StandardScaler()</pre><b>In a Jupyter environment, please rerun this cell to show the HTML representation or trust the notebook. <br />On GitHub, the HTML representation is unable to render, please try loading this page with nbviewer.org.</b></div><div class=\"sk-container\" hidden><div class=\"sk-item\"><div class=\"sk-estimator sk-toggleable\"><input class=\"sk-toggleable__control sk-hidden--visually\" id=\"sk-estimator-id-1\" type=\"checkbox\" checked><label for=\"sk-estimator-id-1\" class=\"sk-toggleable__label sk-toggleable__label-arrow\">StandardScaler</label><div class=\"sk-toggleable__content\"><pre>StandardScaler()</pre></div></div></div></div></div>"
      ],
      "text/plain": [
       "StandardScaler()"
      ]
     },
     "execution_count": 9,
     "metadata": {},
     "output_type": "execute_result"
    }
   ],
   "source": [
    "scaler = StandardScaler()\n",
    "scaler.fit(X_train)"
   ]
  },
  {
   "cell_type": "markdown",
   "id": "3f918c0f-36ec-4018-be04-162e8aebdc77",
   "metadata": {},
   "source": [
    "## 1. Decision Tree"
   ]
  },
  {
   "cell_type": "markdown",
   "id": "149b477a-c0c5-406f-b08f-f23a248316d2",
   "metadata": {},
   "source": [
    "In this section, we provide the implementation and analysis of `Random Forest` model. In the subsections below, the following tasks have been performed:\n",
    "- Trained the model and obtained the recall values and f1-scores\n",
    "- Tuned the hyperparameters of the model - `max_depth` and `max_tree_nodes` \n",
    "- Generated the classification report to evaluate class-wise performance\n",
    "- Visualized the structure of the decision tree"
   ]
  },
  {
   "cell_type": "markdown",
   "id": "7b9d54f4-25f9-435c-a84a-895042cec188",
   "metadata": {},
   "source": [
    "#### Model fitting and scores"
   ]
  },
  {
   "cell_type": "code",
   "execution_count": 10,
   "id": "19ff1762-a1ca-4a31-bde3-4def0167e59f",
   "metadata": {},
   "outputs": [],
   "source": [
    "# https://scikit-learn.org/stable/modules/generated/sklearn.tree.DecisionTreeClassifier.html\n",
    "clf = tree.DecisionTreeClassifier(random_state=37, max_depth=6, criterion='gini')\n",
    "clf = clf.fit(X_train, y_train)"
   ]
  },
  {
   "cell_type": "code",
   "execution_count": 11,
   "id": "aba336a9-b3e8-4c36-817f-5b1fced4baaf",
   "metadata": {},
   "outputs": [
    {
     "name": "stdout",
     "output_type": "stream",
     "text": [
      "Model: Decision Tree\n",
      "F1 score: 0.6647683424508477\n",
      "Recall: 0.6642547342178509\n"
     ]
    }
   ],
   "source": [
    "model = DecisionTreeClassifier(random_state=37)\n",
    "model.fit(X_train, y_train)\n",
    "predictions = model.predict(X_test)\n",
    "print(\"Model: Decision Tree\")\n",
    "print(f\"F1 score: {metrics.f1_score(y_test, predictions, average='macro')}\")\n",
    "print(f\"Recall: {metrics.recall_score(y_test, predictions, average='macro')}\")"
   ]
  },
  {
   "cell_type": "markdown",
   "id": "69ebbf38-da42-46cd-885c-b90383a7bc21",
   "metadata": {
    "tags": []
   },
   "source": [
    "#### Hyperparameter tuning"
   ]
  },
  {
   "cell_type": "code",
   "execution_count": 12,
   "id": "5bab92e7-c852-4876-a3e3-111768ca41b8",
   "metadata": {},
   "outputs": [
    {
     "name": "stdout",
     "output_type": "stream",
     "text": [
      "Accuracy: 0.9964601769911504\n"
     ]
    }
   ],
   "source": [
    "# max depth\n",
    "clf_maxdepth = DecisionTreeClassifier(random_state=37, max_depth=5)\n",
    "clf_maxdepth = clf_maxdepth.fit(X_train, y_train)\n",
    "y_pred = clf_maxdepth.predict(X_test)\n",
    "print(\"Accuracy:\", metrics.accuracy_score(y_test, y_pred))"
   ]
  },
  {
   "cell_type": "code",
   "execution_count": 13,
   "id": "82e06966-19f8-4da5-afbd-d71f7392d4bf",
   "metadata": {},
   "outputs": [
    {
     "name": "stdout",
     "output_type": "stream",
     "text": [
      "Accuracy: 0.9911504424778761\n"
     ]
    }
   ],
   "source": [
    "# max_leaf_nodes\n",
    "clf_maxleafnode = DecisionTreeClassifier(random_state=37, max_leaf_nodes=5)\n",
    "clf_maxleafnode = clf_maxleafnode.fit(X_train, y_train)\n",
    "y_pred = clf_maxleafnode.predict(X_test)\n",
    "print(\"Accuracy:\", metrics.accuracy_score(y_test, y_pred))"
   ]
  },
  {
   "cell_type": "markdown",
   "id": "e446cd53-1019-4b45-a5ab-8e479e0dcab8",
   "metadata": {},
   "source": [
    "#### Classification report"
   ]
  },
  {
   "cell_type": "code",
   "execution_count": 14,
   "id": "811b829b-48ad-4d56-95e8-09f32ecaf0cf",
   "metadata": {},
   "outputs": [
    {
     "name": "stdout",
     "output_type": "stream",
     "text": [
      "              precision    recall  f1-score   support\n",
      "\n",
      "        High       0.00      0.00      0.00         0\n",
      "    Low Risk       1.00      1.00      1.00       241\n",
      "      Medium       1.00      1.00      1.00       324\n",
      "\n",
      "    accuracy                           1.00       565\n",
      "   macro avg       0.67      0.66      0.66       565\n",
      "weighted avg       1.00      1.00      1.00       565\n",
      "\n"
     ]
    }
   ],
   "source": [
    "print(\n",
    "    classification_report(\n",
    "        y_test, predictions, target_names=[\"High\", \"Low Risk\", \"Medium\"]\n",
    "    )\n",
    ")"
   ]
  },
  {
   "cell_type": "markdown",
   "id": "a3e8f8d8-6c88-4fb4-9600-86597980310f",
   "metadata": {},
   "source": [
    "#### Decision Tree visualisation"
   ]
  },
  {
   "cell_type": "code",
   "execution_count": 15,
   "id": "6f12ad29-deb4-4507-a06e-867b2c2988c2",
   "metadata": {},
   "outputs": [
    {
     "data": {
      "text/plain": [
       "[Text(0.5416666666666666, 0.9, 'is_pii <= 0.5\\ngini = 0.667\\nsamples = 1983\\nvalue = [661, 661, 661]\\nclass = Low'),\n",
       " Text(0.3333333333333333, 0.7, 'x0_Missing <= 0.5\\ngini = 0.219\\nsamples = 753\\nvalue = [74, 18, 661]\\nclass = Medium'),\n",
       " Text(0.16666666666666666, 0.5, 'x0_Broken Authentication <= 0.5\\ngini = 0.119\\nsamples = 79\\nvalue = [74, 5, 0]\\nclass = Low'),\n",
       " Text(0.08333333333333333, 0.3, 'gini = 0.0\\nsamples = 5\\nvalue = [0, 5, 0]\\nclass = Low'),\n",
       " Text(0.25, 0.3, 'gini = 0.0\\nsamples = 74\\nvalue = [74, 0, 0]\\nclass = Low'),\n",
       " Text(0.5, 0.5, 'is_fii <= 0.5\\ngini = 0.038\\nsamples = 674\\nvalue = [0, 13, 661]\\nclass = Medium'),\n",
       " Text(0.4166666666666667, 0.3, 'metadata_fields_count <= 0.5\\ngini = 0.003\\nsamples = 662\\nvalue = [0, 1, 661]\\nclass = Medium'),\n",
       " Text(0.3333333333333333, 0.1, 'gini = 0.0\\nsamples = 1\\nvalue = [0, 1, 0]\\nclass = Low'),\n",
       " Text(0.5, 0.1, 'gini = 0.0\\nsamples = 661\\nvalue = [0, 0, 661]\\nclass = Medium'),\n",
       " Text(0.5833333333333334, 0.3, 'gini = 0.0\\nsamples = 12\\nvalue = [0, 12, 0]\\nclass = Low'),\n",
       " Text(0.75, 0.7, 'is_fii <= 0.5\\ngini = 0.499\\nsamples = 1230\\nvalue = [587, 643, 0]\\nclass = Low'),\n",
       " Text(0.6666666666666666, 0.5, 'gini = 0.0\\nsamples = 625\\nvalue = [0, 625, 0]\\nclass = Low'),\n",
       " Text(0.8333333333333334, 0.5, 'server <= 0.5\\ngini = 0.058\\nsamples = 605\\nvalue = [587, 18, 0]\\nclass = Low'),\n",
       " Text(0.75, 0.3, 'authentication_processed <= 0.5\\ngini = 0.007\\nsamples = 589\\nvalue = [587, 2, 0]\\nclass = Low'),\n",
       " Text(0.6666666666666666, 0.1, 'gini = 0.0\\nsamples = 2\\nvalue = [0, 2, 0]\\nclass = Low'),\n",
       " Text(0.8333333333333334, 0.1, 'gini = 0.0\\nsamples = 587\\nvalue = [587, 0, 0]\\nclass = Low'),\n",
       " Text(0.9166666666666666, 0.3, 'gini = 0.0\\nsamples = 16\\nvalue = [0, 16, 0]\\nclass = Low')]"
      ]
     },
     "execution_count": 15,
     "metadata": {},
     "output_type": "execute_result"
    },
    {
     "data": {
      "image/png": "[encoded data removed]",
      "text/plain": [
       "<Figure size 1800x864 with 1 Axes>"
      ]
     },
     "metadata": {
      "needs_background": "light"
     },
     "output_type": "display_data"
    }
   ],
   "source": [
    "fig, axes = plt.subplots(nrows=1, ncols=1, figsize=(25, 12))\n",
    "fn = list(X_train)\n",
    "cn = list(y_train)\n",
    "tree.plot_tree(clf,\n",
    "               feature_names=fn,\n",
    "               class_names=cn,\n",
    "               fontsize=10,\n",
    "               filled=True)"
   ]
  },
  {
   "cell_type": "markdown",
   "id": "cc0e9ac5-1e25-4393-8f2e-4d3b98bd0df0",
   "metadata": {},
   "source": [
    "## 2. Random Forest"
   ]
  },
  {
   "cell_type": "markdown",
   "id": "e38ffcce-1574-4a28-9ccc-a3c440e0e375",
   "metadata": {},
   "source": [
    "In this section, we provide the implementation and analysis of `Random Forest` model. In the subsections below, the following tasks have been performed:\n",
    "- Trained the model and obtained the recall values and f1-scores\n",
    "- Generated the classification report to evaluate class-wise performance"
   ]
  },
  {
   "cell_type": "markdown",
   "id": "b0b76726-19be-4cdd-8295-f8d0b8171543",
   "metadata": {},
   "source": [
    "#### Model fitting and scores"
   ]
  },
  {
   "cell_type": "code",
   "execution_count": 16,
   "id": "8eebf815-b695-4850-aa31-c267ece0b433",
   "metadata": {},
   "outputs": [],
   "source": [
    "# https://scikit-learn.org/stable/modules/generated/sklearn.ensemble.RandomForestClassifier.html\n",
    "rf_clf = RandomForestClassifier(n_estimators=100, random_state=37, n_jobs=-1) # n_estimators = no. of trees in the forest\n",
    "rf_clf = rf_clf.fit(X_train, y_train)"
   ]
  },
  {
   "cell_type": "code",
   "execution_count": 17,
   "id": "f6747306-d95b-493d-8e7a-d572da2f347e",
   "metadata": {},
   "outputs": [
    {
     "name": "stdout",
     "output_type": "stream",
     "text": [
      "Model: Random Forest\n",
      "F1 score: 0.665973665973666\n",
      "Recall: 0.665283540802213\n"
     ]
    }
   ],
   "source": [
    "model = RandomForestClassifier(n_estimators=100, random_state=37, n_jobs=-1)\n",
    "model.fit(X_train, y_train)\n",
    "predictions = model.predict(X_test)\n",
    "print(\"Model: Random Forest\")\n",
    "print(f\"F1 score: {metrics.f1_score(y_test, predictions, average='macro')}\")\n",
    "print(f\"Recall: {metrics.recall_score(y_test, predictions, average='macro')}\")"
   ]
  },
  {
   "cell_type": "markdown",
   "id": "e24f07aa-f4da-440e-bc52-77a66a78c094",
   "metadata": {},
   "source": [
    "#### Classification report"
   ]
  },
  {
   "cell_type": "code",
   "execution_count": 18,
   "id": "83a9787d-9f0b-40ce-b76b-a304ee3e1e7c",
   "metadata": {},
   "outputs": [
    {
     "name": "stdout",
     "output_type": "stream",
     "text": [
      "              precision    recall  f1-score   support\n",
      "\n",
      "        High       0.00      0.00      0.00         0\n",
      "    Low Risk       1.00      1.00      1.00       241\n",
      "      Medium       1.00      1.00      1.00       324\n",
      "\n",
      "    accuracy                           1.00       565\n",
      "   macro avg       0.67      0.67      0.67       565\n",
      "weighted avg       1.00      1.00      1.00       565\n",
      "\n"
     ]
    }
   ],
   "source": [
    "print(\n",
    "    classification_report(\n",
    "        y_test, predictions, target_names=[\"High\", \"Low Risk\", \"Medium\"]\n",
    "    )\n",
    ")"
   ]
  },
  {
   "cell_type": "markdown",
   "id": "9ee5929d-2e7b-4dfe-9b45-f742c025a62b",
   "metadata": {},
   "source": [
    "## 3. Comparing all the models including the above"
   ]
  },
  {
   "cell_type": "markdown",
   "id": "aeded517-5dd3-447a-9f93-9acd35ec4e00",
   "metadata": {},
   "source": [
    "In this section, we compare the performance improvement for four tree based models with regard to the Dummy model: Decision Tree, Random Forest, CatBoost, XGBoost. It is observed that the performance of all these ensemble models is similar. Hence, we select the Decision Tree model as it is fastest and most interpretable."
   ]
  },
  {
   "cell_type": "code",
   "execution_count": 19,
   "id": "a4184f36-cc02-445d-8cdb-345daf5cf7a7",
   "metadata": {},
   "outputs": [],
   "source": [
    "classifiers = {\n",
    "    \"Decision Tree\": DecisionTreeClassifier(random_state=37),\n",
    "    \"Random Forest\": RandomForestClassifier(n_estimators=100, random_state=37),\n",
    "    \"CatBoost\": CatBoostClassifier(verbose=0, random_state=37),\n",
    "    \"XGBoost\": XGBClassifier(random_state=37, eval_metric='logloss', verbosity=0),\n",
    "}"
   ]
  },
  {
   "cell_type": "code",
   "execution_count": 20,
   "id": "5cc6dbf6-c8bd-47bd-8800-0f423e124252",
   "metadata": {},
   "outputs": [],
   "source": [
    "dummy = DummyClassifier(strategy=\"stratified\")\n",
    "results[\"Dummy\"] = mean_std_cross_val_scores(\n",
    "    dummy, X_train, y_train, return_train_score=True, scoring=scoring_metric\n",
    ")"
   ]
  },
  {
   "cell_type": "code",
   "execution_count": 21,
   "id": "79ed0ee0-73c0-46cb-9e81-81df885fc39c",
   "metadata": {},
   "outputs": [],
   "source": [
    "for (name, model) in classifiers.items():\n",
    "    le = LabelEncoder()\n",
    "    y_train = le.fit_transform(y_train)\n",
    "    results[name] = mean_std_cross_val_scores(\n",
    "        model, X_train, y_train, return_train_score=True, scoring=scoring_metric\n",
    "    )"
   ]
  },
  {
   "cell_type": "code",
   "execution_count": 22,
   "id": "27ce1644-9b43-4699-b525-9c10d7e3394a",
   "metadata": {},
   "outputs": [
    {
     "data": {
      "text/html": [
       "<div>\n",
       "<style scoped>\n",
       "    .dataframe tbody tr th:only-of-type {\n",
       "        vertical-align: middle;\n",
       "    }\n",
       "\n",
       "    .dataframe tbody tr th {\n",
       "        vertical-align: top;\n",
       "    }\n",
       "\n",
       "    .dataframe thead th {\n",
       "        text-align: right;\n",
       "    }\n",
       "</style>\n",
       "<table border=\"1\" class=\"dataframe\">\n",
       "  <thead>\n",
       "    <tr style=\"text-align: right;\">\n",
       "      <th></th>\n",
       "      <th>fit_time</th>\n",
       "      <th>score_time</th>\n",
       "      <th>test_f1_macro</th>\n",
       "      <th>train_f1_macro</th>\n",
       "      <th>test_recall_macro</th>\n",
       "      <th>train_recall_macro</th>\n",
       "    </tr>\n",
       "  </thead>\n",
       "  <tbody>\n",
       "    <tr>\n",
       "      <th>Dummy</th>\n",
       "      <td>0.005 (+/- 0.001)</td>\n",
       "      <td>0.008 (+/- 0.002)</td>\n",
       "      <td>0.334 (+/- 0.028)</td>\n",
       "      <td>0.326 (+/- 0.012)</td>\n",
       "      <td>0.334 (+/- 0.028)</td>\n",
       "      <td>0.326 (+/- 0.012)</td>\n",
       "    </tr>\n",
       "    <tr>\n",
       "      <th>Decision Tree</th>\n",
       "      <td>0.008 (+/- 0.003)</td>\n",
       "      <td>0.008 (+/- 0.004)</td>\n",
       "      <td>0.997 (+/- 0.002)</td>\n",
       "      <td>1.000 (+/- 0.000)</td>\n",
       "      <td>0.997 (+/- 0.002)</td>\n",
       "      <td>1.000 (+/- 0.000)</td>\n",
       "    </tr>\n",
       "    <tr>\n",
       "      <th>Random Forest</th>\n",
       "      <td>0.175 (+/- 0.033)</td>\n",
       "      <td>0.017 (+/- 0.001)</td>\n",
       "      <td>0.998 (+/- 0.001)</td>\n",
       "      <td>1.000 (+/- 0.000)</td>\n",
       "      <td>0.998 (+/- 0.001)</td>\n",
       "      <td>1.000 (+/- 0.000)</td>\n",
       "    </tr>\n",
       "    <tr>\n",
       "      <th>CatBoost</th>\n",
       "      <td>3.120 (+/- 0.467)</td>\n",
       "      <td>0.008 (+/- 0.002)</td>\n",
       "      <td>0.998 (+/- 0.001)</td>\n",
       "      <td>1.000 (+/- 0.000)</td>\n",
       "      <td>0.998 (+/- 0.001)</td>\n",
       "      <td>1.000 (+/- 0.000)</td>\n",
       "    </tr>\n",
       "    <tr>\n",
       "      <th>XGBoost</th>\n",
       "      <td>0.506 (+/- 0.088)</td>\n",
       "      <td>0.010 (+/- 0.006)</td>\n",
       "      <td>0.998 (+/- 0.002)</td>\n",
       "      <td>1.000 (+/- 0.000)</td>\n",
       "      <td>0.998 (+/- 0.002)</td>\n",
       "      <td>1.000 (+/- 0.000)</td>\n",
       "    </tr>\n",
       "  </tbody>\n",
       "</table>\n",
       "</div>"
      ],
      "text/plain": [
       "                        fit_time         score_time      test_f1_macro  \\\n",
       "Dummy          0.005 (+/- 0.001)  0.008 (+/- 0.002)  0.334 (+/- 0.028)   \n",
       "Decision Tree  0.008 (+/- 0.003)  0.008 (+/- 0.004)  0.997 (+/- 0.002)   \n",
       "Random Forest  0.175 (+/- 0.033)  0.017 (+/- 0.001)  0.998 (+/- 0.001)   \n",
       "CatBoost       3.120 (+/- 0.467)  0.008 (+/- 0.002)  0.998 (+/- 0.001)   \n",
       "XGBoost        0.506 (+/- 0.088)  0.010 (+/- 0.006)  0.998 (+/- 0.002)   \n",
       "\n",
       "                  train_f1_macro  test_recall_macro train_recall_macro  \n",
       "Dummy          0.326 (+/- 0.012)  0.334 (+/- 0.028)  0.326 (+/- 0.012)  \n",
       "Decision Tree  1.000 (+/- 0.000)  0.997 (+/- 0.002)  1.000 (+/- 0.000)  \n",
       "Random Forest  1.000 (+/- 0.000)  0.998 (+/- 0.001)  1.000 (+/- 0.000)  \n",
       "CatBoost       1.000 (+/- 0.000)  0.998 (+/- 0.001)  1.000 (+/- 0.000)  \n",
       "XGBoost        1.000 (+/- 0.000)  0.998 (+/- 0.002)  1.000 (+/- 0.000)  "
      ]
     },
     "execution_count": 22,
     "metadata": {},
     "output_type": "execute_result"
    }
   ],
   "source": [
    "pd.DataFrame(results).T"
   ]
  }
 ],
 "metadata": {
  "kernelspec": {
   "display_name": "Python [conda env:api-risk-env]",
   "language": "python",
   "name": "conda-env-api-risk-env-py"
  },
  "language_info": {
   "codemirror_mode": {
    "name": "ipython",
    "version": 3
   },
   "file_extension": ".py",
   "mimetype": "text/x-python",
   "name": "python",
   "nbconvert_exporter": "python",
   "pygments_lexer": "ipython3",
   "version": "3.9.13"
  }
 },
 "nbformat": 4,
 "nbformat_minor": 5
}
