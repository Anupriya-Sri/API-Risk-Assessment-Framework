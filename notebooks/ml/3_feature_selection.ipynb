{
 "cells": [
  {
   "cell_type": "markdown",
   "id": "0484cde8-d7db-4487-a511-8562412ac256",
   "metadata": {},
   "source": [
    "# Feature Selection"
   ]
  },
  {
   "cell_type": "markdown",
   "id": "3d7c8db9-c57c-4760-8934-9691e70f264e",
   "metadata": {},
   "source": [
    "The number of columns in the processed data set was 53, which made the models less interpretable. So we implemented the following three techniques using `sklearn` for feature selection:\n",
    "- Select From Model\n",
    "- Recursive Feature Elimination with cross-validation (RFECV)\n",
    "- Recursive Feature Elimination (RFE) \n",
    "\n",
    "In this notebook, we have explored all the three approaches. However, we have finally used the features selected using RFE method because:\n",
    "- SelectFromModel() removed just one feature and returned 52 selected features\n",
    "- RFECV() was inconsistent and the selected features varied depending upon the number of observations used\n",
    "- RFE() was consistent and gave the same 8 features under multiple scenarios."
   ]
  },
  {
   "cell_type": "markdown",
   "id": "b67931e8-2d58-4752-a62f-397cb6bebee4",
   "metadata": {},
   "source": [
    "**Conclusions from this notebook:**\n",
    "\n",
    "We observed that the same recall score could be achieved using only eight (8) features. This resulted in dimensionality reduction without impacting the model performance. The final selected features were used subsequently for model training and risk classification."
   ]
  },
  {
   "cell_type": "markdown",
   "id": "4e9e057d-3ed2-448f-bd0d-a0c6d9741348",
   "metadata": {},
   "source": [
    "## Imports"
   ]
  },
  {
   "cell_type": "markdown",
   "id": "671cb075-1c27-47a9-bb35-23fcb2a3815f",
   "metadata": {},
   "source": [
    "In this section, we load all the packages required to run this notebook."
   ]
  },
  {
   "cell_type": "code",
   "execution_count": 1,
   "id": "3e97540f-466c-44f9-880e-622e48e0ec82",
   "metadata": {},
   "outputs": [],
   "source": [
    "from sklearn.pipeline import make_pipeline\n",
    "from sklearn.linear_model import LogisticRegression\n",
    "from sklearn.tree import DecisionTreeClassifier\n",
    "from sklearn.preprocessing import StandardScaler\n",
    "from sklearn.model_selection import cross_validate\n",
    "from sklearn.feature_selection import RFE, SelectFromModel, RFECV\n",
    "from imblearn.over_sampling import SMOTE\n",
    "import pandas as pd\n",
    "import numpy as np\n",
    "import matplotlib.pyplot as plt"
   ]
  },
  {
   "cell_type": "markdown",
   "id": "460ed244-12b7-4663-8c5b-afbb5dcda4e5",
   "metadata": {},
   "source": [
    "## Read in train dataset"
   ]
  },
  {
   "cell_type": "markdown",
   "id": "7349dfd8-0f72-4098-852e-acb76324fe5f",
   "metadata": {},
   "source": [
    "In this section:\n",
    "- We load the training data, and look at first 5 values and shape. This data has already been cleaned, processed and new features created.\n",
    "- Separate the data into X-train (features) and y-train (output)\n",
    "- Use Oversampling (SMOTE) technique to create a balanced training data-set"
   ]
  },
  {
   "cell_type": "code",
   "execution_count": 2,
   "id": "066364fd-4f4a-488f-88b4-fd9a0662979a",
   "metadata": {},
   "outputs": [
    {
     "data": {
      "text/html": [
       "<div>\n",
       "<style scoped>\n",
       "    .dataframe tbody tr th:only-of-type {\n",
       "        vertical-align: middle;\n",
       "    }\n",
       "\n",
       "    .dataframe tbody tr th {\n",
       "        vertical-align: top;\n",
       "    }\n",
       "\n",
       "    .dataframe thead th {\n",
       "        text-align: right;\n",
       "    }\n",
       "</style>\n",
       "<table border=\"1\" class=\"dataframe\">\n",
       "  <thead>\n",
       "    <tr style=\"text-align: right;\">\n",
       "      <th></th>\n",
       "      <th>is_pii</th>\n",
       "      <th>is_fii</th>\n",
       "      <th>NRI score</th>\n",
       "      <th>authentication_processed</th>\n",
       "      <th>usage_base_processed</th>\n",
       "      <th>AI &amp; Data Science</th>\n",
       "      <th>Business &amp; Technology</th>\n",
       "      <th>Environment &amp; Weather</th>\n",
       "      <th>Finance &amp; Banking</th>\n",
       "      <th>GeoInformatics &amp; Navigation</th>\n",
       "      <th>...</th>\n",
       "      <th>content-type</th>\n",
       "      <th>set-cookie</th>\n",
       "      <th>access-control-allow-origin</th>\n",
       "      <th>server</th>\n",
       "      <th>x-powered-by</th>\n",
       "      <th>x-aspnet-version</th>\n",
       "      <th>x-ratelimit-limit</th>\n",
       "      <th>metadata_fields_count</th>\n",
       "      <th>parameters_count</th>\n",
       "      <th>Risk_Label</th>\n",
       "    </tr>\n",
       "  </thead>\n",
       "  <tbody>\n",
       "    <tr>\n",
       "      <th>0</th>\n",
       "      <td>True</td>\n",
       "      <td>False</td>\n",
       "      <td>77.850013</td>\n",
       "      <td>0</td>\n",
       "      <td>2</td>\n",
       "      <td>0</td>\n",
       "      <td>0</td>\n",
       "      <td>0</td>\n",
       "      <td>0</td>\n",
       "      <td>0</td>\n",
       "      <td>...</td>\n",
       "      <td>0</td>\n",
       "      <td>0</td>\n",
       "      <td>0</td>\n",
       "      <td>0</td>\n",
       "      <td>0</td>\n",
       "      <td>0</td>\n",
       "      <td>0</td>\n",
       "      <td>2</td>\n",
       "      <td>2</td>\n",
       "      <td>Low</td>\n",
       "    </tr>\n",
       "    <tr>\n",
       "      <th>1</th>\n",
       "      <td>True</td>\n",
       "      <td>False</td>\n",
       "      <td>77.850013</td>\n",
       "      <td>1</td>\n",
       "      <td>2</td>\n",
       "      <td>0</td>\n",
       "      <td>0</td>\n",
       "      <td>0</td>\n",
       "      <td>0</td>\n",
       "      <td>0</td>\n",
       "      <td>...</td>\n",
       "      <td>0</td>\n",
       "      <td>0</td>\n",
       "      <td>0</td>\n",
       "      <td>1</td>\n",
       "      <td>0</td>\n",
       "      <td>0</td>\n",
       "      <td>0</td>\n",
       "      <td>6</td>\n",
       "      <td>1</td>\n",
       "      <td>Low</td>\n",
       "    </tr>\n",
       "    <tr>\n",
       "      <th>2</th>\n",
       "      <td>False</td>\n",
       "      <td>False</td>\n",
       "      <td>76.479613</td>\n",
       "      <td>1</td>\n",
       "      <td>2</td>\n",
       "      <td>0</td>\n",
       "      <td>1</td>\n",
       "      <td>0</td>\n",
       "      <td>0</td>\n",
       "      <td>0</td>\n",
       "      <td>...</td>\n",
       "      <td>0</td>\n",
       "      <td>0</td>\n",
       "      <td>0</td>\n",
       "      <td>1</td>\n",
       "      <td>0</td>\n",
       "      <td>0</td>\n",
       "      <td>0</td>\n",
       "      <td>3</td>\n",
       "      <td>1</td>\n",
       "      <td>Medium</td>\n",
       "    </tr>\n",
       "    <tr>\n",
       "      <th>3</th>\n",
       "      <td>True</td>\n",
       "      <td>False</td>\n",
       "      <td>76.479613</td>\n",
       "      <td>1</td>\n",
       "      <td>2</td>\n",
       "      <td>0</td>\n",
       "      <td>0</td>\n",
       "      <td>0</td>\n",
       "      <td>0</td>\n",
       "      <td>0</td>\n",
       "      <td>...</td>\n",
       "      <td>1</td>\n",
       "      <td>0</td>\n",
       "      <td>0</td>\n",
       "      <td>0</td>\n",
       "      <td>0</td>\n",
       "      <td>0</td>\n",
       "      <td>0</td>\n",
       "      <td>5</td>\n",
       "      <td>0</td>\n",
       "      <td>Low</td>\n",
       "    </tr>\n",
       "    <tr>\n",
       "      <th>4</th>\n",
       "      <td>True</td>\n",
       "      <td>False</td>\n",
       "      <td>77.850013</td>\n",
       "      <td>0</td>\n",
       "      <td>2</td>\n",
       "      <td>0</td>\n",
       "      <td>0</td>\n",
       "      <td>0</td>\n",
       "      <td>0</td>\n",
       "      <td>0</td>\n",
       "      <td>...</td>\n",
       "      <td>0</td>\n",
       "      <td>0</td>\n",
       "      <td>0</td>\n",
       "      <td>0</td>\n",
       "      <td>0</td>\n",
       "      <td>0</td>\n",
       "      <td>0</td>\n",
       "      <td>2</td>\n",
       "      <td>3</td>\n",
       "      <td>Low</td>\n",
       "    </tr>\n",
       "  </tbody>\n",
       "</table>\n",
       "<p>5 rows × 53 columns</p>\n",
       "</div>"
      ],
      "text/plain": [
       "   is_pii  is_fii  NRI score  authentication_processed  usage_base_processed  \\\n",
       "0    True   False  77.850013                         0                     2   \n",
       "1    True   False  77.850013                         1                     2   \n",
       "2   False   False  76.479613                         1                     2   \n",
       "3    True   False  76.479613                         1                     2   \n",
       "4    True   False  77.850013                         0                     2   \n",
       "\n",
       "   AI & Data Science  Business & Technology  Environment & Weather  \\\n",
       "0                  0                      0                      0   \n",
       "1                  0                      0                      0   \n",
       "2                  0                      1                      0   \n",
       "3                  0                      0                      0   \n",
       "4                  0                      0                      0   \n",
       "\n",
       "   Finance & Banking  GeoInformatics & Navigation  ...  content-type  \\\n",
       "0                  0                            0  ...             0   \n",
       "1                  0                            0  ...             0   \n",
       "2                  0                            0  ...             0   \n",
       "3                  0                            0  ...             1   \n",
       "4                  0                            0  ...             0   \n",
       "\n",
       "   set-cookie  access-control-allow-origin  server  x-powered-by  \\\n",
       "0           0                            0       0             0   \n",
       "1           0                            0       1             0   \n",
       "2           0                            0       1             0   \n",
       "3           0                            0       0             0   \n",
       "4           0                            0       0             0   \n",
       "\n",
       "   x-aspnet-version  x-ratelimit-limit  metadata_fields_count  \\\n",
       "0                 0                  0                      2   \n",
       "1                 0                  0                      6   \n",
       "2                 0                  0                      3   \n",
       "3                 0                  0                      5   \n",
       "4                 0                  0                      2   \n",
       "\n",
       "   parameters_count  Risk_Label  \n",
       "0                 2         Low  \n",
       "1                 1         Low  \n",
       "2                 1      Medium  \n",
       "3                 0         Low  \n",
       "4                 3         Low  \n",
       "\n",
       "[5 rows x 53 columns]"
      ]
     },
     "execution_count": 2,
     "metadata": {},
     "output_type": "execute_result"
    }
   ],
   "source": [
    "api_df = pd.read_excel(\"../../data/processed/preprocessed_train.xlsx\")\n",
    "api_df.head()"
   ]
  },
  {
   "cell_type": "code",
   "execution_count": 3,
   "id": "927fd23f-8bd1-488c-8e17-e60f88e2f110",
   "metadata": {},
   "outputs": [
    {
     "data": {
      "text/plain": [
       "(1316, 53)"
      ]
     },
     "execution_count": 3,
     "metadata": {},
     "output_type": "execute_result"
    }
   ],
   "source": [
    "api_df.shape"
   ]
  },
  {
   "cell_type": "code",
   "execution_count": 4,
   "id": "ae1f677c-9078-46d6-918c-46902f1ad7a4",
   "metadata": {},
   "outputs": [],
   "source": [
    "# X, y split\n",
    "X_train, y_train = api_df.drop(columns=[\"Risk_Label\"]), api_df[\"Risk_Label\"]"
   ]
  },
  {
   "cell_type": "code",
   "execution_count": 5,
   "id": "089cdc4d-dee5-4f71-a729-d87287d128ce",
   "metadata": {},
   "outputs": [],
   "source": [
    "# Smote function\n",
    "def create_smote(X, y, k_neighbors):\n",
    "    oversample = SMOTE(k_neighbors = k_neighbors)\n",
    "    X, y = oversample.fit_resample(X, y)\n",
    "    return X, y"
   ]
  },
  {
   "cell_type": "code",
   "execution_count": 6,
   "id": "34f4dfbf-30eb-4307-a648-df3e9630c2f7",
   "metadata": {},
   "outputs": [],
   "source": [
    "# Balanced training data\n",
    "X_train, y_train = create_smote(X_train, y_train, 2)"
   ]
  },
  {
   "cell_type": "markdown",
   "id": "5baa62bb-c8f5-4fee-a361-ecd49e66235a",
   "metadata": {
    "tags": []
   },
   "source": [
    "## Helper Code"
   ]
  },
  {
   "cell_type": "markdown",
   "id": "f3a60ad3-bb02-4d51-8514-aa680ef9b1d9",
   "metadata": {},
   "source": [
    "In this section, we provide helper code that is used in the subsequent sections for evaluating the models. The function `mean_std_cross_val_scores()` computes the train score and test score for the `scoring_metric` using sklearn's `cross_validate()`. The final scores are returned in `results` dictionary."
   ]
  },
  {
   "cell_type": "code",
   "execution_count": 7,
   "id": "5769920e-de27-4a91-8b24-8915706e16f7",
   "metadata": {},
   "outputs": [],
   "source": [
    "results = {}\n",
    "scoring_metric = [\"accuracy\", \"f1_macro\", \"recall_macro\"]"
   ]
  },
  {
   "cell_type": "code",
   "execution_count": 8,
   "id": "eebb35e3-d06d-43c1-b682-5f1b54a92914",
   "metadata": {},
   "outputs": [],
   "source": [
    "def mean_std_cross_val_scores(model, X_train, y_train, **kwargs):\n",
    "    \"\"\"\n",
    "    Returns mean and std of cross validation\n",
    "\n",
    "    Parameters\n",
    "    ----------\n",
    "    model :\n",
    "        scikit-learn model\n",
    "    X_train : numpy array or pandas DataFrame\n",
    "        X in the training data\n",
    "    y_train :\n",
    "        y in the training data\n",
    "\n",
    "    Returns\n",
    "    ----------\n",
    "        pandas Series with mean scores from cross_validation\n",
    "    \"\"\"\n",
    "\n",
    "    scores = cross_validate(model, X_train, y_train, **kwargs)\n",
    "\n",
    "    mean_scores = pd.DataFrame(scores).mean()\n",
    "    std_scores = pd.DataFrame(scores).std()\n",
    "    out_col = []\n",
    "\n",
    "    for i in range(len(mean_scores)):\n",
    "        out_col.append((f\"%0.3f (+/- %0.3f)\" % (mean_scores[i], std_scores[i])))\n",
    "\n",
    "    return pd.Series(data=out_col, index=mean_scores.index)"
   ]
  },
  {
   "cell_type": "markdown",
   "id": "fd5a00ed-a32e-4245-8bda-ae10a4f72e3a",
   "metadata": {},
   "source": [
    "## Baseline Performance"
   ]
  },
  {
   "cell_type": "markdown",
   "id": "4e70cdc3-b843-43ca-aa90-87b27b38e14e",
   "metadata": {},
   "source": [
    "In this section, we evaluate the baseline score for `Logistic Regression` model and `Decision Tree` model on the evaluation metrics given in `scoring_metric`. The baseline model performance is obtained before hyper-parameter optimization and without any feature selection."
   ]
  },
  {
   "cell_type": "code",
   "execution_count": 9,
   "id": "704f00dd-9a23-42a0-8c76-7215185b96b6",
   "metadata": {},
   "outputs": [],
   "source": [
    "# Logistic Regression model\n",
    "pipe_lr = make_pipeline(StandardScaler(), LogisticRegression())\n",
    "results[\"lr\"] = mean_std_cross_val_scores(\n",
    "    pipe_lr, X_train, y_train, return_train_score=True, scoring=scoring_metric\n",
    ")"
   ]
  },
  {
   "cell_type": "code",
   "execution_count": 10,
   "id": "0573b113-72ea-44be-8dd2-bdc1d050990a",
   "metadata": {},
   "outputs": [],
   "source": [
    "# Decision Tree model\n",
    "pipe_dt = make_pipeline(StandardScaler(), DecisionTreeClassifier())\n",
    "results[\"dt\"] = mean_std_cross_val_scores(\n",
    "    pipe_dt, X_train, y_train, return_train_score=True, scoring=scoring_metric\n",
    ")"
   ]
  },
  {
   "cell_type": "code",
   "execution_count": 11,
   "id": "f11b1427-d369-4a1c-9776-177702060e1f",
   "metadata": {},
   "outputs": [
    {
     "data": {
      "text/html": [
       "<div>\n",
       "<style scoped>\n",
       "    .dataframe tbody tr th:only-of-type {\n",
       "        vertical-align: middle;\n",
       "    }\n",
       "\n",
       "    .dataframe tbody tr th {\n",
       "        vertical-align: top;\n",
       "    }\n",
       "\n",
       "    .dataframe thead th {\n",
       "        text-align: right;\n",
       "    }\n",
       "</style>\n",
       "<table border=\"1\" class=\"dataframe\">\n",
       "  <thead>\n",
       "    <tr style=\"text-align: right;\">\n",
       "      <th></th>\n",
       "      <th>lr</th>\n",
       "      <th>dt</th>\n",
       "    </tr>\n",
       "  </thead>\n",
       "  <tbody>\n",
       "    <tr>\n",
       "      <th>fit_time</th>\n",
       "      <td>0.080 (+/- 0.016)</td>\n",
       "      <td>0.020 (+/- 0.008)</td>\n",
       "    </tr>\n",
       "    <tr>\n",
       "      <th>score_time</th>\n",
       "      <td>0.016 (+/- 0.001)</td>\n",
       "      <td>0.013 (+/- 0.003)</td>\n",
       "    </tr>\n",
       "    <tr>\n",
       "      <th>test_accuracy</th>\n",
       "      <td>0.995 (+/- 0.003)</td>\n",
       "      <td>0.998 (+/- 0.002)</td>\n",
       "    </tr>\n",
       "    <tr>\n",
       "      <th>train_accuracy</th>\n",
       "      <td>0.999 (+/- 0.000)</td>\n",
       "      <td>1.000 (+/- 0.000)</td>\n",
       "    </tr>\n",
       "    <tr>\n",
       "      <th>test_f1_macro</th>\n",
       "      <td>0.995 (+/- 0.003)</td>\n",
       "      <td>0.998 (+/- 0.002)</td>\n",
       "    </tr>\n",
       "    <tr>\n",
       "      <th>train_f1_macro</th>\n",
       "      <td>0.999 (+/- 0.000)</td>\n",
       "      <td>1.000 (+/- 0.000)</td>\n",
       "    </tr>\n",
       "    <tr>\n",
       "      <th>test_recall_macro</th>\n",
       "      <td>0.995 (+/- 0.003)</td>\n",
       "      <td>0.998 (+/- 0.002)</td>\n",
       "    </tr>\n",
       "    <tr>\n",
       "      <th>train_recall_macro</th>\n",
       "      <td>0.999 (+/- 0.000)</td>\n",
       "      <td>1.000 (+/- 0.000)</td>\n",
       "    </tr>\n",
       "  </tbody>\n",
       "</table>\n",
       "</div>"
      ],
      "text/plain": [
       "                                   lr                 dt\n",
       "fit_time            0.080 (+/- 0.016)  0.020 (+/- 0.008)\n",
       "score_time          0.016 (+/- 0.001)  0.013 (+/- 0.003)\n",
       "test_accuracy       0.995 (+/- 0.003)  0.998 (+/- 0.002)\n",
       "train_accuracy      0.999 (+/- 0.000)  1.000 (+/- 0.000)\n",
       "test_f1_macro       0.995 (+/- 0.003)  0.998 (+/- 0.002)\n",
       "train_f1_macro      0.999 (+/- 0.000)  1.000 (+/- 0.000)\n",
       "test_recall_macro   0.995 (+/- 0.003)  0.998 (+/- 0.002)\n",
       "train_recall_macro  0.999 (+/- 0.000)  1.000 (+/- 0.000)"
      ]
     },
     "execution_count": 11,
     "metadata": {},
     "output_type": "execute_result"
    }
   ],
   "source": [
    "pd.DataFrame(results)"
   ]
  },
  {
   "cell_type": "markdown",
   "id": "ceb19b19-9e6d-4b18-82f4-6c16066bdf76",
   "metadata": {},
   "source": [
    "## Feature Importance"
   ]
  },
  {
   "cell_type": "markdown",
   "id": "dd66225a-d6ed-47ce-beb7-d91a909a0319",
   "metadata": {},
   "source": [
    "In this section, we evaluate the importance of all features used for training the models. We have used the `magnitude of coefficients` obtained from LogisticRegression model to get the relative importance of features. It is to be noted that the higher the magnitude of the coefficient, the higher will be it's influence on prediction. Hence, higher will be the importance of that feature. Similarly, a feature with low coefficient magnitude will have low importance.  "
   ]
  },
  {
   "cell_type": "code",
   "execution_count": 12,
   "id": "3eafaf01-7b14-4fcc-a4b1-3621b3ddbea4",
   "metadata": {},
   "outputs": [
    {
     "data": {
      "text/html": [
       "<style>#sk-container-id-1 {color: black;background-color: white;}#sk-container-id-1 pre{padding: 0;}#sk-container-id-1 div.sk-toggleable {background-color: white;}#sk-container-id-1 label.sk-toggleable__label {cursor: pointer;display: block;width: 100%;margin-bottom: 0;padding: 0.3em;box-sizing: border-box;text-align: center;}#sk-container-id-1 label.sk-toggleable__label-arrow:before {content: \"▸\";float: left;margin-right: 0.25em;color: #696969;}#sk-container-id-1 label.sk-toggleable__label-arrow:hover:before {color: black;}#sk-container-id-1 div.sk-estimator:hover label.sk-toggleable__label-arrow:before {color: black;}#sk-container-id-1 div.sk-toggleable__content {max-height: 0;max-width: 0;overflow: hidden;text-align: left;background-color: #f0f8ff;}#sk-container-id-1 div.sk-toggleable__content pre {margin: 0.2em;color: black;border-radius: 0.25em;background-color: #f0f8ff;}#sk-container-id-1 input.sk-toggleable__control:checked~div.sk-toggleable__content {max-height: 200px;max-width: 100%;overflow: auto;}#sk-container-id-1 input.sk-toggleable__control:checked~label.sk-toggleable__label-arrow:before {content: \"▾\";}#sk-container-id-1 div.sk-estimator input.sk-toggleable__control:checked~label.sk-toggleable__label {background-color: #d4ebff;}#sk-container-id-1 div.sk-label input.sk-toggleable__control:checked~label.sk-toggleable__label {background-color: #d4ebff;}#sk-container-id-1 input.sk-hidden--visually {border: 0;clip: rect(1px 1px 1px 1px);clip: rect(1px, 1px, 1px, 1px);height: 1px;margin: -1px;overflow: hidden;padding: 0;position: absolute;width: 1px;}#sk-container-id-1 div.sk-estimator {font-family: monospace;background-color: #f0f8ff;border: 1px dotted black;border-radius: 0.25em;box-sizing: border-box;margin-bottom: 0.5em;}#sk-container-id-1 div.sk-estimator:hover {background-color: #d4ebff;}#sk-container-id-1 div.sk-parallel-item::after {content: \"\";width: 100%;border-bottom: 1px solid gray;flex-grow: 1;}#sk-container-id-1 div.sk-label:hover label.sk-toggleable__label {background-color: #d4ebff;}#sk-container-id-1 div.sk-serial::before {content: \"\";position: absolute;border-left: 1px solid gray;box-sizing: border-box;top: 0;bottom: 0;left: 50%;z-index: 0;}#sk-container-id-1 div.sk-serial {display: flex;flex-direction: column;align-items: center;background-color: white;padding-right: 0.2em;padding-left: 0.2em;position: relative;}#sk-container-id-1 div.sk-item {position: relative;z-index: 1;}#sk-container-id-1 div.sk-parallel {display: flex;align-items: stretch;justify-content: center;background-color: white;position: relative;}#sk-container-id-1 div.sk-item::before, #sk-container-id-1 div.sk-parallel-item::before {content: \"\";position: absolute;border-left: 1px solid gray;box-sizing: border-box;top: 0;bottom: 0;left: 50%;z-index: -1;}#sk-container-id-1 div.sk-parallel-item {display: flex;flex-direction: column;z-index: 1;position: relative;background-color: white;}#sk-container-id-1 div.sk-parallel-item:first-child::after {align-self: flex-end;width: 50%;}#sk-container-id-1 div.sk-parallel-item:last-child::after {align-self: flex-start;width: 50%;}#sk-container-id-1 div.sk-parallel-item:only-child::after {width: 0;}#sk-container-id-1 div.sk-dashed-wrapped {border: 1px dashed gray;margin: 0 0.4em 0.5em 0.4em;box-sizing: border-box;padding-bottom: 0.4em;background-color: white;}#sk-container-id-1 div.sk-label label {font-family: monospace;font-weight: bold;display: inline-block;line-height: 1.2em;}#sk-container-id-1 div.sk-label-container {text-align: center;}#sk-container-id-1 div.sk-container {/* jupyter's `normalize.less` sets `[hidden] { display: none; }` but bootstrap.min.css set `[hidden] { display: none !important; }` so we also need the `!important` here to be able to override the default hidden behavior on the sphinx rendered scikit-learn.org. See: https://github.com/scikit-learn/scikit-learn/issues/21755 */display: inline-block !important;position: relative;}#sk-container-id-1 div.sk-text-repr-fallback {display: none;}</style><div id=\"sk-container-id-1\" class=\"sk-top-container\"><div class=\"sk-text-repr-fallback\"><pre>Pipeline(steps=[(&#x27;standardscaler&#x27;, StandardScaler()),\n",
       "                (&#x27;logisticregression&#x27;, LogisticRegression())])</pre><b>In a Jupyter environment, please rerun this cell to show the HTML representation or trust the notebook. <br />On GitHub, the HTML representation is unable to render, please try loading this page with nbviewer.org.</b></div><div class=\"sk-container\" hidden><div class=\"sk-item sk-dashed-wrapped\"><div class=\"sk-label-container\"><div class=\"sk-label sk-toggleable\"><input class=\"sk-toggleable__control sk-hidden--visually\" id=\"sk-estimator-id-1\" type=\"checkbox\" ><label for=\"sk-estimator-id-1\" class=\"sk-toggleable__label sk-toggleable__label-arrow\">Pipeline</label><div class=\"sk-toggleable__content\"><pre>Pipeline(steps=[(&#x27;standardscaler&#x27;, StandardScaler()),\n",
       "                (&#x27;logisticregression&#x27;, LogisticRegression())])</pre></div></div></div><div class=\"sk-serial\"><div class=\"sk-item\"><div class=\"sk-estimator sk-toggleable\"><input class=\"sk-toggleable__control sk-hidden--visually\" id=\"sk-estimator-id-2\" type=\"checkbox\" ><label for=\"sk-estimator-id-2\" class=\"sk-toggleable__label sk-toggleable__label-arrow\">StandardScaler</label><div class=\"sk-toggleable__content\"><pre>StandardScaler()</pre></div></div></div><div class=\"sk-item\"><div class=\"sk-estimator sk-toggleable\"><input class=\"sk-toggleable__control sk-hidden--visually\" id=\"sk-estimator-id-3\" type=\"checkbox\" ><label for=\"sk-estimator-id-3\" class=\"sk-toggleable__label sk-toggleable__label-arrow\">LogisticRegression</label><div class=\"sk-toggleable__content\"><pre>LogisticRegression()</pre></div></div></div></div></div></div></div>"
      ],
      "text/plain": [
       "Pipeline(steps=[('standardscaler', StandardScaler()),\n",
       "                ('logisticregression', LogisticRegression())])"
      ]
     },
     "execution_count": 12,
     "metadata": {},
     "output_type": "execute_result"
    }
   ],
   "source": [
    "pipe_lr.fit(X_train, y_train)"
   ]
  },
  {
   "cell_type": "code",
   "execution_count": 13,
   "id": "e15ba455-6a5c-4cd4-a578-5df219be5aa4",
   "metadata": {},
   "outputs": [
    {
     "data": {
      "text/html": [
       "<div>\n",
       "<style scoped>\n",
       "    .dataframe tbody tr th:only-of-type {\n",
       "        vertical-align: middle;\n",
       "    }\n",
       "\n",
       "    .dataframe tbody tr th {\n",
       "        vertical-align: top;\n",
       "    }\n",
       "\n",
       "    .dataframe thead th {\n",
       "        text-align: right;\n",
       "    }\n",
       "</style>\n",
       "<table border=\"1\" class=\"dataframe\">\n",
       "  <thead>\n",
       "    <tr style=\"text-align: right;\">\n",
       "      <th></th>\n",
       "      <th>coefficient</th>\n",
       "      <th>magnitude</th>\n",
       "    </tr>\n",
       "  </thead>\n",
       "  <tbody>\n",
       "    <tr>\n",
       "      <th>is_fii</th>\n",
       "      <td>2.249224</td>\n",
       "      <td>2.249224</td>\n",
       "    </tr>\n",
       "    <tr>\n",
       "      <th>is_pii</th>\n",
       "      <td>0.962659</td>\n",
       "      <td>0.962659</td>\n",
       "    </tr>\n",
       "    <tr>\n",
       "      <th>Information &amp; Science</th>\n",
       "      <td>-0.945055</td>\n",
       "      <td>0.945055</td>\n",
       "    </tr>\n",
       "    <tr>\n",
       "      <th>server</th>\n",
       "      <td>-0.893115</td>\n",
       "      <td>0.893115</td>\n",
       "    </tr>\n",
       "    <tr>\n",
       "      <th>metadata_fields_count</th>\n",
       "      <td>-0.869871</td>\n",
       "      <td>0.869871</td>\n",
       "    </tr>\n",
       "    <tr>\n",
       "      <th>x0_Missing</th>\n",
       "      <td>-0.849255</td>\n",
       "      <td>0.849255</td>\n",
       "    </tr>\n",
       "    <tr>\n",
       "      <th>Social Media &amp; Technology</th>\n",
       "      <td>-0.670150</td>\n",
       "      <td>0.670150</td>\n",
       "    </tr>\n",
       "    <tr>\n",
       "      <th>Government &amp; Public Services</th>\n",
       "      <td>-0.666714</td>\n",
       "      <td>0.666714</td>\n",
       "    </tr>\n",
       "    <tr>\n",
       "      <th>Software &amp; Services</th>\n",
       "      <td>-0.637901</td>\n",
       "      <td>0.637901</td>\n",
       "    </tr>\n",
       "    <tr>\n",
       "      <th>security_test_result_processed</th>\n",
       "      <td>0.562086</td>\n",
       "      <td>0.562086</td>\n",
       "    </tr>\n",
       "    <tr>\n",
       "      <th>parameters_count</th>\n",
       "      <td>-0.547972</td>\n",
       "      <td>0.547972</td>\n",
       "    </tr>\n",
       "    <tr>\n",
       "      <th>access-control-allow-origin</th>\n",
       "      <td>-0.544916</td>\n",
       "      <td>0.544916</td>\n",
       "    </tr>\n",
       "    <tr>\n",
       "      <th>x0_Broken Authentication</th>\n",
       "      <td>0.534750</td>\n",
       "      <td>0.534750</td>\n",
       "    </tr>\n",
       "    <tr>\n",
       "      <th>Finance &amp; Banking</th>\n",
       "      <td>-0.509672</td>\n",
       "      <td>0.509672</td>\n",
       "    </tr>\n",
       "    <tr>\n",
       "      <th>AI &amp; Data Science</th>\n",
       "      <td>-0.484371</td>\n",
       "      <td>0.484371</td>\n",
       "    </tr>\n",
       "    <tr>\n",
       "      <th>Sports &amp; Entertainment</th>\n",
       "      <td>-0.414343</td>\n",
       "      <td>0.414343</td>\n",
       "    </tr>\n",
       "    <tr>\n",
       "      <th>content-type</th>\n",
       "      <td>-0.411801</td>\n",
       "      <td>0.411801</td>\n",
       "    </tr>\n",
       "    <tr>\n",
       "      <th>authentication_processed</th>\n",
       "      <td>0.377132</td>\n",
       "      <td>0.377132</td>\n",
       "    </tr>\n",
       "    <tr>\n",
       "      <th>News &amp; Media</th>\n",
       "      <td>-0.377118</td>\n",
       "      <td>0.377118</td>\n",
       "    </tr>\n",
       "    <tr>\n",
       "      <th>Transportation &amp; Automobile</th>\n",
       "      <td>-0.359107</td>\n",
       "      <td>0.359107</td>\n",
       "    </tr>\n",
       "    <tr>\n",
       "      <th>Research &amp; Education</th>\n",
       "      <td>-0.350869</td>\n",
       "      <td>0.350869</td>\n",
       "    </tr>\n",
       "    <tr>\n",
       "      <th>strict-transport-security</th>\n",
       "      <td>-0.279367</td>\n",
       "      <td>0.279367</td>\n",
       "    </tr>\n",
       "    <tr>\n",
       "      <th>Environment &amp; Weather</th>\n",
       "      <td>-0.242560</td>\n",
       "      <td>0.242560</td>\n",
       "    </tr>\n",
       "    <tr>\n",
       "      <th>x-powered-by</th>\n",
       "      <td>-0.233343</td>\n",
       "      <td>0.233343</td>\n",
       "    </tr>\n",
       "    <tr>\n",
       "      <th>GeoInformatics &amp; Navigation</th>\n",
       "      <td>-0.200862</td>\n",
       "      <td>0.200862</td>\n",
       "    </tr>\n",
       "    <tr>\n",
       "      <th>server_name_processed</th>\n",
       "      <td>-0.196913</td>\n",
       "      <td>0.196913</td>\n",
       "    </tr>\n",
       "    <tr>\n",
       "      <th>Health Science &amp; Medicine</th>\n",
       "      <td>-0.184012</td>\n",
       "      <td>0.184012</td>\n",
       "    </tr>\n",
       "    <tr>\n",
       "      <th>NRI score</th>\n",
       "      <td>0.126987</td>\n",
       "      <td>0.126987</td>\n",
       "    </tr>\n",
       "    <tr>\n",
       "      <th>Business &amp; Technology</th>\n",
       "      <td>-0.124480</td>\n",
       "      <td>0.124480</td>\n",
       "    </tr>\n",
       "    <tr>\n",
       "      <th>eCommerce &amp; Trade</th>\n",
       "      <td>-0.118181</td>\n",
       "      <td>0.118181</td>\n",
       "    </tr>\n",
       "    <tr>\n",
       "      <th>Religion &amp; Spirituality</th>\n",
       "      <td>-0.114352</td>\n",
       "      <td>0.114352</td>\n",
       "    </tr>\n",
       "    <tr>\n",
       "      <th>None</th>\n",
       "      <td>-0.102299</td>\n",
       "      <td>0.102299</td>\n",
       "    </tr>\n",
       "    <tr>\n",
       "      <th>set-cookie</th>\n",
       "      <td>-0.096283</td>\n",
       "      <td>0.096283</td>\n",
       "    </tr>\n",
       "    <tr>\n",
       "      <th>Security &amp; Technology</th>\n",
       "      <td>-0.096258</td>\n",
       "      <td>0.096258</td>\n",
       "    </tr>\n",
       "    <tr>\n",
       "      <th>x0_XML External Entities</th>\n",
       "      <td>-0.091394</td>\n",
       "      <td>0.091394</td>\n",
       "    </tr>\n",
       "    <tr>\n",
       "      <th>Work &amp; Personal Life</th>\n",
       "      <td>0.090039</td>\n",
       "      <td>0.090039</td>\n",
       "    </tr>\n",
       "    <tr>\n",
       "      <th>x-xss-protection</th>\n",
       "      <td>-0.086058</td>\n",
       "      <td>0.086058</td>\n",
       "    </tr>\n",
       "    <tr>\n",
       "      <th>x-frame-options</th>\n",
       "      <td>-0.074220</td>\n",
       "      <td>0.074220</td>\n",
       "    </tr>\n",
       "    <tr>\n",
       "      <th>Justice &amp; Public Safety</th>\n",
       "      <td>-0.049579</td>\n",
       "      <td>0.049579</td>\n",
       "    </tr>\n",
       "    <tr>\n",
       "      <th>x-aspnet-version</th>\n",
       "      <td>-0.039312</td>\n",
       "      <td>0.039312</td>\n",
       "    </tr>\n",
       "    <tr>\n",
       "      <th>Skills &amp; Career Development</th>\n",
       "      <td>-0.021479</td>\n",
       "      <td>0.021479</td>\n",
       "    </tr>\n",
       "    <tr>\n",
       "      <th>referrer-policy</th>\n",
       "      <td>-0.020732</td>\n",
       "      <td>0.020732</td>\n",
       "    </tr>\n",
       "    <tr>\n",
       "      <th>Sales &amp; Marketing</th>\n",
       "      <td>-0.015049</td>\n",
       "      <td>0.015049</td>\n",
       "    </tr>\n",
       "    <tr>\n",
       "      <th>Logistics &amp; Infrastructure</th>\n",
       "      <td>-0.006067</td>\n",
       "      <td>0.006067</td>\n",
       "    </tr>\n",
       "    <tr>\n",
       "      <th>Natural Resources &amp; Energy</th>\n",
       "      <td>-0.001780</td>\n",
       "      <td>0.001780</td>\n",
       "    </tr>\n",
       "    <tr>\n",
       "      <th>x0_Insecure Deserialization</th>\n",
       "      <td>-0.001654</td>\n",
       "      <td>0.001654</td>\n",
       "    </tr>\n",
       "    <tr>\n",
       "      <th>x0_Cross-Site Scripting</th>\n",
       "      <td>-0.001650</td>\n",
       "      <td>0.001650</td>\n",
       "    </tr>\n",
       "    <tr>\n",
       "      <th>x0_SQL Injection</th>\n",
       "      <td>-0.001011</td>\n",
       "      <td>0.001011</td>\n",
       "    </tr>\n",
       "    <tr>\n",
       "      <th>usage_base_processed</th>\n",
       "      <td>0.000404</td>\n",
       "      <td>0.000404</td>\n",
       "    </tr>\n",
       "    <tr>\n",
       "      <th>expect-ct</th>\n",
       "      <td>0.000000</td>\n",
       "      <td>0.000000</td>\n",
       "    </tr>\n",
       "    <tr>\n",
       "      <th>x-ratelimit-limit</th>\n",
       "      <td>0.000000</td>\n",
       "      <td>0.000000</td>\n",
       "    </tr>\n",
       "    <tr>\n",
       "      <th>Food, Health &amp; Medicine</th>\n",
       "      <td>0.000000</td>\n",
       "      <td>0.000000</td>\n",
       "    </tr>\n",
       "  </tbody>\n",
       "</table>\n",
       "</div>"
      ],
      "text/plain": [
       "                                coefficient  magnitude\n",
       "is_fii                             2.249224   2.249224\n",
       "is_pii                             0.962659   0.962659\n",
       "Information & Science             -0.945055   0.945055\n",
       "server                            -0.893115   0.893115\n",
       "metadata_fields_count             -0.869871   0.869871\n",
       "x0_Missing                        -0.849255   0.849255\n",
       "Social Media & Technology         -0.670150   0.670150\n",
       "Government & Public Services      -0.666714   0.666714\n",
       "Software & Services               -0.637901   0.637901\n",
       "security_test_result_processed     0.562086   0.562086\n",
       "parameters_count                  -0.547972   0.547972\n",
       "access-control-allow-origin       -0.544916   0.544916\n",
       "x0_Broken Authentication           0.534750   0.534750\n",
       "Finance & Banking                 -0.509672   0.509672\n",
       "AI & Data Science                 -0.484371   0.484371\n",
       "Sports & Entertainment            -0.414343   0.414343\n",
       "content-type                      -0.411801   0.411801\n",
       "authentication_processed           0.377132   0.377132\n",
       "News & Media                      -0.377118   0.377118\n",
       "Transportation & Automobile       -0.359107   0.359107\n",
       "Research & Education              -0.350869   0.350869\n",
       "strict-transport-security         -0.279367   0.279367\n",
       "Environment & Weather             -0.242560   0.242560\n",
       "x-powered-by                      -0.233343   0.233343\n",
       "GeoInformatics & Navigation       -0.200862   0.200862\n",
       "server_name_processed             -0.196913   0.196913\n",
       "Health Science & Medicine         -0.184012   0.184012\n",
       "NRI score                          0.126987   0.126987\n",
       "Business & Technology             -0.124480   0.124480\n",
       "eCommerce & Trade                 -0.118181   0.118181\n",
       "Religion & Spirituality           -0.114352   0.114352\n",
       "None                              -0.102299   0.102299\n",
       "set-cookie                        -0.096283   0.096283\n",
       "Security & Technology             -0.096258   0.096258\n",
       "x0_XML External Entities          -0.091394   0.091394\n",
       "Work & Personal Life               0.090039   0.090039\n",
       "x-xss-protection                  -0.086058   0.086058\n",
       "x-frame-options                   -0.074220   0.074220\n",
       "Justice & Public Safety           -0.049579   0.049579\n",
       "x-aspnet-version                  -0.039312   0.039312\n",
       "Skills & Career Development       -0.021479   0.021479\n",
       "referrer-policy                   -0.020732   0.020732\n",
       "Sales & Marketing                 -0.015049   0.015049\n",
       "Logistics & Infrastructure        -0.006067   0.006067\n",
       "Natural Resources & Energy        -0.001780   0.001780\n",
       "x0_Insecure Deserialization       -0.001654   0.001654\n",
       "x0_Cross-Site Scripting           -0.001650   0.001650\n",
       "x0_SQL Injection                  -0.001011   0.001011\n",
       "usage_base_processed               0.000404   0.000404\n",
       "expect-ct                          0.000000   0.000000\n",
       "x-ratelimit-limit                  0.000000   0.000000\n",
       "Food, Health & Medicine            0.000000   0.000000"
      ]
     },
     "execution_count": 13,
     "metadata": {},
     "output_type": "execute_result"
    }
   ],
   "source": [
    "data_coef = {\n",
    "    \"coefficient\": pipe_lr.named_steps['logisticregression'].coef_.tolist()[0],\n",
    "    \"magnitude\": np.absolute(pipe_lr.named_steps['logisticregression'].coef_)[0],\n",
    "}\n",
    "coef_df = pd.DataFrame(data_coef, index=X_train.columns).sort_values(\"magnitude\", ascending=False)\n",
    "coef_df"
   ]
  },
  {
   "cell_type": "markdown",
   "id": "f0b091b1-71d8-4516-8402-79c9687df7bd",
   "metadata": {},
   "source": [
    "## Feature Selection"
   ]
  },
  {
   "cell_type": "markdown",
   "id": "e8b1cd4f-aefd-4971-8d51-57678ffff917",
   "metadata": {},
   "source": [
    "In this section, we use sklearn to implement the following three feature selection techniques for dimensionality reduction:\n",
    "- Select From Model (SelectFromModel())\n",
    "- Recursive Feature Elimination with cross-validation (RFECV())\n",
    "- Recursive Feature Elimination (RFE()) "
   ]
  },
  {
   "cell_type": "markdown",
   "id": "39ad46d6-a8fc-4843-b003-b109120f8720",
   "metadata": {},
   "source": [
    "### Feature Selection using SelectFromModel"
   ]
  },
  {
   "cell_type": "markdown",
   "id": "d41e9c51-44b1-4937-9e82-a62b9e82e420",
   "metadata": {},
   "source": [
    "In this section, we implement feature selection using SelectFromModel(). It is observed that using this method, only one feature is removed and remaining 52 features are selected."
   ]
  },
  {
   "cell_type": "code",
   "execution_count": 14,
   "id": "f03d3e5b-6be0-45f8-a0fa-3b70cd3b11d4",
   "metadata": {},
   "outputs": [],
   "source": [
    "select_lr = SelectFromModel(LogisticRegression(), threshold=\"mean\")"
   ]
  },
  {
   "cell_type": "code",
   "execution_count": 15,
   "id": "04bfdbd1-a017-4e30-8869-36d11f3c0507",
   "metadata": {},
   "outputs": [],
   "source": [
    "pipe_dt_model_based = make_pipeline(\n",
    "    StandardScaler(), select_lr, DecisionTreeClassifier(random_state=42)\n",
    ")\n",
    "results[\"dt+model_based_fs\"] = mean_std_cross_val_scores(\n",
    "    pipe_dt_model_based, X_train, y_train,\n",
    "    return_train_score=True, scoring=scoring_metric\n",
    ")"
   ]
  },
  {
   "cell_type": "code",
   "execution_count": 16,
   "id": "33118ab1-1c0b-41f5-9a9b-08b2c2eec74b",
   "metadata": {},
   "outputs": [
    {
     "data": {
      "text/html": [
       "<div>\n",
       "<style scoped>\n",
       "    .dataframe tbody tr th:only-of-type {\n",
       "        vertical-align: middle;\n",
       "    }\n",
       "\n",
       "    .dataframe tbody tr th {\n",
       "        vertical-align: top;\n",
       "    }\n",
       "\n",
       "    .dataframe thead th {\n",
       "        text-align: right;\n",
       "    }\n",
       "</style>\n",
       "<table border=\"1\" class=\"dataframe\">\n",
       "  <thead>\n",
       "    <tr style=\"text-align: right;\">\n",
       "      <th></th>\n",
       "      <th>lr</th>\n",
       "      <th>dt</th>\n",
       "      <th>dt+model_based_fs</th>\n",
       "    </tr>\n",
       "  </thead>\n",
       "  <tbody>\n",
       "    <tr>\n",
       "      <th>fit_time</th>\n",
       "      <td>0.080 (+/- 0.016)</td>\n",
       "      <td>0.020 (+/- 0.008)</td>\n",
       "      <td>0.087 (+/- 0.018)</td>\n",
       "    </tr>\n",
       "    <tr>\n",
       "      <th>score_time</th>\n",
       "      <td>0.016 (+/- 0.001)</td>\n",
       "      <td>0.013 (+/- 0.003)</td>\n",
       "      <td>0.015 (+/- 0.006)</td>\n",
       "    </tr>\n",
       "    <tr>\n",
       "      <th>test_accuracy</th>\n",
       "      <td>0.995 (+/- 0.003)</td>\n",
       "      <td>0.998 (+/- 0.002)</td>\n",
       "      <td>0.997 (+/- 0.003)</td>\n",
       "    </tr>\n",
       "    <tr>\n",
       "      <th>train_accuracy</th>\n",
       "      <td>0.999 (+/- 0.000)</td>\n",
       "      <td>1.000 (+/- 0.000)</td>\n",
       "      <td>1.000 (+/- 0.000)</td>\n",
       "    </tr>\n",
       "    <tr>\n",
       "      <th>test_f1_macro</th>\n",
       "      <td>0.995 (+/- 0.003)</td>\n",
       "      <td>0.998 (+/- 0.002)</td>\n",
       "      <td>0.997 (+/- 0.003)</td>\n",
       "    </tr>\n",
       "    <tr>\n",
       "      <th>train_f1_macro</th>\n",
       "      <td>0.999 (+/- 0.000)</td>\n",
       "      <td>1.000 (+/- 0.000)</td>\n",
       "      <td>1.000 (+/- 0.000)</td>\n",
       "    </tr>\n",
       "    <tr>\n",
       "      <th>test_recall_macro</th>\n",
       "      <td>0.995 (+/- 0.003)</td>\n",
       "      <td>0.998 (+/- 0.002)</td>\n",
       "      <td>0.997 (+/- 0.003)</td>\n",
       "    </tr>\n",
       "    <tr>\n",
       "      <th>train_recall_macro</th>\n",
       "      <td>0.999 (+/- 0.000)</td>\n",
       "      <td>1.000 (+/- 0.000)</td>\n",
       "      <td>1.000 (+/- 0.000)</td>\n",
       "    </tr>\n",
       "  </tbody>\n",
       "</table>\n",
       "</div>"
      ],
      "text/plain": [
       "                                   lr                 dt  dt+model_based_fs\n",
       "fit_time            0.080 (+/- 0.016)  0.020 (+/- 0.008)  0.087 (+/- 0.018)\n",
       "score_time          0.016 (+/- 0.001)  0.013 (+/- 0.003)  0.015 (+/- 0.006)\n",
       "test_accuracy       0.995 (+/- 0.003)  0.998 (+/- 0.002)  0.997 (+/- 0.003)\n",
       "train_accuracy      0.999 (+/- 0.000)  1.000 (+/- 0.000)  1.000 (+/- 0.000)\n",
       "test_f1_macro       0.995 (+/- 0.003)  0.998 (+/- 0.002)  0.997 (+/- 0.003)\n",
       "train_f1_macro      0.999 (+/- 0.000)  1.000 (+/- 0.000)  1.000 (+/- 0.000)\n",
       "test_recall_macro   0.995 (+/- 0.003)  0.998 (+/- 0.002)  0.997 (+/- 0.003)\n",
       "train_recall_macro  0.999 (+/- 0.000)  1.000 (+/- 0.000)  1.000 (+/- 0.000)"
      ]
     },
     "execution_count": 16,
     "metadata": {},
     "output_type": "execute_result"
    }
   ],
   "source": [
    "pd.DataFrame(results)"
   ]
  },
  {
   "cell_type": "code",
   "execution_count": 17,
   "id": "eadac41f-4c43-4ef6-93e5-286ceac403dc",
   "metadata": {},
   "outputs": [
    {
     "data": {
      "text/plain": [
       "52"
      ]
     },
     "execution_count": 17,
     "metadata": {},
     "output_type": "execute_result"
    }
   ],
   "source": [
    "pipe_dt_model_based.fit(X_train, y_train)\n",
    "pipe_dt_model_based.named_steps[\"selectfrommodel\"].n_features_in_"
   ]
  },
  {
   "cell_type": "markdown",
   "id": "da71197b-940f-49a6-bd2b-97e516cc4e51",
   "metadata": {},
   "source": [
    "### Feature Selection using RFECV"
   ]
  },
  {
   "cell_type": "markdown",
   "id": "4d0cab41-a5b0-4afb-8cad-06e0d075392d",
   "metadata": {},
   "source": [
    "In this section, we implement feature selection using RFECV(). It is observed that this method is inconsistent and the selected features varied depending upon the number of observations used."
   ]
  },
  {
   "cell_type": "code",
   "execution_count": 18,
   "id": "985e7782-101d-4190-8e08-8d41fc3ad705",
   "metadata": {},
   "outputs": [],
   "source": [
    "rfecv = RFECV(LogisticRegression())\n",
    "pipe_dt_rfecv = make_pipeline(\n",
    "    StandardScaler(), rfecv, DecisionTreeClassifier(random_state=42)\n",
    ")\n",
    "results[\"dt+rfecv\"] = mean_std_cross_val_scores(\n",
    "    pipe_dt_rfecv, X_train, y_train, \n",
    "    return_train_score=True, scoring=scoring_metric\n",
    ")"
   ]
  },
  {
   "cell_type": "code",
   "execution_count": 19,
   "id": "9181f848-9c44-49a5-9b18-a04084221855",
   "metadata": {},
   "outputs": [
    {
     "data": {
      "text/html": [
       "<div>\n",
       "<style scoped>\n",
       "    .dataframe tbody tr th:only-of-type {\n",
       "        vertical-align: middle;\n",
       "    }\n",
       "\n",
       "    .dataframe tbody tr th {\n",
       "        vertical-align: top;\n",
       "    }\n",
       "\n",
       "    .dataframe thead th {\n",
       "        text-align: right;\n",
       "    }\n",
       "</style>\n",
       "<table border=\"1\" class=\"dataframe\">\n",
       "  <thead>\n",
       "    <tr style=\"text-align: right;\">\n",
       "      <th></th>\n",
       "      <th>lr</th>\n",
       "      <th>dt</th>\n",
       "      <th>dt+model_based_fs</th>\n",
       "      <th>dt+rfecv</th>\n",
       "    </tr>\n",
       "  </thead>\n",
       "  <tbody>\n",
       "    <tr>\n",
       "      <th>fit_time</th>\n",
       "      <td>0.080 (+/- 0.016)</td>\n",
       "      <td>0.020 (+/- 0.008)</td>\n",
       "      <td>0.087 (+/- 0.018)</td>\n",
       "      <td>13.987 (+/- 0.828)</td>\n",
       "    </tr>\n",
       "    <tr>\n",
       "      <th>score_time</th>\n",
       "      <td>0.016 (+/- 0.001)</td>\n",
       "      <td>0.013 (+/- 0.003)</td>\n",
       "      <td>0.015 (+/- 0.006)</td>\n",
       "      <td>0.015 (+/- 0.004)</td>\n",
       "    </tr>\n",
       "    <tr>\n",
       "      <th>test_accuracy</th>\n",
       "      <td>0.995 (+/- 0.003)</td>\n",
       "      <td>0.998 (+/- 0.002)</td>\n",
       "      <td>0.997 (+/- 0.003)</td>\n",
       "      <td>0.999 (+/- 0.001)</td>\n",
       "    </tr>\n",
       "    <tr>\n",
       "      <th>train_accuracy</th>\n",
       "      <td>0.999 (+/- 0.000)</td>\n",
       "      <td>1.000 (+/- 0.000)</td>\n",
       "      <td>1.000 (+/- 0.000)</td>\n",
       "      <td>1.000 (+/- 0.000)</td>\n",
       "    </tr>\n",
       "    <tr>\n",
       "      <th>test_f1_macro</th>\n",
       "      <td>0.995 (+/- 0.003)</td>\n",
       "      <td>0.998 (+/- 0.002)</td>\n",
       "      <td>0.997 (+/- 0.003)</td>\n",
       "      <td>0.999 (+/- 0.001)</td>\n",
       "    </tr>\n",
       "    <tr>\n",
       "      <th>train_f1_macro</th>\n",
       "      <td>0.999 (+/- 0.000)</td>\n",
       "      <td>1.000 (+/- 0.000)</td>\n",
       "      <td>1.000 (+/- 0.000)</td>\n",
       "      <td>1.000 (+/- 0.000)</td>\n",
       "    </tr>\n",
       "    <tr>\n",
       "      <th>test_recall_macro</th>\n",
       "      <td>0.995 (+/- 0.003)</td>\n",
       "      <td>0.998 (+/- 0.002)</td>\n",
       "      <td>0.997 (+/- 0.003)</td>\n",
       "      <td>0.999 (+/- 0.001)</td>\n",
       "    </tr>\n",
       "    <tr>\n",
       "      <th>train_recall_macro</th>\n",
       "      <td>0.999 (+/- 0.000)</td>\n",
       "      <td>1.000 (+/- 0.000)</td>\n",
       "      <td>1.000 (+/- 0.000)</td>\n",
       "      <td>1.000 (+/- 0.000)</td>\n",
       "    </tr>\n",
       "  </tbody>\n",
       "</table>\n",
       "</div>"
      ],
      "text/plain": [
       "                                   lr                 dt  dt+model_based_fs  \\\n",
       "fit_time            0.080 (+/- 0.016)  0.020 (+/- 0.008)  0.087 (+/- 0.018)   \n",
       "score_time          0.016 (+/- 0.001)  0.013 (+/- 0.003)  0.015 (+/- 0.006)   \n",
       "test_accuracy       0.995 (+/- 0.003)  0.998 (+/- 0.002)  0.997 (+/- 0.003)   \n",
       "train_accuracy      0.999 (+/- 0.000)  1.000 (+/- 0.000)  1.000 (+/- 0.000)   \n",
       "test_f1_macro       0.995 (+/- 0.003)  0.998 (+/- 0.002)  0.997 (+/- 0.003)   \n",
       "train_f1_macro      0.999 (+/- 0.000)  1.000 (+/- 0.000)  1.000 (+/- 0.000)   \n",
       "test_recall_macro   0.995 (+/- 0.003)  0.998 (+/- 0.002)  0.997 (+/- 0.003)   \n",
       "train_recall_macro  0.999 (+/- 0.000)  1.000 (+/- 0.000)  1.000 (+/- 0.000)   \n",
       "\n",
       "                              dt+rfecv  \n",
       "fit_time            13.987 (+/- 0.828)  \n",
       "score_time           0.015 (+/- 0.004)  \n",
       "test_accuracy        0.999 (+/- 0.001)  \n",
       "train_accuracy       1.000 (+/- 0.000)  \n",
       "test_f1_macro        0.999 (+/- 0.001)  \n",
       "train_f1_macro       1.000 (+/- 0.000)  \n",
       "test_recall_macro    0.999 (+/- 0.001)  \n",
       "train_recall_macro   1.000 (+/- 0.000)  "
      ]
     },
     "execution_count": 19,
     "metadata": {},
     "output_type": "execute_result"
    }
   ],
   "source": [
    "pd.DataFrame(results)"
   ]
  },
  {
   "cell_type": "code",
   "execution_count": 20,
   "id": "46062405-964b-49f1-9047-1095944e8be1",
   "metadata": {},
   "outputs": [
    {
     "data": {
      "text/plain": [
       "7"
      ]
     },
     "execution_count": 20,
     "metadata": {},
     "output_type": "execute_result"
    }
   ],
   "source": [
    "pipe_dt_rfecv.fit(X_train, y_train)\n",
    "pipe_dt_rfecv.named_steps[\"rfecv\"].n_features_"
   ]
  },
  {
   "cell_type": "code",
   "execution_count": 21,
   "id": "50638b41-a8a1-4acc-a066-047de709dc3d",
   "metadata": {},
   "outputs": [
    {
     "data": {
      "text/plain": [
       "Index(['is_pii', 'is_fii', 'authentication_processed',\n",
       "       'x0_Broken Authentication', 'x0_Missing', 'server',\n",
       "       'metadata_fields_count'],\n",
       "      dtype='object')"
      ]
     },
     "execution_count": 21,
     "metadata": {},
     "output_type": "execute_result"
    }
   ],
   "source": [
    "rfecv_fs = pipe_dt_rfecv.named_steps[\"rfecv\"].support_\n",
    "rfecv_selected_feats = X_train.columns[rfecv_fs]\n",
    "rfecv_selected_feats"
   ]
  },
  {
   "cell_type": "markdown",
   "id": "56818bc8-18cc-4b17-8c41-bbb22537e975",
   "metadata": {},
   "source": [
    "### Feature Selection using RFE"
   ]
  },
  {
   "cell_type": "markdown",
   "id": "e94e358d-e139-4610-9290-1ae5659b7ccb",
   "metadata": {},
   "source": [
    "In this section, we implement feature selection using RFE(). It is observed that this method is consistent and gave the same 8 features under multiple scenarios."
   ]
  },
  {
   "cell_type": "code",
   "execution_count": 22,
   "id": "f590a5b8-90ed-4c5c-b6a1-d422ce1ea6ca",
   "metadata": {},
   "outputs": [],
   "source": [
    "select_rfe = RFE(LogisticRegression(), n_features_to_select=8)\n",
    "pipe_dt_rfe = make_pipeline(StandardScaler(),\n",
    "                            select_rfe,\n",
    "                            DecisionTreeClassifier(random_state=42))\n",
    "results[\"dt+rfe\"] = mean_std_cross_val_scores(\n",
    "    pipe_dt_rfe, X_train, y_train, \n",
    "    return_train_score=True, scoring=scoring_metric\n",
    ")"
   ]
  },
  {
   "cell_type": "code",
   "execution_count": 23,
   "id": "a229c832-dd91-468f-801d-cee7e782c271",
   "metadata": {},
   "outputs": [
    {
     "data": {
      "text/html": [
       "<div>\n",
       "<style scoped>\n",
       "    .dataframe tbody tr th:only-of-type {\n",
       "        vertical-align: middle;\n",
       "    }\n",
       "\n",
       "    .dataframe tbody tr th {\n",
       "        vertical-align: top;\n",
       "    }\n",
       "\n",
       "    .dataframe thead th {\n",
       "        text-align: right;\n",
       "    }\n",
       "</style>\n",
       "<table border=\"1\" class=\"dataframe\">\n",
       "  <thead>\n",
       "    <tr style=\"text-align: right;\">\n",
       "      <th></th>\n",
       "      <th>lr</th>\n",
       "      <th>dt</th>\n",
       "      <th>dt+model_based_fs</th>\n",
       "      <th>dt+rfecv</th>\n",
       "      <th>dt+rfe</th>\n",
       "    </tr>\n",
       "  </thead>\n",
       "  <tbody>\n",
       "    <tr>\n",
       "      <th>fit_time</th>\n",
       "      <td>0.080 (+/- 0.016)</td>\n",
       "      <td>0.020 (+/- 0.008)</td>\n",
       "      <td>0.087 (+/- 0.018)</td>\n",
       "      <td>13.987 (+/- 0.828)</td>\n",
       "      <td>2.396 (+/- 0.100)</td>\n",
       "    </tr>\n",
       "    <tr>\n",
       "      <th>score_time</th>\n",
       "      <td>0.016 (+/- 0.001)</td>\n",
       "      <td>0.013 (+/- 0.003)</td>\n",
       "      <td>0.015 (+/- 0.006)</td>\n",
       "      <td>0.015 (+/- 0.004)</td>\n",
       "      <td>0.012 (+/- 0.006)</td>\n",
       "    </tr>\n",
       "    <tr>\n",
       "      <th>test_accuracy</th>\n",
       "      <td>0.995 (+/- 0.003)</td>\n",
       "      <td>0.998 (+/- 0.002)</td>\n",
       "      <td>0.997 (+/- 0.003)</td>\n",
       "      <td>0.999 (+/- 0.001)</td>\n",
       "      <td>0.999 (+/- 0.002)</td>\n",
       "    </tr>\n",
       "    <tr>\n",
       "      <th>train_accuracy</th>\n",
       "      <td>0.999 (+/- 0.000)</td>\n",
       "      <td>1.000 (+/- 0.000)</td>\n",
       "      <td>1.000 (+/- 0.000)</td>\n",
       "      <td>1.000 (+/- 0.000)</td>\n",
       "      <td>1.000 (+/- 0.000)</td>\n",
       "    </tr>\n",
       "    <tr>\n",
       "      <th>test_f1_macro</th>\n",
       "      <td>0.995 (+/- 0.003)</td>\n",
       "      <td>0.998 (+/- 0.002)</td>\n",
       "      <td>0.997 (+/- 0.003)</td>\n",
       "      <td>0.999 (+/- 0.001)</td>\n",
       "      <td>0.999 (+/- 0.002)</td>\n",
       "    </tr>\n",
       "    <tr>\n",
       "      <th>train_f1_macro</th>\n",
       "      <td>0.999 (+/- 0.000)</td>\n",
       "      <td>1.000 (+/- 0.000)</td>\n",
       "      <td>1.000 (+/- 0.000)</td>\n",
       "      <td>1.000 (+/- 0.000)</td>\n",
       "      <td>1.000 (+/- 0.000)</td>\n",
       "    </tr>\n",
       "    <tr>\n",
       "      <th>test_recall_macro</th>\n",
       "      <td>0.995 (+/- 0.003)</td>\n",
       "      <td>0.998 (+/- 0.002)</td>\n",
       "      <td>0.997 (+/- 0.003)</td>\n",
       "      <td>0.999 (+/- 0.001)</td>\n",
       "      <td>0.999 (+/- 0.002)</td>\n",
       "    </tr>\n",
       "    <tr>\n",
       "      <th>train_recall_macro</th>\n",
       "      <td>0.999 (+/- 0.000)</td>\n",
       "      <td>1.000 (+/- 0.000)</td>\n",
       "      <td>1.000 (+/- 0.000)</td>\n",
       "      <td>1.000 (+/- 0.000)</td>\n",
       "      <td>1.000 (+/- 0.000)</td>\n",
       "    </tr>\n",
       "  </tbody>\n",
       "</table>\n",
       "</div>"
      ],
      "text/plain": [
       "                                   lr                 dt  dt+model_based_fs  \\\n",
       "fit_time            0.080 (+/- 0.016)  0.020 (+/- 0.008)  0.087 (+/- 0.018)   \n",
       "score_time          0.016 (+/- 0.001)  0.013 (+/- 0.003)  0.015 (+/- 0.006)   \n",
       "test_accuracy       0.995 (+/- 0.003)  0.998 (+/- 0.002)  0.997 (+/- 0.003)   \n",
       "train_accuracy      0.999 (+/- 0.000)  1.000 (+/- 0.000)  1.000 (+/- 0.000)   \n",
       "test_f1_macro       0.995 (+/- 0.003)  0.998 (+/- 0.002)  0.997 (+/- 0.003)   \n",
       "train_f1_macro      0.999 (+/- 0.000)  1.000 (+/- 0.000)  1.000 (+/- 0.000)   \n",
       "test_recall_macro   0.995 (+/- 0.003)  0.998 (+/- 0.002)  0.997 (+/- 0.003)   \n",
       "train_recall_macro  0.999 (+/- 0.000)  1.000 (+/- 0.000)  1.000 (+/- 0.000)   \n",
       "\n",
       "                              dt+rfecv             dt+rfe  \n",
       "fit_time            13.987 (+/- 0.828)  2.396 (+/- 0.100)  \n",
       "score_time           0.015 (+/- 0.004)  0.012 (+/- 0.006)  \n",
       "test_accuracy        0.999 (+/- 0.001)  0.999 (+/- 0.002)  \n",
       "train_accuracy       1.000 (+/- 0.000)  1.000 (+/- 0.000)  \n",
       "test_f1_macro        0.999 (+/- 0.001)  0.999 (+/- 0.002)  \n",
       "train_f1_macro       1.000 (+/- 0.000)  1.000 (+/- 0.000)  \n",
       "test_recall_macro    0.999 (+/- 0.001)  0.999 (+/- 0.002)  \n",
       "train_recall_macro   1.000 (+/- 0.000)  1.000 (+/- 0.000)  "
      ]
     },
     "execution_count": 23,
     "metadata": {},
     "output_type": "execute_result"
    }
   ],
   "source": [
    "pd.DataFrame(results)"
   ]
  },
  {
   "cell_type": "code",
   "execution_count": 24,
   "id": "eb775db0-6759-4f49-9b78-4786a5785bde",
   "metadata": {},
   "outputs": [
    {
     "data": {
      "text/plain": [
       "8"
      ]
     },
     "execution_count": 24,
     "metadata": {},
     "output_type": "execute_result"
    }
   ],
   "source": [
    "pipe_dt_rfe.fit(X_train, y_train)\n",
    "pipe_dt_rfe.named_steps[\"rfe\"].n_features_"
   ]
  },
  {
   "cell_type": "code",
   "execution_count": 25,
   "id": "7cbbee3e-59b5-4fbe-ace8-ebc8751a916a",
   "metadata": {},
   "outputs": [
    {
     "data": {
      "text/plain": [
       "Index(['is_pii', 'is_fii', 'authentication_processed', 'Information & Science',\n",
       "       'x0_Broken Authentication', 'x0_Missing', 'server',\n",
       "       'metadata_fields_count'],\n",
       "      dtype='object')"
      ]
     },
     "execution_count": 25,
     "metadata": {},
     "output_type": "execute_result"
    }
   ],
   "source": [
    "rfe_fs = pipe_dt_rfe.named_steps[\"rfe\"].support_\n",
    "rfe_selected_feats = X_train.columns[rfe_fs]\n",
    "rfe_selected_feats"
   ]
  },
  {
   "cell_type": "markdown",
   "id": "091d4c04-fe4c-4451-b3e0-b8d315a897fa",
   "metadata": {},
   "source": [
    "## Plot for model performace vs. number of features"
   ]
  },
  {
   "cell_type": "markdown",
   "id": "aff555b1-45b9-40f8-a6cd-f0912dfbb705",
   "metadata": {},
   "source": [
    "In this section, we evaluate the impact of feature selection on performance of logistic regression model. \n",
    "\n",
    "It is observed that the recall score improves quickly as the number of features increase from 1 to 8. However, after that the score stabilizes and there is no significant improvement in model performance by adding more features. Hence, the optimum number of features is selected as 8."
   ]
  },
  {
   "cell_type": "code",
   "execution_count": 26,
   "id": "8a12ace6-54d8-433e-8db3-5cae0ae8a6bc",
   "metadata": {},
   "outputs": [],
   "source": [
    "n_feats = np.arange(1, 53)\n",
    "train_scores = []\n",
    "cv_scores = []\n",
    "\n",
    "for n in n_feats:\n",
    "    rfe = RFE(LogisticRegression(), n_features_to_select=n)\n",
    "    pipe = make_pipeline(StandardScaler(), rfe, DecisionTreeClassifier())\n",
    "    scores = cross_validate(pipe, X_train, y_train, return_train_score=True)\n",
    "    train_scores.append(scores[\"train_score\"].mean())\n",
    "    cv_scores.append(scores[\"test_score\"].mean())"
   ]
  },
  {
   "cell_type": "code",
   "execution_count": 27,
   "id": "df840a59-15da-4cf7-bf0a-b6922642fc86",
   "metadata": {},
   "outputs": [
    {
     "data": {
      "image/png": "[encoded data removed]",
      "text/plain": [
       "<Figure size 432x288 with 1 Axes>"
      ]
     },
     "metadata": {
      "needs_background": "light"
     },
     "output_type": "display_data"
    }
   ],
   "source": [
    "plt.plot(n_feats, train_scores, label=\"train\")\n",
    "plt.plot(n_feats, cv_scores, label=\"cv\")\n",
    "plt.legend()\n",
    "plt.xlabel(\"number of features\")\n",
    "plt.ylabel(\"recall\");"
   ]
  }
 ],
 "metadata": {
  "kernelspec": {
   "display_name": "Python [conda env:api-risk-env]",
   "language": "python",
   "name": "conda-env-api-risk-env-py"
  },
  "language_info": {
   "codemirror_mode": {
    "name": "ipython",
    "version": 3
   },
   "file_extension": ".py",
   "mimetype": "text/x-python",
   "name": "python",
   "nbconvert_exporter": "python",
   "pygments_lexer": "ipython3",
   "version": "3.9.13"
  }
 },
 "nbformat": 4,
 "nbformat_minor": 5
}
