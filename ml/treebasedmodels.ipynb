{
 "cells": [
  {
   "cell_type": "markdown",
   "id": "d5cd4610-90c2-40b4-b335-cd6bd7d89874",
   "metadata": {},
   "source": [
    "# Supervised Learning"
   ]
  },
  {
   "cell_type": "markdown",
   "id": "d42a99e7-a655-4633-a3d8-165bb3dee67c",
   "metadata": {},
   "source": [
    "In this notebook, we are going to attempt different tree-based supervised learning models. They are:\n",
    "- Decision Tree\n",
    "- Random Forest\n",
    "- CatBoost\n",
    "- XGBoost\n",
    "- LGMB"
   ]
  },
  {
   "cell_type": "markdown",
   "id": "cb7e8df3-d424-4eb1-b331-33b512266700",
   "metadata": {},
   "source": [
    "**To run this notebook, we need:**\n",
    "- the clean preprocessed dataset, with all the unnecessary columns removed [df]\n",
    "- edit the column name for the risk labels [currently 'label']\n"
   ]
  },
  {
   "cell_type": "markdown",
   "id": "4e9e057d-3ed2-448f-bd0d-a0c6d9741348",
   "metadata": {},
   "source": [
    "# Load in the Dataset + Packages"
   ]
  },
  {
   "cell_type": "code",
   "execution_count": null,
   "id": "3e97540f-466c-44f9-880e-622e48e0ec82",
   "metadata": {},
   "outputs": [],
   "source": [
    "# pip install graphviz\n",
    "import sklearn\n",
    "import graphviz \n",
    "from sklearn import tree\n",
    "from sklearn.tree import DecisionTreeClassifier\n",
    "from sklearn.ensemble import RandomForestClassifier\n",
    "from sklearn import metrics\n",
    "from catboost import CatBoostClassifier\n",
    "from lightgbm.sklearn import LGBMClassifier\n",
    "from xgboost import XGBClassifier\n",
    "from sklearn.model_selection import (\n",
    "    GridSearchCV,\n",
    "    RandomizedSearchCV,\n",
    "    cross_val_score,\n",
    "    cross_validate,\n",
    "    train_test_split,\n",
    ")"
   ]
  },
  {
   "cell_type": "code",
   "execution_count": null,
   "id": "5a876d6e-795d-4ffd-8071-2208140abc2d",
   "metadata": {},
   "outputs": [],
   "source": [
    "#dataset\n",
    "# df = ..."
   ]
  },
  {
   "cell_type": "code",
   "execution_count": null,
   "id": "fc3f12bc-b1e4-4f95-ae90-efa0444930cb",
   "metadata": {},
   "outputs": [],
   "source": [
    "# X = df.drop(columns = ['label'])\n",
    "# y = df['label']\n",
    "# X_train, X_test, y_train, y_test = train_test_split(X, y, test_size=0.2)"
   ]
  },
  {
   "cell_type": "markdown",
   "id": "3f918c0f-36ec-4018-be04-162e8aebdc77",
   "metadata": {},
   "source": [
    "## 1. Decision Tree"
   ]
  },
  {
   "cell_type": "markdown",
   "id": "7b9d54f4-25f9-435c-a84a-895042cec188",
   "metadata": {},
   "source": [
    "### Basic Approach"
   ]
  },
  {
   "cell_type": "code",
   "execution_count": null,
   "id": "19ff1762-a1ca-4a31-bde3-4def0167e59f",
   "metadata": {},
   "outputs": [],
   "source": [
    "# https://scikit-learn.org/stable/modules/generated/sklearn.tree.DecisionTreeClassifier.html\n",
    "clf = tree.DecisionTreeClassifier(random_state=37)"
   ]
  },
  {
   "cell_type": "code",
   "execution_count": null,
   "id": "dceee329-36ab-4ceb-b340-9fc5439dc2d5",
   "metadata": {},
   "outputs": [],
   "source": [
    "clf = clf.fit(X_train,y_train)"
   ]
  },
  {
   "cell_type": "code",
   "execution_count": null,
   "id": "c3fba8ca-845a-41f0-a15a-76c74f4c3727",
   "metadata": {},
   "outputs": [],
   "source": [
    "# Visualise the tree\n",
    "tree.plot_tree(clf)"
   ]
  },
  {
   "cell_type": "code",
   "execution_count": null,
   "id": "3c2a42f4-e868-4e88-93ef-f7c94f388034",
   "metadata": {},
   "outputs": [],
   "source": [
    "# Alternative visualisation\n",
    "visualise_tree = tree.export_graphviz(clf, out_file=None)\n",
    "graph = graphviz.Source(visualise_tree)\n",
    "graph\n",
    "# See here for more [https://scikit-learn.org/stable/modules/tree.html]"
   ]
  },
  {
   "cell_type": "code",
   "execution_count": null,
   "id": "e65db671-8342-4ec4-838c-107a23a53a98",
   "metadata": {},
   "outputs": [],
   "source": [
    "y_pred = clf.predict(X_test)\n",
    "print(\"Accuracy:\", metrics.accuracy_score(y_test, y_pred))"
   ]
  },
  {
   "cell_type": "markdown",
   "id": "69ebbf38-da42-46cd-885c-b90383a7bc21",
   "metadata": {},
   "source": [
    "### Various hyperparameters to attempt"
   ]
  },
  {
   "cell_type": "code",
   "execution_count": null,
   "id": "5bab92e7-c852-4876-a3e3-111768ca41b8",
   "metadata": {},
   "outputs": [],
   "source": [
    "# max depth\n",
    "clf_maxdepth = DecisionTreeClassifier(random_state=37, max_depth=5)\n",
    "clf_maxdepth = clf_maxdepth.fit(X_train,y_train)"
   ]
  },
  {
   "cell_type": "code",
   "execution_count": null,
   "id": "82e06966-19f8-4da5-afbd-d71f7392d4bf",
   "metadata": {},
   "outputs": [],
   "source": [
    "# max_leaf_nodes\n",
    "clf_maxleafnode = DecisionTreeClassifier(random_state=37, max_leaf_nodes=5)\n",
    "clf_maxleafnode = clf_maxleafnode.fit(X_train,y_train)"
   ]
  },
  {
   "cell_type": "markdown",
   "id": "cc0e9ac5-1e25-4393-8f2e-4d3b98bd0df0",
   "metadata": {},
   "source": [
    "## 2. Random Forest"
   ]
  },
  {
   "cell_type": "markdown",
   "id": "5baa62bb-c8f5-4fee-a361-ecd49e66235a",
   "metadata": {},
   "source": [
    "### Basic Approach"
   ]
  },
  {
   "cell_type": "code",
   "execution_count": null,
   "id": "8eebf815-b695-4850-aa31-c267ece0b433",
   "metadata": {},
   "outputs": [],
   "source": [
    "# https://scikit-learn.org/stable/modules/generated/sklearn.ensemble.RandomForestClassifier.html\n",
    "rf_clf = RandomForestClassifier(n_estimators=100, random_state=37) # n_estimators = no. of trees in the forest\n",
    "rf_clf.fit(X_train, y_train)"
   ]
  },
  {
   "cell_type": "code",
   "execution_count": null,
   "id": "c73ccffe-ff00-4cf7-8f9b-a34d7f905533",
   "metadata": {},
   "outputs": [],
   "source": [
    "y_pred_rf_clf = rf_clf(X_test)"
   ]
  },
  {
   "cell_type": "code",
   "execution_count": null,
   "id": "e532d915-2149-4e5a-a835-2d8f391a0c5a",
   "metadata": {},
   "outputs": [],
   "source": [
    "print(\"Accuracy:\", metrics.accuracy_score(y_test, y_pred_rf_clf))"
   ]
  },
  {
   "cell_type": "code",
   "execution_count": null,
   "id": "8a2e9141-63d4-487c-9897-5de2ac1743e1",
   "metadata": {},
   "outputs": [],
   "source": [
    "# feature importance\n",
    "feature_imp = pd.Series(rf_clf.feature_importances_, \n",
    "                        index = X_train.feature_names).sort_values(ascending = False)\n",
    "feature_imp"
   ]
  },
  {
   "cell_type": "markdown",
   "id": "e145efbc-af46-4209-a877-d7c8382985ae",
   "metadata": {},
   "source": [
    "### Various hyperparameters to attempt"
   ]
  },
  {
   "cell_type": "code",
   "execution_count": null,
   "id": "660cbf68-89d6-4210-b559-807a6393b955",
   "metadata": {},
   "outputs": [],
   "source": [
    "random_grid = {'bootstrap': [True, False],\n",
    "               'max_depth': [2, 4, 6, 8, 10, 12, None],\n",
    "               'max_features': ['auto', 'sqrt'],\n",
    "               'min_samples_leaf': [1, 2, 4],\n",
    "               'min_samples_split': [2, 5, 10],\n",
    "               'n_estimators': [130, 180, 230]}"
   ]
  },
  {
   "cell_type": "code",
   "execution_count": null,
   "id": "969e79e1-edef-4c6c-82d5-a5d3fe673f73",
   "metadata": {},
   "outputs": [],
   "source": [
    "scoring_metric = [\"accuracy\", \"f1\", \"recall\"]\n",
    "rf_random = RandomizedSearchCV(estimator = rf, \n",
    "                               param_distributions = random_grid, \n",
    "                               n_iter = 100, \n",
    "                               cv = 3, \n",
    "                               verbose=2, \n",
    "                               random_state=37, \n",
    "                               n_jobs = -1,\n",
    "                               scoring = scoring_metric,\n",
    "                               return_train_score=True)"
   ]
  },
  {
   "cell_type": "code",
   "execution_count": null,
   "id": "96c2d4bd-2d58-4789-8beb-562b46ed3a4c",
   "metadata": {},
   "outputs": [],
   "source": [
    "rf_random.fit(X_train, y_train)"
   ]
  },
  {
   "cell_type": "code",
   "execution_count": null,
   "id": "ead1889d-2e59-4ee1-8cdc-75f83f278087",
   "metadata": {},
   "outputs": [],
   "source": [
    "cv_results = rf_random.cv_results_\n",
    "for mean_score, params in zip(cv_results[\"mean_test_score\"], cvres[\"params\"]):\n",
    "    print(np.sqrt(-mean_score), params)"
   ]
  },
  {
   "cell_type": "code",
   "execution_count": null,
   "id": "330a56a6-6b1d-44d2-b4b8-7dbf86058870",
   "metadata": {},
   "outputs": [],
   "source": [
    "# find best params\n",
    "best_params = rf_random.best_params_\n",
    "best_params"
   ]
  },
  {
   "cell_type": "code",
   "execution_count": null,
   "id": "5a11e9c6-0f8f-47cb-a754-603cea199f68",
   "metadata": {},
   "outputs": [],
   "source": [
    "# best score\n",
    "rf_random.best_score_"
   ]
  },
  {
   "cell_type": "code",
   "execution_count": null,
   "id": "ef1f0059-46fc-4546-87c3-9b4257411655",
   "metadata": {},
   "outputs": [],
   "source": [
    "df_rf_random = pd.DataFrame(rf_random.cv_results_)\n",
    "df_rf_random"
   ]
  },
  {
   "cell_type": "markdown",
   "id": "9ee5929d-2e7b-4dfe-9b45-f742c025a62b",
   "metadata": {},
   "source": [
    "## 3. All the boosts"
   ]
  },
  {
   "cell_type": "markdown",
   "id": "0f76924b-66fd-433c-b9e8-ca8d8025fe1f",
   "metadata": {},
   "source": [
    "### Reference:\n",
    "https://pages.github.ubc.ca/mds-2021-22/DSCI_573_feat-model-select_students/lectures/05_ensembles.html"
   ]
  },
  {
   "cell_type": "code",
   "execution_count": null,
   "id": "a4184f36-cc02-445d-8cdb-345daf5cf7a7",
   "metadata": {},
   "outputs": [],
   "source": [
    "classifiers = {\n",
    "    \"CatBoost\": CatBoostClassifier(verbose=0, random_state=37),\n",
    "    \"XGBoost\": XGBClassifier(random_state=37, eval_metric='logloss', verbosity=0),\n",
    "    \"LightGBM\": LGBMClassifier(random_state=37),\n",
    "    \"decision tree\": DecisionTreeClassifier(random_state=37),\n",
    "    \"random forest\": RandomForestClassifier(n_estimators=100, random_state=37)\n",
    "}"
   ]
  },
  {
   "cell_type": "code",
   "execution_count": null,
   "id": "5769920e-de27-4a91-8b24-8915706e16f7",
   "metadata": {},
   "outputs": [],
   "source": [
    "results = {}\n",
    "scoring_metric = [\"accuracy\", \"f1\", \"recall\"]"
   ]
  },
  {
   "cell_type": "code",
   "execution_count": null,
   "id": "5cc6dbf6-c8bd-47bd-8800-0f423e124252",
   "metadata": {},
   "outputs": [],
   "source": [
    "dummy = DummyClassifier(strategy=\"stratified\")\n",
    "results[\"Dummy\"] = mean_std_cross_val_scores(\n",
    "    dummy, X_train, y_train, return_train_score=True, scoring=scoring_metric\n",
    ")"
   ]
  },
  {
   "cell_type": "code",
   "execution_count": null,
   "id": "79ed0ee0-73c0-46cb-9e81-81df885fc39c",
   "metadata": {},
   "outputs": [],
   "source": [
    "for (name, model) in classifiers.items():\n",
    "    results[name] = mean_std_cross_val_scores(\n",
    "        model, X_train, y_train, return_train_score=True, scoring=scoring_metric\n",
    "    )"
   ]
  },
  {
   "cell_type": "code",
   "execution_count": null,
   "id": "27ce1644-9b43-4699-b525-9c10d7e3394a",
   "metadata": {},
   "outputs": [],
   "source": [
    "pd.DataFrame(results).T"
   ]
  }
 ],
 "metadata": {
  "kernelspec": {
   "display_name": "Python 3 (ipykernel)",
   "language": "python",
   "name": "python3"
  },
  "language_info": {
   "codemirror_mode": {
    "name": "ipython",
    "version": 3
   },
   "file_extension": ".py",
   "mimetype": "text/x-python",
   "name": "python",
   "nbconvert_exporter": "python",
   "pygments_lexer": "ipython3",
   "version": "3.9.9"
  }
 },
 "nbformat": 4,
 "nbformat_minor": 5
}
